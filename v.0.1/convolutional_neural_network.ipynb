{
  "nbformat": 4,
  "nbformat_minor": 0,
  "metadata": {
    "colab": {
      "provenance": []
    },
    "kernelspec": {
      "name": "python3",
      "display_name": "Python 3"
    },
    "language_info": {
      "name": "python"
    }
  },
  "cells": [
    {
      "cell_type": "markdown",
      "source": [
        "# convolutional-neural-network"
      ],
      "metadata": {
        "id": "2CM4MQ6lB-v0"
      }
    },
    {
      "cell_type": "code",
      "source": [
        "#import dependencies \n",
        "import tensorflow as tf\n",
        "import numpy as np\n",
        "import pandas as pd\n",
        "import matplotlib.pyplot as plt"
      ],
      "metadata": {
        "id": "C0BZtLniW_94"
      },
      "execution_count": 1,
      "outputs": []
    },
    {
      "cell_type": "code",
      "source": [
        "# load data mnist\n",
        "(xtrain, ytrain), (xtest, ytest) = tf.keras.datasets.mnist.load_data()"
      ],
      "metadata": {
        "id": "h0CfCEoZCHXB"
      },
      "execution_count": 2,
      "outputs": []
    },
    {
      "cell_type": "code",
      "source": [
        "#reshaping data as needed by the model\n",
        "xtrain=np.reshape(xtrain,(-1,28,28,1))\n",
        "xtest=np.reshape(xtest,(-1,28,28,1))\n",
        "xtrain.shape,xtest.shape,ytrain.shape,ytest.shape"
      ],
      "metadata": {
        "colab": {
          "base_uri": "https://localhost:8080/"
        },
        "id": "2kNEbSaICQC_",
        "outputId": "35ebfae3-0402-404f-b659-1d5126f25a41"
      },
      "execution_count": 3,
      "outputs": [
        {
          "output_type": "execute_result",
          "data": {
            "text/plain": [
              "((60000, 28, 28, 1), (10000, 28, 28, 1), (60000,), (10000,))"
            ]
          },
          "metadata": {},
          "execution_count": 3
        }
      ]
    },
    {
      "cell_type": "code",
      "source": [
        "#normalising\n",
        "xtrain=xtrain/255\n",
        "xtest=xtest/255"
      ],
      "metadata": {
        "id": "JqqVkN4aCRS_"
      },
      "execution_count": 4,
      "outputs": []
    },
    {
      "cell_type": "code",
      "source": [
        "#implementing one hot encoding\n",
        "y_train = tf.keras.utils.to_categorical(ytrain, num_classes=10)\n",
        "y_test = tf.keras.utils.to_categorical(ytest, num_classes=10)\n"
      ],
      "metadata": {
        "id": "12K6KjROCqBw"
      },
      "execution_count": 5,
      "outputs": []
    },
    {
      "cell_type": "code",
      "source": [
        "#creating model object & adding layers and forming the model\n",
        "model=tf.keras.Sequential([\n",
        "    tf.keras.layers.Conv2D(32,kernel_size=5,strides=1,padding=\"Same\",activation=\"relu\",input_shape=(28,28,1)),\n",
        "    tf.keras.layers.MaxPooling2D(padding=\"same\"),\n",
        "    tf.keras.layers.Conv2D(64,kernel_size=5,strides=1,padding=\"same\",activation=\"relu\"),\n",
        "    tf.keras.layers.MaxPooling2D(padding=\"same\"),\n",
        "    tf.keras.layers.Flatten(),\n",
        "    tf.keras.layers.Dense(1024,activation=\"relu\"),\n",
        "    tf.keras.layers.Dense(10,activation=\"sigmoid\")\n",
        "    ])"
      ],
      "metadata": {
        "id": "RlyU3u73C8YT"
      },
      "execution_count": 6,
      "outputs": []
    },
    {
      "cell_type": "code",
      "source": [
        "#compiling\n",
        "model.compile(optimizer=\"adam\",loss=\"categorical_crossentropy\",metrics=[\"accuracy\"])"
      ],
      "metadata": {
        "id": "2V_liuI2DXLx"
      },
      "execution_count": 7,
      "outputs": []
    },
    {
      "cell_type": "code",
      "source": [
        "#control panel\n",
        "epochs = 10\n",
        "NUM_EXAMPLES = 5\n",
        "xtrain = xtrain[:NUM_EXAMPLES]\n",
        "y_train = y_train[:NUM_EXAMPLES]"
      ],
      "metadata": {
        "id": "20gte5OpdY1j"
      },
      "execution_count": 8,
      "outputs": []
    },
    {
      "cell_type": "code",
      "source": [
        "#training the model\n",
        "history = model.fit(xtrain,y_train,batch_size=100,epochs= epochs,validation_data=(xtest,y_test))"
      ],
      "metadata": {
        "colab": {
          "base_uri": "https://localhost:8080/"
        },
        "id": "LWe8SaA1DuGr",
        "outputId": "3e460d17-a0b7-4a20-ad51-7d9009a48ec7"
      },
      "execution_count": 9,
      "outputs": [
        {
          "output_type": "stream",
          "name": "stdout",
          "text": [
            "Epoch 1/10\n",
            "1/1 [==============================] - 7s 7s/step - loss: 2.2890 - accuracy: 0.0000e+00 - val_loss: 2.3492 - val_accuracy: 0.2537\n",
            "Epoch 2/10\n",
            "1/1 [==============================] - 6s 6s/step - loss: 1.5851 - accuracy: 1.0000 - val_loss: 2.7200 - val_accuracy: 0.2794\n",
            "Epoch 3/10\n",
            "1/1 [==============================] - 6s 6s/step - loss: 0.9079 - accuracy: 1.0000 - val_loss: 3.5707 - val_accuracy: 0.3264\n",
            "Epoch 4/10\n",
            "1/1 [==============================] - 6s 6s/step - loss: 0.3732 - accuracy: 1.0000 - val_loss: 4.7994 - val_accuracy: 0.3264\n",
            "Epoch 5/10\n",
            "1/1 [==============================] - 6s 6s/step - loss: 0.1046 - accuracy: 1.0000 - val_loss: 6.4046 - val_accuracy: 0.3103\n",
            "Epoch 6/10\n",
            "1/1 [==============================] - 6s 6s/step - loss: 0.0232 - accuracy: 1.0000 - val_loss: 8.2764 - val_accuracy: 0.3038\n",
            "Epoch 7/10\n",
            "1/1 [==============================] - 6s 6s/step - loss: 0.0045 - accuracy: 1.0000 - val_loss: 10.3159 - val_accuracy: 0.3028\n",
            "Epoch 8/10\n",
            "1/1 [==============================] - 7s 7s/step - loss: 8.2301e-04 - accuracy: 1.0000 - val_loss: 12.4568 - val_accuracy: 0.3016\n",
            "Epoch 9/10\n",
            "1/1 [==============================] - 6s 6s/step - loss: 1.5652e-04 - accuracy: 1.0000 - val_loss: 14.6488 - val_accuracy: 0.3005\n",
            "Epoch 10/10\n",
            "1/1 [==============================] - 6s 6s/step - loss: 3.2233e-05 - accuracy: 1.0000 - val_loss: 16.8531 - val_accuracy: 0.3012\n"
          ]
        }
      ]
    },
    {
      "cell_type": "code",
      "source": [
        "#save the model\n",
        "history.history"
      ],
      "metadata": {
        "colab": {
          "base_uri": "https://localhost:8080/"
        },
        "id": "I8XFiTGXHlzc",
        "outputId": "9ca9daba-084c-42f3-8750-12e1f4518ef9"
      },
      "execution_count": 10,
      "outputs": [
        {
          "output_type": "execute_result",
          "data": {
            "text/plain": [
              "{'loss': [2.2889516353607178,\n",
              "  1.5851024389266968,\n",
              "  0.9079411625862122,\n",
              "  0.3731759488582611,\n",
              "  0.10459244251251221,\n",
              "  0.023169197142124176,\n",
              "  0.004483498632907867,\n",
              "  0.0008230117382481694,\n",
              "  0.0001565218553878367,\n",
              "  3.2232957892119884e-05],\n",
              " 'accuracy': [0.0, 1.0, 1.0, 1.0, 1.0, 1.0, 1.0, 1.0, 1.0, 1.0],\n",
              " 'val_loss': [2.349212408065796,\n",
              "  2.7200398445129395,\n",
              "  3.570734739303589,\n",
              "  4.799415588378906,\n",
              "  6.404590606689453,\n",
              "  8.276355743408203,\n",
              "  10.315912246704102,\n",
              "  12.456765174865723,\n",
              "  14.648815155029297,\n",
              "  16.853105545043945],\n",
              " 'val_accuracy': [0.25369998812675476,\n",
              "  0.2793999910354614,\n",
              "  0.3264000117778778,\n",
              "  0.3264000117778778,\n",
              "  0.31029999256134033,\n",
              "  0.30379998683929443,\n",
              "  0.3027999997138977,\n",
              "  0.30160000920295715,\n",
              "  0.3005000054836273,\n",
              "  0.3012000024318695]}"
            ]
          },
          "metadata": {},
          "execution_count": 10
        }
      ]
    },
    {
      "cell_type": "code",
      "source": [
        "# create the dataframe\n",
        "df_history = pd.DataFrame()\n",
        "df_history['accuracy']  = history.history['accuracy']\n",
        "df_history['loss']      = history.history['loss']\n",
        "df_history['val_accuracy'] = history.history['val_accuracy']\n",
        "df_history['val_loss']  = history.history['val_loss']\n",
        "\n",
        "df_history.to_csv(\"history.csv\", index = False)\n",
        "\n",
        "print(df_history.shape)\n",
        "df_history.head()"
      ],
      "metadata": {
        "colab": {
          "base_uri": "https://localhost:8080/",
          "height": 224
        },
        "id": "rQF0FeDUGGEH",
        "outputId": "7033db80-34a5-423f-8ea0-4341013f86f8"
      },
      "execution_count": 11,
      "outputs": [
        {
          "output_type": "stream",
          "name": "stdout",
          "text": [
            "(10, 4)\n"
          ]
        },
        {
          "output_type": "execute_result",
          "data": {
            "text/plain": [
              "   accuracy      loss  val_accuracy  val_loss\n",
              "0       0.0  2.288952        0.2537  2.349212\n",
              "1       1.0  1.585102        0.2794  2.720040\n",
              "2       1.0  0.907941        0.3264  3.570735\n",
              "3       1.0  0.373176        0.3264  4.799416\n",
              "4       1.0  0.104592        0.3103  6.404591"
            ],
            "text/html": [
              "\n",
              "  <div id=\"df-20e76258-7914-4575-ab65-c771af53906f\">\n",
              "    <div class=\"colab-df-container\">\n",
              "      <div>\n",
              "<style scoped>\n",
              "    .dataframe tbody tr th:only-of-type {\n",
              "        vertical-align: middle;\n",
              "    }\n",
              "\n",
              "    .dataframe tbody tr th {\n",
              "        vertical-align: top;\n",
              "    }\n",
              "\n",
              "    .dataframe thead th {\n",
              "        text-align: right;\n",
              "    }\n",
              "</style>\n",
              "<table border=\"1\" class=\"dataframe\">\n",
              "  <thead>\n",
              "    <tr style=\"text-align: right;\">\n",
              "      <th></th>\n",
              "      <th>accuracy</th>\n",
              "      <th>loss</th>\n",
              "      <th>val_accuracy</th>\n",
              "      <th>val_loss</th>\n",
              "    </tr>\n",
              "  </thead>\n",
              "  <tbody>\n",
              "    <tr>\n",
              "      <th>0</th>\n",
              "      <td>0.0</td>\n",
              "      <td>2.288952</td>\n",
              "      <td>0.2537</td>\n",
              "      <td>2.349212</td>\n",
              "    </tr>\n",
              "    <tr>\n",
              "      <th>1</th>\n",
              "      <td>1.0</td>\n",
              "      <td>1.585102</td>\n",
              "      <td>0.2794</td>\n",
              "      <td>2.720040</td>\n",
              "    </tr>\n",
              "    <tr>\n",
              "      <th>2</th>\n",
              "      <td>1.0</td>\n",
              "      <td>0.907941</td>\n",
              "      <td>0.3264</td>\n",
              "      <td>3.570735</td>\n",
              "    </tr>\n",
              "    <tr>\n",
              "      <th>3</th>\n",
              "      <td>1.0</td>\n",
              "      <td>0.373176</td>\n",
              "      <td>0.3264</td>\n",
              "      <td>4.799416</td>\n",
              "    </tr>\n",
              "    <tr>\n",
              "      <th>4</th>\n",
              "      <td>1.0</td>\n",
              "      <td>0.104592</td>\n",
              "      <td>0.3103</td>\n",
              "      <td>6.404591</td>\n",
              "    </tr>\n",
              "  </tbody>\n",
              "</table>\n",
              "</div>\n",
              "      <button class=\"colab-df-convert\" onclick=\"convertToInteractive('df-20e76258-7914-4575-ab65-c771af53906f')\"\n",
              "              title=\"Convert this dataframe to an interactive table.\"\n",
              "              style=\"display:none;\">\n",
              "        \n",
              "  <svg xmlns=\"http://www.w3.org/2000/svg\" height=\"24px\"viewBox=\"0 0 24 24\"\n",
              "       width=\"24px\">\n",
              "    <path d=\"M0 0h24v24H0V0z\" fill=\"none\"/>\n",
              "    <path d=\"M18.56 5.44l.94 2.06.94-2.06 2.06-.94-2.06-.94-.94-2.06-.94 2.06-2.06.94zm-11 1L8.5 8.5l.94-2.06 2.06-.94-2.06-.94L8.5 2.5l-.94 2.06-2.06.94zm10 10l.94 2.06.94-2.06 2.06-.94-2.06-.94-.94-2.06-.94 2.06-2.06.94z\"/><path d=\"M17.41 7.96l-1.37-1.37c-.4-.4-.92-.59-1.43-.59-.52 0-1.04.2-1.43.59L10.3 9.45l-7.72 7.72c-.78.78-.78 2.05 0 2.83L4 21.41c.39.39.9.59 1.41.59.51 0 1.02-.2 1.41-.59l7.78-7.78 2.81-2.81c.8-.78.8-2.07 0-2.86zM5.41 20L4 18.59l7.72-7.72 1.47 1.35L5.41 20z\"/>\n",
              "  </svg>\n",
              "      </button>\n",
              "      \n",
              "  <style>\n",
              "    .colab-df-container {\n",
              "      display:flex;\n",
              "      flex-wrap:wrap;\n",
              "      gap: 12px;\n",
              "    }\n",
              "\n",
              "    .colab-df-convert {\n",
              "      background-color: #E8F0FE;\n",
              "      border: none;\n",
              "      border-radius: 50%;\n",
              "      cursor: pointer;\n",
              "      display: none;\n",
              "      fill: #1967D2;\n",
              "      height: 32px;\n",
              "      padding: 0 0 0 0;\n",
              "      width: 32px;\n",
              "    }\n",
              "\n",
              "    .colab-df-convert:hover {\n",
              "      background-color: #E2EBFA;\n",
              "      box-shadow: 0px 1px 2px rgba(60, 64, 67, 0.3), 0px 1px 3px 1px rgba(60, 64, 67, 0.15);\n",
              "      fill: #174EA6;\n",
              "    }\n",
              "\n",
              "    [theme=dark] .colab-df-convert {\n",
              "      background-color: #3B4455;\n",
              "      fill: #D2E3FC;\n",
              "    }\n",
              "\n",
              "    [theme=dark] .colab-df-convert:hover {\n",
              "      background-color: #434B5C;\n",
              "      box-shadow: 0px 1px 3px 1px rgba(0, 0, 0, 0.15);\n",
              "      filter: drop-shadow(0px 1px 2px rgba(0, 0, 0, 0.3));\n",
              "      fill: #FFFFFF;\n",
              "    }\n",
              "  </style>\n",
              "\n",
              "      <script>\n",
              "        const buttonEl =\n",
              "          document.querySelector('#df-20e76258-7914-4575-ab65-c771af53906f button.colab-df-convert');\n",
              "        buttonEl.style.display =\n",
              "          google.colab.kernel.accessAllowed ? 'block' : 'none';\n",
              "\n",
              "        async function convertToInteractive(key) {\n",
              "          const element = document.querySelector('#df-20e76258-7914-4575-ab65-c771af53906f');\n",
              "          const dataTable =\n",
              "            await google.colab.kernel.invokeFunction('convertToInteractive',\n",
              "                                                     [key], {});\n",
              "          if (!dataTable) return;\n",
              "\n",
              "          const docLinkHtml = 'Like what you see? Visit the ' +\n",
              "            '<a target=\"_blank\" href=https://colab.research.google.com/notebooks/data_table.ipynb>data table notebook</a>'\n",
              "            + ' to learn more about interactive tables.';\n",
              "          element.innerHTML = '';\n",
              "          dataTable['output_type'] = 'display_data';\n",
              "          await google.colab.output.renderOutput(dataTable, element);\n",
              "          const docLink = document.createElement('div');\n",
              "          docLink.innerHTML = docLinkHtml;\n",
              "          element.appendChild(docLink);\n",
              "        }\n",
              "      </script>\n",
              "    </div>\n",
              "  </div>\n",
              "  "
            ]
          },
          "metadata": {},
          "execution_count": 11
        }
      ]
    },
    {
      "cell_type": "code",
      "source": [
        "# defining visualization \n",
        "def plt_losses(x, vy, ty, ax, colors=['b']):\n",
        "  ax.plot(x, vy, 'b', label=\"Validation Loss\")\n",
        "  ax.plot(x, ty, 'r', label=\"Train Loss\")\n",
        "  plt.legend()\n",
        "  plt.grid()\n",
        "  fig.canvas.draw()\n",
        "\n",
        "def plt_accuracies(x, vy, ty, ax, colors=['b']):\n",
        "  ax.plot(x, vy, 'b', label=\"Validation accuracy\")\n",
        "  ax.plot(x, ty, 'r', label=\"Train accuracy\")\n",
        "  plt.legend() \n",
        "  plt.grid()\n",
        "  fig.canvas.draw()\n",
        "\n"
      ],
      "metadata": {
        "id": "P41myF64HOJF"
      },
      "execution_count": 12,
      "outputs": []
    },
    {
      "cell_type": "code",
      "source": [
        "# visualization of loss\n",
        "fig,ax = plt.subplots(1,1)\n",
        "ax.set_xlabel('epoch')\n",
        "ax.set_ylabel('Categorical Crossentropy Loss')\n",
        "x = list(range(1,epochs+1))\n",
        "vy = history.history['val_loss']\n",
        "ty = history.history['loss']\n",
        "plt_losses(x, vy, ty, ax)"
      ],
      "metadata": {
        "colab": {
          "base_uri": "https://localhost:8080/",
          "height": 281
        },
        "id": "GZJ2dLIIIUAz",
        "outputId": "45b7ccb5-8e6f-430c-98fd-efff259057c4"
      },
      "execution_count": 13,
      "outputs": [
        {
          "output_type": "display_data",
          "data": {
            "text/plain": [
              "<Figure size 432x288 with 1 Axes>"
            ],
            "image/png": "[encoded data removed]"
          },
          "metadata": {
            "needs_background": "light"
          }
        }
      ]
    },
    {
      "cell_type": "code",
      "source": [
        "# visualization of accuracy\n",
        "fig,ax = plt.subplots(1,1)\n",
        "ax.set_xlabel('epoch')\n",
        "ax.set_ylabel('accuracies')\n",
        "x = list(range(1,epochs+1))\n",
        "vy = history.history['val_accuracy']\n",
        "ty = history.history['accuracy']\n",
        "plt_accuracies(x, vy, ty, ax)"
      ],
      "metadata": {
        "colab": {
          "base_uri": "https://localhost:8080/",
          "height": 279
        },
        "id": "GnEzilbKIgeV",
        "outputId": "901a7244-99a7-4a1b-a64e-05900873d615"
      },
      "execution_count": 14,
      "outputs": [
        {
          "output_type": "display_data",
          "data": {
            "text/plain": [
              "<Figure size 432x288 with 1 Axes>"
            ],
            "image/png": "[encoded data removed]"
          },
          "metadata": {
            "needs_background": "light"
          }
        }
      ]
    },
    {
      "cell_type": "code",
      "source": [],
      "metadata": {
        "id": "DgDhTYz5RuH_"
      },
      "execution_count": 16,
      "outputs": []
    }
  ]
}