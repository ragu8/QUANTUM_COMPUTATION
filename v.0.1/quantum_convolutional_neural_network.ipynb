{
  "cells": [
    {
      "cell_type": "markdown",
      "metadata": {
        "id": "zizZn7axf6q0"
      },
      "source": [
        "# quantum-convolutional-neural-network\n",
        "\n"
      ]
    },
    {
      "cell_type": "code",
      "execution_count": 1,
      "metadata": {
        "id": "20ExFaAKw5VW"
      },
      "outputs": [],
      "source": [
        "#import dependencies \n",
        "import tensorflow as tf\n",
        "import cirq\n",
        "import sympy\n",
        "import numpy as np\n",
        "import seaborn as sns\n",
        "import collections\n",
        "import pandas as pd\n",
        "import matplotlib.pyplot as plt\n",
        "from cirq.contrib.svg import SVGCircuit\n",
        "import tensorflow_quantum as tfq"
      ]
    },
    {
      "cell_type": "code",
      "execution_count": 2,
      "metadata": {
        "colab": {
          "base_uri": "https://localhost:8080/"
        },
        "id": "Q2ZS4wjNdVOV",
        "outputId": "79e44735-870d-4dec-ac55-8faf27b51823"
      },
      "outputs": [
        {
          "output_type": "stream",
          "name": "stdout",
          "text": [
            "Downloading data from https://storage.googleapis.com/tensorflow/tf-keras-datasets/mnist.npz\n",
            "11493376/11490434 [==============================] - 0s 0us/step\n"
          ]
        }
      ],
      "source": [
        "# load data mnist\n",
        "(x_train, y_train), (x_test, y_test) = tf.keras.datasets.mnist.load_data()"
      ]
    },
    {
      "cell_type": "code",
      "source": [
        "#normalising\n",
        "x_train, x_test = x_train[..., np.newaxis]/255.0, x_test[..., np.newaxis]/255.0"
      ],
      "metadata": {
        "id": "RopYcBo8WDky"
      },
      "execution_count": 3,
      "outputs": []
    },
    {
      "cell_type": "code",
      "execution_count": 4,
      "metadata": {
        "id": "lX9c25Aqdjg6"
      },
      "outputs": [],
      "source": [
        "#function for filter data number 3 dan number 6 \n",
        "def filter_36(x, y):\n",
        "    keep = (y == 3) | (y == 6)\n",
        "    x, y = x[keep], y[keep]\n",
        "    y = y == 3\n",
        "    return x,y"
      ]
    },
    {
      "cell_type": "code",
      "execution_count": 5,
      "metadata": {
        "colab": {
          "base_uri": "https://localhost:8080/"
        },
        "id": "vnOgr3mndU92",
        "outputId": "74781b71-8e17-4f3d-efcd-7a236a5893c4"
      },
      "outputs": [
        {
          "output_type": "stream",
          "name": "stdout",
          "text": [
            "Number of filtered training examples: 12049\n",
            "Number of filtered test examples: 1968\n"
          ]
        }
      ],
      "source": [
        "x_train, y_train = filter_36(x_train, y_train)\n",
        "x_test, y_test = filter_36(x_test, y_test)\n",
        "\n",
        "print(\"Number of filtered training examples:\", len(x_train))\n",
        "print(\"Number of filtered test examples:\", len(x_test))"
      ]
    },
    {
      "cell_type": "code",
      "execution_count": 6,
      "metadata": {
        "id": "gc7ynE-wdwAS"
      },
      "outputs": [],
      "source": [
        "x_train_small = tf.image.resize(x_train, (4,4)).numpy()\n",
        "x_test_small = tf.image.resize(x_test, (4,4)).numpy()"
      ]
    },
    {
      "cell_type": "code",
      "execution_count": 7,
      "metadata": {
        "id": "_cOHeXl1dv5b"
      },
      "outputs": [],
      "source": [
        "def remove_contradicting(xs, ys):\n",
        "    mapping = collections.defaultdict(set)\n",
        "    orig_x = {}\n",
        "    # Determine the set of labels for each unique image:\n",
        "    for x,y in zip(xs,ys):\n",
        "       orig_x[tuple(x.flatten())] = x\n",
        "       mapping[tuple(x.flatten())].add(y)\n",
        "\n",
        "    new_x = []\n",
        "    new_y = []\n",
        "    for flatten_x in mapping:\n",
        "      x = orig_x[flatten_x]\n",
        "      labels = mapping[flatten_x]\n",
        "      if len(labels) == 1:\n",
        "          new_x.append(x)\n",
        "          new_y.append(next(iter(labels)))\n",
        "      else:\n",
        "          # Throw out images that match more than one label.\n",
        "          pass\n",
        "\n",
        "    num_uniq_3 = sum(1 for value in mapping.values() if len(value) == 1 and True in value)\n",
        "    num_uniq_6 = sum(1 for value in mapping.values() if len(value) == 1 and False in value)\n",
        "    num_uniq_both = sum(1 for value in mapping.values() if len(value) == 2)\n",
        "\n",
        "    print(\"Number of unique images:\", len(mapping.values()))\n",
        "    print(\"Number of unique 3s: \", num_uniq_3)\n",
        "    print(\"Number of unique 6s: \", num_uniq_6)\n",
        "    print(\"Number of unique contradicting labels (both 3 and 6): \", num_uniq_both)\n",
        "    print()\n",
        "    print(\"Initial number of images: \", len(xs))\n",
        "    print(\"Remaining non-contradicting unique images: \", len(new_x))\n",
        "\n",
        "    return np.array(new_x), np.array(new_y)"
      ]
    },
    {
      "cell_type": "code",
      "execution_count": 8,
      "metadata": {
        "colab": {
          "base_uri": "https://localhost:8080/"
        },
        "id": "oAPD8P1odv19",
        "outputId": "ce9bcde5-62d2-4225-eb31-6c02543d2159"
      },
      "outputs": [
        {
          "output_type": "stream",
          "name": "stdout",
          "text": [
            "Number of unique images: 10387\n",
            "Number of unique 3s:  4912\n",
            "Number of unique 6s:  5426\n",
            "Number of unique contradicting labels (both 3 and 6):  49\n",
            "\n",
            "Initial number of images:  12049\n",
            "Remaining non-contradicting unique images:  10338\n"
          ]
        }
      ],
      "source": [
        "x_train_nocon, y_train_nocon = remove_contradicting(x_train_small, y_train)"
      ]
    },
    {
      "cell_type": "code",
      "execution_count": 9,
      "metadata": {
        "id": "iBDV-bIPdvxz"
      },
      "outputs": [],
      "source": [
        "THRESHOLD = 0.5\n",
        "\n",
        "x_train_bin = np.array(x_train_nocon > THRESHOLD, dtype=np.float32)\n",
        "x_test_bin = np.array(x_test_small > THRESHOLD, dtype=np.float32)"
      ]
    },
    {
      "cell_type": "code",
      "execution_count": 10,
      "metadata": {
        "id": "wlN9Mg3hzs-F"
      },
      "outputs": [],
      "source": [
        "def cluster_state_circuit(bits):\n",
        "    \"\"\"Return a cluster state on the qubits in `bits`.\"\"\"\n",
        "    circuit = cirq.Circuit()\n",
        "    circuit.append(cirq.H.on_each(bits))\n",
        "    for this_bit, next_bit in zip(bits, bits[1:] + [bits[0]]):\n",
        "        circuit.append(cirq.CZ(this_bit, next_bit))\n",
        "    return circuit"
      ]
    },
    {
      "cell_type": "code",
      "execution_count": 11,
      "metadata": {
        "colab": {
          "base_uri": "https://localhost:8080/",
          "height": 838
        },
        "id": "zVmGK6xczpD1",
        "outputId": "61258bc0-6676-4a47-d6d5-695055d5dba1"
      },
      "outputs": [
        {
          "output_type": "stream",
          "name": "stderr",
          "text": [
            "WARNING:matplotlib.font_manager:findfont: Font family ['Arial'] not found. Falling back to DejaVu Sans.\n"
          ]
        },
        {
          "output_type": "execute_result",
          "data": {
            "text/plain": [
              "<cirq.contrib.svg.svg.SVGCircuit at 0x7f6941676d10>"
            ],
            "image/svg+xml": "<svg xmlns=\"http://www.w3.org/2000/svg\" width=\"1129.5177343750001\" height=\"800.0\"><line x1=\"34.7588671875\" x2=\"1099.5177343750001\" y1=\"25.0\" y2=\"25.0\" stroke=\"#1967d2\" stroke-width=\"1\" /><line x1=\"34.7588671875\" x2=\"1099.5177343750001\" y1=\"75.0\" y2=\"75.0\" stroke=\"#1967d2\" stroke-width=\"1\" /><line x1=\"34.7588671875\" x2=\"1099.5177343750001\" y1=\"125.0\" y2=\"125.0\" stroke=\"#1967d2\" stroke-width=\"1\" /><line x1=\"34.7588671875\" x2=\"1099.5177343750001\" y1=\"175.0\" y2=\"175.0\" stroke=\"#1967d2\" stroke-width=\"1\" /><line x1=\"34.7588671875\" x2=\"1099.5177343750001\" y1=\"225.0\" y2=\"225.0\" stroke=\"#1967d2\" stroke-width=\"1\" /><line x1=\"34.7588671875\" x2=\"1099.5177343750001\" y1=\"275.0\" y2=\"275.0\" stroke=\"#1967d2\" stroke-width=\"1\" /><line x1=\"34.7588671875\" x2=\"1099.5177343750001\" y1=\"325.0\" y2=\"325.0\" stroke=\"#1967d2\" stroke-width=\"1\" /><line x1=\"34.7588671875\" x2=\"1099.5177343750001\" y1=\"375.0\" y2=\"375.0\" stroke=\"#1967d2\" stroke-width=\"1\" /><line x1=\"34.7588671875\" x2=\"1099.5177343750001\" y1=\"425.0\" y2=\"425.0\" stroke=\"#1967d2\" stroke-width=\"1\" /><line x1=\"34.7588671875\" x2=\"1099.5177343750001\" y1=\"475.0\" y2=\"475.0\" stroke=\"#1967d2\" stroke-width=\"1\" /><line x1=\"34.7588671875\" x2=\"1099.5177343750001\" y1=\"525.0\" y2=\"525.0\" stroke=\"#1967d2\" stroke-width=\"1\" /><line x1=\"34.7588671875\" x2=\"1099.5177343750001\" y1=\"575.0\" y2=\"575.0\" stroke=\"#1967d2\" stroke-width=\"1\" /><line x1=\"34.7588671875\" x2=\"1099.5177343750001\" y1=\"625.0\" y2=\"625.0\" stroke=\"#1967d2\" stroke-width=\"1\" /><line x1=\"34.7588671875\" x2=\"1099.5177343750001\" y1=\"675.0\" y2=\"675.0\" stroke=\"#1967d2\" stroke-width=\"1\" /><line x1=\"34.7588671875\" x2=\"1099.5177343750001\" y1=\"725.0\" y2=\"725.0\" stroke=\"#1967d2\" stroke-width=\"1\" /><line x1=\"34.7588671875\" x2=\"1099.5177343750001\" y1=\"775.0\" y2=\"775.0\" stroke=\"#1967d2\" stroke-width=\"1\" /><line x1=\"159.517734375\" x2=\"159.517734375\" y1=\"25.0\" y2=\"75.0\" stroke=\"black\" stroke-width=\"3\" /><line x1=\"219.517734375\" x2=\"219.517734375\" y1=\"75.0\" y2=\"125.0\" stroke=\"black\" stroke-width=\"3\" /><line x1=\"279.51773437500003\" x2=\"279.51773437500003\" y1=\"125.0\" y2=\"175.0\" stroke=\"black\" stroke-width=\"3\" /><line x1=\"339.51773437500003\" x2=\"339.51773437500003\" y1=\"175.0\" y2=\"225.0\" stroke=\"black\" stroke-width=\"3\" /><line x1=\"399.51773437500003\" x2=\"399.51773437500003\" y1=\"225.0\" y2=\"275.0\" stroke=\"black\" stroke-width=\"3\" /><line x1=\"459.51773437500003\" x2=\"459.51773437500003\" y1=\"275.0\" y2=\"325.0\" stroke=\"black\" stroke-width=\"3\" /><line x1=\"519.517734375\" x2=\"519.517734375\" y1=\"325.0\" y2=\"375.0\" stroke=\"black\" stroke-width=\"3\" /><line x1=\"579.517734375\" x2=\"579.517734375\" y1=\"375.0\" y2=\"425.0\" stroke=\"black\" stroke-width=\"3\" /><line x1=\"639.517734375\" x2=\"639.517734375\" y1=\"425.0\" y2=\"475.0\" stroke=\"black\" stroke-width=\"3\" /><line x1=\"699.517734375\" x2=\"699.517734375\" y1=\"475.0\" y2=\"525.0\" stroke=\"black\" stroke-width=\"3\" /><line x1=\"759.517734375\" x2=\"759.517734375\" y1=\"525.0\" y2=\"575.0\" stroke=\"black\" stroke-width=\"3\" /><line x1=\"819.517734375\" x2=\"819.517734375\" y1=\"575.0\" y2=\"625.0\" stroke=\"black\" stroke-width=\"3\" /><line x1=\"879.517734375\" x2=\"879.517734375\" y1=\"625.0\" y2=\"675.0\" stroke=\"black\" stroke-width=\"3\" /><line x1=\"939.517734375\" x2=\"939.517734375\" y1=\"675.0\" y2=\"725.0\" stroke=\"black\" stroke-width=\"3\" /><line x1=\"999.517734375\" x2=\"999.517734375\" y1=\"725.0\" y2=\"775.0\" stroke=\"black\" stroke-width=\"3\" /><line x1=\"1059.5177343750001\" x2=\"1059.5177343750001\" y1=\"25.0\" y2=\"775.0\" stroke=\"black\" stroke-width=\"3\" /><rect x=\"10.0\" y=\"5.0\" width=\"49.517734375\" height=\"40\" stroke=\"black\" fill=\"white\" stroke-width=\"0\" /><text x=\"34.7588671875\" y=\"25.0\" dominant-baseline=\"middle\" text-anchor=\"middle\" font-size=\"14px\">(0, 0): </text><rect x=\"10.0\" y=\"55.0\" width=\"49.517734375\" height=\"40\" stroke=\"black\" fill=\"white\" stroke-width=\"0\" /><text x=\"34.7588671875\" y=\"75.0\" dominant-baseline=\"middle\" text-anchor=\"middle\" font-size=\"14px\">(0, 1): </text><rect x=\"10.0\" y=\"105.0\" width=\"49.517734375\" height=\"40\" stroke=\"black\" fill=\"white\" stroke-width=\"0\" /><text x=\"34.7588671875\" y=\"125.0\" dominant-baseline=\"middle\" text-anchor=\"middle\" font-size=\"14px\">(0, 2): </text><rect x=\"10.0\" y=\"155.0\" width=\"49.517734375\" height=\"40\" stroke=\"black\" fill=\"white\" stroke-width=\"0\" /><text x=\"34.7588671875\" y=\"175.0\" dominant-baseline=\"middle\" text-anchor=\"middle\" font-size=\"14px\">(0, 3): </text><rect x=\"10.0\" y=\"205.0\" width=\"49.517734375\" height=\"40\" stroke=\"black\" fill=\"white\" stroke-width=\"0\" /><text x=\"34.7588671875\" y=\"225.0\" dominant-baseline=\"middle\" text-anchor=\"middle\" font-size=\"14px\">(1, 0): </text><rect x=\"10.0\" y=\"255.0\" width=\"49.517734375\" height=\"40\" stroke=\"black\" fill=\"white\" stroke-width=\"0\" /><text x=\"34.7588671875\" y=\"275.0\" dominant-baseline=\"middle\" text-anchor=\"middle\" font-size=\"14px\">(1, 1): </text><rect x=\"10.0\" y=\"305.0\" width=\"49.517734375\" height=\"40\" stroke=\"black\" fill=\"white\" stroke-width=\"0\" /><text x=\"34.7588671875\" y=\"325.0\" dominant-baseline=\"middle\" text-anchor=\"middle\" font-size=\"14px\">(1, 2): </text><rect x=\"10.0\" y=\"355.0\" width=\"49.517734375\" height=\"40\" stroke=\"black\" fill=\"white\" stroke-width=\"0\" /><text x=\"34.7588671875\" y=\"375.0\" dominant-baseline=\"middle\" text-anchor=\"middle\" font-size=\"14px\">(1, 3): </text><rect x=\"10.0\" y=\"405.0\" width=\"49.517734375\" height=\"40\" stroke=\"black\" fill=\"white\" stroke-width=\"0\" /><text x=\"34.7588671875\" y=\"425.0\" dominant-baseline=\"middle\" text-anchor=\"middle\" font-size=\"14px\">(2, 0): </text><rect x=\"10.0\" y=\"455.0\" width=\"49.517734375\" height=\"40\" stroke=\"black\" fill=\"white\" stroke-width=\"0\" /><text x=\"34.7588671875\" y=\"475.0\" dominant-baseline=\"middle\" text-anchor=\"middle\" font-size=\"14px\">(2, 1): </text><rect x=\"10.0\" y=\"505.0\" width=\"49.517734375\" height=\"40\" stroke=\"black\" fill=\"white\" stroke-width=\"0\" /><text x=\"34.7588671875\" y=\"525.0\" dominant-baseline=\"middle\" text-anchor=\"middle\" font-size=\"14px\">(2, 2): </text><rect x=\"10.0\" y=\"555.0\" width=\"49.517734375\" height=\"40\" stroke=\"black\" fill=\"white\" stroke-width=\"0\" /><text x=\"34.7588671875\" y=\"575.0\" dominant-baseline=\"middle\" text-anchor=\"middle\" font-size=\"14px\">(2, 3): </text><rect x=\"10.0\" y=\"605.0\" width=\"49.517734375\" height=\"40\" stroke=\"black\" fill=\"white\" stroke-width=\"0\" /><text x=\"34.7588671875\" y=\"625.0\" dominant-baseline=\"middle\" text-anchor=\"middle\" font-size=\"14px\">(3, 0): </text><rect x=\"10.0\" y=\"655.0\" width=\"49.517734375\" height=\"40\" stroke=\"black\" fill=\"white\" stroke-width=\"0\" /><text x=\"34.7588671875\" y=\"675.0\" dominant-baseline=\"middle\" text-anchor=\"middle\" font-size=\"14px\">(3, 1): </text><rect x=\"10.0\" y=\"705.0\" width=\"49.517734375\" height=\"40\" stroke=\"black\" fill=\"white\" stroke-width=\"0\" /><text x=\"34.7588671875\" y=\"725.0\" dominant-baseline=\"middle\" text-anchor=\"middle\" font-size=\"14px\">(3, 2): </text><rect x=\"10.0\" y=\"755.0\" width=\"49.517734375\" height=\"40\" stroke=\"black\" fill=\"white\" stroke-width=\"0\" /><text x=\"34.7588671875\" y=\"775.0\" dominant-baseline=\"middle\" text-anchor=\"middle\" font-size=\"14px\">(3, 3): </text><rect x=\"79.517734375\" y=\"5.0\" width=\"40\" height=\"40\" stroke=\"black\" fill=\"white\" stroke-width=\"1\" /><text x=\"99.517734375\" y=\"25.0\" dominant-baseline=\"middle\" text-anchor=\"middle\" font-size=\"18px\">H</text><rect x=\"79.517734375\" y=\"55.0\" width=\"40\" height=\"40\" stroke=\"black\" fill=\"white\" stroke-width=\"1\" /><text x=\"99.517734375\" y=\"75.0\" dominant-baseline=\"middle\" text-anchor=\"middle\" font-size=\"18px\">H</text><rect x=\"79.517734375\" y=\"105.0\" width=\"40\" height=\"40\" stroke=\"black\" fill=\"white\" stroke-width=\"1\" /><text x=\"99.517734375\" y=\"125.0\" dominant-baseline=\"middle\" text-anchor=\"middle\" font-size=\"18px\">H</text><rect x=\"79.517734375\" y=\"155.0\" width=\"40\" height=\"40\" stroke=\"black\" fill=\"white\" stroke-width=\"1\" /><text x=\"99.517734375\" y=\"175.0\" dominant-baseline=\"middle\" text-anchor=\"middle\" font-size=\"18px\">H</text><rect x=\"79.517734375\" y=\"205.0\" width=\"40\" height=\"40\" stroke=\"black\" fill=\"white\" stroke-width=\"1\" /><text x=\"99.517734375\" y=\"225.0\" dominant-baseline=\"middle\" text-anchor=\"middle\" font-size=\"18px\">H</text><rect x=\"79.517734375\" y=\"255.0\" width=\"40\" height=\"40\" stroke=\"black\" fill=\"white\" stroke-width=\"1\" /><text x=\"99.517734375\" y=\"275.0\" dominant-baseline=\"middle\" text-anchor=\"middle\" font-size=\"18px\">H</text><rect x=\"79.517734375\" y=\"305.0\" width=\"40\" height=\"40\" stroke=\"black\" fill=\"white\" stroke-width=\"1\" /><text x=\"99.517734375\" y=\"325.0\" dominant-baseline=\"middle\" text-anchor=\"middle\" font-size=\"18px\">H</text><rect x=\"79.517734375\" y=\"355.0\" width=\"40\" height=\"40\" stroke=\"black\" fill=\"white\" stroke-width=\"1\" /><text x=\"99.517734375\" y=\"375.0\" dominant-baseline=\"middle\" text-anchor=\"middle\" font-size=\"18px\">H</text><rect x=\"79.517734375\" y=\"405.0\" width=\"40\" height=\"40\" stroke=\"black\" fill=\"white\" stroke-width=\"1\" /><text x=\"99.517734375\" y=\"425.0\" dominant-baseline=\"middle\" text-anchor=\"middle\" font-size=\"18px\">H</text><rect x=\"79.517734375\" y=\"455.0\" width=\"40\" height=\"40\" stroke=\"black\" fill=\"white\" stroke-width=\"1\" /><text x=\"99.517734375\" y=\"475.0\" dominant-baseline=\"middle\" text-anchor=\"middle\" font-size=\"18px\">H</text><rect x=\"79.517734375\" y=\"505.0\" width=\"40\" height=\"40\" stroke=\"black\" fill=\"white\" stroke-width=\"1\" /><text x=\"99.517734375\" y=\"525.0\" dominant-baseline=\"middle\" text-anchor=\"middle\" font-size=\"18px\">H</text><rect x=\"79.517734375\" y=\"555.0\" width=\"40\" height=\"40\" stroke=\"black\" fill=\"white\" stroke-width=\"1\" /><text x=\"99.517734375\" y=\"575.0\" dominant-baseline=\"middle\" text-anchor=\"middle\" font-size=\"18px\">H</text><rect x=\"79.517734375\" y=\"605.0\" width=\"40\" height=\"40\" stroke=\"black\" fill=\"white\" stroke-width=\"1\" /><text x=\"99.517734375\" y=\"625.0\" dominant-baseline=\"middle\" text-anchor=\"middle\" font-size=\"18px\">H</text><rect x=\"79.517734375\" y=\"655.0\" width=\"40\" height=\"40\" stroke=\"black\" fill=\"white\" stroke-width=\"1\" /><text x=\"99.517734375\" y=\"675.0\" dominant-baseline=\"middle\" text-anchor=\"middle\" font-size=\"18px\">H</text><rect x=\"79.517734375\" y=\"705.0\" width=\"40\" height=\"40\" stroke=\"black\" fill=\"white\" stroke-width=\"1\" /><text x=\"99.517734375\" y=\"725.0\" dominant-baseline=\"middle\" text-anchor=\"middle\" font-size=\"18px\">H</text><rect x=\"79.517734375\" y=\"755.0\" width=\"40\" height=\"40\" stroke=\"black\" fill=\"white\" stroke-width=\"1\" /><text x=\"99.517734375\" y=\"775.0\" dominant-baseline=\"middle\" text-anchor=\"middle\" font-size=\"18px\">H</text><circle cx=\"159.517734375\" cy=\"25.0\" r=\"10.0\" /><circle cx=\"159.517734375\" cy=\"75.0\" r=\"10.0\" /><circle cx=\"219.517734375\" cy=\"75.0\" r=\"10.0\" /><circle cx=\"219.517734375\" cy=\"125.0\" r=\"10.0\" /><circle cx=\"279.51773437500003\" cy=\"125.0\" r=\"10.0\" /><circle cx=\"279.51773437500003\" cy=\"175.0\" r=\"10.0\" /><circle cx=\"339.51773437500003\" cy=\"175.0\" r=\"10.0\" /><circle cx=\"339.51773437500003\" cy=\"225.0\" r=\"10.0\" /><circle cx=\"399.51773437500003\" cy=\"225.0\" r=\"10.0\" /><circle cx=\"399.51773437500003\" cy=\"275.0\" r=\"10.0\" /><circle cx=\"459.51773437500003\" cy=\"275.0\" r=\"10.0\" /><circle cx=\"459.51773437500003\" cy=\"325.0\" r=\"10.0\" /><circle cx=\"519.517734375\" cy=\"325.0\" r=\"10.0\" /><circle cx=\"519.517734375\" cy=\"375.0\" r=\"10.0\" /><circle cx=\"579.517734375\" cy=\"375.0\" r=\"10.0\" /><circle cx=\"579.517734375\" cy=\"425.0\" r=\"10.0\" /><circle cx=\"639.517734375\" cy=\"425.0\" r=\"10.0\" /><circle cx=\"639.517734375\" cy=\"475.0\" r=\"10.0\" /><circle cx=\"699.517734375\" cy=\"475.0\" r=\"10.0\" /><circle cx=\"699.517734375\" cy=\"525.0\" r=\"10.0\" /><circle cx=\"759.517734375\" cy=\"525.0\" r=\"10.0\" /><circle cx=\"759.517734375\" cy=\"575.0\" r=\"10.0\" /><circle cx=\"819.517734375\" cy=\"575.0\" r=\"10.0\" /><circle cx=\"819.517734375\" cy=\"625.0\" r=\"10.0\" /><circle cx=\"879.517734375\" cy=\"625.0\" r=\"10.0\" /><circle cx=\"879.517734375\" cy=\"675.0\" r=\"10.0\" /><circle cx=\"939.517734375\" cy=\"675.0\" r=\"10.0\" /><circle cx=\"939.517734375\" cy=\"725.0\" r=\"10.0\" /><circle cx=\"999.517734375\" cy=\"725.0\" r=\"10.0\" /><circle cx=\"999.517734375\" cy=\"775.0\" r=\"10.0\" /><circle cx=\"1059.5177343750001\" cy=\"775.0\" r=\"10.0\" /><circle cx=\"1059.5177343750001\" cy=\"25.0\" r=\"10.0\" /></svg>"
          },
          "metadata": {},
          "execution_count": 11
        }
      ],
      "source": [
        "SVGCircuit(cluster_state_circuit(cirq.GridQubit.rect(4, 4)))"
      ]
    },
    {
      "cell_type": "code",
      "execution_count": 12,
      "metadata": {
        "id": "8PqgKl_4eoqE"
      },
      "outputs": [],
      "source": [
        "def convert_to_circuit(image):\n",
        "    \"\"\"Encode truncated classical image into quantum datapoint.\"\"\"\n",
        "    values = np.ndarray.flatten(image)\n",
        "    qubits = cirq.GridQubit.rect(4, 4)\n",
        "    circuit = cirq.Circuit()\n",
        "    for i, value in enumerate(values):\n",
        "        if value:\n",
        "            circuit.append(cirq.X(qubits[i]))\n",
        "    return circuit\n",
        "\n",
        "\n",
        "x_train_circ = [convert_to_circuit(x) for x in x_train_bin]\n",
        "x_test_circ = [convert_to_circuit(x) for x in x_test_bin]"
      ]
    },
    {
      "cell_type": "code",
      "execution_count": 13,
      "metadata": {
        "colab": {
          "base_uri": "https://localhost:8080/",
          "height": 121
        },
        "id": "Y32ydHJleom4",
        "outputId": "0596bb83-fc3a-4216-f6ec-0a34cc5038aa"
      },
      "outputs": [
        {
          "output_type": "execute_result",
          "data": {
            "text/plain": [
              "<cirq.contrib.svg.svg.SVGCircuit at 0x7f693fc7e750>"
            ],
            "image/svg+xml": "<svg xmlns=\"http://www.w3.org/2000/svg\" width=\"169.517734375\" height=\"100.0\"><line x1=\"34.7588671875\" x2=\"139.517734375\" y1=\"25.0\" y2=\"25.0\" stroke=\"#1967d2\" stroke-width=\"1\" /><line x1=\"34.7588671875\" x2=\"139.517734375\" y1=\"75.0\" y2=\"75.0\" stroke=\"#1967d2\" stroke-width=\"1\" /><rect x=\"10.0\" y=\"5.0\" width=\"49.517734375\" height=\"40\" stroke=\"black\" fill=\"white\" stroke-width=\"0\" /><text x=\"34.7588671875\" y=\"25.0\" dominant-baseline=\"middle\" text-anchor=\"middle\" font-size=\"14px\">(2, 2): </text><rect x=\"10.0\" y=\"55.0\" width=\"49.517734375\" height=\"40\" stroke=\"black\" fill=\"white\" stroke-width=\"0\" /><text x=\"34.7588671875\" y=\"75.0\" dominant-baseline=\"middle\" text-anchor=\"middle\" font-size=\"14px\">(3, 1): </text><rect x=\"79.517734375\" y=\"5.0\" width=\"40\" height=\"40\" stroke=\"black\" fill=\"white\" stroke-width=\"1\" /><text x=\"99.517734375\" y=\"25.0\" dominant-baseline=\"middle\" text-anchor=\"middle\" font-size=\"18px\">X</text><rect x=\"79.517734375\" y=\"55.0\" width=\"40\" height=\"40\" stroke=\"black\" fill=\"white\" stroke-width=\"1\" /><text x=\"99.517734375\" y=\"75.0\" dominant-baseline=\"middle\" text-anchor=\"middle\" font-size=\"18px\">X</text></svg>"
          },
          "metadata": {},
          "execution_count": 13
        }
      ],
      "source": [
        "SVGCircuit(x_train_circ[0])"
      ]
    },
    {
      "cell_type": "code",
      "execution_count": 14,
      "metadata": {
        "colab": {
          "base_uri": "https://localhost:8080/"
        },
        "id": "1lsKAmxjeojX",
        "outputId": "2face31d-9f83-41f0-da27-d2d81a0336b9"
      },
      "outputs": [
        {
          "output_type": "execute_result",
          "data": {
            "text/plain": [
              "array([[2, 2],\n",
              "       [3, 1]])"
            ]
          },
          "metadata": {},
          "execution_count": 14
        }
      ],
      "source": [
        "bin_img = x_train_bin[0,:,:,0]\n",
        "indices = np.array(np.where(bin_img)).T\n",
        "indices"
      ]
    },
    {
      "cell_type": "code",
      "execution_count": 15,
      "metadata": {
        "id": "0fzQq6-_eofL"
      },
      "outputs": [],
      "source": [
        "x_train_tfcirc = tfq.convert_to_tensor(x_train_circ)\n",
        "x_test_tfcirc = tfq.convert_to_tensor(x_test_circ)"
      ]
    },
    {
      "cell_type": "code",
      "execution_count": 16,
      "metadata": {
        "colab": {
          "base_uri": "https://localhost:8080/"
        },
        "id": "BwlqPkFge5Pl",
        "outputId": "d496a270-7ec9-4ec3-cba9-7844546814f2"
      },
      "outputs": [
        {
          "output_type": "execute_result",
          "data": {
            "text/plain": [
              "(TensorShape([10338]), TensorShape([1968]))"
            ]
          },
          "metadata": {},
          "execution_count": 16
        }
      ],
      "source": [
        "x_train_tfcirc.shape , x_test_tfcirc.shape"
      ]
    },
    {
      "cell_type": "code",
      "execution_count": 17,
      "metadata": {
        "colab": {
          "base_uri": "https://localhost:8080/"
        },
        "id": "-bQ_vRMqfMRe",
        "outputId": "6e4c521c-91d6-44c9-e619-581f7070b3a0"
      },
      "outputs": [
        {
          "output_type": "execute_result",
          "data": {
            "text/plain": [
              "((10338,), 1968)"
            ]
          },
          "metadata": {},
          "execution_count": 17
        }
      ],
      "source": [
        "y_train_nocon.shape, len(y_test)"
      ]
    },
    {
      "cell_type": "code",
      "execution_count": 18,
      "metadata": {
        "id": "nNh3tn0ZfLzQ"
      },
      "outputs": [],
      "source": [
        "y_train_hinge = 2.0*y_train_nocon-1.0\n",
        "y_test_hinge = 2.0*y_test-1.0"
      ]
    },
    {
      "cell_type": "code",
      "execution_count": 18,
      "metadata": {
        "id": "ywZ24KuSfGeD"
      },
      "outputs": [],
      "source": []
    },
    {
      "cell_type": "markdown",
      "metadata": {
        "id": "TIv6HvGo_Hjs"
      },
      "source": [
        "# BUILD MODEL"
      ]
    },
    {
      "cell_type": "code",
      "execution_count": 19,
      "metadata": {
        "id": "tq_jQE381MRL"
      },
      "outputs": [],
      "source": [
        "def one_qubit_unitary(bit, symbols):\n",
        "    \"\"\"Make a Cirq circuit enacting a rotation of the bloch sphere about the X,\n",
        "    Y and Z axis, that depends on the values in `symbols`.\n",
        "    \"\"\"\n",
        "    return cirq.Circuit(\n",
        "        cirq.X(bit)**symbols[0],\n",
        "        cirq.Y(bit)**symbols[1],\n",
        "        cirq.Z(bit)**symbols[2])\n",
        "    \n",
        "\n",
        "    \n",
        "def two_qubit_unitary(bits, symbols):\n",
        "    \"\"\"Make a Cirq circuit that creates an arbitrary two qubit unitary.\"\"\"\n",
        "    circuit = cirq.Circuit()\n",
        "    circuit += one_qubit_unitary(bits[0], symbols[0:3])\n",
        "    circuit += one_qubit_unitary(bits[1], symbols[3:6])\n",
        "    circuit += [cirq.ZZ(*bits)**symbols[6]]\n",
        "    circuit += [cirq.YY(*bits)**symbols[7]]\n",
        "    circuit += [cirq.XX(*bits)**symbols[8]]\n",
        "    circuit += one_qubit_unitary(bits[0], symbols[9:12])\n",
        "    circuit += one_qubit_unitary(bits[1], symbols[12:])\n",
        "    return circuit\n",
        "\n",
        "\n",
        "def two_qubit_pool(source_qubit, sink_qubit, symbols):\n",
        "    \"\"\"Make a Cirq circuit to do a parameterized 'pooling' operation, which\n",
        "    attempts to reduce entanglement down from two qubits to just one.\"\"\"\n",
        "    pool_circuit = cirq.Circuit()\n",
        "    sink_basis_selector = one_qubit_unitary(sink_qubit, symbols[0:3])\n",
        "    source_basis_selector = one_qubit_unitary(source_qubit, symbols[3:6])\n",
        "    pool_circuit.append(sink_basis_selector)\n",
        "    pool_circuit.append(source_basis_selector)\n",
        "    pool_circuit.append(cirq.CNOT(control=source_qubit, target=sink_qubit))\n",
        "    pool_circuit.append(sink_basis_selector**-1)\n",
        "    return pool_circuit"
      ]
    },
    {
      "cell_type": "code",
      "execution_count": 20,
      "metadata": {
        "id": "cgEggkb2_EK5"
      },
      "outputs": [],
      "source": [
        "def cluster_state_circuit(bits):\n",
        "    \"\"\"Return a cluster state on the qubits in `bits`.\"\"\"\n",
        "    circuit = cirq.Circuit()\n",
        "    circuit.append(cirq.H.on_each(bits))\n",
        "    for this_bit, next_bit in zip(bits, bits[1:] + [bits[0]]):\n",
        "        circuit.append(cirq.CZ(this_bit, next_bit))\n",
        "    return circuit\n",
        "\n",
        "def one_qubit_unitary(bit, symbols):\n",
        "    \"\"\"Make a Cirq circuit enacting a rotation of the bloch sphere about the X,\n",
        "    Y and Z axis, that depends on the values in `symbols`.\n",
        "    \"\"\"\n",
        "    return cirq.Circuit(\n",
        "        cirq.X(bit)**symbols[0],\n",
        "        cirq.Y(bit)**symbols[1],\n",
        "        cirq.Z(bit)**symbols[2])\n",
        "\n",
        "\n",
        "def two_qubit_unitary(bits, symbols):\n",
        "    \"\"\"Make a Cirq circuit that creates an arbitrary two qubit unitary.\"\"\"\n",
        "    circuit = cirq.Circuit()\n",
        "    circuit += one_qubit_unitary(bits[0], symbols[0:3])\n",
        "    circuit += one_qubit_unitary(bits[1], symbols[3:6])\n",
        "    circuit += [cirq.ZZ(*bits)**symbols[6]]\n",
        "    circuit += [cirq.YY(*bits)**symbols[7]]\n",
        "    circuit += [cirq.XX(*bits)**symbols[8]]\n",
        "    circuit += one_qubit_unitary(bits[0], symbols[9:12])\n",
        "    circuit += one_qubit_unitary(bits[1], symbols[12:])\n",
        "    return circuit\n",
        "\n",
        "\n",
        "def two_qubit_pool(source_qubit, sink_qubit, symbols):\n",
        "    \"\"\"Make a Cirq circuit to do a parameterized 'pooling' operation, which\n",
        "    attempts to reduce entanglement down from two qubits to just one.\"\"\"\n",
        "    pool_circuit = cirq.Circuit()\n",
        "    sink_basis_selector = one_qubit_unitary(sink_qubit, symbols[0:3])\n",
        "    source_basis_selector = one_qubit_unitary(source_qubit, symbols[3:6])\n",
        "    pool_circuit.append(sink_basis_selector)\n",
        "    pool_circuit.append(source_basis_selector)\n",
        "    pool_circuit.append(cirq.CNOT(control=source_qubit, target=sink_qubit))\n",
        "    pool_circuit.append(sink_basis_selector**-1)\n",
        "    return pool_circuit\n",
        "\n",
        "\n",
        "\n",
        "def quantum_conv_circuit(bits, symbols):\n",
        "    \"\"\"Quantum Convolution Layer following the above diagram.\n",
        "    Return a Cirq circuit with the cascade of `two_qubit_unitary` applied\n",
        "    to all pairs of qubits in `bits` as in the diagram above.\n",
        "    \"\"\"\n",
        "    circuit = cirq.Circuit()\n",
        "    for first, second in zip(bits[0::2], bits[1::2]):\n",
        "        circuit += two_qubit_unitary([first, second], symbols)\n",
        "    for first, second in zip(bits[1::2], bits[2::2] + [bits[0]]):\n",
        "        circuit += two_qubit_unitary([first, second], symbols)\n",
        "    return circuit\n",
        "  \n",
        "def quantum_pool_circuit(source_bits, sink_bits, symbols):\n",
        "    \"\"\"A layer that specifies a quantum pooling operation.\n",
        "    A Quantum pool tries to learn to pool the relevant information from two\n",
        "    qubits onto 1.\n",
        "    \"\"\"\n",
        "    circuit = cirq.Circuit()\n",
        "    for source, sink in zip(source_bits, sink_bits):\n",
        "        circuit += two_qubit_pool(source, sink, symbols)\n",
        "    return circuit\n",
        "\n",
        "class CircuitLayerBuilder():\n",
        "    def __init__(self, data_qubits, readout):\n",
        "        self.data_qubits = data_qubits\n",
        "        self.readout = readout\n",
        "    \n",
        "    def add_layer(self, circuit, gate, prefix):\n",
        "        for i, qubit in enumerate(self.data_qubits):\n",
        "            symbol = sympy.Symbol(prefix + '-' + str(i))\n",
        "            circuit.append(gate(qubit, self.readout)**symbol)\n",
        "\n"
      ]
    },
    {
      "cell_type": "markdown",
      "metadata": {
        "id": "3kcT6ltLEeFp"
      },
      "source": [
        "## Create Model Rebuild QCNN + CNN"
      ]
    },
    {
      "cell_type": "code",
      "execution_count": 21,
      "metadata": {
        "colab": {
          "base_uri": "https://localhost:8080/",
          "height": 841
        },
        "id": "i8gJq2H6_WYw",
        "outputId": "0c8d16be-bdaa-48f7-b36c-b241f352d2f5"
      },
      "outputs": [
        {
          "output_type": "execute_result",
          "data": {
            "text/plain": [
              "<cirq.contrib.svg.svg.SVGCircuit at 0x7f693fb3ef90>"
            ],
            "image/svg+xml": "<svg xmlns=\"http://www.w3.org/2000/svg\" width=\"35677.45234374997\" height=\"800.0\"><line x1=\"34.7588671875\" x2=\"35647.45234374997\" y1=\"25.0\" y2=\"25.0\" stroke=\"#1967d2\" stroke-width=\"1\" /><line x1=\"34.7588671875\" x2=\"35647.45234374997\" y1=\"75.0\" y2=\"75.0\" stroke=\"#1967d2\" stroke-width=\"1\" /><line x1=\"34.7588671875\" x2=\"35647.45234374997\" y1=\"125.0\" y2=\"125.0\" stroke=\"#1967d2\" stroke-width=\"1\" /><line x1=\"34.7588671875\" x2=\"35647.45234374997\" y1=\"175.0\" y2=\"175.0\" stroke=\"#1967d2\" stroke-width=\"1\" /><line x1=\"34.7588671875\" x2=\"35647.45234374997\" y1=\"225.0\" y2=\"225.0\" stroke=\"#1967d2\" stroke-width=\"1\" /><line x1=\"34.7588671875\" x2=\"35647.45234374997\" y1=\"275.0\" y2=\"275.0\" stroke=\"#1967d2\" stroke-width=\"1\" /><line x1=\"34.7588671875\" x2=\"35647.45234374997\" y1=\"325.0\" y2=\"325.0\" stroke=\"#1967d2\" stroke-width=\"1\" /><line x1=\"34.7588671875\" x2=\"35647.45234374997\" y1=\"375.0\" y2=\"375.0\" stroke=\"#1967d2\" stroke-width=\"1\" /><line x1=\"34.7588671875\" x2=\"35647.45234374997\" y1=\"425.0\" y2=\"425.0\" stroke=\"#1967d2\" stroke-width=\"1\" /><line x1=\"34.7588671875\" x2=\"35647.45234374997\" y1=\"475.0\" y2=\"475.0\" stroke=\"#1967d2\" stroke-width=\"1\" /><line x1=\"34.7588671875\" x2=\"35647.45234374997\" y1=\"525.0\" y2=\"525.0\" stroke=\"#1967d2\" stroke-width=\"1\" /><line x1=\"34.7588671875\" x2=\"35647.45234374997\" y1=\"575.0\" y2=\"575.0\" stroke=\"#1967d2\" stroke-width=\"1\" /><line x1=\"34.7588671875\" x2=\"35647.45234374997\" y1=\"625.0\" y2=\"625.0\" stroke=\"#1967d2\" stroke-width=\"1\" /><line x1=\"34.7588671875\" x2=\"35647.45234374997\" y1=\"675.0\" y2=\"675.0\" stroke=\"#1967d2\" stroke-width=\"1\" /><line x1=\"34.7588671875\" x2=\"35647.45234374997\" y1=\"725.0\" y2=\"725.0\" stroke=\"#1967d2\" stroke-width=\"1\" /><line x1=\"34.7588671875\" x2=\"35647.45234374997\" y1=\"775.0\" y2=\"775.0\" stroke=\"#1967d2\" stroke-width=\"1\" /><line x1=\"729.17212890625\" x2=\"729.17212890625\" y1=\"25.0\" y2=\"75.0\" stroke=\"black\" stroke-width=\"3\" /><line x1=\"838.9204492187502\" x2=\"838.9204492187502\" y1=\"25.0\" y2=\"75.0\" stroke=\"black\" stroke-width=\"3\" /><line x1=\"948.7365820312501\" x2=\"948.7365820312501\" y1=\"25.0\" y2=\"75.0\" stroke=\"black\" stroke-width=\"3\" /><line x1=\"2312.8877539062505\" x2=\"2312.8877539062505\" y1=\"125.0\" y2=\"175.0\" stroke=\"black\" stroke-width=\"3\" /><line x1=\"2422.6360742187503\" x2=\"2422.6360742187503\" y1=\"125.0\" y2=\"175.0\" stroke=\"black\" stroke-width=\"3\" /><line x1=\"2532.4522070312505\" x2=\"2532.4522070312505\" y1=\"125.0\" y2=\"175.0\" stroke=\"black\" stroke-width=\"3\" /><line x1=\"3896.60337890625\" x2=\"3896.60337890625\" y1=\"225.0\" y2=\"275.0\" stroke=\"black\" stroke-width=\"3\" /><line x1=\"4006.3516992187497\" x2=\"4006.3516992187497\" y1=\"225.0\" y2=\"275.0\" stroke=\"black\" stroke-width=\"3\" /><line x1=\"4116.167832031249\" x2=\"4116.167832031249\" y1=\"225.0\" y2=\"275.0\" stroke=\"black\" stroke-width=\"3\" /><line x1=\"5480.319003906251\" x2=\"5480.319003906251\" y1=\"325.0\" y2=\"375.0\" stroke=\"black\" stroke-width=\"3\" /><line x1=\"5590.067324218751\" x2=\"5590.067324218751\" y1=\"325.0\" y2=\"375.0\" stroke=\"black\" stroke-width=\"3\" /><line x1=\"5699.883457031252\" x2=\"5699.883457031252\" y1=\"325.0\" y2=\"375.0\" stroke=\"black\" stroke-width=\"3\" /><line x1=\"7064.034628906254\" x2=\"7064.034628906254\" y1=\"425.0\" y2=\"475.0\" stroke=\"black\" stroke-width=\"3\" /><line x1=\"7173.782949218754\" x2=\"7173.782949218754\" y1=\"425.0\" y2=\"475.0\" stroke=\"black\" stroke-width=\"3\" /><line x1=\"7283.5990820312545\" x2=\"7283.5990820312545\" y1=\"425.0\" y2=\"475.0\" stroke=\"black\" stroke-width=\"3\" /><line x1=\"8647.750253906257\" x2=\"8647.750253906257\" y1=\"525.0\" y2=\"575.0\" stroke=\"black\" stroke-width=\"3\" /><line x1=\"8757.498574218756\" x2=\"8757.498574218756\" y1=\"525.0\" y2=\"575.0\" stroke=\"black\" stroke-width=\"3\" /><line x1=\"8867.314707031255\" x2=\"8867.314707031255\" y1=\"525.0\" y2=\"575.0\" stroke=\"black\" stroke-width=\"3\" /><line x1=\"10231.465878906256\" x2=\"10231.465878906256\" y1=\"625.0\" y2=\"675.0\" stroke=\"black\" stroke-width=\"3\" /><line x1=\"10341.214199218755\" x2=\"10341.214199218755\" y1=\"625.0\" y2=\"675.0\" stroke=\"black\" stroke-width=\"3\" /><line x1=\"10451.030332031254\" x2=\"10451.030332031254\" y1=\"625.0\" y2=\"675.0\" stroke=\"black\" stroke-width=\"3\" /><line x1=\"11815.181503906255\" x2=\"11815.181503906255\" y1=\"725.0\" y2=\"775.0\" stroke=\"black\" stroke-width=\"3\" /><line x1=\"11924.929824218754\" x2=\"11924.929824218754\" y1=\"725.0\" y2=\"775.0\" stroke=\"black\" stroke-width=\"3\" /><line x1=\"12034.745957031253\" x2=\"12034.745957031253\" y1=\"725.0\" y2=\"775.0\" stroke=\"black\" stroke-width=\"3\" /><line x1=\"13398.897128906254\" x2=\"13398.897128906254\" y1=\"75.0\" y2=\"125.0\" stroke=\"black\" stroke-width=\"3\" /><line x1=\"13508.645449218753\" x2=\"13508.645449218753\" y1=\"75.0\" y2=\"125.0\" stroke=\"black\" stroke-width=\"3\" /><line x1=\"13618.461582031252\" x2=\"13618.461582031252\" y1=\"75.0\" y2=\"125.0\" stroke=\"black\" stroke-width=\"3\" /><line x1=\"14982.612753906253\" x2=\"14982.612753906253\" y1=\"175.0\" y2=\"225.0\" stroke=\"black\" stroke-width=\"3\" /><line x1=\"15092.361074218752\" x2=\"15092.361074218752\" y1=\"175.0\" y2=\"225.0\" stroke=\"black\" stroke-width=\"3\" /><line x1=\"15202.17720703125\" x2=\"15202.17720703125\" y1=\"175.0\" y2=\"225.0\" stroke=\"black\" stroke-width=\"3\" /><line x1=\"16566.328378906248\" x2=\"16566.328378906248\" y1=\"275.0\" y2=\"325.0\" stroke=\"black\" stroke-width=\"3\" /><line x1=\"16676.07669921875\" x2=\"16676.07669921875\" y1=\"275.0\" y2=\"325.0\" stroke=\"black\" stroke-width=\"3\" /><line x1=\"16785.89283203125\" x2=\"16785.89283203125\" y1=\"275.0\" y2=\"325.0\" stroke=\"black\" stroke-width=\"3\" /><line x1=\"18150.044003906252\" x2=\"18150.044003906252\" y1=\"375.0\" y2=\"425.0\" stroke=\"black\" stroke-width=\"3\" /><line x1=\"18259.792324218753\" x2=\"18259.792324218753\" y1=\"375.0\" y2=\"425.0\" stroke=\"black\" stroke-width=\"3\" /><line x1=\"18369.608457031256\" x2=\"18369.608457031256\" y1=\"375.0\" y2=\"425.0\" stroke=\"black\" stroke-width=\"3\" /><line x1=\"19733.759628906257\" x2=\"19733.759628906257\" y1=\"475.0\" y2=\"525.0\" stroke=\"black\" stroke-width=\"3\" /><line x1=\"19843.507949218758\" x2=\"19843.507949218758\" y1=\"475.0\" y2=\"525.0\" stroke=\"black\" stroke-width=\"3\" /><line x1=\"19953.32408203126\" x2=\"19953.32408203126\" y1=\"475.0\" y2=\"525.0\" stroke=\"black\" stroke-width=\"3\" /><line x1=\"21317.47525390626\" x2=\"21317.47525390626\" y1=\"575.0\" y2=\"625.0\" stroke=\"black\" stroke-width=\"3\" /><line x1=\"21427.223574218762\" x2=\"21427.223574218762\" y1=\"575.0\" y2=\"625.0\" stroke=\"black\" stroke-width=\"3\" /><line x1=\"21537.039707031265\" x2=\"21537.039707031265\" y1=\"575.0\" y2=\"625.0\" stroke=\"black\" stroke-width=\"3\" /><line x1=\"22901.190878906265\" x2=\"22901.190878906265\" y1=\"675.0\" y2=\"725.0\" stroke=\"black\" stroke-width=\"3\" /><line x1=\"23010.939199218767\" x2=\"23010.939199218767\" y1=\"675.0\" y2=\"725.0\" stroke=\"black\" stroke-width=\"3\" /><line x1=\"23120.75533203127\" x2=\"23120.75533203127\" y1=\"675.0\" y2=\"725.0\" stroke=\"black\" stroke-width=\"3\" /><line x1=\"24484.90650390627\" x2=\"24484.90650390627\" y1=\"25.0\" y2=\"775.0\" stroke=\"black\" stroke-width=\"3\" /><line x1=\"24594.65482421877\" x2=\"24594.65482421877\" y1=\"25.0\" y2=\"775.0\" stroke=\"black\" stroke-width=\"3\" /><line x1=\"24704.470957031273\" x2=\"24704.470957031273\" y1=\"25.0\" y2=\"775.0\" stroke=\"black\" stroke-width=\"3\" /><line x1=\"26097.339531250025\" x2=\"26097.339531250025\" y1=\"25.0\" y2=\"425.0\" stroke=\"black\" stroke-width=\"3\" /><line x1=\"27192.301171875024\" x2=\"27192.301171875024\" y1=\"75.0\" y2=\"475.0\" stroke=\"black\" stroke-width=\"3\" /><line x1=\"28287.262812500023\" x2=\"28287.262812500023\" y1=\"125.0\" y2=\"525.0\" stroke=\"black\" stroke-width=\"3\" /><line x1=\"29382.22445312502\" x2=\"29382.22445312502\" y1=\"175.0\" y2=\"575.0\" stroke=\"black\" stroke-width=\"3\" /><line x1=\"30477.18609375002\" x2=\"30477.18609375002\" y1=\"225.0\" y2=\"625.0\" stroke=\"black\" stroke-width=\"3\" /><line x1=\"31572.14773437502\" x2=\"31572.14773437502\" y1=\"275.0\" y2=\"675.0\" stroke=\"black\" stroke-width=\"3\" /><line x1=\"32667.10937500002\" x2=\"32667.10937500002\" y1=\"325.0\" y2=\"725.0\" stroke=\"black\" stroke-width=\"3\" /><line x1=\"33762.07101562501\" x2=\"33762.07101562501\" y1=\"375.0\" y2=\"775.0\" stroke=\"black\" stroke-width=\"3\" /><line x1=\"33854.86406250001\" x2=\"33854.86406250001\" y1=\"375.0\" y2=\"425.0\" stroke=\"black\" stroke-width=\"3\" /><line x1=\"33980.25984375001\" x2=\"33980.25984375001\" y1=\"375.0\" y2=\"475.0\" stroke=\"black\" stroke-width=\"3\" /><line x1=\"34105.76171875001\" x2=\"34105.76171875001\" y1=\"375.0\" y2=\"525.0\" stroke=\"black\" stroke-width=\"3\" /><line x1=\"34223.486757812505\" x2=\"34223.486757812505\" y1=\"375.0\" y2=\"575.0\" stroke=\"black\" stroke-width=\"3\" /><line x1=\"34333.1385546875\" x2=\"34333.1385546875\" y1=\"375.0\" y2=\"625.0\" stroke=\"black\" stroke-width=\"3\" /><line x1=\"34442.7903515625\" x2=\"34442.7903515625\" y1=\"375.0\" y2=\"675.0\" stroke=\"black\" stroke-width=\"3\" /><line x1=\"34552.4421484375\" x2=\"34552.4421484375\" y1=\"375.0\" y2=\"725.0\" stroke=\"black\" stroke-width=\"3\" /><line x1=\"34662.093945312496\" x2=\"34662.093945312496\" y1=\"375.0\" y2=\"775.0\" stroke=\"black\" stroke-width=\"3\" /><line x1=\"34770.70312499999\" x2=\"34770.70312499999\" y1=\"375.0\" y2=\"425.0\" stroke=\"black\" stroke-width=\"3\" /><line x1=\"34878.26968749999\" x2=\"34878.26968749999\" y1=\"375.0\" y2=\"475.0\" stroke=\"black\" stroke-width=\"3\" /><line x1=\"34985.836249999986\" x2=\"34985.836249999986\" y1=\"375.0\" y2=\"525.0\" stroke=\"black\" stroke-width=\"3\" /><line x1=\"35093.40281249998\" x2=\"35093.40281249998\" y1=\"375.0\" y2=\"575.0\" stroke=\"black\" stroke-width=\"3\" /><line x1=\"35200.96937499998\" x2=\"35200.96937499998\" y1=\"375.0\" y2=\"625.0\" stroke=\"black\" stroke-width=\"3\" /><line x1=\"35308.535937499975\" x2=\"35308.535937499975\" y1=\"375.0\" y2=\"675.0\" stroke=\"black\" stroke-width=\"3\" /><line x1=\"35416.10249999997\" x2=\"35416.10249999997\" y1=\"375.0\" y2=\"725.0\" stroke=\"black\" stroke-width=\"3\" /><line x1=\"35523.66906249997\" x2=\"35523.66906249997\" y1=\"375.0\" y2=\"775.0\" stroke=\"black\" stroke-width=\"3\" /><rect x=\"10.0\" y=\"5.0\" width=\"49.517734375\" height=\"40\" stroke=\"black\" fill=\"white\" stroke-width=\"0\" /><text x=\"34.7588671875\" y=\"25.0\" dominant-baseline=\"middle\" text-anchor=\"middle\" font-size=\"14px\">(0, 0): </text><rect x=\"10.0\" y=\"55.0\" width=\"49.517734375\" height=\"40\" stroke=\"black\" fill=\"white\" stroke-width=\"0\" /><text x=\"34.7588671875\" y=\"75.0\" dominant-baseline=\"middle\" text-anchor=\"middle\" font-size=\"14px\">(0, 1): </text><rect x=\"10.0\" y=\"105.0\" width=\"49.517734375\" height=\"40\" stroke=\"black\" fill=\"white\" stroke-width=\"0\" /><text x=\"34.7588671875\" y=\"125.0\" dominant-baseline=\"middle\" text-anchor=\"middle\" font-size=\"14px\">(0, 2): </text><rect x=\"10.0\" y=\"155.0\" width=\"49.517734375\" height=\"40\" stroke=\"black\" fill=\"white\" stroke-width=\"0\" /><text x=\"34.7588671875\" y=\"175.0\" dominant-baseline=\"middle\" text-anchor=\"middle\" font-size=\"14px\">(0, 3): </text><rect x=\"10.0\" y=\"205.0\" width=\"49.517734375\" height=\"40\" stroke=\"black\" fill=\"white\" stroke-width=\"0\" /><text x=\"34.7588671875\" y=\"225.0\" dominant-baseline=\"middle\" text-anchor=\"middle\" font-size=\"14px\">(1, 0): </text><rect x=\"10.0\" y=\"255.0\" width=\"49.517734375\" height=\"40\" stroke=\"black\" fill=\"white\" stroke-width=\"0\" /><text x=\"34.7588671875\" y=\"275.0\" dominant-baseline=\"middle\" text-anchor=\"middle\" font-size=\"14px\">(1, 1): </text><rect x=\"10.0\" y=\"305.0\" width=\"49.517734375\" height=\"40\" stroke=\"black\" fill=\"white\" stroke-width=\"0\" /><text x=\"34.7588671875\" y=\"325.0\" dominant-baseline=\"middle\" text-anchor=\"middle\" font-size=\"14px\">(1, 2): </text><rect x=\"10.0\" y=\"355.0\" width=\"49.517734375\" height=\"40\" stroke=\"black\" fill=\"white\" stroke-width=\"0\" /><text x=\"34.7588671875\" y=\"375.0\" dominant-baseline=\"middle\" text-anchor=\"middle\" font-size=\"14px\">(1, 3): </text><rect x=\"10.0\" y=\"405.0\" width=\"49.517734375\" height=\"40\" stroke=\"black\" fill=\"white\" stroke-width=\"0\" /><text x=\"34.7588671875\" y=\"425.0\" dominant-baseline=\"middle\" text-anchor=\"middle\" font-size=\"14px\">(2, 0): </text><rect x=\"10.0\" y=\"455.0\" width=\"49.517734375\" height=\"40\" stroke=\"black\" fill=\"white\" stroke-width=\"0\" /><text x=\"34.7588671875\" y=\"475.0\" dominant-baseline=\"middle\" text-anchor=\"middle\" font-size=\"14px\">(2, 1): </text><rect x=\"10.0\" y=\"505.0\" width=\"49.517734375\" height=\"40\" stroke=\"black\" fill=\"white\" stroke-width=\"0\" /><text x=\"34.7588671875\" y=\"525.0\" dominant-baseline=\"middle\" text-anchor=\"middle\" font-size=\"14px\">(2, 2): </text><rect x=\"10.0\" y=\"555.0\" width=\"49.517734375\" height=\"40\" stroke=\"black\" fill=\"white\" stroke-width=\"0\" /><text x=\"34.7588671875\" y=\"575.0\" dominant-baseline=\"middle\" text-anchor=\"middle\" font-size=\"14px\">(2, 3): </text><rect x=\"10.0\" y=\"605.0\" width=\"49.517734375\" height=\"40\" stroke=\"black\" fill=\"white\" stroke-width=\"0\" /><text x=\"34.7588671875\" y=\"625.0\" dominant-baseline=\"middle\" text-anchor=\"middle\" font-size=\"14px\">(3, 0): </text><rect x=\"10.0\" y=\"655.0\" width=\"49.517734375\" height=\"40\" stroke=\"black\" fill=\"white\" stroke-width=\"0\" /><text x=\"34.7588671875\" y=\"675.0\" dominant-baseline=\"middle\" text-anchor=\"middle\" font-size=\"14px\">(3, 1): </text><rect x=\"10.0\" y=\"705.0\" width=\"49.517734375\" height=\"40\" stroke=\"black\" fill=\"white\" stroke-width=\"0\" /><text x=\"34.7588671875\" y=\"725.0\" dominant-baseline=\"middle\" text-anchor=\"middle\" font-size=\"14px\">(3, 2): </text><rect x=\"10.0\" y=\"755.0\" width=\"49.517734375\" height=\"40\" stroke=\"black\" fill=\"white\" stroke-width=\"0\" /><text x=\"34.7588671875\" y=\"775.0\" dominant-baseline=\"middle\" text-anchor=\"middle\" font-size=\"14px\">(3, 3): </text><rect x=\"79.517734375\" y=\"5.0\" width=\"81.18890625000002\" height=\"40\" stroke=\"black\" fill=\"white\" stroke-width=\"1\" /><text x=\"120.1121875\" y=\"25.0\" dominant-baseline=\"middle\" text-anchor=\"middle\" font-size=\"14px\">X^qconv0</text><rect x=\"180.70664062500003\" y=\"5.0\" width=\"80.23296875\" height=\"40\" stroke=\"black\" fill=\"white\" stroke-width=\"1\" /><text x=\"220.82312500000003\" y=\"25.0\" dominant-baseline=\"middle\" text-anchor=\"middle\" font-size=\"14px\">Y^qconv1</text><rect x=\"280.93960937500003\" y=\"5.0\" width=\"80.50421875\" height=\"40\" stroke=\"black\" fill=\"white\" stroke-width=\"1\" /><text x=\"321.19171875000006\" y=\"25.0\" dominant-baseline=\"middle\" text-anchor=\"middle\" font-size=\"14px\">Z^qconv2</text><rect x=\"381.443828125\" y=\"55.0\" width=\"80.99640625\" height=\"40\" stroke=\"black\" fill=\"white\" stroke-width=\"1\" /><text x=\"421.94203125\" y=\"75.0\" dominant-baseline=\"middle\" text-anchor=\"middle\" font-size=\"14px\">X^qconv3</text><rect x=\"482.44023437500005\" y=\"55.0\" width=\"80.74046875\" height=\"40\" stroke=\"black\" fill=\"white\" stroke-width=\"1\" /><text x=\"522.81046875\" y=\"75.0\" dominant-baseline=\"middle\" text-anchor=\"middle\" font-size=\"14px\">Y^qconv4</text><rect x=\"583.180703125\" y=\"55.0\" width=\"80.68359375000001\" height=\"40\" stroke=\"black\" fill=\"white\" stroke-width=\"1\" /><text x=\"623.5225\" y=\"75.0\" dominant-baseline=\"middle\" text-anchor=\"middle\" font-size=\"14px\">Z^qconv5</text><rect x=\"683.864296875\" y=\"5.0\" width=\"90.61566406250002\" height=\"40\" stroke=\"black\" fill=\"white\" stroke-width=\"1\" /><text x=\"729.17212890625\" y=\"25.0\" dominant-baseline=\"middle\" text-anchor=\"middle\" font-size=\"14px\">ZZ</text><rect x=\"683.864296875\" y=\"55.0\" width=\"90.61566406250002\" height=\"40\" stroke=\"black\" fill=\"white\" stroke-width=\"1\" /><text x=\"729.17212890625\" y=\"75.0\" dominant-baseline=\"middle\" text-anchor=\"middle\" font-size=\"14px\">ZZ^qconv6</text><rect x=\"794.4799609375001\" y=\"5.0\" width=\"88.88097656250001\" height=\"40\" stroke=\"black\" fill=\"white\" stroke-width=\"1\" /><text x=\"838.9204492187502\" y=\"25.0\" dominant-baseline=\"middle\" text-anchor=\"middle\" font-size=\"14px\">YY</text><rect x=\"794.4799609375001\" y=\"55.0\" width=\"88.88097656250001\" height=\"40\" stroke=\"black\" fill=\"white\" stroke-width=\"1\" /><text x=\"838.9204492187502\" y=\"75.0\" dominant-baseline=\"middle\" text-anchor=\"middle\" font-size=\"14px\">YY^qconv7</text><rect x=\"903.3609375000001\" y=\"5.0\" width=\"90.7512890625\" height=\"40\" stroke=\"black\" fill=\"white\" stroke-width=\"1\" /><text x=\"948.7365820312501\" y=\"25.0\" dominant-baseline=\"middle\" text-anchor=\"middle\" font-size=\"14px\">XX</text><rect x=\"903.3609375000001\" y=\"55.0\" width=\"90.7512890625\" height=\"40\" stroke=\"black\" fill=\"white\" stroke-width=\"1\" /><text x=\"948.7365820312501\" y=\"75.0\" dominant-baseline=\"middle\" text-anchor=\"middle\" font-size=\"14px\">XX^qconv8</text><rect x=\"1014.1122265625002\" y=\"5.0\" width=\"81.13421875000002\" height=\"40\" stroke=\"black\" fill=\"white\" stroke-width=\"1\" /><text x=\"1054.6793359375001\" y=\"25.0\" dominant-baseline=\"middle\" text-anchor=\"middle\" font-size=\"14px\">X^qconv9</text><rect x=\"1115.2464453125\" y=\"5.0\" width=\"89.50332031250001\" height=\"40\" stroke=\"black\" fill=\"white\" stroke-width=\"1\" /><text x=\"1159.99810546875\" y=\"25.0\" dominant-baseline=\"middle\" text-anchor=\"middle\" font-size=\"14px\">Y^qconv10</text><rect x=\"1224.749765625\" y=\"5.0\" width=\"89.5208203125\" height=\"40\" stroke=\"black\" fill=\"white\" stroke-width=\"1\" /><text x=\"1269.51017578125\" y=\"25.0\" dominant-baseline=\"middle\" text-anchor=\"middle\" font-size=\"14px\">Z^qconv11</text><rect x=\"1334.2705859375\" y=\"55.0\" width=\"89.6236328125\" height=\"40\" stroke=\"black\" fill=\"white\" stroke-width=\"1\" /><text x=\"1379.0824023437501\" y=\"75.0\" dominant-baseline=\"middle\" text-anchor=\"middle\" font-size=\"14px\">X^qconv12</text><rect x=\"1443.8942187500002\" y=\"55.0\" width=\"89.3108203125\" height=\"40\" stroke=\"black\" fill=\"white\" stroke-width=\"1\" /><text x=\"1488.54962890625\" y=\"75.0\" dominant-baseline=\"middle\" text-anchor=\"middle\" font-size=\"14px\">Y^qconv13</text><rect x=\"1553.2050390625002\" y=\"55.0\" width=\"90.02832031250001\" height=\"40\" stroke=\"black\" fill=\"white\" stroke-width=\"1\" /><text x=\"1598.2191992187502\" y=\"75.0\" dominant-baseline=\"middle\" text-anchor=\"middle\" font-size=\"14px\">Z^qconv14</text><rect x=\"1663.2333593750002\" y=\"105.0\" width=\"81.18890625000002\" height=\"40\" stroke=\"black\" fill=\"white\" stroke-width=\"1\" /><text x=\"1703.8278125000002\" y=\"125.0\" dominant-baseline=\"middle\" text-anchor=\"middle\" font-size=\"14px\">X^qconv0</text><rect x=\"1764.4222656250001\" y=\"105.0\" width=\"80.23296875\" height=\"40\" stroke=\"black\" fill=\"white\" stroke-width=\"1\" /><text x=\"1804.5387500000002\" y=\"125.0\" dominant-baseline=\"middle\" text-anchor=\"middle\" font-size=\"14px\">Y^qconv1</text><rect x=\"1864.6552343750002\" y=\"105.0\" width=\"80.50421875\" height=\"40\" stroke=\"black\" fill=\"white\" stroke-width=\"1\" /><text x=\"1904.90734375\" y=\"125.0\" dominant-baseline=\"middle\" text-anchor=\"middle\" font-size=\"14px\">Z^qconv2</text><rect x=\"1965.1594531250003\" y=\"155.0\" width=\"80.99640625\" height=\"40\" stroke=\"black\" fill=\"white\" stroke-width=\"1\" /><text x=\"2005.6576562500002\" y=\"175.0\" dominant-baseline=\"middle\" text-anchor=\"middle\" font-size=\"14px\">X^qconv3</text><rect x=\"2066.155859375\" y=\"155.0\" width=\"80.74046875\" height=\"40\" stroke=\"black\" fill=\"white\" stroke-width=\"1\" /><text x=\"2106.52609375\" y=\"175.0\" dominant-baseline=\"middle\" text-anchor=\"middle\" font-size=\"14px\">Y^qconv4</text><rect x=\"2166.8963281250003\" y=\"155.0\" width=\"80.68359375000001\" height=\"40\" stroke=\"black\" fill=\"white\" stroke-width=\"1\" /><text x=\"2207.2381250000003\" y=\"175.0\" dominant-baseline=\"middle\" text-anchor=\"middle\" font-size=\"14px\">Z^qconv5</text><rect x=\"2267.5799218750003\" y=\"105.0\" width=\"90.61566406250002\" height=\"40\" stroke=\"black\" fill=\"white\" stroke-width=\"1\" /><text x=\"2312.8877539062505\" y=\"125.0\" dominant-baseline=\"middle\" text-anchor=\"middle\" font-size=\"14px\">ZZ</text><rect x=\"2267.5799218750003\" y=\"155.0\" width=\"90.61566406250002\" height=\"40\" stroke=\"black\" fill=\"white\" stroke-width=\"1\" /><text x=\"2312.8877539062505\" y=\"175.0\" dominant-baseline=\"middle\" text-anchor=\"middle\" font-size=\"14px\">ZZ^qconv6</text><rect x=\"2378.1955859375003\" y=\"105.0\" width=\"88.88097656250001\" height=\"40\" stroke=\"black\" fill=\"white\" stroke-width=\"1\" /><text x=\"2422.6360742187503\" y=\"125.0\" dominant-baseline=\"middle\" text-anchor=\"middle\" font-size=\"14px\">YY</text><rect x=\"2378.1955859375003\" y=\"155.0\" width=\"88.88097656250001\" height=\"40\" stroke=\"black\" fill=\"white\" stroke-width=\"1\" /><text x=\"2422.6360742187503\" y=\"175.0\" dominant-baseline=\"middle\" text-anchor=\"middle\" font-size=\"14px\">YY^qconv7</text><rect x=\"2487.0765625000004\" y=\"105.0\" width=\"90.7512890625\" height=\"40\" stroke=\"black\" fill=\"white\" stroke-width=\"1\" /><text x=\"2532.4522070312505\" y=\"125.0\" dominant-baseline=\"middle\" text-anchor=\"middle\" font-size=\"14px\">XX</text><rect x=\"2487.0765625000004\" y=\"155.0\" width=\"90.7512890625\" height=\"40\" stroke=\"black\" fill=\"white\" stroke-width=\"1\" /><text x=\"2532.4522070312505\" y=\"175.0\" dominant-baseline=\"middle\" text-anchor=\"middle\" font-size=\"14px\">XX^qconv8</text><rect x=\"2597.8278515625\" y=\"105.0\" width=\"81.13421875000002\" height=\"40\" stroke=\"black\" fill=\"white\" stroke-width=\"1\" /><text x=\"2638.3949609375004\" y=\"125.0\" dominant-baseline=\"middle\" text-anchor=\"middle\" font-size=\"14px\">X^qconv9</text><rect x=\"2698.9620703125\" y=\"105.0\" width=\"89.50332031250001\" height=\"40\" stroke=\"black\" fill=\"white\" stroke-width=\"1\" /><text x=\"2743.7137304687503\" y=\"125.0\" dominant-baseline=\"middle\" text-anchor=\"middle\" font-size=\"14px\">Y^qconv10</text><rect x=\"2808.465390625\" y=\"105.0\" width=\"89.5208203125\" height=\"40\" stroke=\"black\" fill=\"white\" stroke-width=\"1\" /><text x=\"2853.22580078125\" y=\"125.0\" dominant-baseline=\"middle\" text-anchor=\"middle\" font-size=\"14px\">Z^qconv11</text><rect x=\"2917.9862109375\" y=\"155.0\" width=\"89.6236328125\" height=\"40\" stroke=\"black\" fill=\"white\" stroke-width=\"1\" /><text x=\"2962.7980273437497\" y=\"175.0\" dominant-baseline=\"middle\" text-anchor=\"middle\" font-size=\"14px\">X^qconv12</text><rect x=\"3027.60984375\" y=\"155.0\" width=\"89.3108203125\" height=\"40\" stroke=\"black\" fill=\"white\" stroke-width=\"1\" /><text x=\"3072.26525390625\" y=\"175.0\" dominant-baseline=\"middle\" text-anchor=\"middle\" font-size=\"14px\">Y^qconv13</text><rect x=\"3136.9206640625\" y=\"155.0\" width=\"90.02832031250001\" height=\"40\" stroke=\"black\" fill=\"white\" stroke-width=\"1\" /><text x=\"3181.93482421875\" y=\"175.0\" dominant-baseline=\"middle\" text-anchor=\"middle\" font-size=\"14px\">Z^qconv14</text><rect x=\"3246.948984375\" y=\"205.0\" width=\"81.18890625000002\" height=\"40\" stroke=\"black\" fill=\"white\" stroke-width=\"1\" /><text x=\"3287.5434375\" y=\"225.0\" dominant-baseline=\"middle\" text-anchor=\"middle\" font-size=\"14px\">X^qconv0</text><rect x=\"3348.1378906249997\" y=\"205.0\" width=\"80.23296875\" height=\"40\" stroke=\"black\" fill=\"white\" stroke-width=\"1\" /><text x=\"3388.2543749999995\" y=\"225.0\" dominant-baseline=\"middle\" text-anchor=\"middle\" font-size=\"14px\">Y^qconv1</text><rect x=\"3448.370859375\" y=\"205.0\" width=\"80.50421875\" height=\"40\" stroke=\"black\" fill=\"white\" stroke-width=\"1\" /><text x=\"3488.62296875\" y=\"225.0\" dominant-baseline=\"middle\" text-anchor=\"middle\" font-size=\"14px\">Z^qconv2</text><rect x=\"3548.8750781249996\" y=\"255.0\" width=\"80.99640625\" height=\"40\" stroke=\"black\" fill=\"white\" stroke-width=\"1\" /><text x=\"3589.3732812499998\" y=\"275.0\" dominant-baseline=\"middle\" text-anchor=\"middle\" font-size=\"14px\">X^qconv3</text><rect x=\"3649.8714843749995\" y=\"255.0\" width=\"80.74046875\" height=\"40\" stroke=\"black\" fill=\"white\" stroke-width=\"1\" /><text x=\"3690.2417187499996\" y=\"275.0\" dominant-baseline=\"middle\" text-anchor=\"middle\" font-size=\"14px\">Y^qconv4</text><rect x=\"3750.6119531249997\" y=\"255.0\" width=\"80.68359375000001\" height=\"40\" stroke=\"black\" fill=\"white\" stroke-width=\"1\" /><text x=\"3790.9537499999997\" y=\"275.0\" dominant-baseline=\"middle\" text-anchor=\"middle\" font-size=\"14px\">Z^qconv5</text><rect x=\"3851.2955468749997\" y=\"205.0\" width=\"90.61566406250002\" height=\"40\" stroke=\"black\" fill=\"white\" stroke-width=\"1\" /><text x=\"3896.60337890625\" y=\"225.0\" dominant-baseline=\"middle\" text-anchor=\"middle\" font-size=\"14px\">ZZ</text><rect x=\"3851.2955468749997\" y=\"255.0\" width=\"90.61566406250002\" height=\"40\" stroke=\"black\" fill=\"white\" stroke-width=\"1\" /><text x=\"3896.60337890625\" y=\"275.0\" dominant-baseline=\"middle\" text-anchor=\"middle\" font-size=\"14px\">ZZ^qconv6</text><rect x=\"3961.9112109374996\" y=\"205.0\" width=\"88.88097656250001\" height=\"40\" stroke=\"black\" fill=\"white\" stroke-width=\"1\" /><text x=\"4006.3516992187497\" y=\"225.0\" dominant-baseline=\"middle\" text-anchor=\"middle\" font-size=\"14px\">YY</text><rect x=\"3961.9112109374996\" y=\"255.0\" width=\"88.88097656250001\" height=\"40\" stroke=\"black\" fill=\"white\" stroke-width=\"1\" /><text x=\"4006.3516992187497\" y=\"275.0\" dominant-baseline=\"middle\" text-anchor=\"middle\" font-size=\"14px\">YY^qconv7</text><rect x=\"4070.7921874999993\" y=\"205.0\" width=\"90.7512890625\" height=\"40\" stroke=\"black\" fill=\"white\" stroke-width=\"1\" /><text x=\"4116.167832031249\" y=\"225.0\" dominant-baseline=\"middle\" text-anchor=\"middle\" font-size=\"14px\">XX</text><rect x=\"4070.7921874999993\" y=\"255.0\" width=\"90.7512890625\" height=\"40\" stroke=\"black\" fill=\"white\" stroke-width=\"1\" /><text x=\"4116.167832031249\" y=\"275.0\" dominant-baseline=\"middle\" text-anchor=\"middle\" font-size=\"14px\">XX^qconv8</text><rect x=\"4181.5434765625\" y=\"205.0\" width=\"81.13421875000002\" height=\"40\" stroke=\"black\" fill=\"white\" stroke-width=\"1\" /><text x=\"4222.110585937499\" y=\"225.0\" dominant-baseline=\"middle\" text-anchor=\"middle\" font-size=\"14px\">X^qconv9</text><rect x=\"4282.6776953125\" y=\"205.0\" width=\"89.50332031250001\" height=\"40\" stroke=\"black\" fill=\"white\" stroke-width=\"1\" /><text x=\"4327.42935546875\" y=\"225.0\" dominant-baseline=\"middle\" text-anchor=\"middle\" font-size=\"14px\">Y^qconv10</text><rect x=\"4392.181015625\" y=\"205.0\" width=\"89.5208203125\" height=\"40\" stroke=\"black\" fill=\"white\" stroke-width=\"1\" /><text x=\"4436.9414257812505\" y=\"225.0\" dominant-baseline=\"middle\" text-anchor=\"middle\" font-size=\"14px\">Z^qconv11</text><rect x=\"4501.701835937501\" y=\"255.0\" width=\"89.6236328125\" height=\"40\" stroke=\"black\" fill=\"white\" stroke-width=\"1\" /><text x=\"4546.51365234375\" y=\"275.0\" dominant-baseline=\"middle\" text-anchor=\"middle\" font-size=\"14px\">X^qconv12</text><rect x=\"4611.32546875\" y=\"255.0\" width=\"89.3108203125\" height=\"40\" stroke=\"black\" fill=\"white\" stroke-width=\"1\" /><text x=\"4655.98087890625\" y=\"275.0\" dominant-baseline=\"middle\" text-anchor=\"middle\" font-size=\"14px\">Y^qconv13</text><rect x=\"4720.6362890625005\" y=\"255.0\" width=\"90.02832031250001\" height=\"40\" stroke=\"black\" fill=\"white\" stroke-width=\"1\" /><text x=\"4765.6504492187505\" y=\"275.0\" dominant-baseline=\"middle\" text-anchor=\"middle\" font-size=\"14px\">Z^qconv14</text><rect x=\"4830.6646093750005\" y=\"305.0\" width=\"81.18890625000002\" height=\"40\" stroke=\"black\" fill=\"white\" stroke-width=\"1\" /><text x=\"4871.2590625\" y=\"325.0\" dominant-baseline=\"middle\" text-anchor=\"middle\" font-size=\"14px\">X^qconv0</text><rect x=\"4931.853515625001\" y=\"305.0\" width=\"80.23296875\" height=\"40\" stroke=\"black\" fill=\"white\" stroke-width=\"1\" /><text x=\"4971.970000000001\" y=\"325.0\" dominant-baseline=\"middle\" text-anchor=\"middle\" font-size=\"14px\">Y^qconv1</text><rect x=\"5032.0864843750005\" y=\"305.0\" width=\"80.50421875\" height=\"40\" stroke=\"black\" fill=\"white\" stroke-width=\"1\" /><text x=\"5072.338593750001\" y=\"325.0\" dominant-baseline=\"middle\" text-anchor=\"middle\" font-size=\"14px\">Z^qconv2</text><rect x=\"5132.590703125001\" y=\"355.0\" width=\"80.99640625\" height=\"40\" stroke=\"black\" fill=\"white\" stroke-width=\"1\" /><text x=\"5173.088906250001\" y=\"375.0\" dominant-baseline=\"middle\" text-anchor=\"middle\" font-size=\"14px\">X^qconv3</text><rect x=\"5233.587109375001\" y=\"355.0\" width=\"80.74046875\" height=\"40\" stroke=\"black\" fill=\"white\" stroke-width=\"1\" /><text x=\"5273.957343750001\" y=\"375.0\" dominant-baseline=\"middle\" text-anchor=\"middle\" font-size=\"14px\">Y^qconv4</text><rect x=\"5334.327578125001\" y=\"355.0\" width=\"80.68359375000001\" height=\"40\" stroke=\"black\" fill=\"white\" stroke-width=\"1\" /><text x=\"5374.669375000001\" y=\"375.0\" dominant-baseline=\"middle\" text-anchor=\"middle\" font-size=\"14px\">Z^qconv5</text><rect x=\"5435.011171875001\" y=\"305.0\" width=\"90.61566406250002\" height=\"40\" stroke=\"black\" fill=\"white\" stroke-width=\"1\" /><text x=\"5480.319003906251\" y=\"325.0\" dominant-baseline=\"middle\" text-anchor=\"middle\" font-size=\"14px\">ZZ</text><rect x=\"5435.011171875001\" y=\"355.0\" width=\"90.61566406250002\" height=\"40\" stroke=\"black\" fill=\"white\" stroke-width=\"1\" /><text x=\"5480.319003906251\" y=\"375.0\" dominant-baseline=\"middle\" text-anchor=\"middle\" font-size=\"14px\">ZZ^qconv6</text><rect x=\"5545.626835937502\" y=\"305.0\" width=\"88.88097656250001\" height=\"40\" stroke=\"black\" fill=\"white\" stroke-width=\"1\" /><text x=\"5590.067324218751\" y=\"325.0\" dominant-baseline=\"middle\" text-anchor=\"middle\" font-size=\"14px\">YY</text><rect x=\"5545.626835937502\" y=\"355.0\" width=\"88.88097656250001\" height=\"40\" stroke=\"black\" fill=\"white\" stroke-width=\"1\" /><text x=\"5590.067324218751\" y=\"375.0\" dominant-baseline=\"middle\" text-anchor=\"middle\" font-size=\"14px\">YY^qconv7</text><rect x=\"5654.507812500002\" y=\"305.0\" width=\"90.7512890625\" height=\"40\" stroke=\"black\" fill=\"white\" stroke-width=\"1\" /><text x=\"5699.883457031252\" y=\"325.0\" dominant-baseline=\"middle\" text-anchor=\"middle\" font-size=\"14px\">XX</text><rect x=\"5654.507812500002\" y=\"355.0\" width=\"90.7512890625\" height=\"40\" stroke=\"black\" fill=\"white\" stroke-width=\"1\" /><text x=\"5699.883457031252\" y=\"375.0\" dominant-baseline=\"middle\" text-anchor=\"middle\" font-size=\"14px\">XX^qconv8</text><rect x=\"5765.259101562502\" y=\"305.0\" width=\"81.13421875000002\" height=\"40\" stroke=\"black\" fill=\"white\" stroke-width=\"1\" /><text x=\"5805.826210937502\" y=\"325.0\" dominant-baseline=\"middle\" text-anchor=\"middle\" font-size=\"14px\">X^qconv9</text><rect x=\"5866.3933203125025\" y=\"305.0\" width=\"89.50332031250001\" height=\"40\" stroke=\"black\" fill=\"white\" stroke-width=\"1\" /><text x=\"5911.144980468753\" y=\"325.0\" dominant-baseline=\"middle\" text-anchor=\"middle\" font-size=\"14px\">Y^qconv10</text><rect x=\"5975.896640625003\" y=\"305.0\" width=\"89.5208203125\" height=\"40\" stroke=\"black\" fill=\"white\" stroke-width=\"1\" /><text x=\"6020.657050781253\" y=\"325.0\" dominant-baseline=\"middle\" text-anchor=\"middle\" font-size=\"14px\">Z^qconv11</text><rect x=\"6085.417460937503\" y=\"355.0\" width=\"89.6236328125\" height=\"40\" stroke=\"black\" fill=\"white\" stroke-width=\"1\" /><text x=\"6130.229277343753\" y=\"375.0\" dominant-baseline=\"middle\" text-anchor=\"middle\" font-size=\"14px\">X^qconv12</text><rect x=\"6195.041093750003\" y=\"355.0\" width=\"89.3108203125\" height=\"40\" stroke=\"black\" fill=\"white\" stroke-width=\"1\" /><text x=\"6239.6965039062525\" y=\"375.0\" dominant-baseline=\"middle\" text-anchor=\"middle\" font-size=\"14px\">Y^qconv13</text><rect x=\"6304.351914062503\" y=\"355.0\" width=\"90.02832031250001\" height=\"40\" stroke=\"black\" fill=\"white\" stroke-width=\"1\" /><text x=\"6349.366074218753\" y=\"375.0\" dominant-baseline=\"middle\" text-anchor=\"middle\" font-size=\"14px\">Z^qconv14</text><rect x=\"6414.380234375003\" y=\"405.0\" width=\"81.18890625000002\" height=\"40\" stroke=\"black\" fill=\"white\" stroke-width=\"1\" /><text x=\"6454.974687500003\" y=\"425.0\" dominant-baseline=\"middle\" text-anchor=\"middle\" font-size=\"14px\">X^qconv0</text><rect x=\"6515.5691406250035\" y=\"405.0\" width=\"80.23296875\" height=\"40\" stroke=\"black\" fill=\"white\" stroke-width=\"1\" /><text x=\"6555.685625000004\" y=\"425.0\" dominant-baseline=\"middle\" text-anchor=\"middle\" font-size=\"14px\">Y^qconv1</text><rect x=\"6615.802109375003\" y=\"405.0\" width=\"80.50421875\" height=\"40\" stroke=\"black\" fill=\"white\" stroke-width=\"1\" /><text x=\"6656.054218750003\" y=\"425.0\" dominant-baseline=\"middle\" text-anchor=\"middle\" font-size=\"14px\">Z^qconv2</text><rect x=\"6716.306328125003\" y=\"455.0\" width=\"80.99640625\" height=\"40\" stroke=\"black\" fill=\"white\" stroke-width=\"1\" /><text x=\"6756.8045312500035\" y=\"475.0\" dominant-baseline=\"middle\" text-anchor=\"middle\" font-size=\"14px\">X^qconv3</text><rect x=\"6817.302734375004\" y=\"455.0\" width=\"80.74046875\" height=\"40\" stroke=\"black\" fill=\"white\" stroke-width=\"1\" /><text x=\"6857.672968750004\" y=\"475.0\" dominant-baseline=\"middle\" text-anchor=\"middle\" font-size=\"14px\">Y^qconv4</text><rect x=\"6918.043203125004\" y=\"455.0\" width=\"80.68359375000001\" height=\"40\" stroke=\"black\" fill=\"white\" stroke-width=\"1\" /><text x=\"6958.385000000004\" y=\"475.0\" dominant-baseline=\"middle\" text-anchor=\"middle\" font-size=\"14px\">Z^qconv5</text><rect x=\"7018.726796875004\" y=\"405.0\" width=\"90.61566406250002\" height=\"40\" stroke=\"black\" fill=\"white\" stroke-width=\"1\" /><text x=\"7064.034628906254\" y=\"425.0\" dominant-baseline=\"middle\" text-anchor=\"middle\" font-size=\"14px\">ZZ</text><rect x=\"7018.726796875004\" y=\"455.0\" width=\"90.61566406250002\" height=\"40\" stroke=\"black\" fill=\"white\" stroke-width=\"1\" /><text x=\"7064.034628906254\" y=\"475.0\" dominant-baseline=\"middle\" text-anchor=\"middle\" font-size=\"14px\">ZZ^qconv6</text><rect x=\"7129.342460937504\" y=\"405.0\" width=\"88.88097656250001\" height=\"40\" stroke=\"black\" fill=\"white\" stroke-width=\"1\" /><text x=\"7173.782949218754\" y=\"425.0\" dominant-baseline=\"middle\" text-anchor=\"middle\" font-size=\"14px\">YY</text><rect x=\"7129.342460937504\" y=\"455.0\" width=\"88.88097656250001\" height=\"40\" stroke=\"black\" fill=\"white\" stroke-width=\"1\" /><text x=\"7173.782949218754\" y=\"475.0\" dominant-baseline=\"middle\" text-anchor=\"middle\" font-size=\"14px\">YY^qconv7</text><rect x=\"7238.223437500004\" y=\"405.0\" width=\"90.7512890625\" height=\"40\" stroke=\"black\" fill=\"white\" stroke-width=\"1\" /><text x=\"7283.5990820312545\" y=\"425.0\" dominant-baseline=\"middle\" text-anchor=\"middle\" font-size=\"14px\">XX</text><rect x=\"7238.223437500004\" y=\"455.0\" width=\"90.7512890625\" height=\"40\" stroke=\"black\" fill=\"white\" stroke-width=\"1\" /><text x=\"7283.5990820312545\" y=\"475.0\" dominant-baseline=\"middle\" text-anchor=\"middle\" font-size=\"14px\">XX^qconv8</text><rect x=\"7348.974726562505\" y=\"405.0\" width=\"81.13421875000002\" height=\"40\" stroke=\"black\" fill=\"white\" stroke-width=\"1\" /><text x=\"7389.541835937504\" y=\"425.0\" dominant-baseline=\"middle\" text-anchor=\"middle\" font-size=\"14px\">X^qconv9</text><rect x=\"7450.108945312505\" y=\"405.0\" width=\"89.50332031250001\" height=\"40\" stroke=\"black\" fill=\"white\" stroke-width=\"1\" /><text x=\"7494.860605468755\" y=\"425.0\" dominant-baseline=\"middle\" text-anchor=\"middle\" font-size=\"14px\">Y^qconv10</text><rect x=\"7559.612265625005\" y=\"405.0\" width=\"89.5208203125\" height=\"40\" stroke=\"black\" fill=\"white\" stroke-width=\"1\" /><text x=\"7604.372675781256\" y=\"425.0\" dominant-baseline=\"middle\" text-anchor=\"middle\" font-size=\"14px\">Z^qconv11</text><rect x=\"7669.133085937506\" y=\"455.0\" width=\"89.6236328125\" height=\"40\" stroke=\"black\" fill=\"white\" stroke-width=\"1\" /><text x=\"7713.9449023437555\" y=\"475.0\" dominant-baseline=\"middle\" text-anchor=\"middle\" font-size=\"14px\">X^qconv12</text><rect x=\"7778.756718750005\" y=\"455.0\" width=\"89.3108203125\" height=\"40\" stroke=\"black\" fill=\"white\" stroke-width=\"1\" /><text x=\"7823.412128906255\" y=\"475.0\" dominant-baseline=\"middle\" text-anchor=\"middle\" font-size=\"14px\">Y^qconv13</text><rect x=\"7888.067539062506\" y=\"455.0\" width=\"90.02832031250001\" height=\"40\" stroke=\"black\" fill=\"white\" stroke-width=\"1\" /><text x=\"7933.081699218756\" y=\"475.0\" dominant-baseline=\"middle\" text-anchor=\"middle\" font-size=\"14px\">Z^qconv14</text><rect x=\"7998.095859375006\" y=\"505.0\" width=\"81.18890625000002\" height=\"40\" stroke=\"black\" fill=\"white\" stroke-width=\"1\" /><text x=\"8038.690312500005\" y=\"525.0\" dominant-baseline=\"middle\" text-anchor=\"middle\" font-size=\"14px\">X^qconv0</text><rect x=\"8099.284765625006\" y=\"505.0\" width=\"80.23296875\" height=\"40\" stroke=\"black\" fill=\"white\" stroke-width=\"1\" /><text x=\"8139.401250000006\" y=\"525.0\" dominant-baseline=\"middle\" text-anchor=\"middle\" font-size=\"14px\">Y^qconv1</text><rect x=\"8199.517734375006\" y=\"505.0\" width=\"80.50421875\" height=\"40\" stroke=\"black\" fill=\"white\" stroke-width=\"1\" /><text x=\"8239.769843750006\" y=\"525.0\" dominant-baseline=\"middle\" text-anchor=\"middle\" font-size=\"14px\">Z^qconv2</text><rect x=\"8300.021953125006\" y=\"555.0\" width=\"80.99640625\" height=\"40\" stroke=\"black\" fill=\"white\" stroke-width=\"1\" /><text x=\"8340.520156250006\" y=\"575.0\" dominant-baseline=\"middle\" text-anchor=\"middle\" font-size=\"14px\">X^qconv3</text><rect x=\"8401.018359375006\" y=\"555.0\" width=\"80.74046875\" height=\"40\" stroke=\"black\" fill=\"white\" stroke-width=\"1\" /><text x=\"8441.388593750005\" y=\"575.0\" dominant-baseline=\"middle\" text-anchor=\"middle\" font-size=\"14px\">Y^qconv4</text><rect x=\"8501.758828125006\" y=\"555.0\" width=\"80.68359375000001\" height=\"40\" stroke=\"black\" fill=\"white\" stroke-width=\"1\" /><text x=\"8542.100625000006\" y=\"575.0\" dominant-baseline=\"middle\" text-anchor=\"middle\" font-size=\"14px\">Z^qconv5</text><rect x=\"8602.442421875006\" y=\"505.0\" width=\"90.61566406250002\" height=\"40\" stroke=\"black\" fill=\"white\" stroke-width=\"1\" /><text x=\"8647.750253906257\" y=\"525.0\" dominant-baseline=\"middle\" text-anchor=\"middle\" font-size=\"14px\">ZZ</text><rect x=\"8602.442421875006\" y=\"555.0\" width=\"90.61566406250002\" height=\"40\" stroke=\"black\" fill=\"white\" stroke-width=\"1\" /><text x=\"8647.750253906257\" y=\"575.0\" dominant-baseline=\"middle\" text-anchor=\"middle\" font-size=\"14px\">ZZ^qconv6</text><rect x=\"8713.058085937506\" y=\"505.0\" width=\"88.88097656250001\" height=\"40\" stroke=\"black\" fill=\"white\" stroke-width=\"1\" /><text x=\"8757.498574218756\" y=\"525.0\" dominant-baseline=\"middle\" text-anchor=\"middle\" font-size=\"14px\">YY</text><rect x=\"8713.058085937506\" y=\"555.0\" width=\"88.88097656250001\" height=\"40\" stroke=\"black\" fill=\"white\" stroke-width=\"1\" /><text x=\"8757.498574218756\" y=\"575.0\" dominant-baseline=\"middle\" text-anchor=\"middle\" font-size=\"14px\">YY^qconv7</text><rect x=\"8821.939062500005\" y=\"505.0\" width=\"90.7512890625\" height=\"40\" stroke=\"black\" fill=\"white\" stroke-width=\"1\" /><text x=\"8867.314707031255\" y=\"525.0\" dominant-baseline=\"middle\" text-anchor=\"middle\" font-size=\"14px\">XX</text><rect x=\"8821.939062500005\" y=\"555.0\" width=\"90.7512890625\" height=\"40\" stroke=\"black\" fill=\"white\" stroke-width=\"1\" /><text x=\"8867.314707031255\" y=\"575.0\" dominant-baseline=\"middle\" text-anchor=\"middle\" font-size=\"14px\">XX^qconv8</text><rect x=\"8932.690351562505\" y=\"505.0\" width=\"81.13421875000002\" height=\"40\" stroke=\"black\" fill=\"white\" stroke-width=\"1\" /><text x=\"8973.257460937506\" y=\"525.0\" dominant-baseline=\"middle\" text-anchor=\"middle\" font-size=\"14px\">X^qconv9</text><rect x=\"9033.824570312505\" y=\"505.0\" width=\"89.50332031250001\" height=\"40\" stroke=\"black\" fill=\"white\" stroke-width=\"1\" /><text x=\"9078.576230468754\" y=\"525.0\" dominant-baseline=\"middle\" text-anchor=\"middle\" font-size=\"14px\">Y^qconv10</text><rect x=\"9143.327890625005\" y=\"505.0\" width=\"89.5208203125\" height=\"40\" stroke=\"black\" fill=\"white\" stroke-width=\"1\" /><text x=\"9188.088300781255\" y=\"525.0\" dominant-baseline=\"middle\" text-anchor=\"middle\" font-size=\"14px\">Z^qconv11</text><rect x=\"9252.848710937506\" y=\"555.0\" width=\"89.6236328125\" height=\"40\" stroke=\"black\" fill=\"white\" stroke-width=\"1\" /><text x=\"9297.660527343756\" y=\"575.0\" dominant-baseline=\"middle\" text-anchor=\"middle\" font-size=\"14px\">X^qconv12</text><rect x=\"9362.472343750005\" y=\"555.0\" width=\"89.3108203125\" height=\"40\" stroke=\"black\" fill=\"white\" stroke-width=\"1\" /><text x=\"9407.127753906256\" y=\"575.0\" dominant-baseline=\"middle\" text-anchor=\"middle\" font-size=\"14px\">Y^qconv13</text><rect x=\"9471.783164062505\" y=\"555.0\" width=\"90.02832031250001\" height=\"40\" stroke=\"black\" fill=\"white\" stroke-width=\"1\" /><text x=\"9516.797324218755\" y=\"575.0\" dominant-baseline=\"middle\" text-anchor=\"middle\" font-size=\"14px\">Z^qconv14</text><rect x=\"9581.811484375005\" y=\"605.0\" width=\"81.18890625000002\" height=\"40\" stroke=\"black\" fill=\"white\" stroke-width=\"1\" /><text x=\"9622.405937500005\" y=\"625.0\" dominant-baseline=\"middle\" text-anchor=\"middle\" font-size=\"14px\">X^qconv0</text><rect x=\"9683.000390625004\" y=\"605.0\" width=\"80.23296875\" height=\"40\" stroke=\"black\" fill=\"white\" stroke-width=\"1\" /><text x=\"9723.116875000003\" y=\"625.0\" dominant-baseline=\"middle\" text-anchor=\"middle\" font-size=\"14px\">Y^qconv1</text><rect x=\"9783.233359375005\" y=\"605.0\" width=\"80.50421875\" height=\"40\" stroke=\"black\" fill=\"white\" stroke-width=\"1\" /><text x=\"9823.485468750005\" y=\"625.0\" dominant-baseline=\"middle\" text-anchor=\"middle\" font-size=\"14px\">Z^qconv2</text><rect x=\"9883.737578125005\" y=\"655.0\" width=\"80.99640625\" height=\"40\" stroke=\"black\" fill=\"white\" stroke-width=\"1\" /><text x=\"9924.235781250005\" y=\"675.0\" dominant-baseline=\"middle\" text-anchor=\"middle\" font-size=\"14px\">X^qconv3</text><rect x=\"9984.733984375005\" y=\"655.0\" width=\"80.74046875\" height=\"40\" stroke=\"black\" fill=\"white\" stroke-width=\"1\" /><text x=\"10025.104218750004\" y=\"675.0\" dominant-baseline=\"middle\" text-anchor=\"middle\" font-size=\"14px\">Y^qconv4</text><rect x=\"10085.474453125005\" y=\"655.0\" width=\"80.68359375000001\" height=\"40\" stroke=\"black\" fill=\"white\" stroke-width=\"1\" /><text x=\"10125.816250000005\" y=\"675.0\" dominant-baseline=\"middle\" text-anchor=\"middle\" font-size=\"14px\">Z^qconv5</text><rect x=\"10186.158046875005\" y=\"605.0\" width=\"90.61566406250002\" height=\"40\" stroke=\"black\" fill=\"white\" stroke-width=\"1\" /><text x=\"10231.465878906256\" y=\"625.0\" dominant-baseline=\"middle\" text-anchor=\"middle\" font-size=\"14px\">ZZ</text><rect x=\"10186.158046875005\" y=\"655.0\" width=\"90.61566406250002\" height=\"40\" stroke=\"black\" fill=\"white\" stroke-width=\"1\" /><text x=\"10231.465878906256\" y=\"675.0\" dominant-baseline=\"middle\" text-anchor=\"middle\" font-size=\"14px\">ZZ^qconv6</text><rect x=\"10296.773710937505\" y=\"605.0\" width=\"88.88097656250001\" height=\"40\" stroke=\"black\" fill=\"white\" stroke-width=\"1\" /><text x=\"10341.214199218755\" y=\"625.0\" dominant-baseline=\"middle\" text-anchor=\"middle\" font-size=\"14px\">YY</text><rect x=\"10296.773710937505\" y=\"655.0\" width=\"88.88097656250001\" height=\"40\" stroke=\"black\" fill=\"white\" stroke-width=\"1\" /><text x=\"10341.214199218755\" y=\"675.0\" dominant-baseline=\"middle\" text-anchor=\"middle\" font-size=\"14px\">YY^qconv7</text><rect x=\"10405.654687500004\" y=\"605.0\" width=\"90.7512890625\" height=\"40\" stroke=\"black\" fill=\"white\" stroke-width=\"1\" /><text x=\"10451.030332031254\" y=\"625.0\" dominant-baseline=\"middle\" text-anchor=\"middle\" font-size=\"14px\">XX</text><rect x=\"10405.654687500004\" y=\"655.0\" width=\"90.7512890625\" height=\"40\" stroke=\"black\" fill=\"white\" stroke-width=\"1\" /><text x=\"10451.030332031254\" y=\"675.0\" dominant-baseline=\"middle\" text-anchor=\"middle\" font-size=\"14px\">XX^qconv8</text><rect x=\"10516.405976562504\" y=\"605.0\" width=\"81.13421875000002\" height=\"40\" stroke=\"black\" fill=\"white\" stroke-width=\"1\" /><text x=\"10556.973085937505\" y=\"625.0\" dominant-baseline=\"middle\" text-anchor=\"middle\" font-size=\"14px\">X^qconv9</text><rect x=\"10617.540195312504\" y=\"605.0\" width=\"89.50332031250001\" height=\"40\" stroke=\"black\" fill=\"white\" stroke-width=\"1\" /><text x=\"10662.291855468753\" y=\"625.0\" dominant-baseline=\"middle\" text-anchor=\"middle\" font-size=\"14px\">Y^qconv10</text><rect x=\"10727.043515625004\" y=\"605.0\" width=\"89.5208203125\" height=\"40\" stroke=\"black\" fill=\"white\" stroke-width=\"1\" /><text x=\"10771.803925781254\" y=\"625.0\" dominant-baseline=\"middle\" text-anchor=\"middle\" font-size=\"14px\">Z^qconv11</text><rect x=\"10836.564335937504\" y=\"655.0\" width=\"89.6236328125\" height=\"40\" stroke=\"black\" fill=\"white\" stroke-width=\"1\" /><text x=\"10881.376152343755\" y=\"675.0\" dominant-baseline=\"middle\" text-anchor=\"middle\" font-size=\"14px\">X^qconv12</text><rect x=\"10946.187968750004\" y=\"655.0\" width=\"89.3108203125\" height=\"40\" stroke=\"black\" fill=\"white\" stroke-width=\"1\" /><text x=\"10990.843378906255\" y=\"675.0\" dominant-baseline=\"middle\" text-anchor=\"middle\" font-size=\"14px\">Y^qconv13</text><rect x=\"11055.498789062503\" y=\"655.0\" width=\"90.02832031250001\" height=\"40\" stroke=\"black\" fill=\"white\" stroke-width=\"1\" /><text x=\"11100.512949218753\" y=\"675.0\" dominant-baseline=\"middle\" text-anchor=\"middle\" font-size=\"14px\">Z^qconv14</text><rect x=\"11165.527109375003\" y=\"705.0\" width=\"81.18890625000002\" height=\"40\" stroke=\"black\" fill=\"white\" stroke-width=\"1\" /><text x=\"11206.121562500004\" y=\"725.0\" dominant-baseline=\"middle\" text-anchor=\"middle\" font-size=\"14px\">X^qconv0</text><rect x=\"11266.716015625003\" y=\"705.0\" width=\"80.23296875\" height=\"40\" stroke=\"black\" fill=\"white\" stroke-width=\"1\" /><text x=\"11306.832500000002\" y=\"725.0\" dominant-baseline=\"middle\" text-anchor=\"middle\" font-size=\"14px\">Y^qconv1</text><rect x=\"11366.948984375003\" y=\"705.0\" width=\"80.50421875\" height=\"40\" stroke=\"black\" fill=\"white\" stroke-width=\"1\" /><text x=\"11407.201093750004\" y=\"725.0\" dominant-baseline=\"middle\" text-anchor=\"middle\" font-size=\"14px\">Z^qconv2</text><rect x=\"11467.453203125004\" y=\"755.0\" width=\"80.99640625\" height=\"40\" stroke=\"black\" fill=\"white\" stroke-width=\"1\" /><text x=\"11507.951406250004\" y=\"775.0\" dominant-baseline=\"middle\" text-anchor=\"middle\" font-size=\"14px\">X^qconv3</text><rect x=\"11568.449609375004\" y=\"755.0\" width=\"80.74046875\" height=\"40\" stroke=\"black\" fill=\"white\" stroke-width=\"1\" /><text x=\"11608.819843750003\" y=\"775.0\" dominant-baseline=\"middle\" text-anchor=\"middle\" font-size=\"14px\">Y^qconv4</text><rect x=\"11669.190078125004\" y=\"755.0\" width=\"80.68359375000001\" height=\"40\" stroke=\"black\" fill=\"white\" stroke-width=\"1\" /><text x=\"11709.531875000004\" y=\"775.0\" dominant-baseline=\"middle\" text-anchor=\"middle\" font-size=\"14px\">Z^qconv5</text><rect x=\"11769.873671875004\" y=\"705.0\" width=\"90.61566406250002\" height=\"40\" stroke=\"black\" fill=\"white\" stroke-width=\"1\" /><text x=\"11815.181503906255\" y=\"725.0\" dominant-baseline=\"middle\" text-anchor=\"middle\" font-size=\"14px\">ZZ</text><rect x=\"11769.873671875004\" y=\"755.0\" width=\"90.61566406250002\" height=\"40\" stroke=\"black\" fill=\"white\" stroke-width=\"1\" /><text x=\"11815.181503906255\" y=\"775.0\" dominant-baseline=\"middle\" text-anchor=\"middle\" font-size=\"14px\">ZZ^qconv6</text><rect x=\"11880.489335937504\" y=\"705.0\" width=\"88.88097656250001\" height=\"40\" stroke=\"black\" fill=\"white\" stroke-width=\"1\" /><text x=\"11924.929824218754\" y=\"725.0\" dominant-baseline=\"middle\" text-anchor=\"middle\" font-size=\"14px\">YY</text><rect x=\"11880.489335937504\" y=\"755.0\" width=\"88.88097656250001\" height=\"40\" stroke=\"black\" fill=\"white\" stroke-width=\"1\" /><text x=\"11924.929824218754\" y=\"775.0\" dominant-baseline=\"middle\" text-anchor=\"middle\" font-size=\"14px\">YY^qconv7</text><rect x=\"11989.370312500003\" y=\"705.0\" width=\"90.7512890625\" height=\"40\" stroke=\"black\" fill=\"white\" stroke-width=\"1\" /><text x=\"12034.745957031253\" y=\"725.0\" dominant-baseline=\"middle\" text-anchor=\"middle\" font-size=\"14px\">XX</text><rect x=\"11989.370312500003\" y=\"755.0\" width=\"90.7512890625\" height=\"40\" stroke=\"black\" fill=\"white\" stroke-width=\"1\" /><text x=\"12034.745957031253\" y=\"775.0\" dominant-baseline=\"middle\" text-anchor=\"middle\" font-size=\"14px\">XX^qconv8</text><rect x=\"12100.121601562503\" y=\"705.0\" width=\"81.13421875000002\" height=\"40\" stroke=\"black\" fill=\"white\" stroke-width=\"1\" /><text x=\"12140.688710937504\" y=\"725.0\" dominant-baseline=\"middle\" text-anchor=\"middle\" font-size=\"14px\">X^qconv9</text><rect x=\"12201.255820312503\" y=\"705.0\" width=\"89.50332031250001\" height=\"40\" stroke=\"black\" fill=\"white\" stroke-width=\"1\" /><text x=\"12246.007480468752\" y=\"725.0\" dominant-baseline=\"middle\" text-anchor=\"middle\" font-size=\"14px\">Y^qconv10</text><rect x=\"12310.759140625003\" y=\"705.0\" width=\"89.5208203125\" height=\"40\" stroke=\"black\" fill=\"white\" stroke-width=\"1\" /><text x=\"12355.519550781253\" y=\"725.0\" dominant-baseline=\"middle\" text-anchor=\"middle\" font-size=\"14px\">Z^qconv11</text><rect x=\"12420.279960937503\" y=\"755.0\" width=\"89.6236328125\" height=\"40\" stroke=\"black\" fill=\"white\" stroke-width=\"1\" /><text x=\"12465.091777343754\" y=\"775.0\" dominant-baseline=\"middle\" text-anchor=\"middle\" font-size=\"14px\">X^qconv12</text><rect x=\"12529.903593750003\" y=\"755.0\" width=\"89.3108203125\" height=\"40\" stroke=\"black\" fill=\"white\" stroke-width=\"1\" /><text x=\"12574.559003906254\" y=\"775.0\" dominant-baseline=\"middle\" text-anchor=\"middle\" font-size=\"14px\">Y^qconv13</text><rect x=\"12639.214414062502\" y=\"755.0\" width=\"90.02832031250001\" height=\"40\" stroke=\"black\" fill=\"white\" stroke-width=\"1\" /><text x=\"12684.228574218752\" y=\"775.0\" dominant-baseline=\"middle\" text-anchor=\"middle\" font-size=\"14px\">Z^qconv14</text><rect x=\"12749.242734375002\" y=\"55.0\" width=\"81.18890625000002\" height=\"40\" stroke=\"black\" fill=\"white\" stroke-width=\"1\" /><text x=\"12789.837187500003\" y=\"75.0\" dominant-baseline=\"middle\" text-anchor=\"middle\" font-size=\"14px\">X^qconv0</text><rect x=\"12850.431640625002\" y=\"55.0\" width=\"80.23296875\" height=\"40\" stroke=\"black\" fill=\"white\" stroke-width=\"1\" /><text x=\"12890.548125000001\" y=\"75.0\" dominant-baseline=\"middle\" text-anchor=\"middle\" font-size=\"14px\">Y^qconv1</text><rect x=\"12950.664609375002\" y=\"55.0\" width=\"80.50421875\" height=\"40\" stroke=\"black\" fill=\"white\" stroke-width=\"1\" /><text x=\"12990.916718750002\" y=\"75.0\" dominant-baseline=\"middle\" text-anchor=\"middle\" font-size=\"14px\">Z^qconv2</text><rect x=\"13051.168828125003\" y=\"105.0\" width=\"80.99640625\" height=\"40\" stroke=\"black\" fill=\"white\" stroke-width=\"1\" /><text x=\"13091.667031250003\" y=\"125.0\" dominant-baseline=\"middle\" text-anchor=\"middle\" font-size=\"14px\">X^qconv3</text><rect x=\"13152.165234375003\" y=\"105.0\" width=\"80.74046875\" height=\"40\" stroke=\"black\" fill=\"white\" stroke-width=\"1\" /><text x=\"13192.535468750002\" y=\"125.0\" dominant-baseline=\"middle\" text-anchor=\"middle\" font-size=\"14px\">Y^qconv4</text><rect x=\"13252.905703125003\" y=\"105.0\" width=\"80.68359375000001\" height=\"40\" stroke=\"black\" fill=\"white\" stroke-width=\"1\" /><text x=\"13293.247500000003\" y=\"125.0\" dominant-baseline=\"middle\" text-anchor=\"middle\" font-size=\"14px\">Z^qconv5</text><rect x=\"13353.589296875003\" y=\"55.0\" width=\"90.61566406250002\" height=\"40\" stroke=\"black\" fill=\"white\" stroke-width=\"1\" /><text x=\"13398.897128906254\" y=\"75.0\" dominant-baseline=\"middle\" text-anchor=\"middle\" font-size=\"14px\">ZZ</text><rect x=\"13353.589296875003\" y=\"105.0\" width=\"90.61566406250002\" height=\"40\" stroke=\"black\" fill=\"white\" stroke-width=\"1\" /><text x=\"13398.897128906254\" y=\"125.0\" dominant-baseline=\"middle\" text-anchor=\"middle\" font-size=\"14px\">ZZ^qconv6</text><rect x=\"13464.204960937503\" y=\"55.0\" width=\"88.88097656250001\" height=\"40\" stroke=\"black\" fill=\"white\" stroke-width=\"1\" /><text x=\"13508.645449218753\" y=\"75.0\" dominant-baseline=\"middle\" text-anchor=\"middle\" font-size=\"14px\">YY</text><rect x=\"13464.204960937503\" y=\"105.0\" width=\"88.88097656250001\" height=\"40\" stroke=\"black\" fill=\"white\" stroke-width=\"1\" /><text x=\"13508.645449218753\" y=\"125.0\" dominant-baseline=\"middle\" text-anchor=\"middle\" font-size=\"14px\">YY^qconv7</text><rect x=\"13573.085937500002\" y=\"55.0\" width=\"90.7512890625\" height=\"40\" stroke=\"black\" fill=\"white\" stroke-width=\"1\" /><text x=\"13618.461582031252\" y=\"75.0\" dominant-baseline=\"middle\" text-anchor=\"middle\" font-size=\"14px\">XX</text><rect x=\"13573.085937500002\" y=\"105.0\" width=\"90.7512890625\" height=\"40\" stroke=\"black\" fill=\"white\" stroke-width=\"1\" /><text x=\"13618.461582031252\" y=\"125.0\" dominant-baseline=\"middle\" text-anchor=\"middle\" font-size=\"14px\">XX^qconv8</text><rect x=\"13683.837226562502\" y=\"55.0\" width=\"81.13421875000002\" height=\"40\" stroke=\"black\" fill=\"white\" stroke-width=\"1\" /><text x=\"13724.404335937503\" y=\"75.0\" dominant-baseline=\"middle\" text-anchor=\"middle\" font-size=\"14px\">X^qconv9</text><rect x=\"13784.971445312502\" y=\"55.0\" width=\"89.50332031250001\" height=\"40\" stroke=\"black\" fill=\"white\" stroke-width=\"1\" /><text x=\"13829.72310546875\" y=\"75.0\" dominant-baseline=\"middle\" text-anchor=\"middle\" font-size=\"14px\">Y^qconv10</text><rect x=\"13894.474765625002\" y=\"55.0\" width=\"89.5208203125\" height=\"40\" stroke=\"black\" fill=\"white\" stroke-width=\"1\" /><text x=\"13939.235175781252\" y=\"75.0\" dominant-baseline=\"middle\" text-anchor=\"middle\" font-size=\"14px\">Z^qconv11</text><rect x=\"14003.995585937502\" y=\"105.0\" width=\"89.6236328125\" height=\"40\" stroke=\"black\" fill=\"white\" stroke-width=\"1\" /><text x=\"14048.807402343753\" y=\"125.0\" dominant-baseline=\"middle\" text-anchor=\"middle\" font-size=\"14px\">X^qconv12</text><rect x=\"14113.619218750002\" y=\"105.0\" width=\"89.3108203125\" height=\"40\" stroke=\"black\" fill=\"white\" stroke-width=\"1\" /><text x=\"14158.274628906252\" y=\"125.0\" dominant-baseline=\"middle\" text-anchor=\"middle\" font-size=\"14px\">Y^qconv13</text><rect x=\"14222.930039062501\" y=\"105.0\" width=\"90.02832031250001\" height=\"40\" stroke=\"black\" fill=\"white\" stroke-width=\"1\" /><text x=\"14267.944199218751\" y=\"125.0\" dominant-baseline=\"middle\" text-anchor=\"middle\" font-size=\"14px\">Z^qconv14</text><rect x=\"14332.958359375001\" y=\"155.0\" width=\"81.18890625000002\" height=\"40\" stroke=\"black\" fill=\"white\" stroke-width=\"1\" /><text x=\"14373.552812500002\" y=\"175.0\" dominant-baseline=\"middle\" text-anchor=\"middle\" font-size=\"14px\">X^qconv0</text><rect x=\"14434.147265625\" y=\"155.0\" width=\"80.23296875\" height=\"40\" stroke=\"black\" fill=\"white\" stroke-width=\"1\" /><text x=\"14474.26375\" y=\"175.0\" dominant-baseline=\"middle\" text-anchor=\"middle\" font-size=\"14px\">Y^qconv1</text><rect x=\"14534.380234375001\" y=\"155.0\" width=\"80.50421875\" height=\"40\" stroke=\"black\" fill=\"white\" stroke-width=\"1\" /><text x=\"14574.632343750001\" y=\"175.0\" dominant-baseline=\"middle\" text-anchor=\"middle\" font-size=\"14px\">Z^qconv2</text><rect x=\"14634.884453125002\" y=\"205.0\" width=\"80.99640625\" height=\"40\" stroke=\"black\" fill=\"white\" stroke-width=\"1\" /><text x=\"14675.382656250002\" y=\"225.0\" dominant-baseline=\"middle\" text-anchor=\"middle\" font-size=\"14px\">X^qconv3</text><rect x=\"14735.880859375002\" y=\"205.0\" width=\"80.74046875\" height=\"40\" stroke=\"black\" fill=\"white\" stroke-width=\"1\" /><text x=\"14776.251093750001\" y=\"225.0\" dominant-baseline=\"middle\" text-anchor=\"middle\" font-size=\"14px\">Y^qconv4</text><rect x=\"14836.621328125002\" y=\"205.0\" width=\"80.68359375000001\" height=\"40\" stroke=\"black\" fill=\"white\" stroke-width=\"1\" /><text x=\"14876.963125000002\" y=\"225.0\" dominant-baseline=\"middle\" text-anchor=\"middle\" font-size=\"14px\">Z^qconv5</text><rect x=\"14937.304921875002\" y=\"155.0\" width=\"90.61566406250002\" height=\"40\" stroke=\"black\" fill=\"white\" stroke-width=\"1\" /><text x=\"14982.612753906253\" y=\"175.0\" dominant-baseline=\"middle\" text-anchor=\"middle\" font-size=\"14px\">ZZ</text><rect x=\"14937.304921875002\" y=\"205.0\" width=\"90.61566406250002\" height=\"40\" stroke=\"black\" fill=\"white\" stroke-width=\"1\" /><text x=\"14982.612753906253\" y=\"225.0\" dominant-baseline=\"middle\" text-anchor=\"middle\" font-size=\"14px\">ZZ^qconv6</text><rect x=\"15047.920585937502\" y=\"155.0\" width=\"88.88097656250001\" height=\"40\" stroke=\"black\" fill=\"white\" stroke-width=\"1\" /><text x=\"15092.361074218752\" y=\"175.0\" dominant-baseline=\"middle\" text-anchor=\"middle\" font-size=\"14px\">YY</text><rect x=\"15047.920585937502\" y=\"205.0\" width=\"88.88097656250001\" height=\"40\" stroke=\"black\" fill=\"white\" stroke-width=\"1\" /><text x=\"15092.361074218752\" y=\"225.0\" dominant-baseline=\"middle\" text-anchor=\"middle\" font-size=\"14px\">YY^qconv7</text><rect x=\"15156.8015625\" y=\"155.0\" width=\"90.7512890625\" height=\"40\" stroke=\"black\" fill=\"white\" stroke-width=\"1\" /><text x=\"15202.17720703125\" y=\"175.0\" dominant-baseline=\"middle\" text-anchor=\"middle\" font-size=\"14px\">XX</text><rect x=\"15156.8015625\" y=\"205.0\" width=\"90.7512890625\" height=\"40\" stroke=\"black\" fill=\"white\" stroke-width=\"1\" /><text x=\"15202.17720703125\" y=\"225.0\" dominant-baseline=\"middle\" text-anchor=\"middle\" font-size=\"14px\">XX^qconv8</text><rect x=\"15267.552851562501\" y=\"155.0\" width=\"81.13421875000002\" height=\"40\" stroke=\"black\" fill=\"white\" stroke-width=\"1\" /><text x=\"15308.119960937502\" y=\"175.0\" dominant-baseline=\"middle\" text-anchor=\"middle\" font-size=\"14px\">X^qconv9</text><rect x=\"15368.6870703125\" y=\"155.0\" width=\"89.50332031250001\" height=\"40\" stroke=\"black\" fill=\"white\" stroke-width=\"1\" /><text x=\"15413.43873046875\" y=\"175.0\" dominant-baseline=\"middle\" text-anchor=\"middle\" font-size=\"14px\">Y^qconv10</text><rect x=\"15478.190390625\" y=\"155.0\" width=\"89.5208203125\" height=\"40\" stroke=\"black\" fill=\"white\" stroke-width=\"1\" /><text x=\"15522.950800781251\" y=\"175.0\" dominant-baseline=\"middle\" text-anchor=\"middle\" font-size=\"14px\">Z^qconv11</text><rect x=\"15587.711210937501\" y=\"205.0\" width=\"89.6236328125\" height=\"40\" stroke=\"black\" fill=\"white\" stroke-width=\"1\" /><text x=\"15632.523027343752\" y=\"225.0\" dominant-baseline=\"middle\" text-anchor=\"middle\" font-size=\"14px\">X^qconv12</text><rect x=\"15697.33484375\" y=\"205.0\" width=\"89.3108203125\" height=\"40\" stroke=\"black\" fill=\"white\" stroke-width=\"1\" /><text x=\"15741.990253906251\" y=\"225.0\" dominant-baseline=\"middle\" text-anchor=\"middle\" font-size=\"14px\">Y^qconv13</text><rect x=\"15806.6456640625\" y=\"205.0\" width=\"90.02832031250001\" height=\"40\" stroke=\"black\" fill=\"white\" stroke-width=\"1\" /><text x=\"15851.65982421875\" y=\"225.0\" dominant-baseline=\"middle\" text-anchor=\"middle\" font-size=\"14px\">Z^qconv14</text><rect x=\"15916.673984375\" y=\"255.0\" width=\"81.18890625000002\" height=\"40\" stroke=\"black\" fill=\"white\" stroke-width=\"1\" /><text x=\"15957.2684375\" y=\"275.0\" dominant-baseline=\"middle\" text-anchor=\"middle\" font-size=\"14px\">X^qconv0</text><rect x=\"16017.862890625\" y=\"255.0\" width=\"80.23296875\" height=\"40\" stroke=\"black\" fill=\"white\" stroke-width=\"1\" /><text x=\"16057.979374999999\" y=\"275.0\" dominant-baseline=\"middle\" text-anchor=\"middle\" font-size=\"14px\">Y^qconv1</text><rect x=\"16118.095859375\" y=\"255.0\" width=\"80.50421875\" height=\"40\" stroke=\"black\" fill=\"white\" stroke-width=\"1\" /><text x=\"16158.34796875\" y=\"275.0\" dominant-baseline=\"middle\" text-anchor=\"middle\" font-size=\"14px\">Z^qconv2</text><rect x=\"16218.600078125\" y=\"305.0\" width=\"80.99640625\" height=\"40\" stroke=\"black\" fill=\"white\" stroke-width=\"1\" /><text x=\"16259.09828125\" y=\"325.0\" dominant-baseline=\"middle\" text-anchor=\"middle\" font-size=\"14px\">X^qconv3</text><rect x=\"16319.596484375\" y=\"305.0\" width=\"80.74046875\" height=\"40\" stroke=\"black\" fill=\"white\" stroke-width=\"1\" /><text x=\"16359.96671875\" y=\"325.0\" dominant-baseline=\"middle\" text-anchor=\"middle\" font-size=\"14px\">Y^qconv4</text><rect x=\"16420.336953125\" y=\"305.0\" width=\"80.68359375000001\" height=\"40\" stroke=\"black\" fill=\"white\" stroke-width=\"1\" /><text x=\"16460.67875\" y=\"325.0\" dominant-baseline=\"middle\" text-anchor=\"middle\" font-size=\"14px\">Z^qconv5</text><rect x=\"16521.020546875\" y=\"255.0\" width=\"90.61566406250002\" height=\"40\" stroke=\"black\" fill=\"white\" stroke-width=\"1\" /><text x=\"16566.328378906248\" y=\"275.0\" dominant-baseline=\"middle\" text-anchor=\"middle\" font-size=\"14px\">ZZ</text><rect x=\"16521.020546875\" y=\"305.0\" width=\"90.61566406250002\" height=\"40\" stroke=\"black\" fill=\"white\" stroke-width=\"1\" /><text x=\"16566.328378906248\" y=\"325.0\" dominant-baseline=\"middle\" text-anchor=\"middle\" font-size=\"14px\">ZZ^qconv6</text><rect x=\"16631.6362109375\" y=\"255.0\" width=\"88.88097656250001\" height=\"40\" stroke=\"black\" fill=\"white\" stroke-width=\"1\" /><text x=\"16676.07669921875\" y=\"275.0\" dominant-baseline=\"middle\" text-anchor=\"middle\" font-size=\"14px\">YY</text><rect x=\"16631.6362109375\" y=\"305.0\" width=\"88.88097656250001\" height=\"40\" stroke=\"black\" fill=\"white\" stroke-width=\"1\" /><text x=\"16676.07669921875\" y=\"325.0\" dominant-baseline=\"middle\" text-anchor=\"middle\" font-size=\"14px\">YY^qconv7</text><rect x=\"16740.5171875\" y=\"255.0\" width=\"90.7512890625\" height=\"40\" stroke=\"black\" fill=\"white\" stroke-width=\"1\" /><text x=\"16785.89283203125\" y=\"275.0\" dominant-baseline=\"middle\" text-anchor=\"middle\" font-size=\"14px\">XX</text><rect x=\"16740.5171875\" y=\"305.0\" width=\"90.7512890625\" height=\"40\" stroke=\"black\" fill=\"white\" stroke-width=\"1\" /><text x=\"16785.89283203125\" y=\"325.0\" dominant-baseline=\"middle\" text-anchor=\"middle\" font-size=\"14px\">XX^qconv8</text><rect x=\"16851.2684765625\" y=\"255.0\" width=\"81.13421875000002\" height=\"40\" stroke=\"black\" fill=\"white\" stroke-width=\"1\" /><text x=\"16891.8355859375\" y=\"275.0\" dominant-baseline=\"middle\" text-anchor=\"middle\" font-size=\"14px\">X^qconv9</text><rect x=\"16952.402695312503\" y=\"255.0\" width=\"89.50332031250001\" height=\"40\" stroke=\"black\" fill=\"white\" stroke-width=\"1\" /><text x=\"16997.154355468752\" y=\"275.0\" dominant-baseline=\"middle\" text-anchor=\"middle\" font-size=\"14px\">Y^qconv10</text><rect x=\"17061.906015625\" y=\"255.0\" width=\"89.5208203125\" height=\"40\" stroke=\"black\" fill=\"white\" stroke-width=\"1\" /><text x=\"17106.66642578125\" y=\"275.0\" dominant-baseline=\"middle\" text-anchor=\"middle\" font-size=\"14px\">Z^qconv11</text><rect x=\"17171.426835937502\" y=\"305.0\" width=\"89.6236328125\" height=\"40\" stroke=\"black\" fill=\"white\" stroke-width=\"1\" /><text x=\"17216.238652343753\" y=\"325.0\" dominant-baseline=\"middle\" text-anchor=\"middle\" font-size=\"14px\">X^qconv12</text><rect x=\"17281.050468750003\" y=\"305.0\" width=\"89.3108203125\" height=\"40\" stroke=\"black\" fill=\"white\" stroke-width=\"1\" /><text x=\"17325.705878906254\" y=\"325.0\" dominant-baseline=\"middle\" text-anchor=\"middle\" font-size=\"14px\">Y^qconv13</text><rect x=\"17390.361289062505\" y=\"305.0\" width=\"90.02832031250001\" height=\"40\" stroke=\"black\" fill=\"white\" stroke-width=\"1\" /><text x=\"17435.375449218755\" y=\"325.0\" dominant-baseline=\"middle\" text-anchor=\"middle\" font-size=\"14px\">Z^qconv14</text><rect x=\"17500.389609375005\" y=\"355.0\" width=\"81.18890625000002\" height=\"40\" stroke=\"black\" fill=\"white\" stroke-width=\"1\" /><text x=\"17540.984062500003\" y=\"375.0\" dominant-baseline=\"middle\" text-anchor=\"middle\" font-size=\"14px\">X^qconv0</text><rect x=\"17601.578515625006\" y=\"355.0\" width=\"80.23296875\" height=\"40\" stroke=\"black\" fill=\"white\" stroke-width=\"1\" /><text x=\"17641.695000000007\" y=\"375.0\" dominant-baseline=\"middle\" text-anchor=\"middle\" font-size=\"14px\">Y^qconv1</text><rect x=\"17701.811484375005\" y=\"355.0\" width=\"80.50421875\" height=\"40\" stroke=\"black\" fill=\"white\" stroke-width=\"1\" /><text x=\"17742.063593750005\" y=\"375.0\" dominant-baseline=\"middle\" text-anchor=\"middle\" font-size=\"14px\">Z^qconv2</text><rect x=\"17802.315703125005\" y=\"405.0\" width=\"80.99640625\" height=\"40\" stroke=\"black\" fill=\"white\" stroke-width=\"1\" /><text x=\"17842.813906250005\" y=\"425.0\" dominant-baseline=\"middle\" text-anchor=\"middle\" font-size=\"14px\">X^qconv3</text><rect x=\"17903.312109375005\" y=\"405.0\" width=\"80.74046875\" height=\"40\" stroke=\"black\" fill=\"white\" stroke-width=\"1\" /><text x=\"17943.682343750006\" y=\"425.0\" dominant-baseline=\"middle\" text-anchor=\"middle\" font-size=\"14px\">Y^qconv4</text><rect x=\"18004.052578125003\" y=\"405.0\" width=\"80.68359375000001\" height=\"40\" stroke=\"black\" fill=\"white\" stroke-width=\"1\" /><text x=\"18044.394375000003\" y=\"425.0\" dominant-baseline=\"middle\" text-anchor=\"middle\" font-size=\"14px\">Z^qconv5</text><rect x=\"18104.736171875003\" y=\"355.0\" width=\"90.61566406250002\" height=\"40\" stroke=\"black\" fill=\"white\" stroke-width=\"1\" /><text x=\"18150.044003906252\" y=\"375.0\" dominant-baseline=\"middle\" text-anchor=\"middle\" font-size=\"14px\">ZZ</text><rect x=\"18104.736171875003\" y=\"405.0\" width=\"90.61566406250002\" height=\"40\" stroke=\"black\" fill=\"white\" stroke-width=\"1\" /><text x=\"18150.044003906252\" y=\"425.0\" dominant-baseline=\"middle\" text-anchor=\"middle\" font-size=\"14px\">ZZ^qconv6</text><rect x=\"18215.351835937505\" y=\"355.0\" width=\"88.88097656250001\" height=\"40\" stroke=\"black\" fill=\"white\" stroke-width=\"1\" /><text x=\"18259.792324218753\" y=\"375.0\" dominant-baseline=\"middle\" text-anchor=\"middle\" font-size=\"14px\">YY</text><rect x=\"18215.351835937505\" y=\"405.0\" width=\"88.88097656250001\" height=\"40\" stroke=\"black\" fill=\"white\" stroke-width=\"1\" /><text x=\"18259.792324218753\" y=\"425.0\" dominant-baseline=\"middle\" text-anchor=\"middle\" font-size=\"14px\">YY^qconv7</text><rect x=\"18324.232812500006\" y=\"355.0\" width=\"90.7512890625\" height=\"40\" stroke=\"black\" fill=\"white\" stroke-width=\"1\" /><text x=\"18369.608457031256\" y=\"375.0\" dominant-baseline=\"middle\" text-anchor=\"middle\" font-size=\"14px\">XX</text><rect x=\"18324.232812500006\" y=\"405.0\" width=\"90.7512890625\" height=\"40\" stroke=\"black\" fill=\"white\" stroke-width=\"1\" /><text x=\"18369.608457031256\" y=\"425.0\" dominant-baseline=\"middle\" text-anchor=\"middle\" font-size=\"14px\">XX^qconv8</text><rect x=\"18434.984101562506\" y=\"355.0\" width=\"81.13421875000002\" height=\"40\" stroke=\"black\" fill=\"white\" stroke-width=\"1\" /><text x=\"18475.551210937505\" y=\"375.0\" dominant-baseline=\"middle\" text-anchor=\"middle\" font-size=\"14px\">X^qconv9</text><rect x=\"18536.118320312507\" y=\"355.0\" width=\"89.50332031250001\" height=\"40\" stroke=\"black\" fill=\"white\" stroke-width=\"1\" /><text x=\"18580.869980468757\" y=\"375.0\" dominant-baseline=\"middle\" text-anchor=\"middle\" font-size=\"14px\">Y^qconv10</text><rect x=\"18645.621640625006\" y=\"355.0\" width=\"89.5208203125\" height=\"40\" stroke=\"black\" fill=\"white\" stroke-width=\"1\" /><text x=\"18690.382050781256\" y=\"375.0\" dominant-baseline=\"middle\" text-anchor=\"middle\" font-size=\"14px\">Z^qconv11</text><rect x=\"18755.142460937506\" y=\"405.0\" width=\"89.6236328125\" height=\"40\" stroke=\"black\" fill=\"white\" stroke-width=\"1\" /><text x=\"18799.954277343757\" y=\"425.0\" dominant-baseline=\"middle\" text-anchor=\"middle\" font-size=\"14px\">X^qconv12</text><rect x=\"18864.766093750008\" y=\"405.0\" width=\"89.3108203125\" height=\"40\" stroke=\"black\" fill=\"white\" stroke-width=\"1\" /><text x=\"18909.42150390626\" y=\"425.0\" dominant-baseline=\"middle\" text-anchor=\"middle\" font-size=\"14px\">Y^qconv13</text><rect x=\"18974.07691406251\" y=\"405.0\" width=\"90.02832031250001\" height=\"40\" stroke=\"black\" fill=\"white\" stroke-width=\"1\" /><text x=\"19019.09107421876\" y=\"425.0\" dominant-baseline=\"middle\" text-anchor=\"middle\" font-size=\"14px\">Z^qconv14</text><rect x=\"19084.10523437501\" y=\"455.0\" width=\"81.18890625000002\" height=\"40\" stroke=\"black\" fill=\"white\" stroke-width=\"1\" /><text x=\"19124.699687500008\" y=\"475.0\" dominant-baseline=\"middle\" text-anchor=\"middle\" font-size=\"14px\">X^qconv0</text><rect x=\"19185.29414062501\" y=\"455.0\" width=\"80.23296875\" height=\"40\" stroke=\"black\" fill=\"white\" stroke-width=\"1\" /><text x=\"19225.41062500001\" y=\"475.0\" dominant-baseline=\"middle\" text-anchor=\"middle\" font-size=\"14px\">Y^qconv1</text><rect x=\"19285.52710937501\" y=\"455.0\" width=\"80.50421875\" height=\"40\" stroke=\"black\" fill=\"white\" stroke-width=\"1\" /><text x=\"19325.77921875001\" y=\"475.0\" dominant-baseline=\"middle\" text-anchor=\"middle\" font-size=\"14px\">Z^qconv2</text><rect x=\"19386.03132812501\" y=\"505.0\" width=\"80.99640625\" height=\"40\" stroke=\"black\" fill=\"white\" stroke-width=\"1\" /><text x=\"19426.52953125001\" y=\"525.0\" dominant-baseline=\"middle\" text-anchor=\"middle\" font-size=\"14px\">X^qconv3</text><rect x=\"19487.02773437501\" y=\"505.0\" width=\"80.74046875\" height=\"40\" stroke=\"black\" fill=\"white\" stroke-width=\"1\" /><text x=\"19527.39796875001\" y=\"525.0\" dominant-baseline=\"middle\" text-anchor=\"middle\" font-size=\"14px\">Y^qconv4</text><rect x=\"19587.768203125008\" y=\"505.0\" width=\"80.68359375000001\" height=\"40\" stroke=\"black\" fill=\"white\" stroke-width=\"1\" /><text x=\"19628.110000000008\" y=\"525.0\" dominant-baseline=\"middle\" text-anchor=\"middle\" font-size=\"14px\">Z^qconv5</text><rect x=\"19688.451796875008\" y=\"455.0\" width=\"90.61566406250002\" height=\"40\" stroke=\"black\" fill=\"white\" stroke-width=\"1\" /><text x=\"19733.759628906257\" y=\"475.0\" dominant-baseline=\"middle\" text-anchor=\"middle\" font-size=\"14px\">ZZ</text><rect x=\"19688.451796875008\" y=\"505.0\" width=\"90.61566406250002\" height=\"40\" stroke=\"black\" fill=\"white\" stroke-width=\"1\" /><text x=\"19733.759628906257\" y=\"525.0\" dominant-baseline=\"middle\" text-anchor=\"middle\" font-size=\"14px\">ZZ^qconv6</text><rect x=\"19799.06746093751\" y=\"455.0\" width=\"88.88097656250001\" height=\"40\" stroke=\"black\" fill=\"white\" stroke-width=\"1\" /><text x=\"19843.507949218758\" y=\"475.0\" dominant-baseline=\"middle\" text-anchor=\"middle\" font-size=\"14px\">YY</text><rect x=\"19799.06746093751\" y=\"505.0\" width=\"88.88097656250001\" height=\"40\" stroke=\"black\" fill=\"white\" stroke-width=\"1\" /><text x=\"19843.507949218758\" y=\"525.0\" dominant-baseline=\"middle\" text-anchor=\"middle\" font-size=\"14px\">YY^qconv7</text><rect x=\"19907.94843750001\" y=\"455.0\" width=\"90.7512890625\" height=\"40\" stroke=\"black\" fill=\"white\" stroke-width=\"1\" /><text x=\"19953.32408203126\" y=\"475.0\" dominant-baseline=\"middle\" text-anchor=\"middle\" font-size=\"14px\">XX</text><rect x=\"19907.94843750001\" y=\"505.0\" width=\"90.7512890625\" height=\"40\" stroke=\"black\" fill=\"white\" stroke-width=\"1\" /><text x=\"19953.32408203126\" y=\"525.0\" dominant-baseline=\"middle\" text-anchor=\"middle\" font-size=\"14px\">XX^qconv8</text><rect x=\"20018.69972656251\" y=\"455.0\" width=\"81.13421875000002\" height=\"40\" stroke=\"black\" fill=\"white\" stroke-width=\"1\" /><text x=\"20059.26683593751\" y=\"475.0\" dominant-baseline=\"middle\" text-anchor=\"middle\" font-size=\"14px\">X^qconv9</text><rect x=\"20119.83394531251\" y=\"455.0\" width=\"89.50332031250001\" height=\"40\" stroke=\"black\" fill=\"white\" stroke-width=\"1\" /><text x=\"20164.58560546876\" y=\"475.0\" dominant-baseline=\"middle\" text-anchor=\"middle\" font-size=\"14px\">Y^qconv10</text><rect x=\"20229.33726562501\" y=\"455.0\" width=\"89.5208203125\" height=\"40\" stroke=\"black\" fill=\"white\" stroke-width=\"1\" /><text x=\"20274.09767578126\" y=\"475.0\" dominant-baseline=\"middle\" text-anchor=\"middle\" font-size=\"14px\">Z^qconv11</text><rect x=\"20338.85808593751\" y=\"505.0\" width=\"89.6236328125\" height=\"40\" stroke=\"black\" fill=\"white\" stroke-width=\"1\" /><text x=\"20383.66990234376\" y=\"525.0\" dominant-baseline=\"middle\" text-anchor=\"middle\" font-size=\"14px\">X^qconv12</text><rect x=\"20448.481718750012\" y=\"505.0\" width=\"89.3108203125\" height=\"40\" stroke=\"black\" fill=\"white\" stroke-width=\"1\" /><text x=\"20493.137128906263\" y=\"525.0\" dominant-baseline=\"middle\" text-anchor=\"middle\" font-size=\"14px\">Y^qconv13</text><rect x=\"20557.792539062513\" y=\"505.0\" width=\"90.02832031250001\" height=\"40\" stroke=\"black\" fill=\"white\" stroke-width=\"1\" /><text x=\"20602.806699218763\" y=\"525.0\" dominant-baseline=\"middle\" text-anchor=\"middle\" font-size=\"14px\">Z^qconv14</text><rect x=\"20667.820859375013\" y=\"555.0\" width=\"81.18890625000002\" height=\"40\" stroke=\"black\" fill=\"white\" stroke-width=\"1\" /><text x=\"20708.415312500012\" y=\"575.0\" dominant-baseline=\"middle\" text-anchor=\"middle\" font-size=\"14px\">X^qconv0</text><rect x=\"20769.009765625015\" y=\"555.0\" width=\"80.23296875\" height=\"40\" stroke=\"black\" fill=\"white\" stroke-width=\"1\" /><text x=\"20809.126250000016\" y=\"575.0\" dominant-baseline=\"middle\" text-anchor=\"middle\" font-size=\"14px\">Y^qconv1</text><rect x=\"20869.242734375013\" y=\"555.0\" width=\"80.50421875\" height=\"40\" stroke=\"black\" fill=\"white\" stroke-width=\"1\" /><text x=\"20909.494843750013\" y=\"575.0\" dominant-baseline=\"middle\" text-anchor=\"middle\" font-size=\"14px\">Z^qconv2</text><rect x=\"20969.746953125014\" y=\"605.0\" width=\"80.99640625\" height=\"40\" stroke=\"black\" fill=\"white\" stroke-width=\"1\" /><text x=\"21010.245156250014\" y=\"625.0\" dominant-baseline=\"middle\" text-anchor=\"middle\" font-size=\"14px\">X^qconv3</text><rect x=\"21070.743359375014\" y=\"605.0\" width=\"80.74046875\" height=\"40\" stroke=\"black\" fill=\"white\" stroke-width=\"1\" /><text x=\"21111.113593750015\" y=\"625.0\" dominant-baseline=\"middle\" text-anchor=\"middle\" font-size=\"14px\">Y^qconv4</text><rect x=\"21171.483828125012\" y=\"605.0\" width=\"80.68359375000001\" height=\"40\" stroke=\"black\" fill=\"white\" stroke-width=\"1\" /><text x=\"21211.825625000012\" y=\"625.0\" dominant-baseline=\"middle\" text-anchor=\"middle\" font-size=\"14px\">Z^qconv5</text><rect x=\"21272.167421875012\" y=\"555.0\" width=\"90.61566406250002\" height=\"40\" stroke=\"black\" fill=\"white\" stroke-width=\"1\" /><text x=\"21317.47525390626\" y=\"575.0\" dominant-baseline=\"middle\" text-anchor=\"middle\" font-size=\"14px\">ZZ</text><rect x=\"21272.167421875012\" y=\"605.0\" width=\"90.61566406250002\" height=\"40\" stroke=\"black\" fill=\"white\" stroke-width=\"1\" /><text x=\"21317.47525390626\" y=\"625.0\" dominant-baseline=\"middle\" text-anchor=\"middle\" font-size=\"14px\">ZZ^qconv6</text><rect x=\"21382.783085937514\" y=\"555.0\" width=\"88.88097656250001\" height=\"40\" stroke=\"black\" fill=\"white\" stroke-width=\"1\" /><text x=\"21427.223574218762\" y=\"575.0\" dominant-baseline=\"middle\" text-anchor=\"middle\" font-size=\"14px\">YY</text><rect x=\"21382.783085937514\" y=\"605.0\" width=\"88.88097656250001\" height=\"40\" stroke=\"black\" fill=\"white\" stroke-width=\"1\" /><text x=\"21427.223574218762\" y=\"625.0\" dominant-baseline=\"middle\" text-anchor=\"middle\" font-size=\"14px\">YY^qconv7</text><rect x=\"21491.664062500015\" y=\"555.0\" width=\"90.7512890625\" height=\"40\" stroke=\"black\" fill=\"white\" stroke-width=\"1\" /><text x=\"21537.039707031265\" y=\"575.0\" dominant-baseline=\"middle\" text-anchor=\"middle\" font-size=\"14px\">XX</text><rect x=\"21491.664062500015\" y=\"605.0\" width=\"90.7512890625\" height=\"40\" stroke=\"black\" fill=\"white\" stroke-width=\"1\" /><text x=\"21537.039707031265\" y=\"625.0\" dominant-baseline=\"middle\" text-anchor=\"middle\" font-size=\"14px\">XX^qconv8</text><rect x=\"21602.415351562515\" y=\"555.0\" width=\"81.13421875000002\" height=\"40\" stroke=\"black\" fill=\"white\" stroke-width=\"1\" /><text x=\"21642.982460937514\" y=\"575.0\" dominant-baseline=\"middle\" text-anchor=\"middle\" font-size=\"14px\">X^qconv9</text><rect x=\"21703.549570312516\" y=\"555.0\" width=\"89.50332031250001\" height=\"40\" stroke=\"black\" fill=\"white\" stroke-width=\"1\" /><text x=\"21748.301230468765\" y=\"575.0\" dominant-baseline=\"middle\" text-anchor=\"middle\" font-size=\"14px\">Y^qconv10</text><rect x=\"21813.052890625015\" y=\"555.0\" width=\"89.5208203125\" height=\"40\" stroke=\"black\" fill=\"white\" stroke-width=\"1\" /><text x=\"21857.813300781265\" y=\"575.0\" dominant-baseline=\"middle\" text-anchor=\"middle\" font-size=\"14px\">Z^qconv11</text><rect x=\"21922.573710937515\" y=\"605.0\" width=\"89.6236328125\" height=\"40\" stroke=\"black\" fill=\"white\" stroke-width=\"1\" /><text x=\"21967.385527343766\" y=\"625.0\" dominant-baseline=\"middle\" text-anchor=\"middle\" font-size=\"14px\">X^qconv12</text><rect x=\"22032.197343750016\" y=\"605.0\" width=\"89.3108203125\" height=\"40\" stroke=\"black\" fill=\"white\" stroke-width=\"1\" /><text x=\"22076.852753906267\" y=\"625.0\" dominant-baseline=\"middle\" text-anchor=\"middle\" font-size=\"14px\">Y^qconv13</text><rect x=\"22141.508164062518\" y=\"605.0\" width=\"90.02832031250001\" height=\"40\" stroke=\"black\" fill=\"white\" stroke-width=\"1\" /><text x=\"22186.522324218768\" y=\"625.0\" dominant-baseline=\"middle\" text-anchor=\"middle\" font-size=\"14px\">Z^qconv14</text><rect x=\"22251.536484375018\" y=\"655.0\" width=\"81.18890625000002\" height=\"40\" stroke=\"black\" fill=\"white\" stroke-width=\"1\" /><text x=\"22292.130937500016\" y=\"675.0\" dominant-baseline=\"middle\" text-anchor=\"middle\" font-size=\"14px\">X^qconv0</text><rect x=\"22352.72539062502\" y=\"655.0\" width=\"80.23296875\" height=\"40\" stroke=\"black\" fill=\"white\" stroke-width=\"1\" /><text x=\"22392.84187500002\" y=\"675.0\" dominant-baseline=\"middle\" text-anchor=\"middle\" font-size=\"14px\">Y^qconv1</text><rect x=\"22452.958359375018\" y=\"655.0\" width=\"80.50421875\" height=\"40\" stroke=\"black\" fill=\"white\" stroke-width=\"1\" /><text x=\"22493.210468750018\" y=\"675.0\" dominant-baseline=\"middle\" text-anchor=\"middle\" font-size=\"14px\">Z^qconv2</text><rect x=\"22553.462578125018\" y=\"705.0\" width=\"80.99640625\" height=\"40\" stroke=\"black\" fill=\"white\" stroke-width=\"1\" /><text x=\"22593.960781250018\" y=\"725.0\" dominant-baseline=\"middle\" text-anchor=\"middle\" font-size=\"14px\">X^qconv3</text><rect x=\"22654.45898437502\" y=\"705.0\" width=\"80.74046875\" height=\"40\" stroke=\"black\" fill=\"white\" stroke-width=\"1\" /><text x=\"22694.82921875002\" y=\"725.0\" dominant-baseline=\"middle\" text-anchor=\"middle\" font-size=\"14px\">Y^qconv4</text><rect x=\"22755.199453125017\" y=\"705.0\" width=\"80.68359375000001\" height=\"40\" stroke=\"black\" fill=\"white\" stroke-width=\"1\" /><text x=\"22795.541250000017\" y=\"725.0\" dominant-baseline=\"middle\" text-anchor=\"middle\" font-size=\"14px\">Z^qconv5</text><rect x=\"22855.883046875017\" y=\"655.0\" width=\"90.61566406250002\" height=\"40\" stroke=\"black\" fill=\"white\" stroke-width=\"1\" /><text x=\"22901.190878906265\" y=\"675.0\" dominant-baseline=\"middle\" text-anchor=\"middle\" font-size=\"14px\">ZZ</text><rect x=\"22855.883046875017\" y=\"705.0\" width=\"90.61566406250002\" height=\"40\" stroke=\"black\" fill=\"white\" stroke-width=\"1\" /><text x=\"22901.190878906265\" y=\"725.0\" dominant-baseline=\"middle\" text-anchor=\"middle\" font-size=\"14px\">ZZ^qconv6</text><rect x=\"22966.498710937518\" y=\"655.0\" width=\"88.88097656250001\" height=\"40\" stroke=\"black\" fill=\"white\" stroke-width=\"1\" /><text x=\"23010.939199218767\" y=\"675.0\" dominant-baseline=\"middle\" text-anchor=\"middle\" font-size=\"14px\">YY</text><rect x=\"22966.498710937518\" y=\"705.0\" width=\"88.88097656250001\" height=\"40\" stroke=\"black\" fill=\"white\" stroke-width=\"1\" /><text x=\"23010.939199218767\" y=\"725.0\" dominant-baseline=\"middle\" text-anchor=\"middle\" font-size=\"14px\">YY^qconv7</text><rect x=\"23075.37968750002\" y=\"655.0\" width=\"90.7512890625\" height=\"40\" stroke=\"black\" fill=\"white\" stroke-width=\"1\" /><text x=\"23120.75533203127\" y=\"675.0\" dominant-baseline=\"middle\" text-anchor=\"middle\" font-size=\"14px\">XX</text><rect x=\"23075.37968750002\" y=\"705.0\" width=\"90.7512890625\" height=\"40\" stroke=\"black\" fill=\"white\" stroke-width=\"1\" /><text x=\"23120.75533203127\" y=\"725.0\" dominant-baseline=\"middle\" text-anchor=\"middle\" font-size=\"14px\">XX^qconv8</text><rect x=\"23186.13097656252\" y=\"655.0\" width=\"81.13421875000002\" height=\"40\" stroke=\"black\" fill=\"white\" stroke-width=\"1\" /><text x=\"23226.698085937518\" y=\"675.0\" dominant-baseline=\"middle\" text-anchor=\"middle\" font-size=\"14px\">X^qconv9</text><rect x=\"23287.26519531252\" y=\"655.0\" width=\"89.50332031250001\" height=\"40\" stroke=\"black\" fill=\"white\" stroke-width=\"1\" /><text x=\"23332.01685546877\" y=\"675.0\" dominant-baseline=\"middle\" text-anchor=\"middle\" font-size=\"14px\">Y^qconv10</text><rect x=\"23396.76851562502\" y=\"655.0\" width=\"89.5208203125\" height=\"40\" stroke=\"black\" fill=\"white\" stroke-width=\"1\" /><text x=\"23441.52892578127\" y=\"675.0\" dominant-baseline=\"middle\" text-anchor=\"middle\" font-size=\"14px\">Z^qconv11</text><rect x=\"23506.28933593752\" y=\"705.0\" width=\"89.6236328125\" height=\"40\" stroke=\"black\" fill=\"white\" stroke-width=\"1\" /><text x=\"23551.10115234377\" y=\"725.0\" dominant-baseline=\"middle\" text-anchor=\"middle\" font-size=\"14px\">X^qconv12</text><rect x=\"23615.91296875002\" y=\"705.0\" width=\"89.3108203125\" height=\"40\" stroke=\"black\" fill=\"white\" stroke-width=\"1\" /><text x=\"23660.56837890627\" y=\"725.0\" dominant-baseline=\"middle\" text-anchor=\"middle\" font-size=\"14px\">Y^qconv13</text><rect x=\"23725.223789062522\" y=\"705.0\" width=\"90.02832031250001\" height=\"40\" stroke=\"black\" fill=\"white\" stroke-width=\"1\" /><text x=\"23770.237949218772\" y=\"725.0\" dominant-baseline=\"middle\" text-anchor=\"middle\" font-size=\"14px\">Z^qconv14</text><rect x=\"23835.252109375022\" y=\"755.0\" width=\"81.18890625000002\" height=\"40\" stroke=\"black\" fill=\"white\" stroke-width=\"1\" /><text x=\"23875.84656250002\" y=\"775.0\" dominant-baseline=\"middle\" text-anchor=\"middle\" font-size=\"14px\">X^qconv0</text><rect x=\"23936.441015625023\" y=\"755.0\" width=\"80.23296875\" height=\"40\" stroke=\"black\" fill=\"white\" stroke-width=\"1\" /><text x=\"23976.557500000024\" y=\"775.0\" dominant-baseline=\"middle\" text-anchor=\"middle\" font-size=\"14px\">Y^qconv1</text><rect x=\"24036.673984375022\" y=\"755.0\" width=\"80.50421875\" height=\"40\" stroke=\"black\" fill=\"white\" stroke-width=\"1\" /><text x=\"24076.926093750022\" y=\"775.0\" dominant-baseline=\"middle\" text-anchor=\"middle\" font-size=\"14px\">Z^qconv2</text><rect x=\"24137.178203125022\" y=\"5.0\" width=\"80.99640625\" height=\"40\" stroke=\"black\" fill=\"white\" stroke-width=\"1\" /><text x=\"24177.676406250022\" y=\"25.0\" dominant-baseline=\"middle\" text-anchor=\"middle\" font-size=\"14px\">X^qconv3</text><rect x=\"24238.174609375023\" y=\"5.0\" width=\"80.74046875\" height=\"40\" stroke=\"black\" fill=\"white\" stroke-width=\"1\" /><text x=\"24278.544843750024\" y=\"25.0\" dominant-baseline=\"middle\" text-anchor=\"middle\" font-size=\"14px\">Y^qconv4</text><rect x=\"24338.91507812502\" y=\"5.0\" width=\"80.68359375000001\" height=\"40\" stroke=\"black\" fill=\"white\" stroke-width=\"1\" /><text x=\"24379.25687500002\" y=\"25.0\" dominant-baseline=\"middle\" text-anchor=\"middle\" font-size=\"14px\">Z^qconv5</text><rect x=\"24439.59867187502\" y=\"755.0\" width=\"90.61566406250002\" height=\"40\" stroke=\"black\" fill=\"white\" stroke-width=\"1\" /><text x=\"24484.90650390627\" y=\"775.0\" dominant-baseline=\"middle\" text-anchor=\"middle\" font-size=\"14px\">ZZ^qconv6</text><rect x=\"24439.59867187502\" y=\"5.0\" width=\"90.61566406250002\" height=\"40\" stroke=\"black\" fill=\"white\" stroke-width=\"1\" /><text x=\"24484.90650390627\" y=\"25.0\" dominant-baseline=\"middle\" text-anchor=\"middle\" font-size=\"14px\">ZZ</text><rect x=\"24550.214335937522\" y=\"755.0\" width=\"88.88097656250001\" height=\"40\" stroke=\"black\" fill=\"white\" stroke-width=\"1\" /><text x=\"24594.65482421877\" y=\"775.0\" dominant-baseline=\"middle\" text-anchor=\"middle\" font-size=\"14px\">YY^qconv7</text><rect x=\"24550.214335937522\" y=\"5.0\" width=\"88.88097656250001\" height=\"40\" stroke=\"black\" fill=\"white\" stroke-width=\"1\" /><text x=\"24594.65482421877\" y=\"25.0\" dominant-baseline=\"middle\" text-anchor=\"middle\" font-size=\"14px\">YY</text><rect x=\"24659.095312500023\" y=\"755.0\" width=\"90.7512890625\" height=\"40\" stroke=\"black\" fill=\"white\" stroke-width=\"1\" /><text x=\"24704.470957031273\" y=\"775.0\" dominant-baseline=\"middle\" text-anchor=\"middle\" font-size=\"14px\">XX^qconv8</text><rect x=\"24659.095312500023\" y=\"5.0\" width=\"90.7512890625\" height=\"40\" stroke=\"black\" fill=\"white\" stroke-width=\"1\" /><text x=\"24704.470957031273\" y=\"25.0\" dominant-baseline=\"middle\" text-anchor=\"middle\" font-size=\"14px\">XX</text><rect x=\"24769.846601562524\" y=\"755.0\" width=\"81.13421875000002\" height=\"40\" stroke=\"black\" fill=\"white\" stroke-width=\"1\" /><text x=\"24810.413710937522\" y=\"775.0\" dominant-baseline=\"middle\" text-anchor=\"middle\" font-size=\"14px\">X^qconv9</text><rect x=\"24870.980820312525\" y=\"755.0\" width=\"89.50332031250001\" height=\"40\" stroke=\"black\" fill=\"white\" stroke-width=\"1\" /><text x=\"24915.732480468774\" y=\"775.0\" dominant-baseline=\"middle\" text-anchor=\"middle\" font-size=\"14px\">Y^qconv10</text><rect x=\"24980.484140625023\" y=\"755.0\" width=\"89.5208203125\" height=\"40\" stroke=\"black\" fill=\"white\" stroke-width=\"1\" /><text x=\"25025.244550781274\" y=\"775.0\" dominant-baseline=\"middle\" text-anchor=\"middle\" font-size=\"14px\">Z^qconv11</text><rect x=\"25090.004960937524\" y=\"5.0\" width=\"89.6236328125\" height=\"40\" stroke=\"black\" fill=\"white\" stroke-width=\"1\" /><text x=\"25134.816777343774\" y=\"25.0\" dominant-baseline=\"middle\" text-anchor=\"middle\" font-size=\"14px\">X^qconv12</text><rect x=\"25199.628593750025\" y=\"5.0\" width=\"89.3108203125\" height=\"40\" stroke=\"black\" fill=\"white\" stroke-width=\"1\" /><text x=\"25244.284003906276\" y=\"25.0\" dominant-baseline=\"middle\" text-anchor=\"middle\" font-size=\"14px\">Y^qconv13</text><rect x=\"25308.939414062526\" y=\"5.0\" width=\"90.02832031250001\" height=\"40\" stroke=\"black\" fill=\"white\" stroke-width=\"1\" /><text x=\"25353.953574218776\" y=\"25.0\" dominant-baseline=\"middle\" text-anchor=\"middle\" font-size=\"14px\">Z^qconv14</text><rect x=\"25418.967734375026\" y=\"405.0\" width=\"89.80300781250001\" height=\"40\" stroke=\"black\" fill=\"white\" stroke-width=\"1\" /><text x=\"25463.869238281277\" y=\"425.0\" dominant-baseline=\"middle\" text-anchor=\"middle\" font-size=\"14px\">X^qconv15</text><rect x=\"25528.770742187528\" y=\"405.0\" width=\"89.55144531250001\" height=\"40\" stroke=\"black\" fill=\"white\" stroke-width=\"1\" /><text x=\"25573.546464843777\" y=\"425.0\" dominant-baseline=\"middle\" text-anchor=\"middle\" font-size=\"14px\">Y^qconv16</text><rect x=\"25638.322187500027\" y=\"405.0\" width=\"89.61707031250002\" height=\"40\" stroke=\"black\" fill=\"white\" stroke-width=\"1\" /><text x=\"25683.13072265628\" y=\"425.0\" dominant-baseline=\"middle\" text-anchor=\"middle\" font-size=\"14px\">Z^qconv17</text><rect x=\"25747.939257812526\" y=\"5.0\" width=\"90.0676953125\" height=\"40\" stroke=\"black\" fill=\"white\" stroke-width=\"1\" /><text x=\"25792.973105468776\" y=\"25.0\" dominant-baseline=\"middle\" text-anchor=\"middle\" font-size=\"14px\">X^qconv18</text><rect x=\"25858.006953125026\" y=\"5.0\" width=\"89.44863281250001\" height=\"40\" stroke=\"black\" fill=\"white\" stroke-width=\"1\" /><text x=\"25902.731269531276\" y=\"25.0\" dominant-baseline=\"middle\" text-anchor=\"middle\" font-size=\"14px\">Y^qconv19</text><rect x=\"25967.455585937525\" y=\"5.0\" width=\"89.88394531250002\" height=\"40\" stroke=\"black\" fill=\"white\" stroke-width=\"1\" /><text x=\"26012.397558593773\" y=\"25.0\" dominant-baseline=\"middle\" text-anchor=\"middle\" font-size=\"14px\">Z^qconv20</text><circle cx=\"26097.339531250025\" cy=\"25.0\" r=\"10.0\" /><rect x=\"26077.339531250025\" y=\"405.0\" width=\"40\" height=\"40\" stroke=\"black\" fill=\"white\" stroke-width=\"1\" /><text x=\"26097.339531250025\" y=\"425.0\" dominant-baseline=\"middle\" text-anchor=\"middle\" font-size=\"18px\">X</text><rect x=\"26137.339531250025\" y=\"405.0\" width=\"105.58609375000002\" height=\"40\" stroke=\"black\" fill=\"white\" stroke-width=\"1\" /><text x=\"26190.132578125023\" y=\"425.0\" dominant-baseline=\"middle\" text-anchor=\"middle\" font-size=\"14px\">Z^(-qconv17)</text><rect x=\"26262.925625000025\" y=\"405.0\" width=\"105.20546875000001\" height=\"40\" stroke=\"black\" fill=\"white\" stroke-width=\"1\" /><text x=\"26315.528359375025\" y=\"425.0\" dominant-baseline=\"middle\" text-anchor=\"middle\" font-size=\"14px\">Y^(-qconv16)</text><rect x=\"26388.131093750024\" y=\"405.0\" width=\"105.79828125000002\" height=\"40\" stroke=\"black\" fill=\"white\" stroke-width=\"1\" /><text x=\"26441.030234375023\" y=\"425.0\" dominant-baseline=\"middle\" text-anchor=\"middle\" font-size=\"14px\">X^(-qconv15)</text><rect x=\"26513.929375000025\" y=\"455.0\" width=\"89.80300781250001\" height=\"40\" stroke=\"black\" fill=\"white\" stroke-width=\"1\" /><text x=\"26558.830878906276\" y=\"475.0\" dominant-baseline=\"middle\" text-anchor=\"middle\" font-size=\"14px\">X^qconv15</text><rect x=\"26623.732382812526\" y=\"455.0\" width=\"89.55144531250001\" height=\"40\" stroke=\"black\" fill=\"white\" stroke-width=\"1\" /><text x=\"26668.508105468776\" y=\"475.0\" dominant-baseline=\"middle\" text-anchor=\"middle\" font-size=\"14px\">Y^qconv16</text><rect x=\"26733.283828125026\" y=\"455.0\" width=\"89.61707031250002\" height=\"40\" stroke=\"black\" fill=\"white\" stroke-width=\"1\" /><text x=\"26778.092363281277\" y=\"475.0\" dominant-baseline=\"middle\" text-anchor=\"middle\" font-size=\"14px\">Z^qconv17</text><rect x=\"26842.900898437525\" y=\"55.0\" width=\"90.0676953125\" height=\"40\" stroke=\"black\" fill=\"white\" stroke-width=\"1\" /><text x=\"26887.934746093775\" y=\"75.0\" dominant-baseline=\"middle\" text-anchor=\"middle\" font-size=\"14px\">X^qconv18</text><rect x=\"26952.968593750025\" y=\"55.0\" width=\"89.44863281250001\" height=\"40\" stroke=\"black\" fill=\"white\" stroke-width=\"1\" /><text x=\"26997.692910156275\" y=\"75.0\" dominant-baseline=\"middle\" text-anchor=\"middle\" font-size=\"14px\">Y^qconv19</text><rect x=\"27062.417226562524\" y=\"55.0\" width=\"89.88394531250002\" height=\"40\" stroke=\"black\" fill=\"white\" stroke-width=\"1\" /><text x=\"27107.359199218772\" y=\"75.0\" dominant-baseline=\"middle\" text-anchor=\"middle\" font-size=\"14px\">Z^qconv20</text><circle cx=\"27192.301171875024\" cy=\"75.0\" r=\"10.0\" /><rect x=\"27172.301171875024\" y=\"455.0\" width=\"40\" height=\"40\" stroke=\"black\" fill=\"white\" stroke-width=\"1\" /><text x=\"27192.301171875024\" y=\"475.0\" dominant-baseline=\"middle\" text-anchor=\"middle\" font-size=\"18px\">X</text><rect x=\"27232.301171875024\" y=\"455.0\" width=\"105.58609375000002\" height=\"40\" stroke=\"black\" fill=\"white\" stroke-width=\"1\" /><text x=\"27285.094218750022\" y=\"475.0\" dominant-baseline=\"middle\" text-anchor=\"middle\" font-size=\"14px\">Z^(-qconv17)</text><rect x=\"27357.887265625024\" y=\"455.0\" width=\"105.20546875000001\" height=\"40\" stroke=\"black\" fill=\"white\" stroke-width=\"1\" /><text x=\"27410.490000000023\" y=\"475.0\" dominant-baseline=\"middle\" text-anchor=\"middle\" font-size=\"14px\">Y^(-qconv16)</text><rect x=\"27483.092734375023\" y=\"455.0\" width=\"105.79828125000002\" height=\"40\" stroke=\"black\" fill=\"white\" stroke-width=\"1\" /><text x=\"27535.99187500002\" y=\"475.0\" dominant-baseline=\"middle\" text-anchor=\"middle\" font-size=\"14px\">X^(-qconv15)</text><rect x=\"27608.891015625024\" y=\"505.0\" width=\"89.80300781250001\" height=\"40\" stroke=\"black\" fill=\"white\" stroke-width=\"1\" /><text x=\"27653.792519531275\" y=\"525.0\" dominant-baseline=\"middle\" text-anchor=\"middle\" font-size=\"14px\">X^qconv15</text><rect x=\"27718.694023437525\" y=\"505.0\" width=\"89.55144531250001\" height=\"40\" stroke=\"black\" fill=\"white\" stroke-width=\"1\" /><text x=\"27763.469746093775\" y=\"525.0\" dominant-baseline=\"middle\" text-anchor=\"middle\" font-size=\"14px\">Y^qconv16</text><rect x=\"27828.245468750025\" y=\"505.0\" width=\"89.61707031250002\" height=\"40\" stroke=\"black\" fill=\"white\" stroke-width=\"1\" /><text x=\"27873.054003906276\" y=\"525.0\" dominant-baseline=\"middle\" text-anchor=\"middle\" font-size=\"14px\">Z^qconv17</text><rect x=\"27937.862539062524\" y=\"105.0\" width=\"90.0676953125\" height=\"40\" stroke=\"black\" fill=\"white\" stroke-width=\"1\" /><text x=\"27982.896386718774\" y=\"125.0\" dominant-baseline=\"middle\" text-anchor=\"middle\" font-size=\"14px\">X^qconv18</text><rect x=\"28047.930234375024\" y=\"105.0\" width=\"89.44863281250001\" height=\"40\" stroke=\"black\" fill=\"white\" stroke-width=\"1\" /><text x=\"28092.654550781273\" y=\"125.0\" dominant-baseline=\"middle\" text-anchor=\"middle\" font-size=\"14px\">Y^qconv19</text><rect x=\"28157.378867187523\" y=\"105.0\" width=\"89.88394531250002\" height=\"40\" stroke=\"black\" fill=\"white\" stroke-width=\"1\" /><text x=\"28202.32083984377\" y=\"125.0\" dominant-baseline=\"middle\" text-anchor=\"middle\" font-size=\"14px\">Z^qconv20</text><circle cx=\"28287.262812500023\" cy=\"125.0\" r=\"10.0\" /><rect x=\"28267.262812500023\" y=\"505.0\" width=\"40\" height=\"40\" stroke=\"black\" fill=\"white\" stroke-width=\"1\" /><text x=\"28287.262812500023\" y=\"525.0\" dominant-baseline=\"middle\" text-anchor=\"middle\" font-size=\"18px\">X</text><rect x=\"28327.262812500023\" y=\"505.0\" width=\"105.58609375000002\" height=\"40\" stroke=\"black\" fill=\"white\" stroke-width=\"1\" /><text x=\"28380.05585937502\" y=\"525.0\" dominant-baseline=\"middle\" text-anchor=\"middle\" font-size=\"14px\">Z^(-qconv17)</text><rect x=\"28452.848906250023\" y=\"505.0\" width=\"105.20546875000001\" height=\"40\" stroke=\"black\" fill=\"white\" stroke-width=\"1\" /><text x=\"28505.451640625022\" y=\"525.0\" dominant-baseline=\"middle\" text-anchor=\"middle\" font-size=\"14px\">Y^(-qconv16)</text><rect x=\"28578.05437500002\" y=\"505.0\" width=\"105.79828125000002\" height=\"40\" stroke=\"black\" fill=\"white\" stroke-width=\"1\" /><text x=\"28630.95351562502\" y=\"525.0\" dominant-baseline=\"middle\" text-anchor=\"middle\" font-size=\"14px\">X^(-qconv15)</text><rect x=\"28703.852656250023\" y=\"555.0\" width=\"89.80300781250001\" height=\"40\" stroke=\"black\" fill=\"white\" stroke-width=\"1\" /><text x=\"28748.754160156273\" y=\"575.0\" dominant-baseline=\"middle\" text-anchor=\"middle\" font-size=\"14px\">X^qconv15</text><rect x=\"28813.655664062524\" y=\"555.0\" width=\"89.55144531250001\" height=\"40\" stroke=\"black\" fill=\"white\" stroke-width=\"1\" /><text x=\"28858.431386718774\" y=\"575.0\" dominant-baseline=\"middle\" text-anchor=\"middle\" font-size=\"14px\">Y^qconv16</text><rect x=\"28923.207109375024\" y=\"555.0\" width=\"89.61707031250002\" height=\"40\" stroke=\"black\" fill=\"white\" stroke-width=\"1\" /><text x=\"28968.015644531275\" y=\"575.0\" dominant-baseline=\"middle\" text-anchor=\"middle\" font-size=\"14px\">Z^qconv17</text><rect x=\"29032.824179687523\" y=\"155.0\" width=\"90.0676953125\" height=\"40\" stroke=\"black\" fill=\"white\" stroke-width=\"1\" /><text x=\"29077.858027343773\" y=\"175.0\" dominant-baseline=\"middle\" text-anchor=\"middle\" font-size=\"14px\">X^qconv18</text><rect x=\"29142.891875000023\" y=\"155.0\" width=\"89.44863281250001\" height=\"40\" stroke=\"black\" fill=\"white\" stroke-width=\"1\" /><text x=\"29187.616191406272\" y=\"175.0\" dominant-baseline=\"middle\" text-anchor=\"middle\" font-size=\"14px\">Y^qconv19</text><rect x=\"29252.34050781252\" y=\"155.0\" width=\"89.88394531250002\" height=\"40\" stroke=\"black\" fill=\"white\" stroke-width=\"1\" /><text x=\"29297.28248046877\" y=\"175.0\" dominant-baseline=\"middle\" text-anchor=\"middle\" font-size=\"14px\">Z^qconv20</text><circle cx=\"29382.22445312502\" cy=\"175.0\" r=\"10.0\" /><rect x=\"29362.22445312502\" y=\"555.0\" width=\"40\" height=\"40\" stroke=\"black\" fill=\"white\" stroke-width=\"1\" /><text x=\"29382.22445312502\" y=\"575.0\" dominant-baseline=\"middle\" text-anchor=\"middle\" font-size=\"18px\">X</text><rect x=\"29422.22445312502\" y=\"555.0\" width=\"105.58609375000002\" height=\"40\" stroke=\"black\" fill=\"white\" stroke-width=\"1\" /><text x=\"29475.01750000002\" y=\"575.0\" dominant-baseline=\"middle\" text-anchor=\"middle\" font-size=\"14px\">Z^(-qconv17)</text><rect x=\"29547.810546875022\" y=\"555.0\" width=\"105.20546875000001\" height=\"40\" stroke=\"black\" fill=\"white\" stroke-width=\"1\" /><text x=\"29600.41328125002\" y=\"575.0\" dominant-baseline=\"middle\" text-anchor=\"middle\" font-size=\"14px\">Y^(-qconv16)</text><rect x=\"29673.01601562502\" y=\"555.0\" width=\"105.79828125000002\" height=\"40\" stroke=\"black\" fill=\"white\" stroke-width=\"1\" /><text x=\"29725.91515625002\" y=\"575.0\" dominant-baseline=\"middle\" text-anchor=\"middle\" font-size=\"14px\">X^(-qconv15)</text><rect x=\"29798.81429687502\" y=\"605.0\" width=\"89.80300781250001\" height=\"40\" stroke=\"black\" fill=\"white\" stroke-width=\"1\" /><text x=\"29843.715800781272\" y=\"625.0\" dominant-baseline=\"middle\" text-anchor=\"middle\" font-size=\"14px\">X^qconv15</text><rect x=\"29908.617304687523\" y=\"605.0\" width=\"89.55144531250001\" height=\"40\" stroke=\"black\" fill=\"white\" stroke-width=\"1\" /><text x=\"29953.393027343773\" y=\"625.0\" dominant-baseline=\"middle\" text-anchor=\"middle\" font-size=\"14px\">Y^qconv16</text><rect x=\"30018.168750000023\" y=\"605.0\" width=\"89.61707031250002\" height=\"40\" stroke=\"black\" fill=\"white\" stroke-width=\"1\" /><text x=\"30062.977285156274\" y=\"625.0\" dominant-baseline=\"middle\" text-anchor=\"middle\" font-size=\"14px\">Z^qconv17</text><rect x=\"30127.78582031252\" y=\"205.0\" width=\"90.0676953125\" height=\"40\" stroke=\"black\" fill=\"white\" stroke-width=\"1\" /><text x=\"30172.81966796877\" y=\"225.0\" dominant-baseline=\"middle\" text-anchor=\"middle\" font-size=\"14px\">X^qconv18</text><rect x=\"30237.853515625022\" y=\"205.0\" width=\"89.44863281250001\" height=\"40\" stroke=\"black\" fill=\"white\" stroke-width=\"1\" /><text x=\"30282.57783203127\" y=\"225.0\" dominant-baseline=\"middle\" text-anchor=\"middle\" font-size=\"14px\">Y^qconv19</text><rect x=\"30347.30214843752\" y=\"205.0\" width=\"89.88394531250002\" height=\"40\" stroke=\"black\" fill=\"white\" stroke-width=\"1\" /><text x=\"30392.24412109377\" y=\"225.0\" dominant-baseline=\"middle\" text-anchor=\"middle\" font-size=\"14px\">Z^qconv20</text><circle cx=\"30477.18609375002\" cy=\"225.0\" r=\"10.0\" /><rect x=\"30457.18609375002\" y=\"605.0\" width=\"40\" height=\"40\" stroke=\"black\" fill=\"white\" stroke-width=\"1\" /><text x=\"30477.18609375002\" y=\"625.0\" dominant-baseline=\"middle\" text-anchor=\"middle\" font-size=\"18px\">X</text><rect x=\"30517.18609375002\" y=\"605.0\" width=\"105.58609375000002\" height=\"40\" stroke=\"black\" fill=\"white\" stroke-width=\"1\" /><text x=\"30569.97914062502\" y=\"625.0\" dominant-baseline=\"middle\" text-anchor=\"middle\" font-size=\"14px\">Z^(-qconv17)</text><rect x=\"30642.77218750002\" y=\"605.0\" width=\"105.20546875000001\" height=\"40\" stroke=\"black\" fill=\"white\" stroke-width=\"1\" /><text x=\"30695.37492187502\" y=\"625.0\" dominant-baseline=\"middle\" text-anchor=\"middle\" font-size=\"14px\">Y^(-qconv16)</text><rect x=\"30767.97765625002\" y=\"605.0\" width=\"105.79828125000002\" height=\"40\" stroke=\"black\" fill=\"white\" stroke-width=\"1\" /><text x=\"30820.876796875018\" y=\"625.0\" dominant-baseline=\"middle\" text-anchor=\"middle\" font-size=\"14px\">X^(-qconv15)</text><rect x=\"30893.77593750002\" y=\"655.0\" width=\"89.80300781250001\" height=\"40\" stroke=\"black\" fill=\"white\" stroke-width=\"1\" /><text x=\"30938.67744140627\" y=\"675.0\" dominant-baseline=\"middle\" text-anchor=\"middle\" font-size=\"14px\">X^qconv15</text><rect x=\"31003.57894531252\" y=\"655.0\" width=\"89.55144531250001\" height=\"40\" stroke=\"black\" fill=\"white\" stroke-width=\"1\" /><text x=\"31048.35466796877\" y=\"675.0\" dominant-baseline=\"middle\" text-anchor=\"middle\" font-size=\"14px\">Y^qconv16</text><rect x=\"31113.13039062502\" y=\"655.0\" width=\"89.61707031250002\" height=\"40\" stroke=\"black\" fill=\"white\" stroke-width=\"1\" /><text x=\"31157.938925781273\" y=\"675.0\" dominant-baseline=\"middle\" text-anchor=\"middle\" font-size=\"14px\">Z^qconv17</text><rect x=\"31222.74746093752\" y=\"255.0\" width=\"90.0676953125\" height=\"40\" stroke=\"black\" fill=\"white\" stroke-width=\"1\" /><text x=\"31267.78130859377\" y=\"275.0\" dominant-baseline=\"middle\" text-anchor=\"middle\" font-size=\"14px\">X^qconv18</text><rect x=\"31332.81515625002\" y=\"255.0\" width=\"89.44863281250001\" height=\"40\" stroke=\"black\" fill=\"white\" stroke-width=\"1\" /><text x=\"31377.53947265627\" y=\"275.0\" dominant-baseline=\"middle\" text-anchor=\"middle\" font-size=\"14px\">Y^qconv19</text><rect x=\"31442.26378906252\" y=\"255.0\" width=\"89.88394531250002\" height=\"40\" stroke=\"black\" fill=\"white\" stroke-width=\"1\" /><text x=\"31487.205761718767\" y=\"275.0\" dominant-baseline=\"middle\" text-anchor=\"middle\" font-size=\"14px\">Z^qconv20</text><circle cx=\"31572.14773437502\" cy=\"275.0\" r=\"10.0\" /><rect x=\"31552.14773437502\" y=\"655.0\" width=\"40\" height=\"40\" stroke=\"black\" fill=\"white\" stroke-width=\"1\" /><text x=\"31572.14773437502\" y=\"675.0\" dominant-baseline=\"middle\" text-anchor=\"middle\" font-size=\"18px\">X</text><rect x=\"31612.14773437502\" y=\"655.0\" width=\"105.58609375000002\" height=\"40\" stroke=\"black\" fill=\"white\" stroke-width=\"1\" /><text x=\"31664.940781250018\" y=\"675.0\" dominant-baseline=\"middle\" text-anchor=\"middle\" font-size=\"14px\">Z^(-qconv17)</text><rect x=\"31737.73382812502\" y=\"655.0\" width=\"105.20546875000001\" height=\"40\" stroke=\"black\" fill=\"white\" stroke-width=\"1\" /><text x=\"31790.33656250002\" y=\"675.0\" dominant-baseline=\"middle\" text-anchor=\"middle\" font-size=\"14px\">Y^(-qconv16)</text><rect x=\"31862.939296875018\" y=\"655.0\" width=\"105.79828125000002\" height=\"40\" stroke=\"black\" fill=\"white\" stroke-width=\"1\" /><text x=\"31915.838437500017\" y=\"675.0\" dominant-baseline=\"middle\" text-anchor=\"middle\" font-size=\"14px\">X^(-qconv15)</text><rect x=\"31988.73757812502\" y=\"705.0\" width=\"89.80300781250001\" height=\"40\" stroke=\"black\" fill=\"white\" stroke-width=\"1\" /><text x=\"32033.63908203127\" y=\"725.0\" dominant-baseline=\"middle\" text-anchor=\"middle\" font-size=\"14px\">X^qconv15</text><rect x=\"32098.54058593752\" y=\"705.0\" width=\"89.55144531250001\" height=\"40\" stroke=\"black\" fill=\"white\" stroke-width=\"1\" /><text x=\"32143.31630859377\" y=\"725.0\" dominant-baseline=\"middle\" text-anchor=\"middle\" font-size=\"14px\">Y^qconv16</text><rect x=\"32208.09203125002\" y=\"705.0\" width=\"89.61707031250002\" height=\"40\" stroke=\"black\" fill=\"white\" stroke-width=\"1\" /><text x=\"32252.90056640627\" y=\"725.0\" dominant-baseline=\"middle\" text-anchor=\"middle\" font-size=\"14px\">Z^qconv17</text><rect x=\"32317.70910156252\" y=\"305.0\" width=\"90.0676953125\" height=\"40\" stroke=\"black\" fill=\"white\" stroke-width=\"1\" /><text x=\"32362.74294921877\" y=\"325.0\" dominant-baseline=\"middle\" text-anchor=\"middle\" font-size=\"14px\">X^qconv18</text><rect x=\"32427.77679687502\" y=\"305.0\" width=\"89.44863281250001\" height=\"40\" stroke=\"black\" fill=\"white\" stroke-width=\"1\" /><text x=\"32472.50111328127\" y=\"325.0\" dominant-baseline=\"middle\" text-anchor=\"middle\" font-size=\"14px\">Y^qconv19</text><rect x=\"32537.225429687518\" y=\"305.0\" width=\"89.88394531250002\" height=\"40\" stroke=\"black\" fill=\"white\" stroke-width=\"1\" /><text x=\"32582.167402343766\" y=\"325.0\" dominant-baseline=\"middle\" text-anchor=\"middle\" font-size=\"14px\">Z^qconv20</text><circle cx=\"32667.10937500002\" cy=\"325.0\" r=\"10.0\" /><rect x=\"32647.10937500002\" y=\"705.0\" width=\"40\" height=\"40\" stroke=\"black\" fill=\"white\" stroke-width=\"1\" /><text x=\"32667.10937500002\" y=\"725.0\" dominant-baseline=\"middle\" text-anchor=\"middle\" font-size=\"18px\">X</text><rect x=\"32707.10937500002\" y=\"705.0\" width=\"105.58609375000002\" height=\"40\" stroke=\"black\" fill=\"white\" stroke-width=\"1\" /><text x=\"32759.902421875016\" y=\"725.0\" dominant-baseline=\"middle\" text-anchor=\"middle\" font-size=\"14px\">Z^(-qconv17)</text><rect x=\"32832.69546875002\" y=\"705.0\" width=\"105.20546875000001\" height=\"40\" stroke=\"black\" fill=\"white\" stroke-width=\"1\" /><text x=\"32885.29820312502\" y=\"725.0\" dominant-baseline=\"middle\" text-anchor=\"middle\" font-size=\"14px\">Y^(-qconv16)</text><rect x=\"32957.90093750002\" y=\"705.0\" width=\"105.79828125000002\" height=\"40\" stroke=\"black\" fill=\"white\" stroke-width=\"1\" /><text x=\"33010.800078125016\" y=\"725.0\" dominant-baseline=\"middle\" text-anchor=\"middle\" font-size=\"14px\">X^(-qconv15)</text><rect x=\"33083.699218750015\" y=\"755.0\" width=\"89.80300781250001\" height=\"40\" stroke=\"black\" fill=\"white\" stroke-width=\"1\" /><text x=\"33128.600722656265\" y=\"775.0\" dominant-baseline=\"middle\" text-anchor=\"middle\" font-size=\"14px\">X^qconv15</text><rect x=\"33193.502226562516\" y=\"755.0\" width=\"89.55144531250001\" height=\"40\" stroke=\"black\" fill=\"white\" stroke-width=\"1\" /><text x=\"33238.27794921877\" y=\"775.0\" dominant-baseline=\"middle\" text-anchor=\"middle\" font-size=\"14px\">Y^qconv16</text><rect x=\"33303.053671875015\" y=\"755.0\" width=\"89.61707031250002\" height=\"40\" stroke=\"black\" fill=\"white\" stroke-width=\"1\" /><text x=\"33347.86220703126\" y=\"775.0\" dominant-baseline=\"middle\" text-anchor=\"middle\" font-size=\"14px\">Z^qconv17</text><rect x=\"33412.67074218752\" y=\"355.0\" width=\"90.0676953125\" height=\"40\" stroke=\"black\" fill=\"white\" stroke-width=\"1\" /><text x=\"33457.704589843765\" y=\"375.0\" dominant-baseline=\"middle\" text-anchor=\"middle\" font-size=\"14px\">X^qconv18</text><rect x=\"33522.73843750002\" y=\"355.0\" width=\"89.44863281250001\" height=\"40\" stroke=\"black\" fill=\"white\" stroke-width=\"1\" /><text x=\"33567.46275390627\" y=\"375.0\" dominant-baseline=\"middle\" text-anchor=\"middle\" font-size=\"14px\">Y^qconv19</text><rect x=\"33632.18707031252\" y=\"355.0\" width=\"89.88394531250002\" height=\"40\" stroke=\"black\" fill=\"white\" stroke-width=\"1\" /><text x=\"33677.129042968765\" y=\"375.0\" dominant-baseline=\"middle\" text-anchor=\"middle\" font-size=\"14px\">Z^qconv20</text><circle cx=\"33762.07101562501\" cy=\"375.0\" r=\"10.0\" /><rect x=\"33742.07101562501\" y=\"755.0\" width=\"40\" height=\"40\" stroke=\"black\" fill=\"white\" stroke-width=\"1\" /><text x=\"33762.07101562501\" y=\"775.0\" dominant-baseline=\"middle\" text-anchor=\"middle\" font-size=\"18px\">X</text><rect x=\"33802.07101562501\" y=\"755.0\" width=\"105.58609375000002\" height=\"40\" stroke=\"black\" fill=\"white\" stroke-width=\"1\" /><text x=\"33854.86406250001\" y=\"775.0\" dominant-baseline=\"middle\" text-anchor=\"middle\" font-size=\"14px\">Z^(-qconv17)</text><rect x=\"33802.07101562501\" y=\"405.0\" width=\"105.58609375000002\" height=\"40\" stroke=\"black\" fill=\"white\" stroke-width=\"1\" /><text x=\"33854.86406250001\" y=\"425.0\" dominant-baseline=\"middle\" text-anchor=\"middle\" font-size=\"14px\">XX^(xx1-0)</text><rect x=\"33802.07101562501\" y=\"355.0\" width=\"105.58609375000002\" height=\"40\" stroke=\"black\" fill=\"white\" stroke-width=\"1\" /><text x=\"33854.86406250001\" y=\"375.0\" dominant-baseline=\"middle\" text-anchor=\"middle\" font-size=\"14px\">XX</text><rect x=\"33927.65710937501\" y=\"755.0\" width=\"105.20546875000001\" height=\"40\" stroke=\"black\" fill=\"white\" stroke-width=\"1\" /><text x=\"33980.25984375001\" y=\"775.0\" dominant-baseline=\"middle\" text-anchor=\"middle\" font-size=\"14px\">Y^(-qconv16)</text><rect x=\"33927.65710937501\" y=\"455.0\" width=\"105.20546875000001\" height=\"40\" stroke=\"black\" fill=\"white\" stroke-width=\"1\" /><text x=\"33980.25984375001\" y=\"475.0\" dominant-baseline=\"middle\" text-anchor=\"middle\" font-size=\"14px\">XX^(xx1-1)</text><rect x=\"33927.65710937501\" y=\"355.0\" width=\"105.20546875000001\" height=\"40\" stroke=\"black\" fill=\"white\" stroke-width=\"1\" /><text x=\"33980.25984375001\" y=\"375.0\" dominant-baseline=\"middle\" text-anchor=\"middle\" font-size=\"14px\">XX</text><rect x=\"34052.86257812501\" y=\"755.0\" width=\"105.79828125000002\" height=\"40\" stroke=\"black\" fill=\"white\" stroke-width=\"1\" /><text x=\"34105.76171875001\" y=\"775.0\" dominant-baseline=\"middle\" text-anchor=\"middle\" font-size=\"14px\">X^(-qconv15)</text><rect x=\"34052.86257812501\" y=\"505.0\" width=\"105.79828125000002\" height=\"40\" stroke=\"black\" fill=\"white\" stroke-width=\"1\" /><text x=\"34105.76171875001\" y=\"525.0\" dominant-baseline=\"middle\" text-anchor=\"middle\" font-size=\"14px\">XX^(xx1-2)</text><rect x=\"34052.86257812501\" y=\"355.0\" width=\"105.79828125000002\" height=\"40\" stroke=\"black\" fill=\"white\" stroke-width=\"1\" /><text x=\"34105.76171875001\" y=\"375.0\" dominant-baseline=\"middle\" text-anchor=\"middle\" font-size=\"14px\">XX</text><rect x=\"34178.660859375006\" y=\"555.0\" width=\"89.65179687500002\" height=\"40\" stroke=\"black\" fill=\"white\" stroke-width=\"1\" /><text x=\"34223.486757812505\" y=\"575.0\" dominant-baseline=\"middle\" text-anchor=\"middle\" font-size=\"14px\">XX^(xx1-3)</text><rect x=\"34178.660859375006\" y=\"355.0\" width=\"89.65179687500002\" height=\"40\" stroke=\"black\" fill=\"white\" stroke-width=\"1\" /><text x=\"34223.486757812505\" y=\"375.0\" dominant-baseline=\"middle\" text-anchor=\"middle\" font-size=\"14px\">XX</text><rect x=\"34288.312656250004\" y=\"605.0\" width=\"89.65179687500002\" height=\"40\" stroke=\"black\" fill=\"white\" stroke-width=\"1\" /><text x=\"34333.1385546875\" y=\"625.0\" dominant-baseline=\"middle\" text-anchor=\"middle\" font-size=\"14px\">XX^(xx1-4)</text><rect x=\"34288.312656250004\" y=\"355.0\" width=\"89.65179687500002\" height=\"40\" stroke=\"black\" fill=\"white\" stroke-width=\"1\" /><text x=\"34333.1385546875\" y=\"375.0\" dominant-baseline=\"middle\" text-anchor=\"middle\" font-size=\"14px\">XX</text><rect x=\"34397.964453125\" y=\"655.0\" width=\"89.65179687500002\" height=\"40\" stroke=\"black\" fill=\"white\" stroke-width=\"1\" /><text x=\"34442.7903515625\" y=\"675.0\" dominant-baseline=\"middle\" text-anchor=\"middle\" font-size=\"14px\">XX^(xx1-5)</text><rect x=\"34397.964453125\" y=\"355.0\" width=\"89.65179687500002\" height=\"40\" stroke=\"black\" fill=\"white\" stroke-width=\"1\" /><text x=\"34442.7903515625\" y=\"375.0\" dominant-baseline=\"middle\" text-anchor=\"middle\" font-size=\"14px\">XX</text><rect x=\"34507.61625\" y=\"705.0\" width=\"89.65179687500002\" height=\"40\" stroke=\"black\" fill=\"white\" stroke-width=\"1\" /><text x=\"34552.4421484375\" y=\"725.0\" dominant-baseline=\"middle\" text-anchor=\"middle\" font-size=\"14px\">XX^(xx1-6)</text><rect x=\"34507.61625\" y=\"355.0\" width=\"89.65179687500002\" height=\"40\" stroke=\"black\" fill=\"white\" stroke-width=\"1\" /><text x=\"34552.4421484375\" y=\"375.0\" dominant-baseline=\"middle\" text-anchor=\"middle\" font-size=\"14px\">XX</text><rect x=\"34617.268046875\" y=\"755.0\" width=\"89.65179687500002\" height=\"40\" stroke=\"black\" fill=\"white\" stroke-width=\"1\" /><text x=\"34662.093945312496\" y=\"775.0\" dominant-baseline=\"middle\" text-anchor=\"middle\" font-size=\"14px\">XX^(xx1-7)</text><rect x=\"34617.268046875\" y=\"355.0\" width=\"89.65179687500002\" height=\"40\" stroke=\"black\" fill=\"white\" stroke-width=\"1\" /><text x=\"34662.093945312496\" y=\"375.0\" dominant-baseline=\"middle\" text-anchor=\"middle\" font-size=\"14px\">XX</text><rect x=\"34726.919843749994\" y=\"405.0\" width=\"87.56656250000002\" height=\"40\" stroke=\"black\" fill=\"white\" stroke-width=\"1\" /><text x=\"34770.70312499999\" y=\"425.0\" dominant-baseline=\"middle\" text-anchor=\"middle\" font-size=\"14px\">ZZ^(zz1-0)</text><rect x=\"34726.919843749994\" y=\"355.0\" width=\"87.56656250000002\" height=\"40\" stroke=\"black\" fill=\"white\" stroke-width=\"1\" /><text x=\"34770.70312499999\" y=\"375.0\" dominant-baseline=\"middle\" text-anchor=\"middle\" font-size=\"14px\">ZZ</text><rect x=\"34834.48640624999\" y=\"455.0\" width=\"87.56656250000002\" height=\"40\" stroke=\"black\" fill=\"white\" stroke-width=\"1\" /><text x=\"34878.26968749999\" y=\"475.0\" dominant-baseline=\"middle\" text-anchor=\"middle\" font-size=\"14px\">ZZ^(zz1-1)</text><rect x=\"34834.48640624999\" y=\"355.0\" width=\"87.56656250000002\" height=\"40\" stroke=\"black\" fill=\"white\" stroke-width=\"1\" /><text x=\"34878.26968749999\" y=\"375.0\" dominant-baseline=\"middle\" text-anchor=\"middle\" font-size=\"14px\">ZZ</text><rect x=\"34942.05296874999\" y=\"505.0\" width=\"87.56656250000002\" height=\"40\" stroke=\"black\" fill=\"white\" stroke-width=\"1\" /><text x=\"34985.836249999986\" y=\"525.0\" dominant-baseline=\"middle\" text-anchor=\"middle\" font-size=\"14px\">ZZ^(zz1-2)</text><rect x=\"34942.05296874999\" y=\"355.0\" width=\"87.56656250000002\" height=\"40\" stroke=\"black\" fill=\"white\" stroke-width=\"1\" /><text x=\"34985.836249999986\" y=\"375.0\" dominant-baseline=\"middle\" text-anchor=\"middle\" font-size=\"14px\">ZZ</text><rect x=\"35049.619531249984\" y=\"555.0\" width=\"87.56656250000002\" height=\"40\" stroke=\"black\" fill=\"white\" stroke-width=\"1\" /><text x=\"35093.40281249998\" y=\"575.0\" dominant-baseline=\"middle\" text-anchor=\"middle\" font-size=\"14px\">ZZ^(zz1-3)</text><rect x=\"35049.619531249984\" y=\"355.0\" width=\"87.56656250000002\" height=\"40\" stroke=\"black\" fill=\"white\" stroke-width=\"1\" /><text x=\"35093.40281249998\" y=\"375.0\" dominant-baseline=\"middle\" text-anchor=\"middle\" font-size=\"14px\">ZZ</text><rect x=\"35157.18609374998\" y=\"605.0\" width=\"87.56656250000002\" height=\"40\" stroke=\"black\" fill=\"white\" stroke-width=\"1\" /><text x=\"35200.96937499998\" y=\"625.0\" dominant-baseline=\"middle\" text-anchor=\"middle\" font-size=\"14px\">ZZ^(zz1-4)</text><rect x=\"35157.18609374998\" y=\"355.0\" width=\"87.56656250000002\" height=\"40\" stroke=\"black\" fill=\"white\" stroke-width=\"1\" /><text x=\"35200.96937499998\" y=\"375.0\" dominant-baseline=\"middle\" text-anchor=\"middle\" font-size=\"14px\">ZZ</text><rect x=\"35264.75265624998\" y=\"655.0\" width=\"87.56656250000002\" height=\"40\" stroke=\"black\" fill=\"white\" stroke-width=\"1\" /><text x=\"35308.535937499975\" y=\"675.0\" dominant-baseline=\"middle\" text-anchor=\"middle\" font-size=\"14px\">ZZ^(zz1-5)</text><rect x=\"35264.75265624998\" y=\"355.0\" width=\"87.56656250000002\" height=\"40\" stroke=\"black\" fill=\"white\" stroke-width=\"1\" /><text x=\"35308.535937499975\" y=\"375.0\" dominant-baseline=\"middle\" text-anchor=\"middle\" font-size=\"14px\">ZZ</text><rect x=\"35372.31921874997\" y=\"705.0\" width=\"87.56656250000002\" height=\"40\" stroke=\"black\" fill=\"white\" stroke-width=\"1\" /><text x=\"35416.10249999997\" y=\"725.0\" dominant-baseline=\"middle\" text-anchor=\"middle\" font-size=\"14px\">ZZ^(zz1-6)</text><rect x=\"35372.31921874997\" y=\"355.0\" width=\"87.56656250000002\" height=\"40\" stroke=\"black\" fill=\"white\" stroke-width=\"1\" /><text x=\"35416.10249999997\" y=\"375.0\" dominant-baseline=\"middle\" text-anchor=\"middle\" font-size=\"14px\">ZZ</text><rect x=\"35479.88578124997\" y=\"755.0\" width=\"87.56656250000002\" height=\"40\" stroke=\"black\" fill=\"white\" stroke-width=\"1\" /><text x=\"35523.66906249997\" y=\"775.0\" dominant-baseline=\"middle\" text-anchor=\"middle\" font-size=\"14px\">ZZ^(zz1-7)</text><rect x=\"35479.88578124997\" y=\"355.0\" width=\"87.56656250000002\" height=\"40\" stroke=\"black\" fill=\"white\" stroke-width=\"1\" /><text x=\"35523.66906249997\" y=\"375.0\" dominant-baseline=\"middle\" text-anchor=\"middle\" font-size=\"14px\">ZZ</text><rect x=\"35587.45234374997\" y=\"355.0\" width=\"40\" height=\"40\" stroke=\"black\" fill=\"white\" stroke-width=\"1\" /><text x=\"35607.45234374997\" y=\"375.0\" dominant-baseline=\"middle\" text-anchor=\"middle\" font-size=\"18px\">H</text></svg>"
          },
          "metadata": {},
          "execution_count": 21
        }
      ],
      "source": [
        "qubits = cirq.GridQubit.rect(4, 4)\n",
        "readout = cirq.GridQubit(1,2)\n",
        "circuit = cirq.Circuit()\n",
        "\n",
        "\n",
        "symbols = sympy.symbols('qconv0:84')\n",
        "circuit += quantum_conv_circuit(qubits , symbols[0:15]) # range symbols always 16\n",
        "circuit += quantum_pool_circuit(qubits[:8], qubits[8:], symbols[15:21])\n",
        "\n",
        "\n",
        "readout_qnn = cirq.GridQubit(1, 3)\n",
        "data_qubits_qnn = cirq.GridQubit.rect(4, 4)[8:]\n",
        "\n",
        "builder = CircuitLayerBuilder( data_qubits = data_qubits_qnn, readout=readout_qnn)\n",
        "\n",
        "# Then add layers (experiment by adding more).\n",
        "builder.add_layer(circuit, cirq.XX, \"xx1\")\n",
        "builder.add_layer(circuit, cirq.ZZ, \"zz1\")\n",
        "\n",
        "model_readout = circuit.append(cirq.H(cirq.GridQubit(1, 3)))\n",
        "\n",
        "SVGCircuit(circuit)\n"
      ]
    },
    {
      "cell_type": "code",
      "execution_count": 22,
      "metadata": {
        "id": "F54F7f8MBr4d"
      },
      "outputs": [],
      "source": [
        "readout_operators = cirq.Z(qubits[-1])\n",
        "\n",
        "excitation_input = tf.keras.Input(shape=(), dtype=tf.dtypes.string)\n",
        "\n",
        "cluster_state = tfq.layers.AddCircuit()(\n",
        "    excitation_input, prepend=cluster_state_circuit(qubits))\n",
        "\n",
        "quantum_model = tfq.layers.PQC(circuit,\n",
        "                               readout_operators)(cluster_state)\n",
        "\n",
        "qcnn_model = tf.keras.Model(inputs=[excitation_input], outputs=[quantum_model])"
      ]
    },
    {
      "cell_type": "markdown",
      "metadata": {
        "id": "VSTUKanKElza"
      },
      "source": [
        "## Training Model"
      ]
    },
    {
      "cell_type": "code",
      "execution_count": 23,
      "metadata": {
        "colab": {
          "base_uri": "https://localhost:8080/"
        },
        "id": "Qvu83lYGhRgF",
        "outputId": "82c7bb56-ec67-4c8f-e632-d56e440973d5"
      },
      "outputs": [
        {
          "output_type": "execute_result",
          "data": {
            "text/plain": [
              "(10338, TensorShape([10338]))"
            ]
          },
          "metadata": {},
          "execution_count": 23
        }
      ],
      "source": [
        "len(y_train_hinge), x_train_tfcirc.shape"
      ]
    },
    {
      "cell_type": "code",
      "execution_count": 24,
      "metadata": {
        "colab": {
          "base_uri": "https://localhost:8080/"
        },
        "id": "DxocL8HtjHVi",
        "outputId": "a817f4b2-0f14-41f4-e6ce-31674cfd51e9"
      },
      "outputs": [
        {
          "output_type": "execute_result",
          "data": {
            "text/plain": [
              "(1968, TensorShape([1968]))"
            ]
          },
          "metadata": {},
          "execution_count": 24
        }
      ],
      "source": [
        "len(y_test_hinge), x_test_tfcirc.shape"
      ]
    },
    {
      "cell_type": "code",
      "execution_count": 25,
      "metadata": {
        "id": "LxS7Y7gZkXoD"
      },
      "outputs": [],
      "source": [
        "epochs = 10\n",
        "BATCH_SIZE = 32\n",
        "NUM_EXAMPLES = 5\n"
      ]
    },
    {
      "cell_type": "code",
      "execution_count": 26,
      "metadata": {
        "colab": {
          "base_uri": "https://localhost:8080/"
        },
        "id": "YPk6NesYkdED",
        "outputId": "de348d7b-fe06-4a71-93f2-e86c4f4cfa4d"
      },
      "outputs": [
        {
          "output_type": "execute_result",
          "data": {
            "text/plain": [
              "(TensorShape([5]), (5,))"
            ]
          },
          "metadata": {},
          "execution_count": 26
        }
      ],
      "source": [
        "x_train_tfcirc_sub = x_train_tfcirc[:NUM_EXAMPLES]\n",
        "y_train_hinge_sub = y_train_hinge[:NUM_EXAMPLES]\n",
        "\n",
        "x_train_tfcirc_sub.shape , y_train_hinge_sub.shape"
      ]
    },
    {
      "cell_type": "code",
      "execution_count": 27,
      "metadata": {
        "colab": {
          "base_uri": "https://localhost:8080/"
        },
        "id": "W7sfurzJmwcz",
        "outputId": "d88fa6a9-67f5-451f-a3e2-e0fe35d84d3f"
      },
      "outputs": [
        {
          "output_type": "execute_result",
          "data": {
            "text/plain": [
              "Counter({1.0: 3, -1.0: 2})"
            ]
          },
          "metadata": {},
          "execution_count": 27
        }
      ],
      "source": [
        "import collections, numpy\n",
        "collections.Counter(y_train_hinge_sub)"
      ]
    },
    {
      "cell_type": "code",
      "execution_count": 28,
      "metadata": {
        "colab": {
          "base_uri": "https://localhost:8080/"
        },
        "id": "SRKd5tb4_4dc",
        "outputId": "37e1113a-ea0a-423f-89c8-a86d798f1d5c"
      },
      "outputs": [
        {
          "output_type": "stream",
          "name": "stdout",
          "text": [
            "Train on 5 samples, validate on 1968 samples\n",
            "Epoch 1/10\n",
            "5/5 [==============================] - 47s 9s/sample - loss: 1.0140 - hinge_accuracy: 0.4000 - val_loss: 1.0003 - val_hinge_accuracy: 0.5163\n",
            "Epoch 2/10\n",
            "5/5 [==============================] - 38s 8s/sample - loss: 0.9898 - hinge_accuracy: 0.6000 - val_loss: 1.0054 - val_hinge_accuracy: 0.5163\n",
            "Epoch 3/10\n",
            "5/5 [==============================] - 38s 8s/sample - loss: 0.9730 - hinge_accuracy: 0.6000 - val_loss: 1.0273 - val_hinge_accuracy: 0.5163\n",
            "Epoch 4/10\n",
            "5/5 [==============================] - 41s 8s/sample - loss: 0.9622 - hinge_accuracy: 0.6000 - val_loss: 1.0545 - val_hinge_accuracy: 0.5163\n",
            "Epoch 5/10\n",
            "5/5 [==============================] - 41s 8s/sample - loss: 0.9649 - hinge_accuracy: 0.6000 - val_loss: 1.0637 - val_hinge_accuracy: 0.5163\n",
            "Epoch 6/10\n",
            "5/5 [==============================] - 39s 8s/sample - loss: 0.9675 - hinge_accuracy: 0.6000 - val_loss: 1.0585 - val_hinge_accuracy: 0.5163\n",
            "Epoch 7/10\n",
            "5/5 [==============================] - 38s 8s/sample - loss: 0.9659 - hinge_accuracy: 0.6000 - val_loss: 1.0470 - val_hinge_accuracy: 0.5163\n",
            "Epoch 8/10\n",
            "5/5 [==============================] - 42s 8s/sample - loss: 0.9630 - hinge_accuracy: 0.6000 - val_loss: 1.0346 - val_hinge_accuracy: 0.5163\n",
            "Epoch 9/10\n",
            "5/5 [==============================] - 38s 8s/sample - loss: 0.9610 - hinge_accuracy: 0.6000 - val_loss: 1.0242 - val_hinge_accuracy: 0.5163\n",
            "Epoch 10/10\n",
            "5/5 [==============================] - 39s 8s/sample - loss: 0.9605 - hinge_accuracy: 0.6000 - val_loss: 1.0169 - val_hinge_accuracy: 0.5163\n"
          ]
        }
      ],
      "source": [
        "\n",
        "\n",
        "# Custom accuracy metric.\n",
        "@tf.function\n",
        "def custom_accuracy(y_true, y_pred):\n",
        "    y_true = tf.squeeze(y_true)\n",
        "    y_pred = tf.map_fn(lambda x: 1.0 if x >= 0 else -1.0, y_pred)\n",
        "    return tf.keras.backend.mean(tf.keras.backend.equal(y_true, y_pred))\n",
        "\n",
        "\n",
        "def hinge_accuracy(y_true, y_pred):\n",
        "    y_true = tf.squeeze(y_true) > 0.0\n",
        "    y_pred = tf.squeeze(y_pred) > 0.0\n",
        "    result = tf.cast(y_true == y_pred, tf.float32)\n",
        "    return tf.reduce_mean(result)\n",
        "\n",
        "\n",
        "qcnn_model.compile(optimizer=tf.keras.optimizers.Adam(learning_rate=0.02),\n",
        "                   loss=tf.losses.mse,\n",
        "                   metrics=[hinge_accuracy])\n",
        "\n",
        "history = qcnn_model.fit(x=x_train_tfcirc_sub,\n",
        "                         y=y_train_hinge_sub,\n",
        "                         batch_size=16,\n",
        "                         epochs=epochs,\n",
        "                         verbose=1,\n",
        "                         validation_data=(x_test_tfcirc , y_test_hinge))"
      ]
    },
    {
      "cell_type": "markdown",
      "metadata": {
        "id": "Gjg6nsmXFA5-"
      },
      "source": [
        "## Save Result"
      ]
    },
    {
      "cell_type": "code",
      "execution_count": 29,
      "metadata": {
        "colab": {
          "base_uri": "https://localhost:8080/",
          "height": 224
        },
        "id": "kn_9fyWCAVZP",
        "outputId": "d12d30c7-a72e-4b59-a76c-da7e3a63a1d3"
      },
      "outputs": [
        {
          "output_type": "stream",
          "name": "stdout",
          "text": [
            "(10, 4)\n"
          ]
        },
        {
          "output_type": "execute_result",
          "data": {
            "text/plain": [
              "   accuracy      loss  val_accuracy  val_loss\n",
              "0       0.4  1.013969       0.51626  1.000279\n",
              "1       0.6  0.989797       0.51626  1.005416\n",
              "2       0.6  0.973022       0.51626  1.027310\n",
              "3       0.6  0.962180       0.51626  1.054475\n",
              "4       0.6  0.964911       0.51626  1.063738"
            ],
            "text/html": [
              "\n",
              "  <div id=\"df-6cfed90c-72dc-40f8-b59f-84341feae049\">\n",
              "    <div class=\"colab-df-container\">\n",
              "      <div>\n",
              "<style scoped>\n",
              "    .dataframe tbody tr th:only-of-type {\n",
              "        vertical-align: middle;\n",
              "    }\n",
              "\n",
              "    .dataframe tbody tr th {\n",
              "        vertical-align: top;\n",
              "    }\n",
              "\n",
              "    .dataframe thead th {\n",
              "        text-align: right;\n",
              "    }\n",
              "</style>\n",
              "<table border=\"1\" class=\"dataframe\">\n",
              "  <thead>\n",
              "    <tr style=\"text-align: right;\">\n",
              "      <th></th>\n",
              "      <th>accuracy</th>\n",
              "      <th>loss</th>\n",
              "      <th>val_accuracy</th>\n",
              "      <th>val_loss</th>\n",
              "    </tr>\n",
              "  </thead>\n",
              "  <tbody>\n",
              "    <tr>\n",
              "      <th>0</th>\n",
              "      <td>0.4</td>\n",
              "      <td>1.013969</td>\n",
              "      <td>0.51626</td>\n",
              "      <td>1.000279</td>\n",
              "    </tr>\n",
              "    <tr>\n",
              "      <th>1</th>\n",
              "      <td>0.6</td>\n",
              "      <td>0.989797</td>\n",
              "      <td>0.51626</td>\n",
              "      <td>1.005416</td>\n",
              "    </tr>\n",
              "    <tr>\n",
              "      <th>2</th>\n",
              "      <td>0.6</td>\n",
              "      <td>0.973022</td>\n",
              "      <td>0.51626</td>\n",
              "      <td>1.027310</td>\n",
              "    </tr>\n",
              "    <tr>\n",
              "      <th>3</th>\n",
              "      <td>0.6</td>\n",
              "      <td>0.962180</td>\n",
              "      <td>0.51626</td>\n",
              "      <td>1.054475</td>\n",
              "    </tr>\n",
              "    <tr>\n",
              "      <th>4</th>\n",
              "      <td>0.6</td>\n",
              "      <td>0.964911</td>\n",
              "      <td>0.51626</td>\n",
              "      <td>1.063738</td>\n",
              "    </tr>\n",
              "  </tbody>\n",
              "</table>\n",
              "</div>\n",
              "      <button class=\"colab-df-convert\" onclick=\"convertToInteractive('df-6cfed90c-72dc-40f8-b59f-84341feae049')\"\n",
              "              title=\"Convert this dataframe to an interactive table.\"\n",
              "              style=\"display:none;\">\n",
              "        \n",
              "  <svg xmlns=\"http://www.w3.org/2000/svg\" height=\"24px\"viewBox=\"0 0 24 24\"\n",
              "       width=\"24px\">\n",
              "    <path d=\"M0 0h24v24H0V0z\" fill=\"none\"/>\n",
              "    <path d=\"M18.56 5.44l.94 2.06.94-2.06 2.06-.94-2.06-.94-.94-2.06-.94 2.06-2.06.94zm-11 1L8.5 8.5l.94-2.06 2.06-.94-2.06-.94L8.5 2.5l-.94 2.06-2.06.94zm10 10l.94 2.06.94-2.06 2.06-.94-2.06-.94-.94-2.06-.94 2.06-2.06.94z\"/><path d=\"M17.41 7.96l-1.37-1.37c-.4-.4-.92-.59-1.43-.59-.52 0-1.04.2-1.43.59L10.3 9.45l-7.72 7.72c-.78.78-.78 2.05 0 2.83L4 21.41c.39.39.9.59 1.41.59.51 0 1.02-.2 1.41-.59l7.78-7.78 2.81-2.81c.8-.78.8-2.07 0-2.86zM5.41 20L4 18.59l7.72-7.72 1.47 1.35L5.41 20z\"/>\n",
              "  </svg>\n",
              "      </button>\n",
              "      \n",
              "  <style>\n",
              "    .colab-df-container {\n",
              "      display:flex;\n",
              "      flex-wrap:wrap;\n",
              "      gap: 12px;\n",
              "    }\n",
              "\n",
              "    .colab-df-convert {\n",
              "      background-color: #E8F0FE;\n",
              "      border: none;\n",
              "      border-radius: 50%;\n",
              "      cursor: pointer;\n",
              "      display: none;\n",
              "      fill: #1967D2;\n",
              "      height: 32px;\n",
              "      padding: 0 0 0 0;\n",
              "      width: 32px;\n",
              "    }\n",
              "\n",
              "    .colab-df-convert:hover {\n",
              "      background-color: #E2EBFA;\n",
              "      box-shadow: 0px 1px 2px rgba(60, 64, 67, 0.3), 0px 1px 3px 1px rgba(60, 64, 67, 0.15);\n",
              "      fill: #174EA6;\n",
              "    }\n",
              "\n",
              "    [theme=dark] .colab-df-convert {\n",
              "      background-color: #3B4455;\n",
              "      fill: #D2E3FC;\n",
              "    }\n",
              "\n",
              "    [theme=dark] .colab-df-convert:hover {\n",
              "      background-color: #434B5C;\n",
              "      box-shadow: 0px 1px 3px 1px rgba(0, 0, 0, 0.15);\n",
              "      filter: drop-shadow(0px 1px 2px rgba(0, 0, 0, 0.3));\n",
              "      fill: #FFFFFF;\n",
              "    }\n",
              "  </style>\n",
              "\n",
              "      <script>\n",
              "        const buttonEl =\n",
              "          document.querySelector('#df-6cfed90c-72dc-40f8-b59f-84341feae049 button.colab-df-convert');\n",
              "        buttonEl.style.display =\n",
              "          google.colab.kernel.accessAllowed ? 'block' : 'none';\n",
              "\n",
              "        async function convertToInteractive(key) {\n",
              "          const element = document.querySelector('#df-6cfed90c-72dc-40f8-b59f-84341feae049');\n",
              "          const dataTable =\n",
              "            await google.colab.kernel.invokeFunction('convertToInteractive',\n",
              "                                                     [key], {});\n",
              "          if (!dataTable) return;\n",
              "\n",
              "          const docLinkHtml = 'Like what you see? Visit the ' +\n",
              "            '<a target=\"_blank\" href=https://colab.research.google.com/notebooks/data_table.ipynb>data table notebook</a>'\n",
              "            + ' to learn more about interactive tables.';\n",
              "          element.innerHTML = '';\n",
              "          dataTable['output_type'] = 'display_data';\n",
              "          await google.colab.output.renderOutput(dataTable, element);\n",
              "          const docLink = document.createElement('div');\n",
              "          docLink.innerHTML = docLinkHtml;\n",
              "          element.appendChild(docLink);\n",
              "        }\n",
              "      </script>\n",
              "    </div>\n",
              "  </div>\n",
              "  "
            ]
          },
          "metadata": {},
          "execution_count": 29
        }
      ],
      "source": [
        "history.history\n",
        "df_history = pd.DataFrame()\n",
        "df_history['accuracy']  = history.history['hinge_accuracy']\n",
        "df_history['loss']      = history.history['loss']\n",
        "df_history['val_accuracy'] = history.history['val_hinge_accuracy']\n",
        "df_history['val_loss']  = history.history['val_loss']\n",
        "\n",
        "df_history.to_csv(\"history.csv\", index = False)\n",
        "\n",
        "print(df_history.shape)\n",
        "df_history.head()"
      ]
    },
    {
      "cell_type": "code",
      "source": [
        "def plt_losses(x, vy, ty, ax, colors=['b']):\n",
        "  ax.plot(x, vy, 'b', label=\"Validation Loss\")\n",
        "  ax.plot(x, ty, 'r', label=\"Train Loss\")\n",
        "  plt.legend()\n",
        "  plt.grid()\n",
        "  fig.canvas.draw()\n",
        "\n",
        "def plt_accuracies(x, vy, ty, ax, colors=['b']):\n",
        "  ax.plot(x, vy, 'b', label=\"Validation accuracy\")\n",
        "  ax.plot(x, ty, 'r', label=\"Train accuracy\")\n",
        "  plt.legend() \n",
        "  plt.grid()\n",
        "  fig.canvas.draw()\n",
        "\n"
      ],
      "metadata": {
        "id": "1KjJWCztoR7i"
      },
      "execution_count": 30,
      "outputs": []
    },
    {
      "cell_type": "code",
      "source": [],
      "metadata": {
        "id": "mR5rAlXOJ5X2"
      },
      "execution_count": 30,
      "outputs": []
    },
    {
      "cell_type": "code",
      "source": [
        "fig,ax = plt.subplots(1,1)\n",
        "ax.set_xlabel('epoch') \n",
        "ax.set_ylabel('Categorical Crossentropy Loss')\n",
        "x = list(range(1,epochs+1))\n",
        "vy = history.history['val_loss']\n",
        "ty = history.history['loss']\n",
        "plt_losses(x, vy, ty, ax)"
      ],
      "metadata": {
        "id": "A2zp9b03J9l1",
        "outputId": "c03476ea-8385-4b1f-92b8-49c2f041262e",
        "colab": {
          "base_uri": "https://localhost:8080/",
          "height": 279
        }
      },
      "execution_count": 31,
      "outputs": [
        {
          "output_type": "display_data",
          "data": {
            "text/plain": [
              "<Figure size 432x288 with 1 Axes>"
            ],
            "image/png": "[encoded data removed]"
          },
          "metadata": {
            "needs_background": "light"
          }
        }
      ]
    },
    {
      "cell_type": "code",
      "source": [
        "fig,ax = plt.subplots(1,1)\n",
        "ax.set_xlabel('epoch')\n",
        "ax.set_ylabel('accuracies')\n",
        "x = list(range(1,epochs+1))\n",
        "vy = history.history['val_hinge_accuracy']\n",
        "ty = history.history['hinge_accuracy']\n",
        "plt_accuracies(x, vy, ty, ax)"
      ],
      "metadata": {
        "id": "x6SxeOePMAk-",
        "outputId": "e646b985-0b1c-4fc1-b1e2-e14e50367fba",
        "colab": {
          "base_uri": "https://localhost:8080/",
          "height": 279
        }
      },
      "execution_count": 32,
      "outputs": [
        {
          "output_type": "display_data",
          "data": {
            "text/plain": [
              "<Figure size 432x288 with 1 Axes>"
            ],
            "image/png": "[encoded data removed]"
          },
          "metadata": {
            "needs_background": "light"
          }
        }
      ]
    },
    {
      "cell_type": "code",
      "source": [],
      "metadata": {
        "id": "ZPvxmpA-MJDx"
      },
      "execution_count": 32,
      "outputs": []
    }
  ],
  "metadata": {
    "colab": {
      "provenance": [],
      "collapsed_sections": []
    },
    "kernelspec": {
      "display_name": "Python 3 (ipykernel)",
      "language": "python",
      "name": "python3"
    },
    "language_info": {
      "codemirror_mode": {
        "name": "ipython",
        "version": 3
      },
      "file_extension": ".py",
      "mimetype": "text/x-python",
      "name": "python",
      "nbconvert_exporter": "python",
      "pygments_lexer": "ipython3",
      "version": "3.10.6"
    }
  },
  "nbformat": 4,
  "nbformat_minor": 0
}