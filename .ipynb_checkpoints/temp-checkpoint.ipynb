{
 "cells": [
  {
   "cell_type": "code",
   "execution_count": 1,
   "id": "634f29f2",
   "metadata": {},
   "outputs": [
    {
     "name": "stderr",
     "output_type": "stream",
     "text": [
      "2022-11-05 12:20:00.335886: W tensorflow/stream_executor/platform/default/dso_loader.cc:64] Could not load dynamic library 'libcudart.so.11.0'; dlerror: libcudart.so.11.0: cannot open shared object file: No such file or directory\n",
      "2022-11-05 12:20:00.335918: I tensorflow/stream_executor/cuda/cudart_stub.cc:29] Ignore above cudart dlerror if you do not have a GPU set up on your machine.\n"
     ]
    },
    {
     "ename": "TypeError",
     "evalue": "Couldn't build proto file into descriptor pool!\nInvalid proto descriptor for file \"cirq_google/api/v2/program.proto\":\n  cirq.google.api.v2.Program.program: \"cirq.google.api.v2.Program.program\" is already defined in file \"cirq/google/api/v2/program.proto\".\n  cirq.google.api.v2.Program.language: \"cirq.google.api.v2.Program.language\" is already defined in file \"cirq/google/api/v2/program.proto\".\n  cirq.google.api.v2.Program.circuit: \"cirq.google.api.v2.Program.circuit\" is already defined in file \"cirq/google/api/v2/program.proto\".\n  cirq.google.api.v2.Program.schedule: \"cirq.google.api.v2.Program.schedule\" is already defined in file \"cirq/google/api/v2/program.proto\".\n  cirq.google.api.v2.Program: \"cirq.google.api.v2.Program\" is already defined in file \"cirq/google/api/v2/program.proto\".\n  cirq.google.api.v2.Circuit.scheduling_strategy: \"cirq.google.api.v2.Circuit.scheduling_strategy\" is already defined in file \"cirq/google/api/v2/program.proto\".\n  cirq.google.api.v2.Circuit.moments: \"cirq.google.api.v2.Circuit.moments\" is already defined in file \"cirq/google/api/v2/program.proto\".\n  cirq.google.api.v2.Circuit.SCHEDULING_STRATEGY_UNSPECIFIED: \"cirq.google.api.v2.Circuit.SCHEDULING_STRATEGY_UNSPECIFIED\" is already defined in file \"cirq/google/api/v2/program.proto\".\n  cirq.google.api.v2.Circuit.SCHEDULING_STRATEGY_UNSPECIFIED: Note that enum values use C++ scoping rules, meaning that enum values are siblings of their type, not children of it.  Therefore, \"SCHEDULING_STRATEGY_UNSPECIFIED\" must be unique within \"cirq.google.api.v2.Circuit\", not just within \"SchedulingStrategy\".\n  cirq.google.api.v2.Circuit.MOMENT_BY_MOMENT: \"cirq.google.api.v2.Circuit.MOMENT_BY_MOMENT\" is already defined in file \"cirq/google/api/v2/program.proto\".\n  cirq.google.api.v2.Circuit.MOMENT_BY_MOMENT: Note that enum values use C++ scoping rules, meaning that enum values are siblings of their type, not children of it.  Therefore, \"MOMENT_BY_MOMENT\" must be unique within \"cirq.google.api.v2.Circuit\", not just within \"SchedulingStrategy\".\n  cirq.google.api.v2.Circuit.SchedulingStrategy: \"cirq.google.api.v2.Circuit.SchedulingStrategy\" is already defined in file \"cirq/google/api/v2/program.proto\".\n  cirq.google.api.v2.Circuit: \"cirq.google.api.v2.Circuit\" is already defined in file \"cirq/google/api/v2/program.proto\".\n  cirq.google.api.v2.Moment.operations: \"cirq.google.api.v2.Moment.operations\" is already defined in file \"cirq/google/api/v2/program.proto\".\n  cirq.google.api.v2.Moment: \"cirq.google.api.v2.Moment\" is already defined in file \"cirq/google/api/v2/program.proto\".\n  cirq.google.api.v2.Schedule.scheduled_operations: \"cirq.google.api.v2.Schedule.scheduled_operations\" is already defined in file \"cirq/google/api/v2/program.proto\".\n  cirq.google.api.v2.Schedule: \"cirq.google.api.v2.Schedule\" is already defined in file \"cirq/google/api/v2/program.proto\".\n  cirq.google.api.v2.ScheduledOperation.operation: \"cirq.google.api.v2.ScheduledOperation.operation\" is already defined in file \"cirq/google/api/v2/program.proto\".\n  cirq.google.api.v2.ScheduledOperation.start_time_picos: \"cirq.google.api.v2.ScheduledOperation.start_time_picos\" is already defined in file \"cirq/google/api/v2/program.proto\".\n  cirq.google.api.v2.ScheduledOperation: \"cirq.google.api.v2.ScheduledOperation\" is already defined in file \"cirq/google/api/v2/program.proto\".\n  cirq.google.api.v2.Language.gate_set: \"cirq.google.api.v2.Language.gate_set\" is already defined in file \"cirq/google/api/v2/program.proto\".\n  cirq.google.api.v2.Language.arg_function_language: \"cirq.google.api.v2.Language.arg_function_language\" is already defined in file \"cirq/google/api/v2/program.proto\".\n  cirq.google.api.v2.Language: \"cirq.google.api.v2.Language\" is already defined in file \"cirq/google/api/v2/program.proto\".\n  cirq.google.api.v2.Operation.gate: \"cirq.google.api.v2.Operation.gate\" is already defined in file \"cirq/google/api/v2/program.proto\".\n  cirq.google.api.v2.Operation.args: \"cirq.google.api.v2.Operation.args\" is already defined in file \"cirq/google/api/v2/program.proto\".\n  cirq.google.api.v2.Operation.qubits: \"cirq.google.api.v2.Operation.qubits\" is already defined in file \"cirq/google/api/v2/program.proto\".\n  cirq.google.api.v2.Operation.ArgsEntry.key: \"cirq.google.api.v2.Operation.ArgsEntry.key\" is already defined in file \"cirq/google/api/v2/program.proto\".\n  cirq.google.api.v2.Operation.ArgsEntry.value: \"cirq.google.api.v2.Operation.ArgsEntry.value\" is already defined in file \"cirq/google/api/v2/program.proto\".\n  cirq.google.api.v2.Operation.ArgsEntry: \"cirq.google.api.v2.Operation.ArgsEntry\" is already defined in file \"cirq/google/api/v2/program.proto\".\n  cirq.google.api.v2.Operation: \"cirq.google.api.v2.Operation\" is already defined in file \"cirq/google/api/v2/program.proto\".\n  cirq.google.api.v2.Gate.id: \"cirq.google.api.v2.Gate.id\" is already defined in file \"cirq/google/api/v2/program.proto\".\n  cirq.google.api.v2.Gate: \"cirq.google.api.v2.Gate\" is already defined in file \"cirq/google/api/v2/program.proto\".\n  cirq.google.api.v2.Qubit.id: \"cirq.google.api.v2.Qubit.id\" is already defined in file \"cirq/google/api/v2/program.proto\".\n  cirq.google.api.v2.Qubit: \"cirq.google.api.v2.Qubit\" is already defined in file \"cirq/google/api/v2/program.proto\".\n  cirq.google.api.v2.Arg.arg: \"cirq.google.api.v2.Arg.arg\" is already defined in file \"cirq/google/api/v2/program.proto\".\n  cirq.google.api.v2.Arg.arg_value: \"cirq.google.api.v2.Arg.arg_value\" is already defined in file \"cirq/google/api/v2/program.proto\".\n  cirq.google.api.v2.Arg.symbol: \"cirq.google.api.v2.Arg.symbol\" is already defined in file \"cirq/google/api/v2/program.proto\".\n  cirq.google.api.v2.Arg.func: \"cirq.google.api.v2.Arg.func\" is already defined in file \"cirq/google/api/v2/program.proto\".\n  cirq.google.api.v2.Arg: \"cirq.google.api.v2.Arg\" is already defined in file \"cirq/google/api/v2/program.proto\".\n  cirq.google.api.v2.ArgValue.arg_value: \"cirq.google.api.v2.ArgValue.arg_value\" is already defined in file \"cirq/google/api/v2/program.proto\".\n  cirq.google.api.v2.ArgValue.float_value: \"cirq.google.api.v2.ArgValue.float_value\" is already defined in file \"cirq/google/api/v2/program.proto\".\n  cirq.google.api.v2.ArgValue.bool_values: \"cirq.google.api.v2.ArgValue.bool_values\" is already defined in file \"cirq/google/api/v2/program.proto\".\n  cirq.google.api.v2.ArgValue.string_value: \"cirq.google.api.v2.ArgValue.string_value\" is already defined in file \"cirq/google/api/v2/program.proto\".\n  cirq.google.api.v2.ArgValue: \"cirq.google.api.v2.ArgValue\" is already defined in file \"cirq/google/api/v2/program.proto\".\n  cirq.google.api.v2.RepeatedBoolean.values: \"cirq.google.api.v2.RepeatedBoolean.values\" is already defined in file \"cirq/google/api/v2/program.proto\".\n  cirq.google.api.v2.RepeatedBoolean: \"cirq.google.api.v2.RepeatedBoolean\" is already defined in file \"cirq/google/api/v2/program.proto\".\n  cirq.google.api.v2.ArgFunction.type: \"cirq.google.api.v2.ArgFunction.type\" is already defined in file \"cirq/google/api/v2/program.proto\".\n  cirq.google.api.v2.ArgFunction.args: \"cirq.google.api.v2.ArgFunction.args\" is already defined in file \"cirq/google/api/v2/program.proto\".\n  cirq.google.api.v2.ArgFunction: \"cirq.google.api.v2.ArgFunction\" is already defined in file \"cirq/google/api/v2/program.proto\".\n  cirq.google.api.v2.Program.language: \"cirq.google.api.v2.Language\" seems to be defined in \"cirq/google/api/v2/program.proto\", which is not imported by \"cirq_google/api/v2/program.proto\".  To use it here, please add the necessary import.\n  cirq.google.api.v2.Program.circuit: \"cirq.google.api.v2.Circuit\" seems to be defined in \"cirq/google/api/v2/program.proto\", which is not imported by \"cirq_google/api/v2/program.proto\".  To use it here, please add the necessary import.\n  cirq.google.api.v2.Program.schedule: \"cirq.google.api.v2.Schedule\" seems to be defined in \"cirq/google/api/v2/program.proto\", which is not imported by \"cirq_google/api/v2/program.proto\".  To use it here, please add the necessary import.\n  cirq.google.api.v2.Constant.circuit_value: \"cirq.google.api.v2.Circuit\" seems to be defined in \"cirq/google/api/v2/program.proto\", which is not imported by \"cirq_google/api/v2/program.proto\".  To use it here, please add the necessary import.\n  cirq.google.api.v2.Constant.qubit: \"cirq.google.api.v2.Qubit\" seems to be defined in \"cirq/google/api/v2/program.proto\", which is not imported by \"cirq_google/api/v2/program.proto\".  To use it here, please add the necessary import.\n  cirq.google.api.v2.Circuit.scheduling_strategy: \"cirq.google.api.v2.Circuit.SchedulingStrategy\" seems to be defined in \"cirq/google/api/v2/program.proto\", which is not imported by \"cirq_google/api/v2/program.proto\".  To use it here, please add the necessary import.\n  cirq.google.api.v2.Circuit.moments: \"cirq.google.api.v2.Moment\" seems to be defined in \"cirq/google/api/v2/program.proto\", which is not imported by \"cirq_google/api/v2/program.proto\".  To use it here, please add the necessary import.\n  cirq.google.api.v2.Moment.operations: \"cirq.google.api.v2.Operation\" seems to be defined in \"cirq/google/api/v2/program.proto\", which is not imported by \"cirq_google/api/v2/program.proto\".  To use it here, please add the necessary import.\n  cirq.google.api.v2.Schedule.scheduled_operations: \"cirq.google.api.v2.ScheduledOperation\" seems to be defined in \"cirq/google/api/v2/program.proto\", which is not imported by \"cirq_google/api/v2/program.proto\".  To use it here, please add the necessary import.\n  cirq.google.api.v2.ScheduledOperation.operation: \"cirq.google.api.v2.Operation\" seems to be defined in \"cirq/google/api/v2/program.proto\", which is not imported by \"cirq_google/api/v2/program.proto\".  To use it here, please add the necessary import.\n  cirq.google.api.v2.FloatArg.func: \"cirq.google.api.v2.ArgFunction\" seems to be defined in \"cirq/google/api/v2/program.proto\", which is not imported by \"cirq_google/api/v2/program.proto\".  To use it here, please add the necessary import.\n  cirq.google.api.v2.MeasurementGate.key: \"cirq.google.api.v2.Arg\" seems to be defined in \"cirq/google/api/v2/program.proto\", which is not imported by \"cirq_google/api/v2/program.proto\".  To use it here, please add the necessary import.\n  cirq.google.api.v2.MeasurementGate.invert_mask: \"cirq.google.api.v2.Arg\" seems to be defined in \"cirq/google/api/v2/program.proto\", which is not imported by \"cirq_google/api/v2/program.proto\".  To use it here, please add the necessary import.\n  cirq.google.api.v2.Operation.ArgsEntry.value: \"cirq.google.api.v2.Arg\" seems to be defined in \"cirq/google/api/v2/program.proto\", which is not imported by \"cirq_google/api/v2/program.proto\".  To use it here, please add the necessary import.\n  cirq.google.api.v2.Operation.gate: \"cirq.google.api.v2.Gate\" seems to be defined in \"cirq/google/api/v2/program.proto\", which is not imported by \"cirq_google/api/v2/program.proto\".  To use it here, please add the necessary import.\n  cirq.google.api.v2.Operation.args: \"cirq.google.api.v2.Operation.ArgsEntry\" seems to be defined in \"cirq/google/api/v2/program.proto\", which is not imported by \"cirq_google/api/v2/program.proto\".  To use it here, please add the necessary import.\n  cirq.google.api.v2.Operation.qubits: \"cirq.google.api.v2.Qubit\" seems to be defined in \"cirq/google/api/v2/program.proto\", which is not imported by \"cirq_google/api/v2/program.proto\".  To use it here, please add the necessary import.\n  cirq.google.api.v2.Arg.arg_value: \"cirq.google.api.v2.ArgValue\" seems to be defined in \"cirq/google/api/v2/program.proto\", which is not imported by \"cirq_google/api/v2/program.proto\".  To use it here, please add the necessary import.\n  cirq.google.api.v2.Arg.func: \"cirq.google.api.v2.ArgFunction\" seems to be defined in \"cirq/google/api/v2/program.proto\", which is not imported by \"cirq_google/api/v2/program.proto\".  To use it here, please add the necessary import.\n  cirq.google.api.v2.ArgValue.bool_values: \"cirq.google.api.v2.RepeatedBoolean\" seems to be defined in \"cirq/google/api/v2/program.proto\", which is not imported by \"cirq_google/api/v2/program.proto\".  To use it here, please add the necessary import.\n  cirq.google.api.v2.ArgFunction.args: \"cirq.google.api.v2.Arg\" seems to be defined in \"cirq/google/api/v2/program.proto\", which is not imported by \"cirq_google/api/v2/program.proto\".  To use it here, please add the necessary import.\n  cirq.google.api.v2.QubitMapping.QubitEntry.key: \"cirq.google.api.v2.Qubit\" seems to be defined in \"cirq/google/api/v2/program.proto\", which is not imported by \"cirq_google/api/v2/program.proto\".  To use it here, please add the necessary import.\n  cirq.google.api.v2.QubitMapping.QubitEntry.value: \"cirq.google.api.v2.Qubit\" seems to be defined in \"cirq/google/api/v2/program.proto\", which is not imported by \"cirq_google/api/v2/program.proto\".  To use it here, please add the necessary import.\n  cirq.google.api.v2.ArgMapping.ArgEntry.key: \"cirq.google.api.v2.Arg\" seems to be defined in \"cirq/google/api/v2/program.proto\", which is not imported by \"cirq_google/api/v2/program.proto\".  To use it here, please add the necessary import.\n  cirq.google.api.v2.ArgMapping.ArgEntry.value: \"cirq.google.api.v2.Arg\" seems to be defined in \"cirq/google/api/v2/program.proto\", which is not imported by \"cirq_google/api/v2/program.proto\".  To use it here, please add the necessary import.\n",
     "output_type": "error",
     "traceback": [
      "\u001b[0;31m---------------------------------------------------------------------------\u001b[0m",
      "\u001b[0;31mTypeError\u001b[0m                                 Traceback (most recent call last)",
      "\u001b[0;32m/tmp/ipykernel_5423/2247200809.py\u001b[0m in \u001b[0;36m<module>\u001b[0;34m\u001b[0m\n\u001b[1;32m      9\u001b[0m \u001b[0;32mimport\u001b[0m \u001b[0mmatplotlib\u001b[0m\u001b[0;34m.\u001b[0m\u001b[0mpyplot\u001b[0m \u001b[0;32mas\u001b[0m \u001b[0mplt\u001b[0m\u001b[0;34m\u001b[0m\u001b[0;34m\u001b[0m\u001b[0m\n\u001b[1;32m     10\u001b[0m \u001b[0;34m\u001b[0m\u001b[0m\n\u001b[0;32m---> 11\u001b[0;31m \u001b[0;32mimport\u001b[0m \u001b[0mtensorflow_quantum\u001b[0m \u001b[0;32mas\u001b[0m \u001b[0mtfq\u001b[0m\u001b[0;34m\u001b[0m\u001b[0;34m\u001b[0m\u001b[0m\n\u001b[0m\u001b[1;32m     12\u001b[0m \u001b[0;32mimport\u001b[0m \u001b[0mcirq\u001b[0m\u001b[0;34m\u001b[0m\u001b[0;34m\u001b[0m\u001b[0m\n\u001b[1;32m     13\u001b[0m \u001b[0;32mfrom\u001b[0m \u001b[0mcirq\u001b[0m\u001b[0;34m.\u001b[0m\u001b[0mcontrib\u001b[0m\u001b[0;34m.\u001b[0m\u001b[0msvg\u001b[0m \u001b[0;32mimport\u001b[0m \u001b[0mSVGCircuit\u001b[0m\u001b[0;34m\u001b[0m\u001b[0;34m\u001b[0m\u001b[0m\n",
      "\u001b[0;32m~/anaconda3/lib/python3.9/site-packages/tensorflow_quantum/__init__.py\u001b[0m in \u001b[0;36m<module>\u001b[0;34m\u001b[0m\n\u001b[1;32m     16\u001b[0m \u001b[0;34m\u001b[0m\u001b[0m\n\u001b[1;32m     17\u001b[0m \u001b[0;31m# Import basic ops and op getters.\u001b[0m\u001b[0;34m\u001b[0m\u001b[0;34m\u001b[0m\u001b[0m\n\u001b[0;32m---> 18\u001b[0;31m from tensorflow_quantum.core import (append_circuit, get_expectation_op,\n\u001b[0m\u001b[1;32m     19\u001b[0m                                      \u001b[0mget_sampled_expectation_op\u001b[0m\u001b[0;34m,\u001b[0m\u001b[0;34m\u001b[0m\u001b[0;34m\u001b[0m\u001b[0m\n\u001b[1;32m     20\u001b[0m                                      \u001b[0mget_sampling_op\u001b[0m\u001b[0;34m,\u001b[0m \u001b[0mget_state_op\u001b[0m\u001b[0;34m,\u001b[0m\u001b[0;34m\u001b[0m\u001b[0;34m\u001b[0m\u001b[0m\n",
      "\u001b[0;32m~/anaconda3/lib/python3.9/site-packages/tensorflow_quantum/core/__init__.py\u001b[0m in \u001b[0;36m<module>\u001b[0;34m\u001b[0m\n\u001b[1;32m     15\u001b[0m \u001b[0;34m\"\"\"Imports to tensorflow_quantum.core.* level.\"\"\"\u001b[0m\u001b[0;34m\u001b[0m\u001b[0;34m\u001b[0m\u001b[0m\n\u001b[1;32m     16\u001b[0m \u001b[0;31m# Import getters for constructing ops.\u001b[0m\u001b[0;34m\u001b[0m\u001b[0;34m\u001b[0m\u001b[0m\n\u001b[0;32m---> 17\u001b[0;31m from tensorflow_quantum.core.ops import (get_expectation_op,\n\u001b[0m\u001b[1;32m     18\u001b[0m                                          \u001b[0mget_sampled_expectation_op\u001b[0m\u001b[0;34m,\u001b[0m\u001b[0;34m\u001b[0m\u001b[0;34m\u001b[0m\u001b[0m\n\u001b[1;32m     19\u001b[0m                                          \u001b[0mget_sampling_op\u001b[0m\u001b[0;34m,\u001b[0m \u001b[0mget_state_op\u001b[0m\u001b[0;34m,\u001b[0m\u001b[0;34m\u001b[0m\u001b[0;34m\u001b[0m\u001b[0m\n",
      "\u001b[0;32m~/anaconda3/lib/python3.9/site-packages/tensorflow_quantum/core/ops/__init__.py\u001b[0m in \u001b[0;36m<module>\u001b[0;34m\u001b[0m\n\u001b[1;32m     16\u001b[0m \u001b[0;34m\u001b[0m\u001b[0m\n\u001b[1;32m     17\u001b[0m \u001b[0;31m# Import getters for constructing ops.\u001b[0m\u001b[0;34m\u001b[0m\u001b[0;34m\u001b[0m\u001b[0m\n\u001b[0;32m---> 18\u001b[0;31m from tensorflow_quantum.core.ops.circuit_execution_ops import (\n\u001b[0m\u001b[1;32m     19\u001b[0m     \u001b[0mget_expectation_op\u001b[0m\u001b[0;34m,\u001b[0m \u001b[0mget_sampled_expectation_op\u001b[0m\u001b[0;34m,\u001b[0m \u001b[0mget_sampling_op\u001b[0m\u001b[0;34m,\u001b[0m\u001b[0;34m\u001b[0m\u001b[0;34m\u001b[0m\u001b[0m\n\u001b[1;32m     20\u001b[0m     get_state_op)\n",
      "\u001b[0;32m~/anaconda3/lib/python3.9/site-packages/tensorflow_quantum/core/ops/circuit_execution_ops.py\u001b[0m in \u001b[0;36m<module>\u001b[0;34m\u001b[0m\n\u001b[1;32m     18\u001b[0m \u001b[0;32mimport\u001b[0m \u001b[0mcirq\u001b[0m\u001b[0;34m\u001b[0m\u001b[0;34m\u001b[0m\u001b[0m\n\u001b[1;32m     19\u001b[0m \u001b[0;34m\u001b[0m\u001b[0m\n\u001b[0;32m---> 20\u001b[0;31m from tensorflow_quantum.core.ops import (cirq_ops, tfq_simulate_ops,\n\u001b[0m\u001b[1;32m     21\u001b[0m                                          tfq_utility_ops)\n\u001b[1;32m     22\u001b[0m \u001b[0;32mfrom\u001b[0m \u001b[0mtensorflow_quantum\u001b[0m\u001b[0;34m.\u001b[0m\u001b[0mpython\u001b[0m \u001b[0;32mimport\u001b[0m \u001b[0mquantum_context\u001b[0m\u001b[0;34m\u001b[0m\u001b[0;34m\u001b[0m\u001b[0m\n",
      "\u001b[0;32m~/anaconda3/lib/python3.9/site-packages/tensorflow_quantum/core/ops/cirq_ops.py\u001b[0m in \u001b[0;36m<module>\u001b[0;34m\u001b[0m\n\u001b[1;32m     20\u001b[0m \u001b[0;32mimport\u001b[0m \u001b[0mtensorflow\u001b[0m \u001b[0;32mas\u001b[0m \u001b[0mtf\u001b[0m\u001b[0;34m\u001b[0m\u001b[0;34m\u001b[0m\u001b[0m\n\u001b[1;32m     21\u001b[0m \u001b[0;32mimport\u001b[0m \u001b[0mcirq\u001b[0m\u001b[0;34m\u001b[0m\u001b[0;34m\u001b[0m\u001b[0m\n\u001b[0;32m---> 22\u001b[0;31m \u001b[0;32mimport\u001b[0m \u001b[0mcirq_google\u001b[0m\u001b[0;34m\u001b[0m\u001b[0;34m\u001b[0m\u001b[0m\n\u001b[0m\u001b[1;32m     23\u001b[0m \u001b[0;34m\u001b[0m\u001b[0m\n\u001b[1;32m     24\u001b[0m \u001b[0;32mfrom\u001b[0m \u001b[0mtensorflow_quantum\u001b[0m\u001b[0;34m.\u001b[0m\u001b[0mcore\u001b[0m\u001b[0;34m.\u001b[0m\u001b[0mops\u001b[0m \u001b[0;32mimport\u001b[0m \u001b[0mbatch_util\u001b[0m\u001b[0;34m\u001b[0m\u001b[0;34m\u001b[0m\u001b[0m\n",
      "\u001b[0;32m~/anaconda3/lib/python3.9/site-packages/cirq_google/__init__.py\u001b[0m in \u001b[0;36m<module>\u001b[0;34m\u001b[0m\n\u001b[1;32m     15\u001b[0m \u001b[0;34m\"\"\"Classes for working with Google's Quantum Engine API.\"\"\"\u001b[0m\u001b[0;34m\u001b[0m\u001b[0;34m\u001b[0m\u001b[0m\n\u001b[1;32m     16\u001b[0m \u001b[0;34m\u001b[0m\u001b[0m\n\u001b[0;32m---> 17\u001b[0;31m \u001b[0;32mfrom\u001b[0m \u001b[0mcirq_google\u001b[0m \u001b[0;32mimport\u001b[0m \u001b[0mapi\u001b[0m\u001b[0;34m\u001b[0m\u001b[0;34m\u001b[0m\u001b[0m\n\u001b[0m\u001b[1;32m     18\u001b[0m \u001b[0;34m\u001b[0m\u001b[0m\n\u001b[1;32m     19\u001b[0m from cirq_google.calibration import (\n",
      "\u001b[0;32m~/anaconda3/lib/python3.9/site-packages/cirq_google/api/__init__.py\u001b[0m in \u001b[0;36m<module>\u001b[0;34m\u001b[0m\n\u001b[1;32m     14\u001b[0m \u001b[0;34m\"\"\"Helpers for converting to/from api data formats.\"\"\"\u001b[0m\u001b[0;34m\u001b[0m\u001b[0;34m\u001b[0m\u001b[0m\n\u001b[1;32m     15\u001b[0m \u001b[0;34m\u001b[0m\u001b[0m\n\u001b[0;32m---> 16\u001b[0;31m \u001b[0;32mfrom\u001b[0m \u001b[0mcirq_google\u001b[0m\u001b[0;34m.\u001b[0m\u001b[0mapi\u001b[0m \u001b[0;32mimport\u001b[0m \u001b[0mv2\u001b[0m\u001b[0;34m\u001b[0m\u001b[0;34m\u001b[0m\u001b[0m\n\u001b[0m",
      "\u001b[0;32m~/anaconda3/lib/python3.9/site-packages/cirq_google/api/v2/__init__.py\u001b[0m in \u001b[0;36m<module>\u001b[0;34m\u001b[0m\n\u001b[1;32m     14\u001b[0m \u001b[0;34m\"\"\"Data format v2 for google api.\"\"\"\u001b[0m\u001b[0;34m\u001b[0m\u001b[0;34m\u001b[0m\u001b[0m\n\u001b[1;32m     15\u001b[0m \u001b[0;34m\u001b[0m\u001b[0m\n\u001b[0;32m---> 16\u001b[0;31m from cirq_google.api.v2 import (\n\u001b[0m\u001b[1;32m     17\u001b[0m     \u001b[0mbatch_pb2\u001b[0m\u001b[0;34m,\u001b[0m\u001b[0;34m\u001b[0m\u001b[0;34m\u001b[0m\u001b[0m\n\u001b[1;32m     18\u001b[0m     \u001b[0mcalibration_pb2\u001b[0m\u001b[0;34m,\u001b[0m\u001b[0;34m\u001b[0m\u001b[0;34m\u001b[0m\u001b[0m\n",
      "\u001b[0;32m~/anaconda3/lib/python3.9/site-packages/cirq_google/api/v2/batch_pb2.py\u001b[0m in \u001b[0;36m<module>\u001b[0;34m\u001b[0m\n\u001b[1;32m     12\u001b[0m \u001b[0;34m\u001b[0m\u001b[0m\n\u001b[1;32m     13\u001b[0m \u001b[0;34m\u001b[0m\u001b[0m\n\u001b[0;32m---> 14\u001b[0;31m \u001b[0;32mfrom\u001b[0m \u001b[0;34m.\u001b[0m \u001b[0;32mimport\u001b[0m \u001b[0mprogram_pb2\u001b[0m \u001b[0;32mas\u001b[0m \u001b[0mcirq__google_dot_api_dot_v2_dot_program__pb2\u001b[0m\u001b[0;34m\u001b[0m\u001b[0;34m\u001b[0m\u001b[0m\n\u001b[0m\u001b[1;32m     15\u001b[0m \u001b[0;32mfrom\u001b[0m \u001b[0;34m.\u001b[0m \u001b[0;32mimport\u001b[0m \u001b[0mresult_pb2\u001b[0m \u001b[0;32mas\u001b[0m \u001b[0mcirq__google_dot_api_dot_v2_dot_result__pb2\u001b[0m\u001b[0;34m\u001b[0m\u001b[0;34m\u001b[0m\u001b[0m\n\u001b[1;32m     16\u001b[0m \u001b[0;32mfrom\u001b[0m \u001b[0;34m.\u001b[0m \u001b[0;32mimport\u001b[0m \u001b[0mrun_context_pb2\u001b[0m \u001b[0;32mas\u001b[0m \u001b[0mcirq__google_dot_api_dot_v2_dot_run__context__pb2\u001b[0m\u001b[0;34m\u001b[0m\u001b[0;34m\u001b[0m\u001b[0m\n",
      "\u001b[0;32m~/anaconda3/lib/python3.9/site-packages/cirq_google/api/v2/program_pb2.py\u001b[0m in \u001b[0;36m<module>\u001b[0;34m\u001b[0m\n\u001b[1;32m     14\u001b[0m \u001b[0;34m\u001b[0m\u001b[0m\n\u001b[1;32m     15\u001b[0m \u001b[0;34m\u001b[0m\u001b[0m\n\u001b[0;32m---> 16\u001b[0;31m DESCRIPTOR = _descriptor.FileDescriptor(\n\u001b[0m\u001b[1;32m     17\u001b[0m   \u001b[0mname\u001b[0m\u001b[0;34m=\u001b[0m\u001b[0;34m'cirq_google/api/v2/program.proto'\u001b[0m\u001b[0;34m,\u001b[0m\u001b[0;34m\u001b[0m\u001b[0;34m\u001b[0m\u001b[0m\n\u001b[1;32m     18\u001b[0m   \u001b[0mpackage\u001b[0m\u001b[0;34m=\u001b[0m\u001b[0;34m'cirq.google.api.v2'\u001b[0m\u001b[0;34m,\u001b[0m\u001b[0;34m\u001b[0m\u001b[0;34m\u001b[0m\u001b[0m\n",
      "\u001b[0;32m~/anaconda3/lib/python3.9/site-packages/google/protobuf/descriptor.py\u001b[0m in \u001b[0;36m__new__\u001b[0;34m(cls, name, package, options, serialized_options, serialized_pb, dependencies, public_dependencies, syntax, pool, create_key)\u001b[0m\n\u001b[1;32m    981\u001b[0m           \u001b[0;32mraise\u001b[0m \u001b[0mRuntimeError\u001b[0m\u001b[0;34m(\u001b[0m\u001b[0;34m'Please link in cpp generated lib for %s'\u001b[0m \u001b[0;34m%\u001b[0m \u001b[0;34m(\u001b[0m\u001b[0mname\u001b[0m\u001b[0;34m)\u001b[0m\u001b[0;34m)\u001b[0m\u001b[0;34m\u001b[0m\u001b[0;34m\u001b[0m\u001b[0m\n\u001b[1;32m    982\u001b[0m       \u001b[0;32melif\u001b[0m \u001b[0mserialized_pb\u001b[0m\u001b[0;34m:\u001b[0m\u001b[0;34m\u001b[0m\u001b[0;34m\u001b[0m\u001b[0m\n\u001b[0;32m--> 983\u001b[0;31m         \u001b[0;32mreturn\u001b[0m \u001b[0m_message\u001b[0m\u001b[0;34m.\u001b[0m\u001b[0mdefault_pool\u001b[0m\u001b[0;34m.\u001b[0m\u001b[0mAddSerializedFile\u001b[0m\u001b[0;34m(\u001b[0m\u001b[0mserialized_pb\u001b[0m\u001b[0;34m)\u001b[0m\u001b[0;34m\u001b[0m\u001b[0;34m\u001b[0m\u001b[0m\n\u001b[0m\u001b[1;32m    984\u001b[0m       \u001b[0;32melse\u001b[0m\u001b[0;34m:\u001b[0m\u001b[0;34m\u001b[0m\u001b[0;34m\u001b[0m\u001b[0m\n\u001b[1;32m    985\u001b[0m         \u001b[0;32mreturn\u001b[0m \u001b[0msuper\u001b[0m\u001b[0;34m(\u001b[0m\u001b[0mFileDescriptor\u001b[0m\u001b[0;34m,\u001b[0m \u001b[0mcls\u001b[0m\u001b[0;34m)\u001b[0m\u001b[0;34m.\u001b[0m\u001b[0m__new__\u001b[0m\u001b[0;34m(\u001b[0m\u001b[0mcls\u001b[0m\u001b[0;34m)\u001b[0m\u001b[0;34m\u001b[0m\u001b[0;34m\u001b[0m\u001b[0m\n",
      "\u001b[0;31mTypeError\u001b[0m: Couldn't build proto file into descriptor pool!\nInvalid proto descriptor for file \"cirq_google/api/v2/program.proto\":\n  cirq.google.api.v2.Program.program: \"cirq.google.api.v2.Program.program\" is already defined in file \"cirq/google/api/v2/program.proto\".\n  cirq.google.api.v2.Program.language: \"cirq.google.api.v2.Program.language\" is already defined in file \"cirq/google/api/v2/program.proto\".\n  cirq.google.api.v2.Program.circuit: \"cirq.google.api.v2.Program.circuit\" is already defined in file \"cirq/google/api/v2/program.proto\".\n  cirq.google.api.v2.Program.schedule: \"cirq.google.api.v2.Program.schedule\" is already defined in file \"cirq/google/api/v2/program.proto\".\n  cirq.google.api.v2.Program: \"cirq.google.api.v2.Program\" is already defined in file \"cirq/google/api/v2/program.proto\".\n  cirq.google.api.v2.Circuit.scheduling_strategy: \"cirq.google.api.v2.Circuit.scheduling_strategy\" is already defined in file \"cirq/google/api/v2/program.proto\".\n  cirq.google.api.v2.Circuit.moments: \"cirq.google.api.v2.Circuit.moments\" is already defined in file \"cirq/google/api/v2/program.proto\".\n  cirq.google.api.v2.Circuit.SCHEDULING_STRATEGY_UNSPECIFIED: \"cirq.google.api.v2.Circuit.SCHEDULING_STRATEGY_UNSPECIFIED\" is already defined in file \"cirq/google/api/v2/program.proto\".\n  cirq.google.api.v2.Circuit.SCHEDULING_STRATEGY_UNSPECIFIED: Note that enum values use C++ scoping rules, meaning that enum values are siblings of their type, not children of it.  Therefore, \"SCHEDULING_STRATEGY_UNSPECIFIED\" must be unique within \"cirq.google.api.v2.Circuit\", not just within \"SchedulingStrategy\".\n  cirq.google.api.v2.Circuit.MOMENT_BY_MOMENT: \"cirq.google.api.v2.Circuit.MOMENT_BY_MOMENT\" is already defined in file \"cirq/google/api/v2/program.proto\".\n  cirq.google.api.v2.Circuit.MOMENT_BY_MOMENT: Note that enum values use C++ scoping rules, meaning that enum values are siblings of their type, not children of it.  Therefore, \"MOMENT_BY_MOMENT\" must be unique within \"cirq.google.api.v2.Circuit\", not just within \"SchedulingStrategy\".\n  cirq.google.api.v2.Circuit.SchedulingStrategy: \"cirq.google.api.v2.Circuit.SchedulingStrategy\" is already defined in file \"cirq/google/api/v2/program.proto\".\n  cirq.google.api.v2.Circuit: \"cirq.google.api.v2.Circuit\" is already defined in file \"cirq/google/api/v2/program.proto\".\n  cirq.google.api.v2.Moment.operations: \"cirq.google.api.v2.Moment.operations\" is already defined in file \"cirq/google/api/v2/program.proto\".\n  cirq.google.api.v2.Moment: \"cirq.google.api.v2.Moment\" is already defined in file \"cirq/google/api/v2/program.proto\".\n  cirq.google.api.v2.Schedule.scheduled_operations: \"cirq.google.api.v2.Schedule.scheduled_operations\" is already defined in file \"cirq/google/api/v2/program.proto\".\n  cirq.google.api.v2.Schedule: \"cirq.google.api.v2.Schedule\" is already defined in file \"cirq/google/api/v2/program.proto\".\n  cirq.google.api.v2.ScheduledOperation.operation: \"cirq.google.api.v2.ScheduledOperation.operation\" is already defined in file \"cirq/google/api/v2/program.proto\".\n  cirq.google.api.v2.ScheduledOperation.start_time_picos: \"cirq.google.api.v2.ScheduledOperation.start_time_picos\" is already defined in file \"cirq/google/api/v2/program.proto\".\n  cirq.google.api.v2.ScheduledOperation: \"cirq.google.api.v2.ScheduledOperation\" is already defined in file \"cirq/google/api/v2/program.proto\".\n  cirq.google.api.v2.Language.gate_set: \"cirq.google.api.v2.Language.gate_set\" is already defined in file \"cirq/google/api/v2/program.proto\".\n  cirq.google.api.v2.Language.arg_function_language: \"cirq.google.api.v2.Language.arg_function_language\" is already defined in file \"cirq/google/api/v2/program.proto\".\n  cirq.google.api.v2.Language: \"cirq.google.api.v2.Language\" is already defined in file \"cirq/google/api/v2/program.proto\".\n  cirq.google.api.v2.Operation.gate: \"cirq.google.api.v2.Operation.gate\" is already defined in file \"cirq/google/api/v2/program.proto\".\n  cirq.google.api.v2.Operation.args: \"cirq.google.api.v2.Operation.args\" is already defined in file \"cirq/google/api/v2/program.proto\".\n  cirq.google.api.v2.Operation.qubits: \"cirq.google.api.v2.Operation.qubits\" is already defined in file \"cirq/google/api/v2/program.proto\".\n  cirq.google.api.v2.Operation.ArgsEntry.key: \"cirq.google.api.v2.Operation.ArgsEntry.key\" is already defined in file \"cirq/google/api/v2/program.proto\".\n  cirq.google.api.v2.Operation.ArgsEntry.value: \"cirq.google.api.v2.Operation.ArgsEntry.value\" is already defined in file \"cirq/google/api/v2/program.proto\".\n  cirq.google.api.v2.Operation.ArgsEntry: \"cirq.google.api.v2.Operation.ArgsEntry\" is already defined in file \"cirq/google/api/v2/program.proto\".\n  cirq.google.api.v2.Operation: \"cirq.google.api.v2.Operation\" is already defined in file \"cirq/google/api/v2/program.proto\".\n  cirq.google.api.v2.Gate.id: \"cirq.google.api.v2.Gate.id\" is already defined in file \"cirq/google/api/v2/program.proto\".\n  cirq.google.api.v2.Gate: \"cirq.google.api.v2.Gate\" is already defined in file \"cirq/google/api/v2/program.proto\".\n  cirq.google.api.v2.Qubit.id: \"cirq.google.api.v2.Qubit.id\" is already defined in file \"cirq/google/api/v2/program.proto\".\n  cirq.google.api.v2.Qubit: \"cirq.google.api.v2.Qubit\" is already defined in file \"cirq/google/api/v2/program.proto\".\n  cirq.google.api.v2.Arg.arg: \"cirq.google.api.v2.Arg.arg\" is already defined in file \"cirq/google/api/v2/program.proto\".\n  cirq.google.api.v2.Arg.arg_value: \"cirq.google.api.v2.Arg.arg_value\" is already defined in file \"cirq/google/api/v2/program.proto\".\n  cirq.google.api.v2.Arg.symbol: \"cirq.google.api.v2.Arg.symbol\" is already defined in file \"cirq/google/api/v2/program.proto\".\n  cirq.google.api.v2.Arg.func: \"cirq.google.api.v2.Arg.func\" is already defined in file \"cirq/google/api/v2/program.proto\".\n  cirq.google.api.v2.Arg: \"cirq.google.api.v2.Arg\" is already defined in file \"cirq/google/api/v2/program.proto\".\n  cirq.google.api.v2.ArgValue.arg_value: \"cirq.google.api.v2.ArgValue.arg_value\" is already defined in file \"cirq/google/api/v2/program.proto\".\n  cirq.google.api.v2.ArgValue.float_value: \"cirq.google.api.v2.ArgValue.float_value\" is already defined in file \"cirq/google/api/v2/program.proto\".\n  cirq.google.api.v2.ArgValue.bool_values: \"cirq.google.api.v2.ArgValue.bool_values\" is already defined in file \"cirq/google/api/v2/program.proto\".\n  cirq.google.api.v2.ArgValue.string_value: \"cirq.google.api.v2.ArgValue.string_value\" is already defined in file \"cirq/google/api/v2/program.proto\".\n  cirq.google.api.v2.ArgValue: \"cirq.google.api.v2.ArgValue\" is already defined in file \"cirq/google/api/v2/program.proto\".\n  cirq.google.api.v2.RepeatedBoolean.values: \"cirq.google.api.v2.RepeatedBoolean.values\" is already defined in file \"cirq/google/api/v2/program.proto\".\n  cirq.google.api.v2.RepeatedBoolean: \"cirq.google.api.v2.RepeatedBoolean\" is already defined in file \"cirq/google/api/v2/program.proto\".\n  cirq.google.api.v2.ArgFunction.type: \"cirq.google.api.v2.ArgFunction.type\" is already defined in file \"cirq/google/api/v2/program.proto\".\n  cirq.google.api.v2.ArgFunction.args: \"cirq.google.api.v2.ArgFunction.args\" is already defined in file \"cirq/google/api/v2/program.proto\".\n  cirq.google.api.v2.ArgFunction: \"cirq.google.api.v2.ArgFunction\" is already defined in file \"cirq/google/api/v2/program.proto\".\n  cirq.google.api.v2.Program.language: \"cirq.google.api.v2.Language\" seems to be defined in \"cirq/google/api/v2/program.proto\", which is not imported by \"cirq_google/api/v2/program.proto\".  To use it here, please add the necessary import.\n  cirq.google.api.v2.Program.circuit: \"cirq.google.api.v2.Circuit\" seems to be defined in \"cirq/google/api/v2/program.proto\", which is not imported by \"cirq_google/api/v2/program.proto\".  To use it here, please add the necessary import.\n  cirq.google.api.v2.Program.schedule: \"cirq.google.api.v2.Schedule\" seems to be defined in \"cirq/google/api/v2/program.proto\", which is not imported by \"cirq_google/api/v2/program.proto\".  To use it here, please add the necessary import.\n  cirq.google.api.v2.Constant.circuit_value: \"cirq.google.api.v2.Circuit\" seems to be defined in \"cirq/google/api/v2/program.proto\", which is not imported by \"cirq_google/api/v2/program.proto\".  To use it here, please add the necessary import.\n  cirq.google.api.v2.Constant.qubit: \"cirq.google.api.v2.Qubit\" seems to be defined in \"cirq/google/api/v2/program.proto\", which is not imported by \"cirq_google/api/v2/program.proto\".  To use it here, please add the necessary import.\n  cirq.google.api.v2.Circuit.scheduling_strategy: \"cirq.google.api.v2.Circuit.SchedulingStrategy\" seems to be defined in \"cirq/google/api/v2/program.proto\", which is not imported by \"cirq_google/api/v2/program.proto\".  To use it here, please add the necessary import.\n  cirq.google.api.v2.Circuit.moments: \"cirq.google.api.v2.Moment\" seems to be defined in \"cirq/google/api/v2/program.proto\", which is not imported by \"cirq_google/api/v2/program.proto\".  To use it here, please add the necessary import.\n  cirq.google.api.v2.Moment.operations: \"cirq.google.api.v2.Operation\" seems to be defined in \"cirq/google/api/v2/program.proto\", which is not imported by \"cirq_google/api/v2/program.proto\".  To use it here, please add the necessary import.\n  cirq.google.api.v2.Schedule.scheduled_operations: \"cirq.google.api.v2.ScheduledOperation\" seems to be defined in \"cirq/google/api/v2/program.proto\", which is not imported by \"cirq_google/api/v2/program.proto\".  To use it here, please add the necessary import.\n  cirq.google.api.v2.ScheduledOperation.operation: \"cirq.google.api.v2.Operation\" seems to be defined in \"cirq/google/api/v2/program.proto\", which is not imported by \"cirq_google/api/v2/program.proto\".  To use it here, please add the necessary import.\n  cirq.google.api.v2.FloatArg.func: \"cirq.google.api.v2.ArgFunction\" seems to be defined in \"cirq/google/api/v2/program.proto\", which is not imported by \"cirq_google/api/v2/program.proto\".  To use it here, please add the necessary import.\n  cirq.google.api.v2.MeasurementGate.key: \"cirq.google.api.v2.Arg\" seems to be defined in \"cirq/google/api/v2/program.proto\", which is not imported by \"cirq_google/api/v2/program.proto\".  To use it here, please add the necessary import.\n  cirq.google.api.v2.MeasurementGate.invert_mask: \"cirq.google.api.v2.Arg\" seems to be defined in \"cirq/google/api/v2/program.proto\", which is not imported by \"cirq_google/api/v2/program.proto\".  To use it here, please add the necessary import.\n  cirq.google.api.v2.Operation.ArgsEntry.value: \"cirq.google.api.v2.Arg\" seems to be defined in \"cirq/google/api/v2/program.proto\", which is not imported by \"cirq_google/api/v2/program.proto\".  To use it here, please add the necessary import.\n  cirq.google.api.v2.Operation.gate: \"cirq.google.api.v2.Gate\" seems to be defined in \"cirq/google/api/v2/program.proto\", which is not imported by \"cirq_google/api/v2/program.proto\".  To use it here, please add the necessary import.\n  cirq.google.api.v2.Operation.args: \"cirq.google.api.v2.Operation.ArgsEntry\" seems to be defined in \"cirq/google/api/v2/program.proto\", which is not imported by \"cirq_google/api/v2/program.proto\".  To use it here, please add the necessary import.\n  cirq.google.api.v2.Operation.qubits: \"cirq.google.api.v2.Qubit\" seems to be defined in \"cirq/google/api/v2/program.proto\", which is not imported by \"cirq_google/api/v2/program.proto\".  To use it here, please add the necessary import.\n  cirq.google.api.v2.Arg.arg_value: \"cirq.google.api.v2.ArgValue\" seems to be defined in \"cirq/google/api/v2/program.proto\", which is not imported by \"cirq_google/api/v2/program.proto\".  To use it here, please add the necessary import.\n  cirq.google.api.v2.Arg.func: \"cirq.google.api.v2.ArgFunction\" seems to be defined in \"cirq/google/api/v2/program.proto\", which is not imported by \"cirq_google/api/v2/program.proto\".  To use it here, please add the necessary import.\n  cirq.google.api.v2.ArgValue.bool_values: \"cirq.google.api.v2.RepeatedBoolean\" seems to be defined in \"cirq/google/api/v2/program.proto\", which is not imported by \"cirq_google/api/v2/program.proto\".  To use it here, please add the necessary import.\n  cirq.google.api.v2.ArgFunction.args: \"cirq.google.api.v2.Arg\" seems to be defined in \"cirq/google/api/v2/program.proto\", which is not imported by \"cirq_google/api/v2/program.proto\".  To use it here, please add the necessary import.\n  cirq.google.api.v2.QubitMapping.QubitEntry.key: \"cirq.google.api.v2.Qubit\" seems to be defined in \"cirq/google/api/v2/program.proto\", which is not imported by \"cirq_google/api/v2/program.proto\".  To use it here, please add the necessary import.\n  cirq.google.api.v2.QubitMapping.QubitEntry.value: \"cirq.google.api.v2.Qubit\" seems to be defined in \"cirq/google/api/v2/program.proto\", which is not imported by \"cirq_google/api/v2/program.proto\".  To use it here, please add the necessary import.\n  cirq.google.api.v2.ArgMapping.ArgEntry.key: \"cirq.google.api.v2.Arg\" seems to be defined in \"cirq/google/api/v2/program.proto\", which is not imported by \"cirq_google/api/v2/program.proto\".  To use it here, please add the necessary import.\n  cirq.google.api.v2.ArgMapping.ArgEntry.value: \"cirq.google.api.v2.Arg\" seems to be defined in \"cirq/google/api/v2/program.proto\", which is not imported by \"cirq_google/api/v2/program.proto\".  To use it here, please add the necessary import.\n"
     ]
    }
   ],
   "source": [
    "#import dependencies \n",
    "import tensorflow as tf\n",
    "\n",
    "import sympy\n",
    "import numpy as np\n",
    "import seaborn as sns\n",
    "import collections\n",
    "import pandas as pd\n",
    "import matplotlib.pyplot as plt\n",
    "\n",
    "import tensorflow_quantum as tfq\n",
    "import cirq\n",
    "from cirq.contrib.svg import SVGCircuit"
   ]
  },
  {
   "cell_type": "code",
   "execution_count": 2,
   "id": "aab6b1b8",
   "metadata": {},
   "outputs": [],
   "source": [
    "def load_data(dataset):\n",
    "    class_names = []\n",
    "    images = []\n",
    "    labels = []  \n",
    "    for folder in os.listdir(dataset):\n",
    "        class_names.append(folder)    \n",
    "    class_names_label = {class_name:i for i, class_name in enumerate(class_names)} \n",
    "    print(\"Loading Dataset {}\".format(dataset))\n",
    "    for folder in os.listdir(dataset):\n",
    "        label = class_names_label[folder]\n",
    "        for file in tqdm(os.listdir(os.path.join(dataset, folder))):\n",
    "            img_path = os.path.join(os.path.join(dataset, folder), file)\n",
    "            image = cv2.imread(img_path)\n",
    "            image = cv2.cvtColor(image, cv2.COLOR_BGR2RGB)\n",
    "            IMAGE_SIZE = (150, 150)\n",
    "            image = cv2.resize(image, IMAGE_SIZE)\n",
    "            images.append(image)\n",
    "            labels.append(label)\n",
    "    return images, labels , class_names"
   ]
  },
  {
   "cell_type": "code",
   "execution_count": 3,
   "id": "18941370",
   "metadata": {},
   "outputs": [
    {
     "ename": "NameError",
     "evalue": "name 'os' is not defined",
     "output_type": "error",
     "traceback": [
      "\u001b[0;31m---------------------------------------------------------------------------\u001b[0m",
      "\u001b[0;31mNameError\u001b[0m                                 Traceback (most recent call last)",
      "\u001b[0;32m/tmp/ipykernel_5423/3924227431.py\u001b[0m in \u001b[0;36m<module>\u001b[0;34m\u001b[0m\n\u001b[1;32m      1\u001b[0m \u001b[0mdataset\u001b[0m \u001b[0;34m=\u001b[0m \u001b[0;34m'../dataset/mit'\u001b[0m\u001b[0;34m\u001b[0m\u001b[0;34m\u001b[0m\u001b[0m\n\u001b[0;32m----> 2\u001b[0;31m \u001b[0mimages\u001b[0m\u001b[0;34m,\u001b[0m \u001b[0mlabels\u001b[0m\u001b[0;34m,\u001b[0m \u001b[0mclass_names\u001b[0m \u001b[0;34m=\u001b[0m \u001b[0mload_data\u001b[0m\u001b[0;34m(\u001b[0m\u001b[0mdataset\u001b[0m\u001b[0;34m)\u001b[0m\u001b[0;34m\u001b[0m\u001b[0;34m\u001b[0m\u001b[0m\n\u001b[0m",
      "\u001b[0;32m/tmp/ipykernel_5423/1303696987.py\u001b[0m in \u001b[0;36mload_data\u001b[0;34m(dataset)\u001b[0m\n\u001b[1;32m      3\u001b[0m     \u001b[0mimages\u001b[0m \u001b[0;34m=\u001b[0m \u001b[0;34m[\u001b[0m\u001b[0;34m]\u001b[0m\u001b[0;34m\u001b[0m\u001b[0;34m\u001b[0m\u001b[0m\n\u001b[1;32m      4\u001b[0m     \u001b[0mlabels\u001b[0m \u001b[0;34m=\u001b[0m \u001b[0;34m[\u001b[0m\u001b[0;34m]\u001b[0m\u001b[0;34m\u001b[0m\u001b[0;34m\u001b[0m\u001b[0m\n\u001b[0;32m----> 5\u001b[0;31m     \u001b[0;32mfor\u001b[0m \u001b[0mfolder\u001b[0m \u001b[0;32min\u001b[0m \u001b[0mos\u001b[0m\u001b[0;34m.\u001b[0m\u001b[0mlistdir\u001b[0m\u001b[0;34m(\u001b[0m\u001b[0mdataset\u001b[0m\u001b[0;34m)\u001b[0m\u001b[0;34m:\u001b[0m\u001b[0;34m\u001b[0m\u001b[0;34m\u001b[0m\u001b[0m\n\u001b[0m\u001b[1;32m      6\u001b[0m         \u001b[0mclass_names\u001b[0m\u001b[0;34m.\u001b[0m\u001b[0mappend\u001b[0m\u001b[0;34m(\u001b[0m\u001b[0mfolder\u001b[0m\u001b[0;34m)\u001b[0m\u001b[0;34m\u001b[0m\u001b[0;34m\u001b[0m\u001b[0m\n\u001b[1;32m      7\u001b[0m     \u001b[0mclass_names_label\u001b[0m \u001b[0;34m=\u001b[0m \u001b[0;34m{\u001b[0m\u001b[0mclass_name\u001b[0m\u001b[0;34m:\u001b[0m\u001b[0mi\u001b[0m \u001b[0;32mfor\u001b[0m \u001b[0mi\u001b[0m\u001b[0;34m,\u001b[0m \u001b[0mclass_name\u001b[0m \u001b[0;32min\u001b[0m \u001b[0menumerate\u001b[0m\u001b[0;34m(\u001b[0m\u001b[0mclass_names\u001b[0m\u001b[0;34m)\u001b[0m\u001b[0;34m}\u001b[0m\u001b[0;34m\u001b[0m\u001b[0;34m\u001b[0m\u001b[0m\n",
      "\u001b[0;31mNameError\u001b[0m: name 'os' is not defined"
     ]
    }
   ],
   "source": [
    "dataset = '../dataset/mit'\n",
    "images, labels, class_names = load_data(dataset)"
   ]
  },
  {
   "cell_type": "code",
   "execution_count": 4,
   "id": "24173593",
   "metadata": {},
   "outputs": [
    {
     "ename": "NameError",
     "evalue": "name 'images' is not defined",
     "output_type": "error",
     "traceback": [
      "\u001b[0;31m---------------------------------------------------------------------------\u001b[0m",
      "\u001b[0;31mNameError\u001b[0m                                 Traceback (most recent call last)",
      "\u001b[0;32m/tmp/ipykernel_5423/3619088764.py\u001b[0m in \u001b[0;36m<module>\u001b[0;34m\u001b[0m\n\u001b[0;32m----> 1\u001b[0;31m \u001b[0mimages\u001b[0m \u001b[0;34m=\u001b[0m \u001b[0mnp\u001b[0m\u001b[0;34m.\u001b[0m\u001b[0marray\u001b[0m\u001b[0;34m(\u001b[0m\u001b[0mimages\u001b[0m\u001b[0;34m,\u001b[0m \u001b[0mdtype\u001b[0m \u001b[0;34m=\u001b[0m \u001b[0;34m'float32'\u001b[0m\u001b[0;34m)\u001b[0m\u001b[0;34m\u001b[0m\u001b[0;34m\u001b[0m\u001b[0m\n\u001b[0m\u001b[1;32m      2\u001b[0m \u001b[0mlabels\u001b[0m \u001b[0;34m=\u001b[0m \u001b[0mnp\u001b[0m\u001b[0;34m.\u001b[0m\u001b[0marray\u001b[0m\u001b[0;34m(\u001b[0m\u001b[0mlabels\u001b[0m\u001b[0;34m,\u001b[0m \u001b[0mdtype\u001b[0m \u001b[0;34m=\u001b[0m \u001b[0;34m'int32'\u001b[0m\u001b[0;34m)\u001b[0m\u001b[0;34m\u001b[0m\u001b[0;34m\u001b[0m\u001b[0m\n",
      "\u001b[0;31mNameError\u001b[0m: name 'images' is not defined"
     ]
    }
   ],
   "source": [
    "images = np.array(images, dtype = 'float32')\n",
    "labels = np.array(labels, dtype = 'int32') "
   ]
  },
  {
   "cell_type": "code",
   "execution_count": 5,
   "id": "fd7aee2c",
   "metadata": {},
   "outputs": [
    {
     "ename": "NameError",
     "evalue": "name 'images' is not defined",
     "output_type": "error",
     "traceback": [
      "\u001b[0;31m---------------------------------------------------------------------------\u001b[0m",
      "\u001b[0;31mNameError\u001b[0m                                 Traceback (most recent call last)",
      "\u001b[0;32m/tmp/ipykernel_5423/3702953704.py\u001b[0m in \u001b[0;36m<module>\u001b[0;34m\u001b[0m\n\u001b[0;32m----> 1\u001b[0;31m \u001b[0mimages\u001b[0m \u001b[0;34m=\u001b[0m \u001b[0mimages\u001b[0m\u001b[0;34m/\u001b[0m\u001b[0;36m255.0\u001b[0m\u001b[0;34m\u001b[0m\u001b[0;34m\u001b[0m\u001b[0m\n\u001b[0m",
      "\u001b[0;31mNameError\u001b[0m: name 'images' is not defined"
     ]
    }
   ],
   "source": [
    "images = images/255.0"
   ]
  },
  {
   "cell_type": "code",
   "execution_count": 6,
   "id": "7bd6bd3d",
   "metadata": {},
   "outputs": [
    {
     "ename": "NameError",
     "evalue": "name 'model_selection' is not defined",
     "output_type": "error",
     "traceback": [
      "\u001b[0;31m---------------------------------------------------------------------------\u001b[0m",
      "\u001b[0;31mNameError\u001b[0m                                 Traceback (most recent call last)",
      "\u001b[0;32m/tmp/ipykernel_5423/3751587645.py\u001b[0m in \u001b[0;36m<module>\u001b[0;34m\u001b[0m\n\u001b[0;32m----> 1\u001b[0;31m \u001b[0mtrain_images\u001b[0m\u001b[0;34m,\u001b[0m \u001b[0mtest_images\u001b[0m\u001b[0;34m,\u001b[0m \u001b[0mtrain_labels\u001b[0m\u001b[0;34m,\u001b[0m \u001b[0mtest_labels\u001b[0m \u001b[0;34m=\u001b[0m \u001b[0mmodel_selection\u001b[0m\u001b[0;34m.\u001b[0m\u001b[0mtrain_test_split\u001b[0m\u001b[0;34m(\u001b[0m\u001b[0mimages\u001b[0m\u001b[0;34m,\u001b[0m \u001b[0mlabels\u001b[0m\u001b[0;34m,\u001b[0m \u001b[0mtrain_size\u001b[0m\u001b[0;34m=\u001b[0m\u001b[0;36m0.80\u001b[0m\u001b[0;34m,\u001b[0m\u001b[0mtest_size\u001b[0m\u001b[0;34m=\u001b[0m\u001b[0;36m0.20\u001b[0m\u001b[0;34m,\u001b[0m \u001b[0mrandom_state\u001b[0m\u001b[0;34m=\u001b[0m\u001b[0;36m101\u001b[0m\u001b[0;34m)\u001b[0m\u001b[0;34m\u001b[0m\u001b[0;34m\u001b[0m\u001b[0m\n\u001b[0m",
      "\u001b[0;31mNameError\u001b[0m: name 'model_selection' is not defined"
     ]
    }
   ],
   "source": [
    "train_images, test_images, train_labels, test_labels = model_selection.train_test_split(images, labels, train_size=0.80,test_size=0.20, random_state=101) "
   ]
  },
  {
   "cell_type": "code",
   "execution_count": 7,
   "id": "c62030e9",
   "metadata": {},
   "outputs": [],
   "source": [
    "def Q_state(bits):\n",
    "    circuit = cirq.Circuit()\n",
    "    circuit.append(cirq.H.on_each(bits))\n",
    "    for this_bit, next_bit in zip(bits, bits[1:] + [bits[0]]):\n",
    "        circuit.append(cirq.CZ(this_bit, next_bit))\n",
    "    return circuit"
   ]
  },
  {
   "cell_type": "code",
   "execution_count": null,
   "id": "46a559cd",
   "metadata": {},
   "outputs": [],
   "source": [
    "SVGCircuit(Q_state(cirq.GridQubit.rect(4, 4)))"
   ]
  },
  {
   "cell_type": "code",
   "execution_count": null,
   "id": "3fe29f4f",
   "metadata": {},
   "outputs": [],
   "source": [
    "def state_to_circuit(image):\n",
    "    values = np.ndarray.flatten(image)\n",
    "    qubits = cirq.GridQubit.rect(4, 4)\n",
    "    circuit = cirq.Circuit()\n",
    "    for i, value in enumerate(values):\n",
    "        if value:\n",
    "            circuit.append(cirq.X(qubits[i]))\n",
    "    return circuit"
   ]
  },
  {
   "cell_type": "code",
   "execution_count": null,
   "id": "a6dfaa1d",
   "metadata": {},
   "outputs": [],
   "source": [
    "x_train_circ = [state_to_circuit(x) for x in x_train]\n",
    "x_test_circ = [state_to_circuit(x) for x in x_test]"
   ]
  },
  {
   "cell_type": "code",
   "execution_count": null,
   "id": "7baec6a5",
   "metadata": {},
   "outputs": [],
   "source": [
    "SVGCircuit(x_train_circ[0])"
   ]
  },
  {
   "cell_type": "code",
   "execution_count": null,
   "id": "6e1ee8fc",
   "metadata": {},
   "outputs": [],
   "source": [
    "x_train_tfcirc = tfq.convert_to_tensor(x_train_circ)\n",
    "x_test_tfcirc = tfq.convert_to_tensor(x_test_circ)"
   ]
  },
  {
   "cell_type": "code",
   "execution_count": null,
   "id": "e870bd7a",
   "metadata": {},
   "outputs": [],
   "source": [
    "y_train_hinge = 2.0*y_train-1.0\n",
    "y_test_hinge = 2.0*y_test-1.0"
   ]
  },
  {
   "cell_type": "code",
   "execution_count": null,
   "id": "d29e3049",
   "metadata": {},
   "outputs": [],
   "source": [
    "def one_qubit_unitary(bit, symbols):\n",
    "    return cirq.Circuit(\n",
    "        cirq.X(bit)**symbols[0],\n",
    "        cirq.Y(bit)**symbols[1],\n",
    "        cirq.Z(bit)**symbols[2])"
   ]
  },
  {
   "cell_type": "code",
   "execution_count": null,
   "id": "a4d027d1",
   "metadata": {},
   "outputs": [],
   "source": [
    "def two_qubit_unitary(bits, symbols):\n",
    "    circuit = cirq.Circuit()\n",
    "    circuit += one_qubit_unitary(bits[0], symbols[0:3])\n",
    "    circuit += one_qubit_unitary(bits[1], symbols[3:6])\n",
    "    circuit += [cirq.ZZ(*bits)**symbols[6]]\n",
    "    circuit += [cirq.YY(*bits)**symbols[7]]\n",
    "    circuit += [cirq.XX(*bits)**symbols[8]]\n",
    "    circuit += one_qubit_unitary(bits[0], symbols[9:12])\n",
    "    circuit += one_qubit_unitary(bits[1], symbols[12:])\n",
    "    return circuit"
   ]
  },
  {
   "cell_type": "code",
   "execution_count": null,
   "id": "188b5e4b",
   "metadata": {},
   "outputs": [],
   "source": [
    "def two_qubit_pool(source_qubit, sink_qubit, symbols):\n",
    "    pool_circuit = cirq.Circuit()\n",
    "    sink_basis_selector = one_qubit_unitary(sink_qubit, symbols[0:3])\n",
    "    source_basis_selector = one_qubit_unitary(source_qubit, symbols[3:6])\n",
    "    pool_circuit.append(sink_basis_selector)\n",
    "    pool_circuit.append(source_basis_selector)\n",
    "    pool_circuit.append(cirq.CNOT(control=source_qubit, target=sink_qubit))\n",
    "    pool_circuit.append(sink_basis_selector**-1)\n",
    "    return pool_circuit"
   ]
  },
  {
   "cell_type": "code",
   "execution_count": null,
   "id": "1789ecb6",
   "metadata": {},
   "outputs": [],
   "source": [
    "def cluster_state_circuit(bits):\n",
    "    circuit = cirq.Circuit()\n",
    "    circuit.append(cirq.H.on_each(bits))\n",
    "    for this_bit, next_bit in zip(bits, bits[1:] + [bits[0]]):\n",
    "        circuit.append(cirq.CZ(this_bit, next_bit))\n",
    "    return circuit"
   ]
  },
  {
   "cell_type": "code",
   "execution_count": null,
   "id": "f1efd71d",
   "metadata": {},
   "outputs": [],
   "source": [
    "def one_qubit_unitary(bit, symbols):\n",
    "    return cirq.Circuit(\n",
    "        cirq.X(bit)**symbols[0],\n",
    "        cirq.Y(bit)**symbols[1],\n",
    "        cirq.Z(bit)**symbols[2])"
   ]
  },
  {
   "cell_type": "code",
   "execution_count": null,
   "id": "8da73d26",
   "metadata": {},
   "outputs": [],
   "source": [
    "def two_qubit_unitary(bits, symbols):\n",
    "    circuit = cirq.Circuit()\n",
    "    circuit += one_qubit_unitary(bits[0], symbols[0:3])\n",
    "    circuit += one_qubit_unitary(bits[1], symbols[3:6])\n",
    "    circuit += [cirq.ZZ(*bits)**symbols[6]]\n",
    "    circuit += [cirq.YY(*bits)**symbols[7]]\n",
    "    circuit += [cirq.XX(*bits)**symbols[8]]\n",
    "    circuit += one_qubit_unitary(bits[0], symbols[9:12])\n",
    "    circuit += one_qubit_unitary(bits[1], symbols[12:])\n",
    "    return circuit"
   ]
  },
  {
   "cell_type": "code",
   "execution_count": null,
   "id": "55fa9ab1",
   "metadata": {},
   "outputs": [],
   "source": [
    "def two_qubit_pool(source_qubit, sink_qubit, symbols):\n",
    "    pool_circuit = cirq.Circuit()\n",
    "    sink_basis_selector = one_qubit_unitary(sink_qubit, symbols[0:3])\n",
    "    source_basis_selector = one_qubit_unitary(source_qubit, symbols[3:6])\n",
    "    pool_circuit.append(sink_basis_selector)\n",
    "    pool_circuit.append(source_basis_selector)\n",
    "    pool_circuit.append(cirq.CNOT(control=source_qubit, target=sink_qubit))\n",
    "    pool_circuit.append(sink_basis_selector**-1)\n",
    "    return pool_circuit"
   ]
  },
  {
   "cell_type": "code",
   "execution_count": null,
   "id": "6774a4d8",
   "metadata": {},
   "outputs": [],
   "source": [
    "def quantum_conv_circuit(bits, symbols):\n",
    "    circuit = cirq.Circuit()\n",
    "    for first, second in zip(bits[0::2], bits[1::2]):\n",
    "        circuit += two_qubit_unitary([first, second], symbols)\n",
    "    for first, second in zip(bits[1::2], bits[2::2] + [bits[0]]):\n",
    "        circuit += two_qubit_unitary([first, second], symbols)\n",
    "    return circuit"
   ]
  },
  {
   "cell_type": "code",
   "execution_count": null,
   "id": "65c774b2",
   "metadata": {},
   "outputs": [],
   "source": [
    "def quantum_pool_circuit(source_bits, sink_bits, symbols):\n",
    "    circuit = cirq.Circuit()\n",
    "    for source, sink in zip(source_bits, sink_bits):\n",
    "        circuit += two_qubit_pool(source, sink, symbols)\n",
    "    return circuit"
   ]
  },
  {
   "cell_type": "code",
   "execution_count": null,
   "id": "6b494df4",
   "metadata": {},
   "outputs": [],
   "source": [
    "class CircuitLayerBuilder():\n",
    "    def __init__(self, data_qubits, readout):\n",
    "        self.data_qubits = data_qubits\n",
    "        self.readout = readout\n",
    "    \n",
    "    def add_layer(self, circuit, gate, prefix):\n",
    "        for i, qubit in enumerate(self.data_qubits):\n",
    "            symbol = sympy.Symbol(prefix + '-' + str(i))\n",
    "            circuit.append(gate(qubit, self.readout)**symbol)"
   ]
  },
  {
   "cell_type": "code",
   "execution_count": null,
   "id": "3af29475",
   "metadata": {},
   "outputs": [],
   "source": [
    "#Create Model Rebuild QCNN + CNN\n",
    "qubits = cirq.GridQubit.rect(4, 4)\n",
    "readout = cirq.GridQubit(1,2)\n",
    "circuit = cirq.Circuit()\n",
    "\n",
    "\n",
    "symbols = sympy.symbols('qconv0:84')\n",
    "circuit += quantum_conv_circuit(qubits , symbols[0:15]) # range symbols always 16\n",
    "circuit += quantum_pool_circuit(qubits[:8], qubits[8:], symbols[15:21])\n",
    "\n",
    "\n",
    "readout_qnn = cirq.GridQubit(1, 3)\n",
    "data_qubits_qnn = cirq.GridQubit.rect(4, 4)[8:]\n",
    "\n",
    "builder = CircuitLayerBuilder( data_qubits = data_qubits_qnn, readout=readout_qnn)\n",
    "\n",
    "# Then add layers (experiment by adding more).\n",
    "builder.add_layer(circuit, cirq.XX, \"xx1\")\n",
    "builder.add_layer(circuit, cirq.ZZ, \"zz1\")\n",
    "\n",
    "model_readout = circuit.append(cirq.H(cirq.GridQubit(1, 3)))\n",
    "\n",
    "SVGCircuit(circuit)"
   ]
  },
  {
   "cell_type": "code",
   "execution_count": null,
   "id": "f1e55c5c",
   "metadata": {},
   "outputs": [],
   "source": [
    "readout_operators = cirq.Z(qubits[-1])\n",
    "\n",
    "excitation_input = tf.keras.Input(shape=(), dtype=tf.dtypes.string)\n",
    "\n",
    "cluster_state = tfq.layers.AddCircuit()(\n",
    "    excitation_input, prepend=cluster_state_circuit(qubits))\n",
    "\n",
    "quantum_model = tfq.layers.PQC(circuit,\n",
    "                               readout_operators)(cluster_state)\n",
    "\n",
    "qcnn_model = tf.keras.Model(inputs=[excitation_input], outputs=[quantum_model])"
   ]
  },
  {
   "cell_type": "code",
   "execution_count": null,
   "id": "6d413b54",
   "metadata": {},
   "outputs": [],
   "source": [
    "readout_operators = cirq.Z(qubits[-1])\n",
    "\n",
    "excitation_input = tf.keras.Input(shape=(), dtype=tf.dtypes.string)\n",
    "\n",
    "cluster_state = tfq.layers.AddCircuit()(\n",
    "    excitation_input, prepend=cluster_state_circuit(qubits))\n",
    "\n",
    "quantum_model = tfq.layers.PQC(circuit,\n",
    "                               readout_operators)(cluster_state)\n",
    "\n",
    "qcnn_model = tf.keras.Model(inputs=[excitation_input], outputs=[quantum_model])\n",
    "\n",
    "#control panel\n",
    "epochs = 5\n",
    "BATCH_SIZE = 32\n",
    "NUM_EXAMPLES = 5\n",
    "x_train_tfcirc_sub = x_train_tfcirc[:NUM_EXAMPLES]\n",
    "y_train_hinge_sub = y_train_hinge[:NUM_EXAMPLES]\n",
    "\n",
    "#metrics function\n",
    "def hinge_accuracy(y_true, y_pred):\n",
    "    y_true = tf.squeeze(y_true) > 0.0\n",
    "    y_pred = tf.squeeze(y_pred) > 0.0\n",
    "    result = tf.cast(y_true == y_pred, tf.float32)\n",
    "    return tf.reduce_mean(result)\n",
    "\n",
    "#compiling\n",
    "qcnn_model.compile(optimizer=tf.keras.optimizers.Adam(learning_rate=0.02),loss=tf.losses.mse,metrics=[hinge_accuracy])\n",
    "\n",
    "\n",
    "#training the model\n",
    "history = qcnn_model.fit(x=x_train_tfcirc_sub,y=y_train_hinge_sub,batch_size=100,epochs=epochs,verbose=1,validation_data=(x_test_tfcirc , y_test_hinge))\n",
    "\n",
    "#save the model\n",
    "history.history\n",
    "\n",
    "# create the dataframe\n",
    "df_history = pd.DataFrame()\n",
    "df_history['accuracy']  = history.history['hinge_accuracy']\n",
    "df_history['loss']      = history.history['loss']\n",
    "df_history['val_accuracy'] = history.history['val_hinge_accuracy']\n",
    "df_history['val_loss']  = history.history['val_loss']\n",
    "df_history.to_csv(\"history.csv\", index = False)\n",
    "print(df_history.shape)\n",
    "df_history.head()\n",
    "\n",
    "# defining visualization function\n",
    "def plt_losses(x, vy, ty, ax, colors=['b']):\n",
    "  ax.plot(x, vy, 'b', label=\"Validation Loss\")\n",
    "  ax.plot(x, ty, 'r', label=\"Train Loss\")\n",
    "  plt.legend()\n",
    "  plt.grid()\n",
    "  fig.canvas.draw()\n",
    "\n",
    "def plt_accuracies(x, vy, ty, ax, colors=['b']):\n",
    "  ax.plot(x, vy, 'b', label=\"Validation accuracy\")\n",
    "  ax.plot(x, ty, 'r', label=\"Train accuracy\")\n",
    "  plt.legend() \n",
    "  plt.grid()\n",
    "  fig.canvas.draw()\n",
    "\n",
    "\n",
    "\n",
    "# visualization of loss\n",
    "fig,ax = plt.subplots(1,1)\n",
    "ax.set_xlabel('epoch') \n",
    "ax.set_ylabel('Categorical Crossentropy Loss')\n",
    "x = list(range(1,epochs+1))\n",
    "vy = history.history['val_loss']\n",
    "ty = history.history['loss']\n",
    "plt_losses(x, vy, ty, ax)\n",
    "\n",
    "# visualization of accuracy\n",
    "fig,ax = plt.subplots(1,1)\n",
    "ax.set_xlabel('epoch')\n",
    "ax.set_ylabel('accuracies')\n",
    "x = list(range(1,epochs+1))\n",
    "vy = history.history['val_hinge_accuracy']\n",
    "ty = history.history['hinge_accuracy']\n",
    "plt_accuracies(x, vy, ty, ax)\n",
    "\n"
   ]
  },
  {
   "cell_type": "code",
   "execution_count": null,
   "id": "4c7f1798",
   "metadata": {},
   "outputs": [],
   "source": []
  }
 ],
 "metadata": {
  "kernelspec": {
   "display_name": "Python 3 (ipykernel)",
   "language": "python",
   "name": "python3"
  },
  "language_info": {
   "codemirror_mode": {
    "name": "ipython",
    "version": 3
   },
   "file_extension": ".py",
   "mimetype": "text/x-python",
   "name": "python",
   "nbconvert_exporter": "python",
   "pygments_lexer": "ipython3",
   "version": "3.9.7"
  }
 },
 "nbformat": 4,
 "nbformat_minor": 5
}
