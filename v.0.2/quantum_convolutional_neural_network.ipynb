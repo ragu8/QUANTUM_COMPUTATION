{
 "cells": [
  {
   "cell_type": "markdown",
   "metadata": {
    "id": "zizZn7axf6q0"
   },
   "source": [
    "# quantum-convolutional-neural-network\n",
    "\n"
   ]
  },
  {
   "cell_type": "code",
   "execution_count": null,
   "metadata": {
    "id": "20ExFaAKw5VW"
   },
   "outputs": [],
   "source": [
    "#import dependencies \n",
    "import tensorflow as tf\n",
    "\n",
    "import sympy\n",
    "import numpy as np\n",
    "import seaborn as sns\n",
    "import collections\n",
    "import pandas as pd\n",
    "import matplotlib.pyplot as plt\n",
    "\n",
    "import tensorflow_quantum as tfq"
   ]
  },
  {
   "cell_type": "code",
   "execution_count": null,
   "metadata": {},
   "outputs": [],
   "source": [
    "import cirq\n",
    "from cirq.contrib.svg import SVGCircuit"
   ]
  },
  {
   "cell_type": "code",
   "execution_count": null,
   "metadata": {
    "id": "Q2ZS4wjNdVOV"
   },
   "outputs": [],
   "source": [
    "# load data mnist\n",
    "(x_train, y_train), (x_test, y_test) = tf.keras.datasets.mnist.load_data()"
   ]
  },
  {
   "cell_type": "code",
   "execution_count": null,
   "metadata": {
    "id": "RopYcBo8WDky"
   },
   "outputs": [],
   "source": [
    "#normalising\n",
    "x_train, x_test = x_train[..., np.newaxis]/255.0, x_test[..., np.newaxis]/255.0"
   ]
  },
  {
   "cell_type": "code",
   "execution_count": null,
   "metadata": {
    "colab": {
     "base_uri": "https://localhost:8080/"
    },
    "id": "zIAXsrh3MRq8",
    "outputId": "0ce428d9-2a81-433e-fd47-5ec00e96a7a0"
   },
   "outputs": [],
   "source": [
    "#length of Data\n",
    "print(\"Number of filtered training examples:\", len(x_train))\n",
    "print(\"Number of filtered test examples:\", len(x_test))"
   ]
  },
  {
   "cell_type": "code",
   "execution_count": null,
   "metadata": {
    "id": "lX9c25Aqdjg6"
   },
   "outputs": [],
   "source": [
    "#function for filter data number 3 or number 6 \n",
    "def filter_36(x, y):\n",
    "    keep = (y == 3) | (y == 6)\n",
    "    x, y = x[keep], y[keep]\n",
    "    y = y == 3\n",
    "    return x,y"
   ]
  },
  {
   "cell_type": "code",
   "execution_count": null,
   "metadata": {
    "id": "vnOgr3mndU92"
   },
   "outputs": [],
   "source": [
    "#filtering data number 3 or number 6\n",
    "x_train, y_train = filter_36(x_train, y_train)\n",
    "x_test, y_test = filter_36(x_test, y_test)"
   ]
  },
  {
   "cell_type": "code",
   "execution_count": null,
   "metadata": {
    "colab": {
     "base_uri": "https://localhost:8080/"
    },
    "id": "74okVnFTMYVt",
    "outputId": "14effcb3-1ded-4aab-f7e4-75980c36dcd9"
   },
   "outputs": [],
   "source": [
    "#length of Data\n",
    "print(\"Number of filtered training examples:\", len(x_train))\n",
    "print(\"Number of filtered test examples:\", len(x_test))"
   ]
  },
  {
   "cell_type": "code",
   "execution_count": null,
   "metadata": {
    "id": "bunN7uZTMZ4A"
   },
   "outputs": [],
   "source": [
    "#reshaping data as needed by the model\n",
    "x_train=tf.image.resize(x_train, (4,4)).numpy()\n",
    "x_test=tf.image.resize(x_test, (4,4)).numpy()"
   ]
  },
  {
   "cell_type": "code",
   "execution_count": null,
   "metadata": {
    "id": "wlN9Mg3hzs-F"
   },
   "outputs": [],
   "source": [
    "def Q_state(bits):\n",
    "    circuit = cirq.Circuit()\n",
    "    circuit.append(cirq.H.on_each(bits))\n",
    "    for this_bit, next_bit in zip(bits, bits[1:] + [bits[0]]):\n",
    "        circuit.append(cirq.CZ(this_bit, next_bit))\n",
    "    return circuit"
   ]
  },
  {
   "cell_type": "code",
   "execution_count": null,
   "metadata": {
    "colab": {
     "base_uri": "https://localhost:8080/",
     "height": 858
    },
    "id": "zVmGK6xczpD1",
    "outputId": "39652846-44e1-418f-e4ac-e140baa5029c"
   },
   "outputs": [],
   "source": [
    "SVGCircuit(Q_state(cirq.GridQubit.rect(4, 4)))"
   ]
  },
  {
   "cell_type": "code",
   "execution_count": null,
   "metadata": {
    "id": "8PqgKl_4eoqE"
   },
   "outputs": [],
   "source": [
    "def state_to_circuit(image):\n",
    "    values = np.ndarray.flatten(image)\n",
    "    qubits = cirq.GridQubit.rect(4, 4)\n",
    "    circuit = cirq.Circuit()\n",
    "    for i, value in enumerate(values):\n",
    "        if value:\n",
    "            circuit.append(cirq.X(qubits[i]))\n",
    "    return circuit"
   ]
  },
  {
   "cell_type": "code",
   "execution_count": null,
   "metadata": {
    "id": "HPIijIijZz4r"
   },
   "outputs": [],
   "source": [
    "x_train_circ = [state_to_circuit(x) for x in x_train]\n",
    "x_test_circ = [state_to_circuit(x) for x in x_test]"
   ]
  },
  {
   "cell_type": "code",
   "execution_count": null,
   "metadata": {
    "colab": {
     "base_uri": "https://localhost:8080/",
     "height": 171
    },
    "id": "Y32ydHJleom4",
    "outputId": "e007e53e-13d2-4c66-85b7-c363535f1e28"
   },
   "outputs": [],
   "source": [
    "SVGCircuit(x_train_circ[0])"
   ]
  },
  {
   "cell_type": "code",
   "execution_count": null,
   "metadata": {
    "id": "0fzQq6-_eofL"
   },
   "outputs": [],
   "source": [
    "x_train_tfcirc = tfq.convert_to_tensor(x_train_circ)\n",
    "x_test_tfcirc = tfq.convert_to_tensor(x_test_circ)"
   ]
  },
  {
   "cell_type": "code",
   "execution_count": null,
   "metadata": {
    "id": "nNh3tn0ZfLzQ"
   },
   "outputs": [],
   "source": [
    "y_train_hinge = 2.0*y_train-1.0\n",
    "y_test_hinge = 2.0*y_test-1.0"
   ]
  },
  {
   "cell_type": "code",
   "execution_count": null,
   "metadata": {
    "id": "tq_jQE381MRL"
   },
   "outputs": [],
   "source": [
    "def one_qubit_unitary(bit, symbols):\n",
    "    return cirq.Circuit(\n",
    "        cirq.X(bit)**symbols[0],\n",
    "        cirq.Y(bit)**symbols[1],\n",
    "        cirq.Z(bit)**symbols[2])"
   ]
  },
  {
   "cell_type": "code",
   "execution_count": null,
   "metadata": {
    "id": "NhGHOSM1RQ3s"
   },
   "outputs": [],
   "source": [
    "def two_qubit_unitary(bits, symbols):\n",
    "    circuit = cirq.Circuit()\n",
    "    circuit += one_qubit_unitary(bits[0], symbols[0:3])\n",
    "    circuit += one_qubit_unitary(bits[1], symbols[3:6])\n",
    "    circuit += [cirq.ZZ(*bits)**symbols[6]]\n",
    "    circuit += [cirq.YY(*bits)**symbols[7]]\n",
    "    circuit += [cirq.XX(*bits)**symbols[8]]\n",
    "    circuit += one_qubit_unitary(bits[0], symbols[9:12])\n",
    "    circuit += one_qubit_unitary(bits[1], symbols[12:])\n",
    "    return circuit"
   ]
  },
  {
   "cell_type": "code",
   "execution_count": null,
   "metadata": {
    "id": "D2z9B3qBRVCI"
   },
   "outputs": [],
   "source": [
    "def two_qubit_pool(source_qubit, sink_qubit, symbols):\n",
    "    pool_circuit = cirq.Circuit()\n",
    "    sink_basis_selector = one_qubit_unitary(sink_qubit, symbols[0:3])\n",
    "    source_basis_selector = one_qubit_unitary(source_qubit, symbols[3:6])\n",
    "    pool_circuit.append(sink_basis_selector)\n",
    "    pool_circuit.append(source_basis_selector)\n",
    "    pool_circuit.append(cirq.CNOT(control=source_qubit, target=sink_qubit))\n",
    "    pool_circuit.append(sink_basis_selector**-1)\n",
    "    return pool_circuit"
   ]
  },
  {
   "cell_type": "code",
   "execution_count": null,
   "metadata": {
    "id": "SkN4_Q3ORx4Z"
   },
   "outputs": [],
   "source": [
    "def cluster_state_circuit(bits):\n",
    "    circuit = cirq.Circuit()\n",
    "    circuit.append(cirq.H.on_each(bits))\n",
    "    for this_bit, next_bit in zip(bits, bits[1:] + [bits[0]]):\n",
    "        circuit.append(cirq.CZ(this_bit, next_bit))\n",
    "    return circuit"
   ]
  },
  {
   "cell_type": "code",
   "execution_count": null,
   "metadata": {
    "id": "E9A7lMxuRzLJ"
   },
   "outputs": [],
   "source": [
    "def one_qubit_unitary(bit, symbols):\n",
    "    return cirq.Circuit(\n",
    "        cirq.X(bit)**symbols[0],\n",
    "        cirq.Y(bit)**symbols[1],\n",
    "        cirq.Z(bit)**symbols[2])"
   ]
  },
  {
   "cell_type": "code",
   "execution_count": null,
   "metadata": {
    "id": "c8-PZ1-FRzkV"
   },
   "outputs": [],
   "source": [
    "def two_qubit_unitary(bits, symbols):\n",
    "    circuit = cirq.Circuit()\n",
    "    circuit += one_qubit_unitary(bits[0], symbols[0:3])\n",
    "    circuit += one_qubit_unitary(bits[1], symbols[3:6])\n",
    "    circuit += [cirq.ZZ(*bits)**symbols[6]]\n",
    "    circuit += [cirq.YY(*bits)**symbols[7]]\n",
    "    circuit += [cirq.XX(*bits)**symbols[8]]\n",
    "    circuit += one_qubit_unitary(bits[0], symbols[9:12])\n",
    "    circuit += one_qubit_unitary(bits[1], symbols[12:])\n",
    "    return circuit"
   ]
  },
  {
   "cell_type": "code",
   "execution_count": null,
   "metadata": {
    "id": "MkPuZWJMRz7I"
   },
   "outputs": [],
   "source": [
    "\n",
    "def two_qubit_pool(source_qubit, sink_qubit, symbols):\n",
    "    pool_circuit = cirq.Circuit()\n",
    "    sink_basis_selector = one_qubit_unitary(sink_qubit, symbols[0:3])\n",
    "    source_basis_selector = one_qubit_unitary(source_qubit, symbols[3:6])\n",
    "    pool_circuit.append(sink_basis_selector)\n",
    "    pool_circuit.append(source_basis_selector)\n",
    "    pool_circuit.append(cirq.CNOT(control=source_qubit, target=sink_qubit))\n",
    "    pool_circuit.append(sink_basis_selector**-1)\n",
    "    return pool_circuit"
   ]
  },
  {
   "cell_type": "code",
   "execution_count": null,
   "metadata": {
    "id": "GeqfXtjtR0OS"
   },
   "outputs": [],
   "source": [
    "def quantum_conv_circuit(bits, symbols):\n",
    "    circuit = cirq.Circuit()\n",
    "    for first, second in zip(bits[0::2], bits[1::2]):\n",
    "        circuit += two_qubit_unitary([first, second], symbols)\n",
    "    for first, second in zip(bits[1::2], bits[2::2] + [bits[0]]):\n",
    "        circuit += two_qubit_unitary([first, second], symbols)\n",
    "    return circuit"
   ]
  },
  {
   "cell_type": "code",
   "execution_count": null,
   "metadata": {
    "id": "FJpQZL2kR0gv"
   },
   "outputs": [],
   "source": [
    "def quantum_pool_circuit(source_bits, sink_bits, symbols):\n",
    "    circuit = cirq.Circuit()\n",
    "    for source, sink in zip(source_bits, sink_bits):\n",
    "        circuit += two_qubit_pool(source, sink, symbols)\n",
    "    return circuit"
   ]
  },
  {
   "cell_type": "code",
   "execution_count": null,
   "metadata": {
    "id": "Y-UlGdmeSOkL"
   },
   "outputs": [],
   "source": [
    "\n",
    "class CircuitLayerBuilder():\n",
    "    def __init__(self, data_qubits, readout):\n",
    "        self.data_qubits = data_qubits\n",
    "        self.readout = readout\n",
    "    \n",
    "    def add_layer(self, circuit, gate, prefix):\n",
    "        for i, qubit in enumerate(self.data_qubits):\n",
    "            symbol = sympy.Symbol(prefix + '-' + str(i))\n",
    "            circuit.append(gate(qubit, self.readout)**symbol)"
   ]
  },
  {
   "cell_type": "code",
   "execution_count": null,
   "metadata": {
    "colab": {
     "base_uri": "https://localhost:8080/",
     "height": 841
    },
    "id": "i8gJq2H6_WYw",
    "outputId": "76332dc5-9253-4070-c122-3ba29c44d9ca"
   },
   "outputs": [],
   "source": [
    "#Create Model Rebuild QCNN + CNN\n",
    "qubits = cirq.GridQubit.rect(4, 4)\n",
    "readout = cirq.GridQubit(1,2)\n",
    "circuit = cirq.Circuit()\n",
    "\n",
    "\n",
    "symbols = sympy.symbols('qconv0:84')\n",
    "circuit += quantum_conv_circuit(qubits , symbols[0:15]) # range symbols always 16\n",
    "circuit += quantum_pool_circuit(qubits[:8], qubits[8:], symbols[15:21])\n",
    "\n",
    "\n",
    "readout_qnn = cirq.GridQubit(1, 3)\n",
    "data_qubits_qnn = cirq.GridQubit.rect(4, 4)[8:]\n",
    "\n",
    "builder = CircuitLayerBuilder( data_qubits = data_qubits_qnn, readout=readout_qnn)\n",
    "\n",
    "# Then add layers (experiment by adding more).\n",
    "builder.add_layer(circuit, cirq.XX, \"xx1\")\n",
    "builder.add_layer(circuit, cirq.ZZ, \"zz1\")\n",
    "\n",
    "model_readout = circuit.append(cirq.H(cirq.GridQubit(1, 3)))\n",
    "\n",
    "SVGCircuit(circuit)\n"
   ]
  },
  {
   "cell_type": "code",
   "execution_count": null,
   "metadata": {
    "id": "F54F7f8MBr4d"
   },
   "outputs": [],
   "source": [
    "readout_operators = cirq.Z(qubits[-1])\n",
    "\n",
    "excitation_input = tf.keras.Input(shape=(), dtype=tf.dtypes.string)\n",
    "\n",
    "cluster_state = tfq.layers.AddCircuit()(\n",
    "    excitation_input, prepend=cluster_state_circuit(qubits))\n",
    "\n",
    "quantum_model = tfq.layers.PQC(circuit,\n",
    "                               readout_operators)(cluster_state)\n",
    "\n",
    "qcnn_model = tf.keras.Model(inputs=[excitation_input], outputs=[quantum_model])"
   ]
  },
  {
   "cell_type": "code",
   "execution_count": null,
   "metadata": {
    "id": "LxS7Y7gZkXoD"
   },
   "outputs": [],
   "source": [
    "#control panel\n",
    "epochs = 5\n",
    "BATCH_SIZE = 32\n",
    "NUM_EXAMPLES = 5\n",
    "x_train_tfcirc_sub = x_train_tfcirc[:NUM_EXAMPLES]\n",
    "y_train_hinge_sub = y_train_hinge[:NUM_EXAMPLES]"
   ]
  },
  {
   "cell_type": "code",
   "execution_count": null,
   "metadata": {
    "id": "SKlzPSY8Sd__"
   },
   "outputs": [],
   "source": [
    "#metrics function\n",
    "def hinge_accuracy(y_true, y_pred):\n",
    "    y_true = tf.squeeze(y_true) > 0.0\n",
    "    y_pred = tf.squeeze(y_pred) > 0.0\n",
    "    result = tf.cast(y_true == y_pred, tf.float32)\n",
    "    return tf.reduce_mean(result)"
   ]
  },
  {
   "cell_type": "code",
   "execution_count": null,
   "metadata": {
    "id": "qPulycTVSfWG"
   },
   "outputs": [],
   "source": [
    "#compiling\n",
    "qcnn_model.compile(optimizer=tf.keras.optimizers.Adam(learning_rate=0.02),loss=tf.losses.mse,metrics=[hinge_accuracy])\n"
   ]
  },
  {
   "cell_type": "code",
   "execution_count": null,
   "metadata": {
    "colab": {
     "base_uri": "https://localhost:8080/"
    },
    "id": "07XanrA-SoUK",
    "outputId": "f6b3af06-a0d2-478c-9a95-3a44677ce4f4"
   },
   "outputs": [],
   "source": [
    "#training the model\n",
    "history = qcnn_model.fit(x=x_train_tfcirc_sub,y=y_train_hinge_sub,batch_size=100,epochs=epochs,verbose=1,validation_data=(x_test_tfcirc , y_test_hinge))"
   ]
  },
  {
   "cell_type": "code",
   "execution_count": null,
   "metadata": {
    "colab": {
     "base_uri": "https://localhost:8080/"
    },
    "id": "n9BclLaaXRO0",
    "outputId": "9fe70a3c-19b9-460e-8abe-c61cc74cd8e1"
   },
   "outputs": [],
   "source": [
    "#save the model\n",
    "history.history"
   ]
  },
  {
   "cell_type": "code",
   "execution_count": null,
   "metadata": {
    "colab": {
     "base_uri": "https://localhost:8080/",
     "height": 224
    },
    "id": "kn_9fyWCAVZP",
    "outputId": "8fa7f9ba-f926-4af5-c421-92aa9e042b61"
   },
   "outputs": [],
   "source": [
    "# create the dataframe\n",
    "df_history = pd.DataFrame()\n",
    "df_history['accuracy']  = history.history['hinge_accuracy']\n",
    "df_history['loss']      = history.history['loss']\n",
    "df_history['val_accuracy'] = history.history['val_hinge_accuracy']\n",
    "df_history['val_loss']  = history.history['val_loss']\n",
    "df_history.to_csv(\"history.csv\", index = False)\n",
    "print(df_history.shape)\n",
    "df_history.head()"
   ]
  },
  {
   "cell_type": "code",
   "execution_count": null,
   "metadata": {
    "id": "1KjJWCztoR7i"
   },
   "outputs": [],
   "source": [
    "# defining visualization function\n",
    "def plt_losses(x, vy, ty, ax, colors=['b']):\n",
    "  ax.plot(x, vy, 'b', label=\"Validation Loss\")\n",
    "  ax.plot(x, ty, 'r', label=\"Train Loss\")\n",
    "  plt.legend()\n",
    "  plt.grid()\n",
    "  fig.canvas.draw()\n",
    "\n",
    "def plt_accuracies(x, vy, ty, ax, colors=['b']):\n",
    "  ax.plot(x, vy, 'b', label=\"Validation accuracy\")\n",
    "  ax.plot(x, ty, 'r', label=\"Train accuracy\")\n",
    "  plt.legend() \n",
    "  plt.grid()\n",
    "  fig.canvas.draw()\n",
    "\n"
   ]
  },
  {
   "cell_type": "code",
   "execution_count": null,
   "metadata": {
    "colab": {
     "base_uri": "https://localhost:8080/",
     "height": 279
    },
    "id": "A2zp9b03J9l1",
    "outputId": "0ee986ee-cd06-4ac8-97b8-e2685bd6a55e"
   },
   "outputs": [],
   "source": [
    "# visualization of loss\n",
    "fig,ax = plt.subplots(1,1)\n",
    "ax.set_xlabel('epoch') \n",
    "ax.set_ylabel('Categorical Crossentropy Loss')\n",
    "x = list(range(1,epochs+1))\n",
    "vy = history.history['val_loss']\n",
    "ty = history.history['loss']\n",
    "plt_losses(x, vy, ty, ax)"
   ]
  },
  {
   "cell_type": "code",
   "execution_count": null,
   "metadata": {
    "colab": {
     "base_uri": "https://localhost:8080/",
     "height": 279
    },
    "id": "x6SxeOePMAk-",
    "outputId": "44efaca6-3ccb-4e73-fc61-2f9bb8f33de5"
   },
   "outputs": [],
   "source": [
    "# visualization of accuracy\n",
    "fig,ax = plt.subplots(1,1)\n",
    "ax.set_xlabel('epoch')\n",
    "ax.set_ylabel('accuracies')\n",
    "x = list(range(1,epochs+1))\n",
    "vy = history.history['val_hinge_accuracy']\n",
    "ty = history.history['hinge_accuracy']\n",
    "plt_accuracies(x, vy, ty, ax)"
   ]
  },
  {
   "cell_type": "code",
   "execution_count": null,
   "metadata": {
    "id": "ZCqRVb0LJFr6"
   },
   "outputs": [],
   "source": []
  }
 ],
 "metadata": {
  "colab": {
   "collapsed_sections": [],
   "provenance": []
  },
  "kernelspec": {
   "display_name": "Python 3 (ipykernel)",
   "language": "python",
   "name": "python3"
  },
  "language_info": {
   "codemirror_mode": {
    "name": "ipython",
    "version": 3
   },
   "file_extension": ".py",
   "mimetype": "text/x-python",
   "name": "python",
   "nbconvert_exporter": "python",
   "pygments_lexer": "ipython3",
   "version": "3.9.7"
  }
 },
 "nbformat": 4,
 "nbformat_minor": 1
}
