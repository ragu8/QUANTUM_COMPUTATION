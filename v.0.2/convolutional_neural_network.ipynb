{
  "nbformat": 4,
  "nbformat_minor": 0,
  "metadata": {
    "colab": {
      "provenance": []
    },
    "kernelspec": {
      "name": "python3",
      "display_name": "Python 3"
    },
    "language_info": {
      "name": "python"
    }
  },
  "cells": [
    {
      "cell_type": "markdown",
      "source": [
        "# convolutional-neural-network"
      ],
      "metadata": {
        "id": "2CM4MQ6lB-v0"
      }
    },
    {
      "cell_type": "code",
      "source": [
        "#import dependencies \n",
        "import tensorflow as tf\n",
        "import numpy as np\n",
        "import pandas as pd\n",
        "import matplotlib.pyplot as plt"
      ],
      "metadata": {
        "id": "C0BZtLniW_94"
      },
      "execution_count": 1,
      "outputs": []
    },
    {
      "cell_type": "code",
      "source": [
        "# load data mnist\n",
        "(x_train, y_train), (x_test, y_test) = tf.keras.datasets.mnist.load_data()"
      ],
      "metadata": {
        "id": "h0CfCEoZCHXB"
      },
      "execution_count": 2,
      "outputs": []
    },
    {
      "cell_type": "code",
      "source": [
        "#normalising\n",
        "x_train, x_test = x_train[..., np.newaxis]/255.0, x_test[..., np.newaxis]/255.0"
      ],
      "metadata": {
        "id": "JqqVkN4aCRS_"
      },
      "execution_count": 3,
      "outputs": []
    },
    {
      "cell_type": "code",
      "source": [
        "#length of Data\n",
        "print(\"Number of filtered training examples:\", len(x_train))\n",
        "print(\"Number of filtered test examples:\", len(x_test))"
      ],
      "metadata": {
        "colab": {
          "base_uri": "https://localhost:8080/"
        },
        "id": "fZjoWulbLi80",
        "outputId": "e9d58228-9c41-49c2-f3aa-6525021ab315"
      },
      "execution_count": 4,
      "outputs": [
        {
          "output_type": "stream",
          "name": "stdout",
          "text": [
            "Number of filtered training examples: 60000\n",
            "Number of filtered test examples: 10000\n"
          ]
        }
      ]
    },
    {
      "cell_type": "code",
      "source": [
        "#function for filter data number 3 or number 6 \n",
        "def filter_36(x, y):\n",
        "    keep = (y == 3) | (y == 6)\n",
        "    x, y = x[keep], y[keep]\n",
        "    y = y == 3\n",
        "    return x,y"
      ],
      "metadata": {
        "id": "6S7surFxHsdi"
      },
      "execution_count": 5,
      "outputs": []
    },
    {
      "cell_type": "code",
      "source": [
        "#filtering data number 3 or number 6\n",
        "x_train, y_train = filter_36(x_train, y_train)\n",
        "x_test, y_test = filter_36(x_test, y_test)"
      ],
      "metadata": {
        "id": "qDO10aVGLpmk"
      },
      "execution_count": 6,
      "outputs": []
    },
    {
      "cell_type": "code",
      "source": [
        "#length of Data\n",
        "print(\"Number of filtered training examples:\", len(x_train))\n",
        "print(\"Number of filtered test examples:\", len(x_test))"
      ],
      "metadata": {
        "colab": {
          "base_uri": "https://localhost:8080/"
        },
        "id": "gIXw-dDrMFYg",
        "outputId": "00061c5f-bf06-4b80-aa43-909c1bee33ba"
      },
      "execution_count": 7,
      "outputs": [
        {
          "output_type": "stream",
          "name": "stdout",
          "text": [
            "Number of filtered training examples: 12049\n",
            "Number of filtered test examples: 1968\n"
          ]
        }
      ]
    },
    {
      "cell_type": "code",
      "source": [
        "#reshaping data as needed by the model\n",
        "x_train=np.reshape(x_train,(-1,28,28,1))\n",
        "x_test=np.reshape(x_test,(-1,28,28,1))"
      ],
      "metadata": {
        "id": "72UURfB9KnbA"
      },
      "execution_count": 8,
      "outputs": []
    },
    {
      "cell_type": "code",
      "source": [
        "#implementing one hot encoding\n",
        "y_train = tf.keras.utils.to_categorical(y_train, num_classes=10)\n",
        "y_test = tf.keras.utils.to_categorical(y_test, num_classes=10)\n"
      ],
      "metadata": {
        "id": "12K6KjROCqBw"
      },
      "execution_count": 9,
      "outputs": []
    },
    {
      "cell_type": "code",
      "source": [
        "#creating model object & adding layers and forming the model\n",
        "model=tf.keras.Sequential([\n",
        "    tf.keras.layers.Conv2D(32,kernel_size=5,strides=1,padding=\"Same\",activation=\"relu\",input_shape=(28,28,1)),\n",
        "    tf.keras.layers.MaxPooling2D(padding=\"same\"),\n",
        "    tf.keras.layers.Conv2D(64,kernel_size=5,strides=1,padding=\"same\",activation=\"relu\"),\n",
        "    tf.keras.layers.MaxPooling2D(padding=\"same\"),\n",
        "    tf.keras.layers.Flatten(),\n",
        "    tf.keras.layers.Dense(1024,activation=\"relu\"),\n",
        "    tf.keras.layers.Dense(10,activation=\"sigmoid\")\n",
        "    ])"
      ],
      "metadata": {
        "id": "RlyU3u73C8YT"
      },
      "execution_count": 10,
      "outputs": []
    },
    {
      "cell_type": "code",
      "source": [
        "#compiling\n",
        "model.compile(optimizer=tf.keras.optimizers.Adam(learning_rate=0.02),loss=tf.losses.mse,metrics=[\"accuracy\"])\n"
      ],
      "metadata": {
        "id": "2V_liuI2DXLx"
      },
      "execution_count": 11,
      "outputs": []
    },
    {
      "cell_type": "code",
      "source": [
        "#control panel\n",
        "epochs = 5\n",
        "NUM_EXAMPLES = 5\n",
        "x_train = x_train[:NUM_EXAMPLES]\n",
        "y_train = y_train[:NUM_EXAMPLES]"
      ],
      "metadata": {
        "id": "20gte5OpdY1j"
      },
      "execution_count": 12,
      "outputs": []
    },
    {
      "cell_type": "code",
      "source": [
        "#training the model\n",
        "history = model.fit(x_train,y_train,batch_size=100,epochs= epochs,verbose=1,validation_data=(x_test,y_test))"
      ],
      "metadata": {
        "colab": {
          "base_uri": "https://localhost:8080/"
        },
        "id": "LWe8SaA1DuGr",
        "outputId": "3f45c1bd-2dc6-43a9-9afb-9c44c143639a"
      },
      "execution_count": 13,
      "outputs": [
        {
          "output_type": "stream",
          "name": "stdout",
          "text": [
            "Epoch 1/5\n",
            "1/1 [==============================] - 2s 2s/step - loss: 0.2460 - accuracy: 0.0000e+00 - val_loss: 0.0974 - val_accuracy: 0.5132\n",
            "Epoch 2/5\n",
            "1/1 [==============================] - 1s 1s/step - loss: 0.0800 - accuracy: 0.6000 - val_loss: 0.0974 - val_accuracy: 0.5132\n",
            "Epoch 3/5\n",
            "1/1 [==============================] - 1s 1s/step - loss: 0.0800 - accuracy: 0.6000 - val_loss: 0.0974 - val_accuracy: 0.5132\n",
            "Epoch 4/5\n",
            "1/1 [==============================] - 3s 3s/step - loss: 0.0800 - accuracy: 0.6000 - val_loss: 0.0974 - val_accuracy: 0.5132\n",
            "Epoch 5/5\n",
            "1/1 [==============================] - 3s 3s/step - loss: 0.0800 - accuracy: 0.6000 - val_loss: 0.0974 - val_accuracy: 0.5132\n"
          ]
        }
      ]
    },
    {
      "cell_type": "code",
      "source": [
        "#save the model\n",
        "history.history"
      ],
      "metadata": {
        "colab": {
          "base_uri": "https://localhost:8080/"
        },
        "id": "I8XFiTGXHlzc",
        "outputId": "31cdd848-13f4-47d8-9c7e-010f096378a9"
      },
      "execution_count": 14,
      "outputs": [
        {
          "output_type": "execute_result",
          "data": {
            "text/plain": [
              "{'loss': [0.24603939056396484,\n",
              "  0.07999999821186066,\n",
              "  0.07999999821186066,\n",
              "  0.07999999821186066,\n",
              "  0.07999999821186066],\n",
              " 'accuracy': [0.0,\n",
              "  0.6000000238418579,\n",
              "  0.6000000238418579,\n",
              "  0.6000000238418579,\n",
              "  0.6000000238418579],\n",
              " 'val_loss': [0.09735772013664246,\n",
              "  0.09735772013664246,\n",
              "  0.09735772013664246,\n",
              "  0.09735772013664246,\n",
              "  0.09735772013664246],\n",
              " 'val_accuracy': [0.5132113695144653,\n",
              "  0.5132113695144653,\n",
              "  0.5132113695144653,\n",
              "  0.5132113695144653,\n",
              "  0.5132113695144653]}"
            ]
          },
          "metadata": {},
          "execution_count": 14
        }
      ]
    },
    {
      "cell_type": "code",
      "source": [
        "# create the dataframe\n",
        "df_history = pd.DataFrame()\n",
        "df_history['accuracy']  = history.history['accuracy']\n",
        "df_history['loss']      = history.history['loss']\n",
        "df_history['val_accuracy'] = history.history['val_accuracy']\n",
        "df_history['val_loss']  = history.history['val_loss']\n",
        "df_history.to_csv(\"history.csv\", index = False)\n",
        "print(df_history.shape)\n",
        "df_history.head()"
      ],
      "metadata": {
        "colab": {
          "base_uri": "https://localhost:8080/",
          "height": 224
        },
        "id": "rQF0FeDUGGEH",
        "outputId": "6014ea81-20ff-4f58-8bfb-1faceb216b4d"
      },
      "execution_count": 15,
      "outputs": [
        {
          "output_type": "stream",
          "name": "stdout",
          "text": [
            "(5, 4)\n"
          ]
        },
        {
          "output_type": "execute_result",
          "data": {
            "text/plain": [
              "   accuracy      loss  val_accuracy  val_loss\n",
              "0       0.0  0.246039      0.513211  0.097358\n",
              "1       0.6  0.080000      0.513211  0.097358\n",
              "2       0.6  0.080000      0.513211  0.097358\n",
              "3       0.6  0.080000      0.513211  0.097358\n",
              "4       0.6  0.080000      0.513211  0.097358"
            ],
            "text/html": [
              "\n",
              "  <div id=\"df-a699f948-8087-4df2-89a3-17b1d7b65482\">\n",
              "    <div class=\"colab-df-container\">\n",
              "      <div>\n",
              "<style scoped>\n",
              "    .dataframe tbody tr th:only-of-type {\n",
              "        vertical-align: middle;\n",
              "    }\n",
              "\n",
              "    .dataframe tbody tr th {\n",
              "        vertical-align: top;\n",
              "    }\n",
              "\n",
              "    .dataframe thead th {\n",
              "        text-align: right;\n",
              "    }\n",
              "</style>\n",
              "<table border=\"1\" class=\"dataframe\">\n",
              "  <thead>\n",
              "    <tr style=\"text-align: right;\">\n",
              "      <th></th>\n",
              "      <th>accuracy</th>\n",
              "      <th>loss</th>\n",
              "      <th>val_accuracy</th>\n",
              "      <th>val_loss</th>\n",
              "    </tr>\n",
              "  </thead>\n",
              "  <tbody>\n",
              "    <tr>\n",
              "      <th>0</th>\n",
              "      <td>0.0</td>\n",
              "      <td>0.246039</td>\n",
              "      <td>0.513211</td>\n",
              "      <td>0.097358</td>\n",
              "    </tr>\n",
              "    <tr>\n",
              "      <th>1</th>\n",
              "      <td>0.6</td>\n",
              "      <td>0.080000</td>\n",
              "      <td>0.513211</td>\n",
              "      <td>0.097358</td>\n",
              "    </tr>\n",
              "    <tr>\n",
              "      <th>2</th>\n",
              "      <td>0.6</td>\n",
              "      <td>0.080000</td>\n",
              "      <td>0.513211</td>\n",
              "      <td>0.097358</td>\n",
              "    </tr>\n",
              "    <tr>\n",
              "      <th>3</th>\n",
              "      <td>0.6</td>\n",
              "      <td>0.080000</td>\n",
              "      <td>0.513211</td>\n",
              "      <td>0.097358</td>\n",
              "    </tr>\n",
              "    <tr>\n",
              "      <th>4</th>\n",
              "      <td>0.6</td>\n",
              "      <td>0.080000</td>\n",
              "      <td>0.513211</td>\n",
              "      <td>0.097358</td>\n",
              "    </tr>\n",
              "  </tbody>\n",
              "</table>\n",
              "</div>\n",
              "      <button class=\"colab-df-convert\" onclick=\"convertToInteractive('df-a699f948-8087-4df2-89a3-17b1d7b65482')\"\n",
              "              title=\"Convert this dataframe to an interactive table.\"\n",
              "              style=\"display:none;\">\n",
              "        \n",
              "  <svg xmlns=\"http://www.w3.org/2000/svg\" height=\"24px\"viewBox=\"0 0 24 24\"\n",
              "       width=\"24px\">\n",
              "    <path d=\"M0 0h24v24H0V0z\" fill=\"none\"/>\n",
              "    <path d=\"M18.56 5.44l.94 2.06.94-2.06 2.06-.94-2.06-.94-.94-2.06-.94 2.06-2.06.94zm-11 1L8.5 8.5l.94-2.06 2.06-.94-2.06-.94L8.5 2.5l-.94 2.06-2.06.94zm10 10l.94 2.06.94-2.06 2.06-.94-2.06-.94-.94-2.06-.94 2.06-2.06.94z\"/><path d=\"M17.41 7.96l-1.37-1.37c-.4-.4-.92-.59-1.43-.59-.52 0-1.04.2-1.43.59L10.3 9.45l-7.72 7.72c-.78.78-.78 2.05 0 2.83L4 21.41c.39.39.9.59 1.41.59.51 0 1.02-.2 1.41-.59l7.78-7.78 2.81-2.81c.8-.78.8-2.07 0-2.86zM5.41 20L4 18.59l7.72-7.72 1.47 1.35L5.41 20z\"/>\n",
              "  </svg>\n",
              "      </button>\n",
              "      \n",
              "  <style>\n",
              "    .colab-df-container {\n",
              "      display:flex;\n",
              "      flex-wrap:wrap;\n",
              "      gap: 12px;\n",
              "    }\n",
              "\n",
              "    .colab-df-convert {\n",
              "      background-color: #E8F0FE;\n",
              "      border: none;\n",
              "      border-radius: 50%;\n",
              "      cursor: pointer;\n",
              "      display: none;\n",
              "      fill: #1967D2;\n",
              "      height: 32px;\n",
              "      padding: 0 0 0 0;\n",
              "      width: 32px;\n",
              "    }\n",
              "\n",
              "    .colab-df-convert:hover {\n",
              "      background-color: #E2EBFA;\n",
              "      box-shadow: 0px 1px 2px rgba(60, 64, 67, 0.3), 0px 1px 3px 1px rgba(60, 64, 67, 0.15);\n",
              "      fill: #174EA6;\n",
              "    }\n",
              "\n",
              "    [theme=dark] .colab-df-convert {\n",
              "      background-color: #3B4455;\n",
              "      fill: #D2E3FC;\n",
              "    }\n",
              "\n",
              "    [theme=dark] .colab-df-convert:hover {\n",
              "      background-color: #434B5C;\n",
              "      box-shadow: 0px 1px 3px 1px rgba(0, 0, 0, 0.15);\n",
              "      filter: drop-shadow(0px 1px 2px rgba(0, 0, 0, 0.3));\n",
              "      fill: #FFFFFF;\n",
              "    }\n",
              "  </style>\n",
              "\n",
              "      <script>\n",
              "        const buttonEl =\n",
              "          document.querySelector('#df-a699f948-8087-4df2-89a3-17b1d7b65482 button.colab-df-convert');\n",
              "        buttonEl.style.display =\n",
              "          google.colab.kernel.accessAllowed ? 'block' : 'none';\n",
              "\n",
              "        async function convertToInteractive(key) {\n",
              "          const element = document.querySelector('#df-a699f948-8087-4df2-89a3-17b1d7b65482');\n",
              "          const dataTable =\n",
              "            await google.colab.kernel.invokeFunction('convertToInteractive',\n",
              "                                                     [key], {});\n",
              "          if (!dataTable) return;\n",
              "\n",
              "          const docLinkHtml = 'Like what you see? Visit the ' +\n",
              "            '<a target=\"_blank\" href=https://colab.research.google.com/notebooks/data_table.ipynb>data table notebook</a>'\n",
              "            + ' to learn more about interactive tables.';\n",
              "          element.innerHTML = '';\n",
              "          dataTable['output_type'] = 'display_data';\n",
              "          await google.colab.output.renderOutput(dataTable, element);\n",
              "          const docLink = document.createElement('div');\n",
              "          docLink.innerHTML = docLinkHtml;\n",
              "          element.appendChild(docLink);\n",
              "        }\n",
              "      </script>\n",
              "    </div>\n",
              "  </div>\n",
              "  "
            ]
          },
          "metadata": {},
          "execution_count": 15
        }
      ]
    },
    {
      "cell_type": "code",
      "source": [
        "# defining visualization function\n",
        "def plt_losses(x, vy, ty, ax, colors=['b']):\n",
        "  ax.plot(x, vy, 'b', label=\"Validation Loss\")\n",
        "  ax.plot(x, ty, 'r', label=\"Train Loss\")\n",
        "  plt.legend()\n",
        "  plt.grid()\n",
        "  fig.canvas.draw()\n",
        "\n",
        "def plt_accuracies(x, vy, ty, ax, colors=['b']):\n",
        "  ax.plot(x, vy, 'b', label=\"Validation accuracy\")\n",
        "  ax.plot(x, ty, 'r', label=\"Train accuracy\")\n",
        "  plt.legend() \n",
        "  plt.grid()\n",
        "  fig.canvas.draw()\n",
        "\n"
      ],
      "metadata": {
        "id": "P41myF64HOJF"
      },
      "execution_count": 16,
      "outputs": []
    },
    {
      "cell_type": "code",
      "source": [
        "# visualization of loss\n",
        "fig,ax = plt.subplots(1,1)\n",
        "ax.set_xlabel('epoch')\n",
        "ax.set_ylabel('Categorical Crossentropy Loss')\n",
        "x = list(range(1,epochs+1))\n",
        "vy = history.history['val_loss']\n",
        "ty = history.history['loss']\n",
        "plt_losses(x, vy, ty, ax)"
      ],
      "metadata": {
        "colab": {
          "base_uri": "https://localhost:8080/",
          "height": 279
        },
        "id": "GZJ2dLIIIUAz",
        "outputId": "00485b0b-b56f-4567-d598-93bf2d9fc2ee"
      },
      "execution_count": 17,
      "outputs": [
        {
          "output_type": "display_data",
          "data": {
            "text/plain": [
              "<Figure size 432x288 with 1 Axes>"
            ],
            "image/png": "[encoded data removed]"
          },
          "metadata": {
            "needs_background": "light"
          }
        }
      ]
    },
    {
      "cell_type": "code",
      "source": [
        "# visualization of accuracy\n",
        "fig,ax = plt.subplots(1,1)\n",
        "ax.set_xlabel('epoch')\n",
        "ax.set_ylabel('accuracies')\n",
        "x = list(range(1,epochs+1))\n",
        "vy = history.history['val_accuracy']\n",
        "ty = history.history['accuracy']\n",
        "plt_accuracies(x, vy, ty, ax)"
      ],
      "metadata": {
        "colab": {
          "base_uri": "https://localhost:8080/",
          "height": 279
        },
        "id": "GnEzilbKIgeV",
        "outputId": "98a77265-6186-479f-98fc-be91e61d53ee"
      },
      "execution_count": 18,
      "outputs": [
        {
          "output_type": "display_data",
          "data": {
            "text/plain": [
              "<Figure size 432x288 with 1 Axes>"
            ],
            "image/png": "[encoded data removed]"
          },
          "metadata": {
            "needs_background": "light"
          }
        }
      ]
    },
    {
      "cell_type": "code",
      "source": [],
      "metadata": {
        "id": "DgDhTYz5RuH_"
      },
      "execution_count": 18,
      "outputs": []
    }
  ]
}