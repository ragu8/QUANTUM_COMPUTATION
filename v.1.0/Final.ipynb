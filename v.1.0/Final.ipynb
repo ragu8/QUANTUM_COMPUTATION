{
  "cells": [
    {
      "cell_type": "markdown",
      "metadata": {
        "id": "j6331ZSsQGY3"
      },
      "source": [
        "# QUANTUM CONVOLUTIONAL NEURAL NETWORK"
      ]
    },
    {
      "cell_type": "markdown",
      "metadata": {
        "id": "b08Mmbs8lr81"
      },
      "source": [
        "- 1 Dependencies\n",
        "   - 1.1 Install the dependencies\n",
        "   - 1.2 Load the dependencies\n",
        "- 2 Data preprocessing\n",
        "   - 2.1 Load the raw data\n",
        "   - 2.2 Normalizing\n",
        "   - 2.3 Filtering\n",
        "   - 2.4 Resizing\n",
        "\n",
        "- 3 Classical neural network\n",
        "   - 3.1 Build the model\n",
        "   - 3.2 Compile the model\n",
        "   - 3.3 Train the model\n",
        "   - 3.4 Evaluate the model\n",
        "\n",
        "- 4 Quantum neural network\n",
        "   - 4.1 Encode the data as quantum circuits\n",
        "   - 4.2 Convert the quantum circuits to tensors\n",
        "   - 4.3 Convert the quantum tensors to quantum circuits \n",
        "   - 4.4 Build the model\n",
        "   - 4.5 Compile the model\n",
        "   - 4.6 Train the model\n",
        "   - 4.7 Evaluate the model\n",
        "   \n",
        "- 5 Comparison\n",
        "   - 5.1 Create a dataframe\n",
        "   - 5.2 Quantum CNN performance\n",
        "   - 5.3 Classical CNN performance\n",
        "   - 5.4 Quantum Vs Classical using Barplot\n"
      ]
    },
    {
      "cell_type": "markdown",
      "metadata": {
        "id": "7qtuISP_NTmz"
      },
      "source": [
        "## 1. Dependencies"
      ]
    },
    {
      "cell_type": "markdown",
      "source": [
        "### 1.1 Install the dependencies"
      ],
      "metadata": {
        "id": "WL6Olg_OYMJM"
      }
    },
    {
      "cell_type": "code",
      "source": [
        "#!pip install tensorflow-gpu\n",
        "#!pip install cirq pathos tensorflow-quantum\n",
        "#!pip install --upgrade cirq"
      ],
      "metadata": {
        "id": "7IxdnCgpX0YS"
      },
      "execution_count": null,
      "outputs": []
    },
    {
      "cell_type": "markdown",
      "source": [
        "### 1.2 Loads the dependencies"
      ],
      "metadata": {
        "id": "kw5CNXRVX2s5"
      }
    },
    {
      "cell_type": "code",
      "execution_count": null,
      "metadata": {
        "execution": {
          "iopub.execute_input": "2022-07-29T11:26:00.342249Z",
          "iopub.status.busy": "2022-07-29T11:26:00.341693Z",
          "iopub.status.idle": "2022-07-29T11:26:04.250609Z",
          "shell.execute_reply": "2022-07-29T11:26:04.249745Z"
        },
        "id": "enZ300Bflq80"
      },
      "outputs": [],
      "source": [
        "import cirq\n",
        "import sympy\n",
        "import collections\n",
        "import numpy as np\n",
        "import pandas as pd\n",
        "import tensorflow as tf\n",
        "import matplotlib.pyplot as plt\n",
        "import tensorflow_quantum as tfq\n",
        "from cirq.contrib.svg import SVGCircuit"
      ]
    },
    {
      "cell_type": "markdown",
      "metadata": {
        "id": "u2lkonWDKa95"
      },
      "source": [
        "## 2. Data preprocessing"
      ]
    },
    {
      "cell_type": "markdown",
      "metadata": {
        "id": "pDUdGxn-ojgy"
      },
      "source": [
        "### 2.1 Load the raw data"
      ]
    },
    {
      "cell_type": "markdown",
      "metadata": {
        "id": "xZyGXlaKojgz"
      },
      "source": [
        "Load the MNIST dataset distributed with Keras. "
      ]
    },
    {
      "cell_type": "code",
      "execution_count": null,
      "metadata": {
        "execution": {
          "iopub.execute_input": "2022-07-29T11:26:04.255568Z",
          "iopub.status.busy": "2022-07-29T11:26:04.254302Z",
          "iopub.status.idle": "2022-07-29T11:26:04.792424Z",
          "shell.execute_reply": "2022-07-29T11:26:04.791661Z"
        },
        "id": "d9OSExvCojg0"
      },
      "outputs": [],
      "source": [
        "(x_train, y_train), (x_test, y_test) = tf.keras.datasets.mnist.load_data()"
      ]
    },
    {
      "cell_type": "markdown",
      "metadata": {
        "id": "2Q0O7ABi-eYs"
      },
      "source": [
        "### 2.2 Normalizing"
      ]
    },
    {
      "cell_type": "markdown",
      "metadata": {
        "id": "epTCLxJN7KAs"
      },
      "source": [
        " Rescale the images from [0,255] to the [0.0,1.0] range."
      ]
    },
    {
      "cell_type": "code",
      "execution_count": null,
      "metadata": {
        "id": "cXcx2wMV91Y-"
      },
      "outputs": [],
      "source": [
        "x_train, x_test = x_train[..., np.newaxis]/255.0, x_test[..., np.newaxis]/255.0\n",
        "\n",
        "print(\"Number of original training examples:\", len(x_train))\n",
        "print(\"Number of original test examples:\", len(x_test))"
      ]
    },
    {
      "cell_type": "markdown",
      "metadata": {
        "id": "MeLsgZ7o_aiy"
      },
      "source": [
        "### 2.3 Filtering"
      ]
    },
    {
      "cell_type": "markdown",
      "metadata": {
        "id": "fZpbygdGojg3"
      },
      "source": [
        "Filter the dataset to keep just the 3s and 6s,  remove the other classes. At the same time convert the label, `y`, to boolean: `True` for `3` and `False` for 6. "
      ]
    },
    {
      "cell_type": "code",
      "execution_count": null,
      "metadata": {
        "execution": {
          "iopub.execute_input": "2022-07-29T11:26:04.796306Z",
          "iopub.status.busy": "2022-07-29T11:26:04.795740Z",
          "iopub.status.idle": "2022-07-29T11:26:04.799883Z",
          "shell.execute_reply": "2022-07-29T11:26:04.799207Z"
        },
        "id": "hOw68cCZojg4"
      },
      "outputs": [],
      "source": [
        "def filter_36(x, y):\n",
        "    keep = (y == 3) | (y == 6)\n",
        "    x, y = x[keep], y[keep]\n",
        "    y = y == 3\n",
        "    return x,y"
      ]
    },
    {
      "cell_type": "code",
      "execution_count": null,
      "metadata": {
        "execution": {
          "iopub.execute_input": "2022-07-29T11:26:04.803002Z",
          "iopub.status.busy": "2022-07-29T11:26:04.802551Z",
          "iopub.status.idle": "2022-07-29T11:26:04.837823Z",
          "shell.execute_reply": "2022-07-29T11:26:04.837025Z"
        },
        "id": "p-XEU8egGL6q"
      },
      "outputs": [],
      "source": [
        "x_train, y_train = filter_36(x_train, y_train)\n",
        "x_test, y_test = filter_36(x_test, y_test)\n",
        "\n",
        "print(\"Number of filtered training examples:\", len(x_train))\n",
        "print(\"Number of filtered test examples:\", len(x_test))"
      ]
    },
    {
      "cell_type": "markdown",
      "metadata": {
        "id": "wNS9sVPQojhC"
      },
      "source": [
        "### 2.4 Resizing"
      ]
    },
    {
      "cell_type": "markdown",
      "metadata": {
        "id": "fmmtplIFGL6t"
      },
      "source": [
        "An image size of 28x28 is much too large for current quantum computers. Resize the image down to 4x4:"
      ]
    },
    {
      "cell_type": "code",
      "execution_count": null,
      "metadata": {
        "execution": {
          "iopub.execute_input": "2022-07-29T11:26:05.065901Z",
          "iopub.status.busy": "2022-07-29T11:26:05.065373Z",
          "iopub.status.idle": "2022-07-29T11:26:05.149285Z",
          "shell.execute_reply": "2022-07-29T11:26:05.148576Z"
        },
        "id": "lbhUdBFWojhE"
      },
      "outputs": [],
      "source": [
        "x_train_small = tf.image.resize(x_train, (4,4)).numpy()\n",
        "x_test_small = tf.image.resize(x_test, (4,4)).numpy()"
      ]
    },
    {
      "cell_type": "markdown",
      "metadata": {
        "id": "4USiqeOqGL67"
      },
      "source": [
        "## 3. Quantum neural network\n",
        "\n"
      ]
    },
    {
      "cell_type": "markdown",
      "metadata": {
        "id": "SlJ5NVaPojhT"
      },
      "source": [
        "### 3.1 Encode the data as quantum circuits"
      ]
    },
    {
      "cell_type": "code",
      "execution_count": null,
      "metadata": {
        "execution": {
          "iopub.execute_input": "2022-07-29T11:26:05.461098Z",
          "iopub.status.busy": "2022-07-29T11:26:05.460529Z",
          "iopub.status.idle": "2022-07-29T11:26:05.464690Z",
          "shell.execute_reply": "2022-07-29T11:26:05.464015Z"
        },
        "id": "1z8J7OyDojhV"
      },
      "outputs": [],
      "source": [
        "THRESHOLD = 0.5\n",
        "\n",
        "x_train_bin = np.array(x_train_small > THRESHOLD, dtype=np.float32)\n",
        "x_test_bin = np.array(x_test_small > THRESHOLD, dtype=np.float32)"
      ]
    },
    {
      "cell_type": "markdown",
      "metadata": {
        "id": "mWZ24w1Oojhk"
      },
      "source": [
        "### 3.2 Convert the quantum circuits to tensors\n"
      ]
    },
    {
      "cell_type": "code",
      "execution_count": null,
      "metadata": {
        "execution": {
          "iopub.execute_input": "2022-07-29T11:26:05.542962Z",
          "iopub.status.busy": "2022-07-29T11:26:05.542428Z",
          "iopub.status.idle": "2022-07-29T11:26:07.491543Z",
          "shell.execute_reply": "2022-07-29T11:26:07.490761Z"
        },
        "id": "aOu_3-3ZGL61"
      },
      "outputs": [],
      "source": [
        "def convert_to_circuit(image):\n",
        "    values = np.ndarray.flatten(image)\n",
        "    qubits = cirq.GridQubit.rect(4, 4)\n",
        "    circuit = cirq.Circuit()\n",
        "    for i, value in enumerate(values):\n",
        "        if value:\n",
        "            circuit.append(cirq.X(qubits[i]))\n",
        "    return circuit\n"
      ]
    },
    {
      "cell_type": "code",
      "execution_count": null,
      "metadata": {
        "id": "lyU2m3cm8vUl"
      },
      "outputs": [],
      "source": [
        "x_train_circ = [convert_to_circuit(x) for x in x_train_bin]\n",
        "x_test_circ = [convert_to_circuit(x) for x in x_test_bin]"
      ]
    },
    {
      "cell_type": "markdown",
      "metadata": {
        "id": "u3ABkBznqUOD"
      },
      "source": [
        "### 3.3 Convert the quantum tensors to quantum circuits "
      ]
    },
    {
      "cell_type": "code",
      "execution_count": null,
      "metadata": {
        "execution": {
          "iopub.execute_input": "2022-07-29T11:26:07.547385Z",
          "iopub.status.busy": "2022-07-29T11:26:07.546863Z",
          "iopub.status.idle": "2022-07-29T11:26:13.129822Z",
          "shell.execute_reply": "2022-07-29T11:26:13.128993Z"
        },
        "id": "IZStEMk4ojhk"
      },
      "outputs": [],
      "source": [
        "x_train_tfcirc = tfq.convert_to_tensor(x_train_circ)\n",
        "x_test_tfcirc = tfq.convert_to_tensor(x_test_circ)"
      ]
    },
    {
      "cell_type": "markdown",
      "metadata": {
        "id": "knIzawEeojho"
      },
      "source": [
        "### 3.4 Build the model \n"
      ]
    },
    {
      "cell_type": "code",
      "execution_count": null,
      "metadata": {
        "execution": {
          "iopub.execute_input": "2022-07-29T11:26:13.134671Z",
          "iopub.status.busy": "2022-07-29T11:26:13.134096Z",
          "iopub.status.idle": "2022-07-29T11:26:13.138897Z",
          "shell.execute_reply": "2022-07-29T11:26:13.138248Z"
        },
        "id": "-hjxxgU5ojho"
      },
      "outputs": [],
      "source": [
        "class CircuitLayerBuilder():\n",
        "    def __init__(self, data_qubits, readout):\n",
        "        self.data_qubits = data_qubits\n",
        "        self.readout = readout\n",
        "    \n",
        "    def add_layer(self, circuit, gate, prefix):\n",
        "        for i, qubit in enumerate(self.data_qubits):\n",
        "            symbol = sympy.Symbol(prefix + '-' + str(i))\n",
        "            circuit.append(gate(qubit, self.readout)**symbol)"
      ]
    },
    {
      "cell_type": "code",
      "execution_count": null,
      "metadata": {
        "execution": {
          "iopub.execute_input": "2022-07-29T11:26:13.269399Z",
          "iopub.status.busy": "2022-07-29T11:26:13.268866Z",
          "iopub.status.idle": "2022-07-29T11:26:13.274224Z",
          "shell.execute_reply": "2022-07-29T11:26:13.273519Z"
        },
        "id": "JiALbpwRGL69"
      },
      "outputs": [],
      "source": [
        "def create_quantum_model():\n",
        "    data_qubits = cirq.GridQubit.rect(4, 4) \n",
        "    readout = cirq.GridQubit(-1, -1)        \n",
        "    circuit = cirq.Circuit()\n",
        "    circuit.append(cirq.X(readout))\n",
        "    circuit.append(cirq.H(readout))\n",
        "    builder = CircuitLayerBuilder(data_qubits = data_qubits,readout=readout)\n",
        "    builder.add_layer(circuit, cirq.XX, \"xx1\")\n",
        "    builder.add_layer(circuit, cirq.ZZ, \"zz1\")\n",
        "    circuit.append(cirq.H(readout))\n",
        "\n",
        "    return circuit, cirq.Z(readout)"
      ]
    },
    {
      "cell_type": "code",
      "execution_count": null,
      "metadata": {
        "execution": {
          "iopub.execute_input": "2022-07-29T11:26:13.277451Z",
          "iopub.status.busy": "2022-07-29T11:26:13.276925Z",
          "iopub.status.idle": "2022-07-29T11:26:13.291800Z",
          "shell.execute_reply": "2022-07-29T11:26:13.291198Z"
        },
        "id": "2QZvVh7vojhx"
      },
      "outputs": [],
      "source": [
        "model_circuit, model_readout = create_quantum_model()"
      ]
    },
    {
      "cell_type": "code",
      "execution_count": null,
      "metadata": {
        "execution": {
          "iopub.execute_input": "2022-07-29T11:26:13.295277Z",
          "iopub.status.busy": "2022-07-29T11:26:13.294789Z",
          "iopub.status.idle": "2022-07-29T11:26:14.325774Z",
          "shell.execute_reply": "2022-07-29T11:26:14.324987Z"
        },
        "id": "ZYdf_KOxojh0"
      },
      "outputs": [],
      "source": [
        "model = tf.keras.Sequential([tf.keras.layers.Input(shape=(), dtype=tf.string),tfq.layers.PQC(model_circuit, model_readout),])"
      ]
    },
    {
      "cell_type": "markdown",
      "metadata": {
        "id": "_yO5_2o4_K02"
      },
      "source": [
        "### 3.5 Compile the model "
      ]
    },
    {
      "cell_type": "code",
      "execution_count": null,
      "metadata": {
        "id": "UJZLb--KIOkp"
      },
      "outputs": [],
      "source": [
        "y_train_hinge = 2.0*y_train-1.0\n",
        "y_test_hinge = 2.0*y_test-1.0"
      ]
    },
    {
      "cell_type": "code",
      "execution_count": null,
      "metadata": {
        "execution": {
          "iopub.execute_input": "2022-07-29T11:26:14.336773Z",
          "iopub.status.busy": "2022-07-29T11:26:14.336330Z",
          "iopub.status.idle": "2022-07-29T11:26:14.340215Z",
          "shell.execute_reply": "2022-07-29T11:26:14.339560Z"
        },
        "id": "3XKtZ_TEojh8"
      },
      "outputs": [],
      "source": [
        "def hinge_accuracy(y_true, y_pred):\n",
        "    y_true = tf.squeeze(y_true) > 0.0\n",
        "    y_pred = tf.squeeze(y_pred) > 0.0\n",
        "    result = tf.cast(y_true == y_pred, tf.float32)\n",
        "\n",
        "    return tf.reduce_mean(result)"
      ]
    },
    {
      "cell_type": "code",
      "execution_count": null,
      "metadata": {
        "execution": {
          "iopub.execute_input": "2022-07-29T11:26:14.343385Z",
          "iopub.status.busy": "2022-07-29T11:26:14.342825Z",
          "iopub.status.idle": "2022-07-29T11:26:14.353939Z",
          "shell.execute_reply": "2022-07-29T11:26:14.353292Z"
        },
        "id": "FlpETlLRojiA"
      },
      "outputs": [],
      "source": [
        "model.compile(loss=tf.keras.losses.Hinge(),optimizer=tf.keras.optimizers.Adam(),metrics=[hinge_accuracy])"
      ]
    },
    {
      "cell_type": "markdown",
      "metadata": {
        "id": "n9_O0Qp__-6T"
      },
      "source": [
        "### 3.6 Train the model"
      ]
    },
    {
      "cell_type": "markdown",
      "metadata": {
        "id": "71ubM0eZ_nX4"
      },
      "source": [
        "Hyperpermeters"
      ]
    },
    {
      "cell_type": "code",
      "execution_count": null,
      "metadata": {
        "execution": {
          "iopub.execute_input": "2022-07-29T11:26:14.364054Z",
          "iopub.status.busy": "2022-07-29T11:26:14.363463Z",
          "iopub.status.idle": "2022-07-29T11:26:14.367005Z",
          "shell.execute_reply": "2022-07-29T11:26:14.366331Z"
        },
        "id": "n8vuQpSLlBV2"
      },
      "outputs": [],
      "source": [
        "EPOCHS = 1\n",
        "NUM_EXAMPLES = len(x_train_tfcirc)\n",
        "x_train_tfcirc_sub = x_train_tfcirc[:NUM_EXAMPLES]\n",
        "y_train_hinge_sub = y_train_hinge[:NUM_EXAMPLES]"
      ]
    },
    {
      "cell_type": "code",
      "execution_count": null,
      "metadata": {
        "execution": {
          "iopub.execute_input": "2022-07-29T11:26:14.376727Z",
          "iopub.status.busy": "2022-07-29T11:26:14.376257Z",
          "iopub.status.idle": "2022-07-29T11:29:28.991406Z",
          "shell.execute_reply": "2022-07-29T11:29:28.990564Z"
        },
        "id": "Ya9qP3KkojiM"
      },
      "outputs": [],
      "source": [
        "qnn_history = model.fit(x_train_tfcirc_sub, y_train_hinge_sub,batch_size=32,epochs=EPOCHS,verbose=1,validation_data=(x_test_tfcirc, y_test_hinge))"
      ]
    },
    {
      "cell_type": "markdown",
      "metadata": {
        "id": "SK_GrFQ3APoM"
      },
      "source": [
        "### 3.7 Evaluate the  model"
      ]
    },
    {
      "cell_type": "code",
      "execution_count": null,
      "metadata": {
        "id": "fxVqpHe6AQKi"
      },
      "outputs": [],
      "source": [
        "qnn_results = model.evaluate(x_test_tfcirc, y_test)"
      ]
    },
    {
      "cell_type": "markdown",
      "metadata": {
        "id": "vdja8EgEFWmF"
      },
      "source": [
        "## 4. Classical neural network"
      ]
    },
    {
      "cell_type": "markdown",
      "metadata": {
        "id": "sxXSduYCSTON"
      },
      "source": [
        "### 4.1 Build the model "
      ]
    },
    {
      "cell_type": "code",
      "execution_count": null,
      "metadata": {
        "execution": {
          "iopub.execute_input": "2022-07-29T11:29:28.995604Z",
          "iopub.status.busy": "2022-07-29T11:29:28.995028Z",
          "iopub.status.idle": "2022-07-29T11:29:29.056630Z",
          "shell.execute_reply": "2022-07-29T11:29:29.055931Z"
        },
        "id": "pZofEHhLGL7L"
      },
      "outputs": [],
      "source": [
        "def create_classical_model():\n",
        "    model = tf.keras.Sequential()\n",
        "    model.add(tf.keras.layers.Conv2D(32, [3, 3], activation='relu', input_shape=(28,28,1)))\n",
        "    model.add(tf.keras.layers.Conv2D(64, [3, 3], activation='relu'))\n",
        "    model.add(tf.keras.layers.MaxPooling2D(pool_size=(2, 2)))\n",
        "    model.add(tf.keras.layers.Dropout(0.25))\n",
        "    model.add(tf.keras.layers.Flatten())\n",
        "    model.add(tf.keras.layers.Dense(128, activation='relu'))\n",
        "    model.add(tf.keras.layers.Dropout(0.5))\n",
        "    model.add(tf.keras.layers.Dense(1))\n",
        "    return model\n",
        "\n",
        "\n",
        "model = create_classical_model()"
      ]
    },
    {
      "cell_type": "markdown",
      "metadata": {
        "id": "0aW4w0FlDxpA"
      },
      "source": [
        "### 4.2 Compile the model "
      ]
    },
    {
      "cell_type": "code",
      "execution_count": null,
      "metadata": {
        "id": "a0QW9TbGDhZA"
      },
      "outputs": [],
      "source": [
        "model.compile(loss=tf.keras.losses.BinaryCrossentropy(from_logits=True),optimizer=tf.keras.optimizers.Adam(),metrics=['accuracy'])"
      ]
    },
    {
      "cell_type": "markdown",
      "metadata": {
        "id": "_qNJtsu0Ss8E"
      },
      "source": [
        "### 4.3 Train the  model"
      ]
    },
    {
      "cell_type": "code",
      "execution_count": null,
      "metadata": {
        "execution": {
          "iopub.execute_input": "2022-07-29T11:29:29.059976Z",
          "iopub.status.busy": "2022-07-29T11:29:29.059433Z",
          "iopub.status.idle": "2022-07-29T11:29:32.752649Z",
          "shell.execute_reply": "2022-07-29T11:29:32.751887Z"
        },
        "id": "CiAJl7sZojiU"
      },
      "outputs": [],
      "source": [
        "cnn_history = model.fit(x_train,y_train,batch_size=128,epochs=EPOCHS, verbose=1, validation_data=(x_test, y_test))"
      ]
    },
    {
      "cell_type": "markdown",
      "metadata": {
        "id": "YlvV35KxEZX4"
      },
      "source": [
        "### 4.4 Evaluate the  model"
      ]
    },
    {
      "cell_type": "code",
      "execution_count": null,
      "metadata": {
        "id": "CLs43WYKEVGs"
      },
      "outputs": [],
      "source": [
        "cnn_results = model.evaluate(x_test, y_test)"
      ]
    },
    {
      "cell_type": "markdown",
      "metadata": {
        "id": "ZvzgvkkBFoDR"
      },
      "source": [
        "## 5. Comparison"
      ]
    },
    {
      "cell_type": "markdown",
      "metadata": {
        "id": "gHr3TxBVTFNa"
      },
      "source": [
        "### 5.1 Create a dataframe"
      ]
    },
    {
      "cell_type": "code",
      "execution_count": null,
      "metadata": {
        "id": "3h82RUFcroi0"
      },
      "outputs": [],
      "source": [
        "qnn_history.history\n",
        "accuracy = pd.DataFrame()\n",
        "loss = pd.DataFrame()\n",
        "accuracy['QNN_accuracy']  = qnn_history.history['hinge_accuracy']\n",
        "accuracy['QNN_val_accuracy'] = qnn_history.history['val_hinge_accuracy']\n",
        "accuracy['CNN_accuracy']  = cnn_history.history['accuracy']\n",
        "accuracy['CNN_val_accuracy'] = cnn_history.history['val_accuracy']\n",
        "loss['QNN_loss']      = qnn_history.history['loss']\n",
        "loss['QNN_val_loss']  = qnn_history.history['val_loss']\n",
        "loss['CNN_loss']      = cnn_history.history['loss']\n",
        "loss['CNN_val_loss']  = cnn_history.history['val_loss']\n",
        "print(\"Quantum CNN accuracy and  Classical CNN accuracy\\n\")\n",
        "print(accuracy)\n",
        "print(\"\\nQuantum CNN loss and  Classical CNN loss\\n\")\n",
        "print(loss)"
      ]
    },
    {
      "cell_type": "markdown",
      "metadata": {
        "id": "jbs_8cr_5alB"
      },
      "source": [
        "### 5.2 Quantum CNN accuracy Vs Classical CNN accuracy"
      ]
    },
    {
      "cell_type": "code",
      "execution_count": null,
      "metadata": {
        "id": "k5UoZ4ckmYDh"
      },
      "outputs": [],
      "source": [
        "def plot_accuracy():\n",
        "    plt.plot(accuracy['QNN_accuracy'],'b--',label = 'QNN_accuracy')\n",
        "    plt.plot(accuracy['QNN_val_accuracy'],'r--',label = 'QNN_val_accuracy')\n",
        "    plt.plot(accuracy['CNN_accuracy'],'g--',label = 'CNN_accuracy')\n",
        "    plt.plot(accuracy['CNN_val_accuracy'],'y--',label = 'CNN_val_accuracy')\n",
        "    plt.legend()\n",
        "    plt.title('Quantum CNN accuracy Vs Classical CNN accuracy')\n",
        "    plt.show()"
      ]
    },
    {
      "cell_type": "code",
      "execution_count": null,
      "metadata": {
        "id": "ImmDXzB0m1AA"
      },
      "outputs": [],
      "source": [
        "plot_accuracy()"
      ]
    },
    {
      "cell_type": "markdown",
      "metadata": {
        "id": "4cexnB4cm43o"
      },
      "source": [
        "### 5.3 Quantum CNN loss Vs  Classical CNN loss"
      ]
    },
    {
      "cell_type": "code",
      "execution_count": null,
      "metadata": {
        "id": "MkFV9XuPm7hB"
      },
      "outputs": [],
      "source": [
        "def plot_loss():\n",
        "    plt.plot(loss['QNN_loss'],'b--',label = 'QNN_loss')\n",
        "    plt.plot(loss['QNN_val_loss'],'r--',label = 'QNN_val_loss')\n",
        "    plt.plot(loss['CNN_loss'],'g--',label = 'CNN_loss')\n",
        "    plt.plot(loss['CNN_val_loss'],'y--',label = 'CNN_val_loss')\n",
        "    plt.legend()\n",
        "    plt.title('Quantum CNN loss Vs Classical CNN loss')\n",
        "    plt.show()"
      ]
    },
    {
      "cell_type": "code",
      "execution_count": null,
      "metadata": {
        "id": "_M_D8gP_m64o"
      },
      "outputs": [],
      "source": [
        "plot_loss()"
      ]
    },
    {
      "cell_type": "markdown",
      "metadata": {
        "id": "GZ_8_gnSTob_"
      },
      "source": [
        "### 5.4 Quantum Vs Classical using Barplot "
      ]
    },
    {
      "cell_type": "code",
      "execution_count": null,
      "metadata": {
        "id": "_nfy29zznFWy"
      },
      "outputs": [],
      "source": [
        "accuracy =[qnn_results[1],cnn_results[1]]\n",
        "lable = [\"Quantum\", \"Classical\"]\n",
        "barlist = plt.bar(lable,accuracy)\n",
        "barlist[0].set_color('b')\n",
        "barlist[1].set_color('r')\n",
        "plt.title(\"Quantum Vs Classical\")\n",
        "plt.show()"
      ]
    }
  ],
  "metadata": {
    "accelerator": "GPU",
    "colab": {
      "collapsed_sections": [
        "7qtuISP_NTmz",
        "u2lkonWDKa95",
        "pDUdGxn-ojgy",
        "2Q0O7ABi-eYs",
        "MeLsgZ7o_aiy",
        "SlJ5NVaPojhT",
        "mWZ24w1Oojhk",
        "u3ABkBznqUOD",
        "knIzawEeojho",
        "_yO5_2o4_K02",
        "SK_GrFQ3APoM",
        "YlvV35KxEZX4",
        "gHr3TxBVTFNa",
        "jbs_8cr_5alB",
        "4cexnB4cm43o",
        "8XC-X3sXW5Kk"
      ],
      "private_outputs": true,
      "provenance": []
    },
    "gpuClass": "standard",
    "kernelspec": {
      "display_name": "Python 3",
      "language": "python",
      "name": "python3"
    },
    "language_info": {
      "codemirror_mode": {
        "name": "ipython",
        "version": 3
      },
      "file_extension": ".py",
      "mimetype": "text/x-python",
      "name": "python",
      "nbconvert_exporter": "python",
      "pygments_lexer": "ipython3",
      "version": "3.7.6"
    }
  },
  "nbformat": 4,
  "nbformat_minor": 0
}