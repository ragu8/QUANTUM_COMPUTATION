{
 "cells": [
  {
   "cell_type": "markdown",
   "metadata": {
    "canvas": {
     "comments": [],
     "componentType": "CodeCell",
     "copiedOriginId": null,
     "diskcache": false,
     "headerColor": "transparent",
     "id": "da0abb97-5a80-4be8-9129-3b561bd41f72",
     "isComponent": false,
     "name": "",
     "parents": []
    },
    "id": "j6331ZSsQGY3",
    "tags": []
   },
   "source": [
    "# QUANTUM CONVOLUTIONAL NEURAL NETWORK"
   ]
  },
  {
   "cell_type": "markdown",
   "metadata": {
    "canvas": {
     "comments": [],
     "componentType": "CodeCell",
     "copiedOriginId": null,
     "diskcache": false,
     "headerColor": "transparent",
     "id": "f5ef4114-13d9-4879-ba72-bd967af1ddf1",
     "isComponent": false,
     "name": "",
     "parents": []
    },
    "id": "b08Mmbs8lr81"
   },
   "source": [
    "- 1 Dependencies\n",
    "   - 1.1 Install the dependencies\n",
    "   - 1.2 Load the dependencies\n",
    "- 2 Data preprocessing\n",
    "   - 2.1 Load the raw data\n",
    "   - 2.2 Normalizing\n",
    "   - 2.3 Filtering\n",
    "   - 2.4 Resizing\n",
    "\n",
    "- 3 Classical neural network\n",
    "   - 3.1 Build the model\n",
    "   - 3.2 Compile the model\n",
    "   - 3.3 Train the model\n",
    "   - 3.4 Evaluate the model\n",
    "\n",
    "- 4 Quantum neural network\n",
    "   - 4.1 Encode the data as quantum circuits\n",
    "   - 4.2 Convert the quantum circuits to tensors\n",
    "   - 4.3 Convert the quantum tensors to quantum circuits \n",
    "   - 4.4 Build the model\n",
    "   - 4.5 Compile the model\n",
    "   - 4.6 Train the model\n",
    "   - 4.7 Evaluate the model\n",
    "   \n",
    "- 5 Comparison\n",
    "   - 5.1 Create a dataframe\n",
    "   - 5.2 Quantum CNN accuracy Vs Classical CNN accuracy\n",
    "   - 5.3 Quantum CNN loss Vs Classical CNN loss\n",
    "   - 5.4 Quantum Vs Classical using Barplot\n",
    "   - 5.5 Performance Metrics\n",
    "   - 5.6 Confusion Matrix\n"
   ]
  },
  {
   "cell_type": "markdown",
   "metadata": {
    "canvas": {
     "comments": [],
     "componentType": "CodeCell",
     "copiedOriginId": null,
     "diskcache": false,
     "headerColor": "transparent",
     "id": "ed307da6-78d8-4799-80d1-79fcddf2b09b",
     "isComponent": false,
     "name": "",
     "parents": []
    },
    "id": "7qtuISP_NTmz"
   },
   "source": [
    "## 1. Dependencies"
   ]
  },
  {
   "cell_type": "markdown",
   "metadata": {
    "canvas": {
     "comments": [],
     "componentType": "CodeCell",
     "copiedOriginId": null,
     "diskcache": false,
     "headerColor": "transparent",
     "id": "904a517b-df54-481f-8822-22f43aeb3db6",
     "isComponent": false,
     "name": "",
     "parents": []
    },
    "id": "WL6Olg_OYMJM"
   },
   "source": [
    "### 1.1 Install the dependencies"
   ]
  },
  {
   "cell_type": "code",
   "execution_count": null,
   "metadata": {
    "canvas": {
     "comments": [],
     "componentType": "CodeCell",
     "copiedOriginId": null,
     "diskcache": false,
     "headerColor": "transparent",
     "id": "62c21e87-3f1f-4ff9-b366-b4a4d2a9e9e1",
     "isComponent": false,
     "name": "",
     "parents": []
    },
    "id": "7IxdnCgpX0YS"
   },
   "outputs": [],
   "source": [
    "!pip install tensorflow==2.7.0 tensorflow-quantum==0.7.2\n"
   ]
  },
  {
   "cell_type": "markdown",
   "metadata": {
    "canvas": {
     "comments": [],
     "componentType": "CodeCell",
     "copiedOriginId": null,
     "diskcache": false,
     "headerColor": "transparent",
     "id": "76939c0e-3658-46f7-8ec7-e49a3e2b3f2d",
     "isComponent": false,
     "name": "",
     "parents": []
    },
    "id": "kw5CNXRVX2s5"
   },
   "source": [
    "### 1.2 Loads the dependencies"
   ]
  },
  {
   "cell_type": "code",
   "execution_count": null,
   "metadata": {
    "canvas": {
     "comments": [],
     "componentType": "CodeCell",
     "copiedOriginId": null,
     "diskcache": false,
     "headerColor": "transparent",
     "id": "e9c05b19-d464-44a5-bb6a-c2d0fca715d1",
     "isComponent": false,
     "name": "",
     "parents": []
    },
    "id": "B8yrwkymPp1B"
   },
   "outputs": [],
   "source": [
    "import importlib, pkg_resources\n",
    "importlib.reload(pkg_resources)\n"
   ]
  },
  {
   "cell_type": "code",
   "execution_count": null,
   "metadata": {
    "canvas": {
     "comments": [],
     "componentType": "CodeCell",
     "copiedOriginId": null,
     "diskcache": false,
     "headerColor": "transparent",
     "id": "b62db726-c294-4c2d-98a3-85d5c6ac68c8",
     "isComponent": false,
     "name": "",
     "parents": []
    },
    "execution": {
     "iopub.execute_input": "2022-07-29T11:26:00.342249Z",
     "iopub.status.busy": "2022-07-29T11:26:00.341693Z",
     "iopub.status.idle": "2022-07-29T11:26:04.250609Z",
     "shell.execute_reply": "2022-07-29T11:26:04.249745Z"
    },
    "id": "enZ300Bflq80"
   },
   "outputs": [],
   "source": [
    "import cirq\n",
    "import sympy\n",
    "import collections\n",
    "import numpy as np\n",
    "import pandas as pd\n",
    "import seaborn as sns\n",
    "import tensorflow as tf\n",
    "import matplotlib.pyplot as plt\n",
    "import tensorflow_quantum as tfq\n",
    "from cirq.contrib.svg import SVGCircuit\n",
    "from sklearn.model_selection import train_test_split\n",
    "from sklearn.metrics import accuracy_score, precision_score, recall_score, confusion_matrix,f1_score"
   ]
  },
  {
   "cell_type": "markdown",
   "metadata": {
    "canvas": {
     "comments": [],
     "componentType": "CodeCell",
     "copiedOriginId": null,
     "diskcache": false,
     "headerColor": "transparent",
     "id": "f8fb4f5e-9e4e-42b9-880e-a950c8689bbb",
     "isComponent": false,
     "name": "",
     "parents": []
    },
    "id": "u2lkonWDKa95"
   },
   "source": [
    "## 2. Data preprocessing"
   ]
  },
  {
   "cell_type": "markdown",
   "metadata": {
    "canvas": {
     "comments": [],
     "componentType": "CodeCell",
     "copiedOriginId": null,
     "diskcache": false,
     "headerColor": "transparent",
     "id": "9629466b-05a9-46f9-99ed-98996050e4aa",
     "isComponent": false,
     "name": "",
     "parents": []
    },
    "id": "pDUdGxn-ojgy"
   },
   "source": [
    "### 2.1 Load the raw data"
   ]
  },
  {
   "cell_type": "markdown",
   "metadata": {
    "canvas": {
     "comments": [],
     "componentType": "CodeCell",
     "copiedOriginId": null,
     "diskcache": false,
     "headerColor": "transparent",
     "id": "5546c78a-bde9-494d-94d1-6ac49e483a2a",
     "isComponent": false,
     "name": "",
     "parents": []
    },
    "id": "xZyGXlaKojgz"
   },
   "source": [
    "Load the MNIST dataset distributed with Keras. "
   ]
  },
  {
   "cell_type": "code",
   "execution_count": null,
   "metadata": {
    "canvas": {
     "comments": [],
     "componentType": "CodeCell",
     "copiedOriginId": null,
     "diskcache": false,
     "headerColor": "transparent",
     "id": "5907f262-7d8b-4971-9cf5-c58eddb62853",
     "isComponent": false,
     "name": "",
     "parents": []
    },
    "execution": {
     "iopub.execute_input": "2022-07-29T11:26:04.255568Z",
     "iopub.status.busy": "2022-07-29T11:26:04.254302Z",
     "iopub.status.idle": "2022-07-29T11:26:04.792424Z",
     "shell.execute_reply": "2022-07-29T11:26:04.791661Z"
    },
    "id": "d9OSExvCojg0"
   },
   "outputs": [],
   "source": [
    "(x_train, y_train), (x_test, y_test) = tf.keras.datasets.mnist.load_data()"
   ]
  },
  {
   "cell_type": "markdown",
   "metadata": {
    "canvas": {
     "comments": [],
     "componentType": "CodeCell",
     "copiedOriginId": null,
     "diskcache": false,
     "headerColor": "transparent",
     "id": "a0bb6872-34a4-4a26-ad7d-1a6c9ca4de0a",
     "isComponent": false,
     "name": "",
     "parents": []
    },
    "id": "2Q0O7ABi-eYs"
   },
   "source": [
    "### 2.2 Normalizing"
   ]
  },
  {
   "cell_type": "markdown",
   "metadata": {
    "canvas": {
     "comments": [],
     "componentType": "CodeCell",
     "copiedOriginId": null,
     "diskcache": false,
     "headerColor": "transparent",
     "id": "9be30904-1648-4df3-b82b-3b93830cb492",
     "isComponent": false,
     "name": "",
     "parents": []
    },
    "id": "epTCLxJN7KAs"
   },
   "source": [
    " Rescale the images from [0,255] to the [0.0,1.0] range."
   ]
  },
  {
   "cell_type": "code",
   "execution_count": null,
   "metadata": {
    "canvas": {
     "comments": [],
     "componentType": "CodeCell",
     "copiedOriginId": null,
     "diskcache": false,
     "headerColor": "transparent",
     "id": "54228ff1-ebbe-436a-8494-11322069a542",
     "isComponent": false,
     "name": "",
     "parents": []
    },
    "id": "cXcx2wMV91Y-"
   },
   "outputs": [],
   "source": [
    "x_train, x_test = x_train[..., np.newaxis]/255.0, x_test[..., np.newaxis]/255.0\n",
    "\n",
    "print(\"Number of original training examples:\", len(x_train))\n",
    "print(\"Number of original test examples:\", len(x_test))"
   ]
  },
  {
   "cell_type": "markdown",
   "metadata": {
    "canvas": {
     "comments": [],
     "componentType": "CodeCell",
     "copiedOriginId": null,
     "diskcache": false,
     "headerColor": "transparent",
     "id": "0d556dbc-1e9e-4fc9-878f-eb58cfcb0f57",
     "isComponent": false,
     "name": "",
     "parents": []
    },
    "id": "MeLsgZ7o_aiy"
   },
   "source": [
    "### 2.3 Filtering"
   ]
  },
  {
   "cell_type": "markdown",
   "metadata": {
    "canvas": {
     "comments": [],
     "componentType": "CodeCell",
     "copiedOriginId": null,
     "diskcache": false,
     "headerColor": "transparent",
     "id": "2c7340f3-c9e5-4ade-9d13-7abad4a6430c",
     "isComponent": false,
     "name": "",
     "parents": []
    },
    "id": "fZpbygdGojg3"
   },
   "source": [
    "Filter the dataset to keep just the 3s and 6s,  remove the other classes. At the same time convert the label, `y`, to boolean: `True` for `3` and `False` for 6. "
   ]
  },
  {
   "cell_type": "code",
   "execution_count": null,
   "metadata": {
    "canvas": {
     "comments": [],
     "componentType": "CodeCell",
     "copiedOriginId": null,
     "diskcache": false,
     "headerColor": "transparent",
     "id": "540402bc-0a6c-4f34-ade5-867134d9d1fd",
     "isComponent": false,
     "name": "",
     "parents": []
    },
    "execution": {
     "iopub.execute_input": "2022-07-29T11:26:04.796306Z",
     "iopub.status.busy": "2022-07-29T11:26:04.795740Z",
     "iopub.status.idle": "2022-07-29T11:26:04.799883Z",
     "shell.execute_reply": "2022-07-29T11:26:04.799207Z"
    },
    "id": "hOw68cCZojg4"
   },
   "outputs": [],
   "source": [
    "def filter_36(x, y):\n",
    "    keep = (y == 3) | (y == 6)\n",
    "    x, y = x[keep], y[keep]\n",
    "    y = y == 3\n",
    "    return x,y"
   ]
  },
  {
   "cell_type": "code",
   "execution_count": null,
   "metadata": {
    "canvas": {
     "comments": [],
     "componentType": "CodeCell",
     "copiedOriginId": null,
     "diskcache": false,
     "headerColor": "transparent",
     "id": "e8f9d6e9-95fa-4164-8dc0-03d3c4599827",
     "isComponent": false,
     "name": "",
     "parents": []
    },
    "execution": {
     "iopub.execute_input": "2022-07-29T11:26:04.803002Z",
     "iopub.status.busy": "2022-07-29T11:26:04.802551Z",
     "iopub.status.idle": "2022-07-29T11:26:04.837823Z",
     "shell.execute_reply": "2022-07-29T11:26:04.837025Z"
    },
    "id": "p-XEU8egGL6q"
   },
   "outputs": [],
   "source": [
    "x_train, y_train = filter_36(x_train, y_train)\n",
    "x_test, y_test = filter_36(x_test, y_test)\n",
    "\n",
    "print(\"Number of filtered training examples:\", len(x_train))\n",
    "print(\"Number of filtered test examples:\", len(x_test))"
   ]
  },
  {
   "cell_type": "markdown",
   "metadata": {
    "canvas": {
     "comments": [],
     "componentType": "CodeCell",
     "copiedOriginId": null,
     "diskcache": false,
     "headerColor": "transparent",
     "id": "e786c8c1-c2da-4e3a-bdf7-75cce9beeb4a",
     "isComponent": false,
     "name": "",
     "parents": []
    },
    "id": "wNS9sVPQojhC"
   },
   "source": [
    "### 2.4 Resizing"
   ]
  },
  {
   "cell_type": "markdown",
   "metadata": {
    "canvas": {
     "comments": [],
     "componentType": "CodeCell",
     "copiedOriginId": null,
     "diskcache": false,
     "headerColor": "transparent",
     "id": "1f9a2b41-b26e-4e3a-9c96-4294f490a6f0",
     "isComponent": false,
     "name": "",
     "parents": []
    },
    "id": "fmmtplIFGL6t"
   },
   "source": [
    "An image size of 28x28 is much too large for current quantum computers. Resize the image down to 4x4:"
   ]
  },
  {
   "cell_type": "code",
   "execution_count": null,
   "metadata": {
    "canvas": {
     "comments": [],
     "componentType": "CodeCell",
     "copiedOriginId": null,
     "diskcache": false,
     "headerColor": "transparent",
     "id": "18431454-2148-41f2-a655-4ef04a41b872",
     "isComponent": false,
     "name": "",
     "parents": []
    },
    "execution": {
     "iopub.execute_input": "2022-07-29T11:26:05.065901Z",
     "iopub.status.busy": "2022-07-29T11:26:05.065373Z",
     "iopub.status.idle": "2022-07-29T11:26:05.149285Z",
     "shell.execute_reply": "2022-07-29T11:26:05.148576Z"
    },
    "id": "lbhUdBFWojhE"
   },
   "outputs": [],
   "source": [
    "x_train_small = tf.image.resize(x_train, (4,4)).numpy()\n",
    "x_test_small = tf.image.resize(x_test, (4,4)).numpy()"
   ]
  },
  {
   "cell_type": "markdown",
   "metadata": {
    "canvas": {
     "comments": [],
     "componentType": "CodeCell",
     "copiedOriginId": null,
     "diskcache": false,
     "headerColor": "transparent",
     "id": "ed0f2721-4272-48c3-93e3-2ed3f9ec62c7",
     "isComponent": false,
     "name": "",
     "parents": []
    },
    "id": "vdja8EgEFWmF"
   },
   "source": [
    "## 3. Classical neural network"
   ]
  },
  {
   "cell_type": "markdown",
   "metadata": {
    "canvas": {
     "comments": [],
     "componentType": "CodeCell",
     "copiedOriginId": null,
     "diskcache": false,
     "headerColor": "transparent",
     "id": "2a22b581-c0a4-4c48-bafd-79132e48f504",
     "isComponent": false,
     "name": "",
     "parents": []
    },
    "id": "sxXSduYCSTON"
   },
   "source": [
    "### 3.1 Build the model "
   ]
  },
  {
   "cell_type": "code",
   "execution_count": null,
   "metadata": {
    "canvas": {
     "comments": [],
     "componentType": "CodeCell",
     "copiedOriginId": null,
     "diskcache": false,
     "headerColor": "transparent",
     "id": "7ffd7820-3782-45ad-a1cc-3a7555bf0a04",
     "isComponent": false,
     "name": "",
     "parents": []
    },
    "execution": {
     "iopub.execute_input": "2022-07-29T11:29:28.995604Z",
     "iopub.status.busy": "2022-07-29T11:29:28.995028Z",
     "iopub.status.idle": "2022-07-29T11:29:29.056630Z",
     "shell.execute_reply": "2022-07-29T11:29:29.055931Z"
    },
    "id": "pZofEHhLGL7L"
   },
   "outputs": [],
   "source": [
    "def create_classical_model():\n",
    "    model = tf.keras.Sequential()\n",
    "    model.add(tf.keras.layers.Conv2D(32, [3, 3], activation='relu', input_shape=(28,28,1)))\n",
    "    model.add(tf.keras.layers.Conv2D(64, [3, 3], activation='relu'))\n",
    "    model.add(tf.keras.layers.MaxPooling2D(pool_size=(2, 2)))\n",
    "    model.add(tf.keras.layers.Dropout(0.25))\n",
    "    model.add(tf.keras.layers.Flatten())\n",
    "    model.add(tf.keras.layers.Dense(128, activation='relu'))\n",
    "    model.add(tf.keras.layers.Dropout(0.5))\n",
    "    model.add(tf.keras.layers.Dense(1))\n",
    "    return model\n",
    "\n",
    "\n",
    "model_cnn = create_classical_model()"
   ]
  },
  {
   "cell_type": "markdown",
   "metadata": {
    "canvas": {
     "comments": [],
     "componentType": "CodeCell",
     "copiedOriginId": null,
     "diskcache": false,
     "headerColor": "transparent",
     "id": "7c7caa2b-e3e0-4c5a-9927-7324f16c4992",
     "isComponent": false,
     "name": "",
     "parents": []
    },
    "id": "0aW4w0FlDxpA"
   },
   "source": [
    "### 3.2 Compile the model "
   ]
  },
  {
   "cell_type": "code",
   "execution_count": null,
   "metadata": {
    "canvas": {
     "comments": [],
     "componentType": "CodeCell",
     "copiedOriginId": null,
     "diskcache": false,
     "headerColor": "transparent",
     "id": "ab117586-f0bb-41d4-8ef2-20b181daeef4",
     "isComponent": false,
     "name": "",
     "parents": []
    },
    "id": "a0QW9TbGDhZA"
   },
   "outputs": [],
   "source": [
    "model_cnn.compile(loss=tf.keras.losses.BinaryCrossentropy(from_logits=True),optimizer=tf.keras.optimizers.Adam(),metrics=['accuracy'])"
   ]
  },
  {
   "cell_type": "markdown",
   "metadata": {
    "canvas": {
     "comments": [],
     "componentType": "CodeCell",
     "copiedOriginId": null,
     "diskcache": false,
     "headerColor": "transparent",
     "id": "a2f46a8c-6ca6-4390-9afc-62ec2ec17146",
     "isComponent": false,
     "name": "",
     "parents": []
    },
    "id": "_qNJtsu0Ss8E"
   },
   "source": [
    "### 3.3 Train the  model"
   ]
  },
  {
   "cell_type": "markdown",
   "metadata": {
    "canvas": {
     "comments": [],
     "componentType": "CodeCell",
     "copiedOriginId": null,
     "diskcache": false,
     "headerColor": "transparent",
     "id": "ce869d4d-db36-458a-94b4-ce1b3a7bef4c",
     "isComponent": false,
     "name": "",
     "parents": []
    },
    "id": "OmkyrIZMcete"
   },
   "source": [
    "Hyperpermeters"
   ]
  },
  {
   "cell_type": "code",
   "execution_count": null,
   "metadata": {
    "canvas": {
     "comments": [],
     "componentType": "CodeCell",
     "copiedOriginId": null,
     "diskcache": false,
     "headerColor": "transparent",
     "id": "b30fac81-71aa-4284-a8c1-b14349b834b7",
     "isComponent": false,
     "name": "",
     "parents": []
    },
    "id": "y_9TBOHxcfbD"
   },
   "outputs": [],
   "source": [
    "EPOCHS = 2"
   ]
  },
  {
   "cell_type": "code",
   "execution_count": null,
   "metadata": {
    "canvas": {
     "comments": [],
     "componentType": "CodeCell",
     "copiedOriginId": null,
     "diskcache": false,
     "headerColor": "transparent",
     "id": "b6efecb5-bd28-42a8-b546-d9c6d07ded2f",
     "isComponent": false,
     "name": "",
     "parents": []
    },
    "execution": {
     "iopub.execute_input": "2022-07-29T11:29:29.059976Z",
     "iopub.status.busy": "2022-07-29T11:29:29.059433Z",
     "iopub.status.idle": "2022-07-29T11:29:32.752649Z",
     "shell.execute_reply": "2022-07-29T11:29:32.751887Z"
    },
    "id": "CiAJl7sZojiU"
   },
   "outputs": [],
   "source": [
    "cnn_history = model_cnn.fit(x_train,y_train,batch_size=128,epochs=EPOCHS, verbose=1, validation_data=(x_test, y_test))"
   ]
  },
  {
   "cell_type": "markdown",
   "metadata": {
    "canvas": {
     "comments": [],
     "componentType": "CodeCell",
     "copiedOriginId": null,
     "diskcache": false,
     "headerColor": "transparent",
     "id": "38402023-d9fe-4543-98ce-ef3286c416d1",
     "isComponent": false,
     "name": "",
     "parents": []
    },
    "id": "YlvV35KxEZX4"
   },
   "source": [
    "### 3.4 Evaluate the  model"
   ]
  },
  {
   "cell_type": "code",
   "execution_count": null,
   "metadata": {
    "canvas": {
     "comments": [],
     "componentType": "CodeCell",
     "copiedOriginId": null,
     "diskcache": false,
     "headerColor": "transparent",
     "id": "be1cef78-e35d-477b-9683-c5200940e001",
     "isComponent": false,
     "name": "",
     "parents": []
    },
    "id": "CLs43WYKEVGs"
   },
   "outputs": [],
   "source": [
    "cnn_results = model_cnn.evaluate(x_test, y_test)"
   ]
  },
  {
   "cell_type": "markdown",
   "metadata": {
    "canvas": {
     "comments": [],
     "componentType": "CodeCell",
     "copiedOriginId": null,
     "diskcache": false,
     "headerColor": "transparent",
     "id": "f6a66dc2-0996-423b-b467-811032a7dc6a",
     "isComponent": false,
     "name": "",
     "parents": []
    },
    "id": "4USiqeOqGL67"
   },
   "source": [
    "## 4. Quantum neural network\n",
    "\n"
   ]
  },
  {
   "cell_type": "markdown",
   "metadata": {
    "canvas": {
     "comments": [],
     "componentType": "CodeCell",
     "copiedOriginId": null,
     "diskcache": false,
     "headerColor": "transparent",
     "id": "9020dd6c-ac68-4fa8-9dbe-8dc09bd6b6e5",
     "isComponent": false,
     "name": "",
     "parents": []
    },
    "id": "SlJ5NVaPojhT"
   },
   "source": [
    "### 4.1 Encode the data as quantum circuits"
   ]
  },
  {
   "cell_type": "code",
   "execution_count": null,
   "metadata": {
    "canvas": {
     "comments": [],
     "componentType": "CodeCell",
     "copiedOriginId": null,
     "diskcache": false,
     "headerColor": "transparent",
     "id": "732b8a23-ade4-4a36-9bb4-c1e118d3ce3a",
     "isComponent": false,
     "name": "",
     "parents": []
    },
    "execution": {
     "iopub.execute_input": "2022-07-29T11:26:05.461098Z",
     "iopub.status.busy": "2022-07-29T11:26:05.460529Z",
     "iopub.status.idle": "2022-07-29T11:26:05.464690Z",
     "shell.execute_reply": "2022-07-29T11:26:05.464015Z"
    },
    "id": "1z8J7OyDojhV"
   },
   "outputs": [],
   "source": [
    "THRESHOLD = 0.5\n",
    "\n",
    "x_train_bin = np.array(x_train_small > THRESHOLD, dtype=np.float32)\n",
    "x_test_bin = np.array(x_test_small > THRESHOLD, dtype=np.float32)"
   ]
  },
  {
   "cell_type": "markdown",
   "metadata": {
    "canvas": {
     "comments": [],
     "componentType": "CodeCell",
     "copiedOriginId": null,
     "diskcache": false,
     "headerColor": "transparent",
     "id": "524e1904-8680-465a-be40-9ed12d5d5690",
     "isComponent": false,
     "name": "",
     "parents": []
    },
    "id": "mWZ24w1Oojhk"
   },
   "source": [
    "### 4.2 Convert the quantum circuits to tensors\n"
   ]
  },
  {
   "cell_type": "code",
   "execution_count": null,
   "metadata": {
    "canvas": {
     "comments": [],
     "componentType": "CodeCell",
     "copiedOriginId": null,
     "diskcache": false,
     "headerColor": "transparent",
     "id": "d0b93ca9-dc7f-4ea7-8365-ded1d0bd5f71",
     "isComponent": false,
     "name": "",
     "parents": []
    },
    "execution": {
     "iopub.execute_input": "2022-07-29T11:26:05.542962Z",
     "iopub.status.busy": "2022-07-29T11:26:05.542428Z",
     "iopub.status.idle": "2022-07-29T11:26:07.491543Z",
     "shell.execute_reply": "2022-07-29T11:26:07.490761Z"
    },
    "id": "aOu_3-3ZGL61"
   },
   "outputs": [],
   "source": [
    "def convert_to_circuit(image):\n",
    "    values = np.ndarray.flatten(image)\n",
    "    qubits = cirq.GridQubit.rect(4, 4)\n",
    "    circuit = cirq.Circuit()\n",
    "    for i, value in enumerate(values):\n",
    "        if value:\n",
    "            circuit.append(cirq.X(qubits[i]))\n",
    "    return circuit\n"
   ]
  },
  {
   "cell_type": "code",
   "execution_count": null,
   "metadata": {
    "canvas": {
     "comments": [],
     "componentType": "CodeCell",
     "copiedOriginId": null,
     "diskcache": false,
     "headerColor": "transparent",
     "id": "ebfc5ea9-d985-4dc5-89fc-e752b79e7d41",
     "isComponent": false,
     "name": "",
     "parents": []
    },
    "id": "lyU2m3cm8vUl"
   },
   "outputs": [],
   "source": [
    "x_train_circ = [convert_to_circuit(x) for x in x_train_bin]\n",
    "x_test_circ = [convert_to_circuit(x) for x in x_test_bin]"
   ]
  },
  {
   "cell_type": "markdown",
   "metadata": {
    "canvas": {
     "comments": [],
     "componentType": "CodeCell",
     "copiedOriginId": null,
     "diskcache": false,
     "headerColor": "transparent",
     "id": "1a973043-5804-4808-be76-3d7a0ad484bc",
     "isComponent": false,
     "name": "",
     "parents": []
    },
    "id": "u3ABkBznqUOD"
   },
   "source": [
    "### 4.3 Convert the quantum tensors to quantum circuits "
   ]
  },
  {
   "cell_type": "code",
   "execution_count": null,
   "metadata": {
    "canvas": {
     "comments": [],
     "componentType": "CodeCell",
     "copiedOriginId": null,
     "diskcache": false,
     "headerColor": "transparent",
     "id": "928fced6-e580-4e56-9088-73f5fafa82e0",
     "isComponent": false,
     "name": "",
     "parents": []
    },
    "execution": {
     "iopub.execute_input": "2022-07-29T11:26:07.547385Z",
     "iopub.status.busy": "2022-07-29T11:26:07.546863Z",
     "iopub.status.idle": "2022-07-29T11:26:13.129822Z",
     "shell.execute_reply": "2022-07-29T11:26:13.128993Z"
    },
    "id": "IZStEMk4ojhk"
   },
   "outputs": [],
   "source": [
    "x_train_tfcirc = tfq.convert_to_tensor(x_train_circ)\n",
    "x_test_tfcirc = tfq.convert_to_tensor(x_test_circ)"
   ]
  },
  {
   "cell_type": "markdown",
   "metadata": {
    "canvas": {
     "comments": [],
     "componentType": "CodeCell",
     "copiedOriginId": null,
     "diskcache": false,
     "headerColor": "transparent",
     "id": "8045747a-970f-472f-9fa8-5aed8e767b99",
     "isComponent": false,
     "name": "",
     "parents": []
    },
    "id": "knIzawEeojho"
   },
   "source": [
    "### 4.4 Build the model \n"
   ]
  },
  {
   "cell_type": "code",
   "execution_count": null,
   "metadata": {
    "canvas": {
     "comments": [],
     "componentType": "CodeCell",
     "copiedOriginId": null,
     "diskcache": false,
     "headerColor": "transparent",
     "id": "2524e3cf-18c9-4086-8711-1f79b18fe914",
     "isComponent": false,
     "name": "",
     "parents": []
    },
    "execution": {
     "iopub.execute_input": "2022-07-29T11:26:13.134671Z",
     "iopub.status.busy": "2022-07-29T11:26:13.134096Z",
     "iopub.status.idle": "2022-07-29T11:26:13.138897Z",
     "shell.execute_reply": "2022-07-29T11:26:13.138248Z"
    },
    "id": "-hjxxgU5ojho"
   },
   "outputs": [],
   "source": [
    "class CircuitLayerBuilder():\n",
    "    def __init__(self, data_qubits, readout):\n",
    "        self.data_qubits = data_qubits\n",
    "        self.readout = readout\n",
    "    \n",
    "    def add_layer(self, circuit, gate, prefix):\n",
    "        for i, qubit in enumerate(self.data_qubits):\n",
    "            symbol = sympy.Symbol(prefix + '-' + str(i))\n",
    "            circuit.append(gate(qubit, self.readout)**symbol)"
   ]
  },
  {
   "cell_type": "code",
   "execution_count": null,
   "metadata": {
    "canvas": {
     "comments": [],
     "componentType": "CodeCell",
     "copiedOriginId": null,
     "diskcache": false,
     "headerColor": "transparent",
     "id": "8e59c26a-60b5-414f-96cc-a5421284e3b1",
     "isComponent": false,
     "name": "",
     "parents": []
    },
    "execution": {
     "iopub.execute_input": "2022-07-29T11:26:13.269399Z",
     "iopub.status.busy": "2022-07-29T11:26:13.268866Z",
     "iopub.status.idle": "2022-07-29T11:26:13.274224Z",
     "shell.execute_reply": "2022-07-29T11:26:13.273519Z"
    },
    "id": "JiALbpwRGL69"
   },
   "outputs": [],
   "source": [
    "def create_quantum_model():\n",
    "    data_qubits = cirq.GridQubit.rect(4, 4) \n",
    "    readout = cirq.GridQubit(-1, -1)        \n",
    "    circuit = cirq.Circuit()\n",
    "    circuit.append(cirq.X(readout))\n",
    "    circuit.append(cirq.H(readout))\n",
    "    builder = CircuitLayerBuilder(data_qubits = data_qubits,readout=readout)\n",
    "    builder.add_layer(circuit, cirq.XX, \"xx1\")\n",
    "    builder.add_layer(circuit, cirq.ZZ, \"zz1\")\n",
    "    circuit.append(cirq.H(readout))\n",
    "\n",
    "    return circuit, cirq.Z(readout)"
   ]
  },
  {
   "cell_type": "code",
   "execution_count": null,
   "metadata": {
    "canvas": {
     "comments": [],
     "componentType": "CodeCell",
     "copiedOriginId": null,
     "diskcache": false,
     "headerColor": "transparent",
     "id": "59252f92-f77e-4ccc-ac16-061d81ef7f01",
     "isComponent": false,
     "name": "",
     "parents": []
    },
    "execution": {
     "iopub.execute_input": "2022-07-29T11:26:13.277451Z",
     "iopub.status.busy": "2022-07-29T11:26:13.276925Z",
     "iopub.status.idle": "2022-07-29T11:26:13.291800Z",
     "shell.execute_reply": "2022-07-29T11:26:13.291198Z"
    },
    "id": "2QZvVh7vojhx"
   },
   "outputs": [],
   "source": [
    "model_circuit, model_readout = create_quantum_model()"
   ]
  },
  {
   "cell_type": "code",
   "execution_count": null,
   "metadata": {
    "canvas": {
     "comments": [],
     "componentType": "CodeCell",
     "copiedOriginId": null,
     "diskcache": false,
     "headerColor": "transparent",
     "id": "b60f1c23-a017-4429-96d4-402f0c9aef1f",
     "isComponent": false,
     "name": "",
     "parents": []
    },
    "execution": {
     "iopub.execute_input": "2022-07-29T11:26:13.295277Z",
     "iopub.status.busy": "2022-07-29T11:26:13.294789Z",
     "iopub.status.idle": "2022-07-29T11:26:14.325774Z",
     "shell.execute_reply": "2022-07-29T11:26:14.324987Z"
    },
    "id": "ZYdf_KOxojh0"
   },
   "outputs": [],
   "source": [
    "model_qcnn = tf.keras.Sequential([tf.keras.layers.Input(shape=(), dtype=tf.string),tfq.layers.PQC(model_circuit, model_readout),])"
   ]
  },
  {
   "cell_type": "markdown",
   "metadata": {
    "canvas": {
     "comments": [],
     "componentType": "CodeCell",
     "copiedOriginId": null,
     "diskcache": false,
     "headerColor": "transparent",
     "id": "975bb162-f718-466b-b8c1-067e7d78568b",
     "isComponent": false,
     "name": "",
     "parents": []
    },
    "id": "_yO5_2o4_K02"
   },
   "source": [
    "### 4.5 Compile the model "
   ]
  },
  {
   "cell_type": "code",
   "execution_count": null,
   "metadata": {
    "canvas": {
     "comments": [],
     "componentType": "CodeCell",
     "copiedOriginId": null,
     "diskcache": false,
     "headerColor": "transparent",
     "id": "757686b7-551b-4294-a0e5-f94fd6085c17",
     "isComponent": false,
     "name": "",
     "parents": []
    },
    "id": "UJZLb--KIOkp"
   },
   "outputs": [],
   "source": [
    "y_train_hinge = 2.0*y_train-1.0\n",
    "y_test_hinge = 2.0*y_test-1.0"
   ]
  },
  {
   "cell_type": "code",
   "execution_count": null,
   "metadata": {
    "canvas": {
     "comments": [],
     "componentType": "CodeCell",
     "copiedOriginId": null,
     "diskcache": false,
     "headerColor": "transparent",
     "id": "08b75a90-cf76-4e6d-a054-a78c573236ae",
     "isComponent": false,
     "name": "",
     "parents": []
    },
    "execution": {
     "iopub.execute_input": "2022-07-29T11:26:14.336773Z",
     "iopub.status.busy": "2022-07-29T11:26:14.336330Z",
     "iopub.status.idle": "2022-07-29T11:26:14.340215Z",
     "shell.execute_reply": "2022-07-29T11:26:14.339560Z"
    },
    "id": "3XKtZ_TEojh8"
   },
   "outputs": [],
   "source": [
    "def hinge_accuracy(y_true, y_pred):\n",
    "    y_true = tf.squeeze(y_true) > 0.0\n",
    "    y_pred = tf.squeeze(y_pred) > 0.0\n",
    "    result = tf.cast(y_true == y_pred, tf.float32)\n",
    "\n",
    "    return tf.reduce_mean(result)"
   ]
  },
  {
   "cell_type": "code",
   "execution_count": null,
   "metadata": {
    "canvas": {
     "comments": [],
     "componentType": "CodeCell",
     "copiedOriginId": null,
     "diskcache": false,
     "headerColor": "transparent",
     "id": "17302b86-1b87-4109-9537-a26fcc9a7b78",
     "isComponent": false,
     "name": "",
     "parents": []
    },
    "execution": {
     "iopub.execute_input": "2022-07-29T11:26:14.343385Z",
     "iopub.status.busy": "2022-07-29T11:26:14.342825Z",
     "iopub.status.idle": "2022-07-29T11:26:14.353939Z",
     "shell.execute_reply": "2022-07-29T11:26:14.353292Z"
    },
    "id": "FlpETlLRojiA"
   },
   "outputs": [],
   "source": [
    "model_qcnn.compile(loss=tf.keras.losses.Hinge(),optimizer=tf.keras.optimizers.Adam(),metrics=[hinge_accuracy])"
   ]
  },
  {
   "cell_type": "markdown",
   "metadata": {
    "canvas": {
     "comments": [],
     "componentType": "CodeCell",
     "copiedOriginId": null,
     "diskcache": false,
     "headerColor": "transparent",
     "id": "a460605e-2cad-45df-b3cd-cddfcedea0f7",
     "isComponent": false,
     "name": "",
     "parents": []
    },
    "id": "n9_O0Qp__-6T"
   },
   "source": [
    "### 4.6 Train the model"
   ]
  },
  {
   "cell_type": "markdown",
   "metadata": {
    "canvas": {
     "comments": [],
     "componentType": "CodeCell",
     "copiedOriginId": null,
     "diskcache": false,
     "headerColor": "transparent",
     "id": "f117d219-e35a-4dce-9580-0292bbfb0bd2",
     "isComponent": false,
     "name": "",
     "parents": []
    },
    "id": "71ubM0eZ_nX4"
   },
   "source": [
    "Hyperpermeters"
   ]
  },
  {
   "cell_type": "code",
   "execution_count": null,
   "metadata": {
    "canvas": {
     "comments": [],
     "componentType": "CodeCell",
     "copiedOriginId": null,
     "diskcache": false,
     "headerColor": "transparent",
     "id": "1f32ef83-bebb-4603-a539-5cc809c5c51d",
     "isComponent": false,
     "name": "",
     "parents": []
    },
    "execution": {
     "iopub.execute_input": "2022-07-29T11:26:14.364054Z",
     "iopub.status.busy": "2022-07-29T11:26:14.363463Z",
     "iopub.status.idle": "2022-07-29T11:26:14.367005Z",
     "shell.execute_reply": "2022-07-29T11:26:14.366331Z"
    },
    "id": "n8vuQpSLlBV2"
   },
   "outputs": [],
   "source": [
    "NUM_EXAMPLES = len(x_train_tfcirc)\n",
    "x_train_tfcirc_sub = x_train_tfcirc[:NUM_EXAMPLES]\n",
    "y_train_hinge_sub = y_train_hinge[:NUM_EXAMPLES]"
   ]
  },
  {
   "cell_type": "code",
   "execution_count": null,
   "metadata": {
    "canvas": {
     "comments": [],
     "componentType": "CodeCell",
     "copiedOriginId": null,
     "diskcache": false,
     "headerColor": "transparent",
     "id": "fe40bda7-dda6-4285-a5dd-9fb3d085914a",
     "isComponent": false,
     "name": "",
     "parents": []
    },
    "execution": {
     "iopub.execute_input": "2022-07-29T11:26:14.376727Z",
     "iopub.status.busy": "2022-07-29T11:26:14.376257Z",
     "iopub.status.idle": "2022-07-29T11:29:28.991406Z",
     "shell.execute_reply": "2022-07-29T11:29:28.990564Z"
    },
    "id": "Ya9qP3KkojiM"
   },
   "outputs": [],
   "source": [
    "qnn_history = model_qcnn.fit(x_train_tfcirc_sub, y_train_hinge_sub,batch_size=32,epochs=EPOCHS,verbose=1,validation_data=(x_test_tfcirc, y_test_hinge))"
   ]
  },
  {
   "cell_type": "markdown",
   "metadata": {
    "canvas": {
     "comments": [],
     "componentType": "CodeCell",
     "copiedOriginId": null,
     "diskcache": false,
     "headerColor": "transparent",
     "id": "cf168bf1-99f1-4f7b-aa8c-e19610b7edeb",
     "isComponent": false,
     "name": "",
     "parents": []
    },
    "id": "SK_GrFQ3APoM"
   },
   "source": [
    "### 4.7 Evaluate the  model"
   ]
  },
  {
   "cell_type": "code",
   "execution_count": null,
   "metadata": {
    "canvas": {
     "comments": [],
     "componentType": "CodeCell",
     "copiedOriginId": null,
     "diskcache": false,
     "headerColor": "transparent",
     "id": "75436460-a8e0-4b99-843a-999694cccdc9",
     "isComponent": false,
     "name": "",
     "parents": []
    },
    "id": "fxVqpHe6AQKi"
   },
   "outputs": [],
   "source": [
    "qnn_results = model_qcnn.evaluate(x_test_tfcirc, y_test)"
   ]
  },
  {
   "cell_type": "markdown",
   "metadata": {
    "canvas": {
     "comments": [],
     "componentType": "CodeCell",
     "copiedOriginId": null,
     "diskcache": false,
     "headerColor": "transparent",
     "id": "7a63d242-166f-4215-ad87-117ac34fc2e6",
     "isComponent": false,
     "name": "",
     "parents": []
    },
    "id": "ZvzgvkkBFoDR"
   },
   "source": [
    "## 5. Comparison"
   ]
  },
  {
   "cell_type": "markdown",
   "metadata": {
    "canvas": {
     "comments": [],
     "componentType": "CodeCell",
     "copiedOriginId": null,
     "diskcache": false,
     "headerColor": "transparent",
     "id": "6c3a419f-aa5a-45db-a7a3-a2d1c4d03826",
     "isComponent": false,
     "name": "",
     "parents": []
    },
    "id": "gHr3TxBVTFNa"
   },
   "source": [
    "### 5.1 Create a dataframe"
   ]
  },
  {
   "cell_type": "code",
   "execution_count": null,
   "metadata": {
    "canvas": {
     "comments": [],
     "componentType": "CodeCell",
     "copiedOriginId": null,
     "diskcache": false,
     "headerColor": "transparent",
     "id": "0f80fe6e-3775-4f64-94bd-a789f8d90ab5",
     "isComponent": false,
     "name": "",
     "parents": []
    },
    "id": "3h82RUFcroi0"
   },
   "outputs": [],
   "source": [
    "qnn_history.history\n",
    "accuracy = pd.DataFrame()\n",
    "loss = pd.DataFrame()\n",
    "accuracy['QNN_accuracy']  = qnn_history.history['hinge_accuracy']\n",
    "accuracy['QNN_val_accuracy'] = qnn_history.history['val_hinge_accuracy']\n",
    "accuracy['CNN_accuracy']  = cnn_history.history['accuracy']\n",
    "accuracy['CNN_val_accuracy'] = cnn_history.history['val_accuracy']\n",
    "loss['QNN_loss']      = qnn_history.history['loss']\n",
    "loss['QNN_val_loss']  = qnn_history.history['val_loss']\n",
    "loss['CNN_loss']      = cnn_history.history['loss']\n",
    "loss['CNN_val_loss']  = cnn_history.history['val_loss']\n",
    "print(\"Quantum CNN accuracy and  Classical CNN accuracy\\n\")\n",
    "print(accuracy)\n",
    "print(\"\\nQuantum CNN loss and  Classical CNN loss\\n\")\n",
    "print(loss)"
   ]
  },
  {
   "cell_type": "markdown",
   "metadata": {
    "canvas": {
     "comments": [],
     "componentType": "CodeCell",
     "copiedOriginId": null,
     "diskcache": false,
     "headerColor": "transparent",
     "id": "7217f178-faab-496d-85a6-1f16528be7ea",
     "isComponent": false,
     "name": "",
     "parents": []
    },
    "id": "jbs_8cr_5alB"
   },
   "source": [
    "### 5.2 Quantum CNN accuracy Vs Classical CNN accuracy"
   ]
  },
  {
   "cell_type": "code",
   "execution_count": null,
   "metadata": {
    "canvas": {
     "comments": [],
     "componentType": "CodeCell",
     "copiedOriginId": null,
     "diskcache": false,
     "headerColor": "transparent",
     "id": "c2db8d0f-c664-442e-8efd-f94e0fae97ee",
     "isComponent": false,
     "name": "",
     "parents": []
    },
    "id": "k5UoZ4ckmYDh"
   },
   "outputs": [],
   "source": [
    "def plot_accuracy():\n",
    "    plt.plot(accuracy['QNN_accuracy'],'b--',label = 'QNN_accuracy')\n",
    "    plt.plot(accuracy['QNN_val_accuracy'],'r--',label = 'QNN_val_accuracy')\n",
    "    plt.plot(accuracy['CNN_accuracy'],'g--',label = 'CNN_accuracy')\n",
    "    plt.plot(accuracy['CNN_val_accuracy'],'y--',label = 'CNN_val_accuracy')\n",
    "    plt.title('Quantum CNN accuracy Vs Classical CNN accuracy')\n",
    "    plt.xlabel('Epoch')\n",
    "    plt.ylabel('Accuracy')\n",
    "    plt.show()"
   ]
  },
  {
   "cell_type": "code",
   "execution_count": null,
   "metadata": {
    "canvas": {
     "comments": [],
     "componentType": "CodeCell",
     "copiedOriginId": null,
     "diskcache": false,
     "headerColor": "transparent",
     "id": "2b753c95-f914-4645-a9d0-3d80873dc0c0",
     "isComponent": false,
     "name": "",
     "parents": []
    },
    "id": "ImmDXzB0m1AA"
   },
   "outputs": [],
   "source": [
    "plot_accuracy()"
   ]
  },
  {
   "cell_type": "markdown",
   "metadata": {
    "canvas": {
     "comments": [],
     "componentType": "CodeCell",
     "copiedOriginId": null,
     "diskcache": false,
     "headerColor": "transparent",
     "id": "337335a5-08eb-4d3e-a541-b1afeceb11ad",
     "isComponent": false,
     "name": "",
     "parents": []
    },
    "id": "4cexnB4cm43o"
   },
   "source": [
    "### 5.3 Quantum CNN loss Vs  Classical CNN loss"
   ]
  },
  {
   "cell_type": "code",
   "execution_count": null,
   "metadata": {
    "canvas": {
     "comments": [],
     "componentType": "CodeCell",
     "copiedOriginId": null,
     "diskcache": false,
     "headerColor": "transparent",
     "id": "9dac6c71-4a7d-416a-8e3e-126cba8646fc",
     "isComponent": false,
     "name": "",
     "parents": []
    },
    "id": "MkFV9XuPm7hB"
   },
   "outputs": [],
   "source": [
    "def plot_loss():\n",
    "    plt.plot(loss['QNN_loss'],'b--',label = 'QNN_loss')\n",
    "    plt.plot(loss['QNN_val_loss'],'r--',label = 'QNN_val_loss')\n",
    "    plt.plot(loss['CNN_loss'],'g--',label = 'CNN_loss')\n",
    "    plt.plot(loss['CNN_val_loss'],'y--',label = 'CNN_val_loss')\n",
    "    plt.legend()\n",
    "    plt.title('Quantum CNN loss Vs Classical CNN loss')\n",
    "    plt.xlabel('Epoch')\n",
    "    plt.ylabel('Loss')\n",
    "    plt.show()"
   ]
  },
  {
   "cell_type": "code",
   "execution_count": null,
   "metadata": {
    "canvas": {
     "comments": [],
     "componentType": "CodeCell",
     "copiedOriginId": null,
     "diskcache": false,
     "headerColor": "transparent",
     "id": "bf1148e1-9c49-465f-a135-7f45f6829819",
     "isComponent": false,
     "name": "",
     "parents": []
    },
    "id": "_M_D8gP_m64o"
   },
   "outputs": [],
   "source": [
    "plot_loss()"
   ]
  },
  {
   "cell_type": "markdown",
   "metadata": {
    "canvas": {
     "comments": [],
     "componentType": "CodeCell",
     "copiedOriginId": null,
     "diskcache": false,
     "headerColor": "transparent",
     "id": "ee21b3a6-29fc-493c-a080-9be8579fe78d",
     "isComponent": false,
     "name": "",
     "parents": []
    },
    "id": "GZ_8_gnSTob_"
   },
   "source": [
    "### 5.4 Quantum Vs Classical using Barplot "
   ]
  },
  {
   "cell_type": "code",
   "execution_count": null,
   "metadata": {
    "canvas": {
     "comments": [],
     "componentType": "CodeCell",
     "copiedOriginId": null,
     "diskcache": false,
     "headerColor": "transparent",
     "id": "c1ee007d-9403-4d03-8d5b-f0d400c6724a",
     "isComponent": false,
     "name": "",
     "parents": []
    },
    "id": "_nfy29zznFWy"
   },
   "outputs": [],
   "source": [
    "accuracy =[qnn_results[1],cnn_results[1]]\n",
    "lable = [\"Quantum\", \"Classical\"]\n",
    "barlist = plt.bar(lable,accuracy)\n",
    "barlist[0].set_color('b')\n",
    "barlist[1].set_color('r')\n",
    "plt.title(\"Quantum Vs Classical\")\n",
    "plt.show()"
   ]
  },
  {
   "cell_type": "markdown",
   "metadata": {
    "canvas": {
     "comments": [],
     "componentType": "CodeCell",
     "copiedOriginId": null,
     "diskcache": false,
     "headerColor": "transparent",
     "id": "59af4305-e084-47bc-bae7-0a0a918fa281",
     "isComponent": false,
     "name": "",
     "parents": []
    },
    "id": "QLoidJhjdD6S"
   },
   "source": [
    "### 5.5 Performance Metrics"
   ]
  },
  {
   "cell_type": "code",
   "execution_count": null,
   "metadata": {
    "canvas": {
     "comments": [],
     "componentType": "CodeCell",
     "copiedOriginId": null,
     "diskcache": false,
     "headerColor": "transparent",
     "id": "d0fb152e-1998-45f9-88ee-92d91867d788",
     "isComponent": false,
     "name": "",
     "parents": []
    },
    "id": "qTDkk0Plb5U4"
   },
   "outputs": [],
   "source": [
    "def metrices_cnn(model):\n",
    "    cnn_results = model.evaluate(x_test, y_test)\n",
    "    precision = precision_score(y_test, model.predict(x_test) > 0)\n",
    "    recall = recall_score(y_test, model.predict(x_test) > 0)\n",
    "    f1 = f1_score(y_test, model.predict(x_test) > 0)\n",
    "    metrices = {\"accuracy\" : cnn_results[1],\"precision\":precision,\"recall_score\":recall,\"f1_score\":f1,\"loss\":cnn_results[0]}\n",
    "    return metrices"
   ]
  },
  {
   "cell_type": "code",
   "execution_count": null,
   "metadata": {
    "canvas": {
     "comments": [],
     "componentType": "CodeCell",
     "copiedOriginId": null,
     "diskcache": false,
     "headerColor": "transparent",
     "id": "b2c75bad-9fd3-4555-9296-1cea8f28af7e",
     "isComponent": false,
     "name": "",
     "parents": []
    },
    "id": "ogUSQPhUHO9f"
   },
   "outputs": [],
   "source": [
    "def metrices_qcnn(model):\n",
    "    qnn_predictions = model.predict(x_test_tfcirc)\n",
    "    qnn_predictions = np.squeeze(qnn_predictions) > 0.0\n",
    "    qnn_predictions = qnn_predictions.astype(int)\n",
    "    acc = accuracy_score(y_test, qnn_predictions)\n",
    "    precision = precision_score(y_test, qnn_predictions)\n",
    "    recall = recall_score(y_test,qnn_predictions)\n",
    "    f1 = f1_score(y_test, qnn_predictions)\n",
    "    metrices = {\"accuracy\" : acc ,\"precision\":precision,\"recall_score\":recall,\"f1_score\":f1,\"Loss\":qnn_history.history['loss'][1]}\n",
    "    return metrices"
   ]
  },
  {
   "cell_type": "code",
   "execution_count": null,
   "metadata": {
    "canvas": {
     "comments": [],
     "componentType": "CodeCell",
     "copiedOriginId": null,
     "diskcache": false,
     "headerColor": "transparent",
     "id": "1c8b5cd8-7664-4ba9-b80a-5f4c52577bab",
     "isComponent": false,
     "name": "",
     "parents": []
    },
    "id": "_yE07fLPLuEs"
   },
   "outputs": [],
   "source": [
    "metrices_cnn(model_cnn)"
   ]
  },
  {
   "cell_type": "code",
   "execution_count": null,
   "metadata": {
    "canvas": {
     "comments": [],
     "componentType": "CodeCell",
     "copiedOriginId": null,
     "diskcache": false,
     "headerColor": "transparent",
     "id": "a581a64e-5a88-4994-a366-4f576cc91192",
     "isComponent": false,
     "name": "",
     "parents": []
    },
    "id": "iXRH-nNZHg-9"
   },
   "outputs": [],
   "source": [
    "metrices_qcnn(model_qcnn)"
   ]
  },
  {
   "cell_type": "markdown",
   "metadata": {
    "canvas": {
     "comments": [],
     "componentType": "CodeCell",
     "copiedOriginId": null,
     "diskcache": false,
     "headerColor": "transparent",
     "id": "a0fdc895-30d1-4920-9291-af2e04aadebb",
     "isComponent": false,
     "name": "",
     "parents": []
    },
    "id": "aL9E8ch8Ldds"
   },
   "source": [
    "### 5.6 Confusion Matrix"
   ]
  },
  {
   "cell_type": "code",
   "execution_count": null,
   "metadata": {
    "canvas": {
     "comments": [],
     "componentType": "CodeCell",
     "copiedOriginId": null,
     "diskcache": false,
     "headerColor": "transparent",
     "id": "76fad54d-3810-44a1-b227-92f14250cf13",
     "isComponent": false,
     "name": "",
     "parents": []
    },
    "id": "BaG_RcMOcm82"
   },
   "outputs": [],
   "source": [
    "def draw_cm_qcnn(model):\n",
    "    qnn_predictions = model.predict(x_test_tfcirc)\n",
    "    qnn_predictions = np.squeeze(qnn_predictions) > 0.0\n",
    "    qnn_predictions = qnn_predictions.astype(int)\n",
    "    qnn_cm = confusion_matrix(y_test, qnn_predictions)\n",
    "    qnn_cm_df = pd.DataFrame(qnn_cm, index=['3', '6'], columns=['3', '6'])\n",
    "    plt.figure(figsize=(12, 6))\n",
    "    sns.heatmap(qnn_cm_df, annot=True, fmt=\"d\", cmap=\"Blues\")\n",
    "    plt.title('QCNN Confusion Matrix')\n",
    "    plt.xlabel('Predicted Labels')\n",
    "    plt.ylabel('actual Labels')\n",
    "    plt.show()\n"
   ]
  },
  {
   "cell_type": "code",
   "execution_count": null,
   "metadata": {
    "canvas": {
     "comments": [],
     "componentType": "CodeCell",
     "copiedOriginId": null,
     "diskcache": false,
     "headerColor": "transparent",
     "id": "af9024a5-30d2-4a28-89ac-a00414397b65",
     "isComponent": false,
     "name": "",
     "parents": []
    },
    "id": "LX3z0JCubx70"
   },
   "outputs": [],
   "source": [
    "def draw_cm_cnn(model):\n",
    "    y_pred = model.predict(x_test) > 0\n",
    "    cm = confusion_matrix(y_test, y_pred)\n",
    "    cm = pd.DataFrame(cm, index=['3', '6'], columns=['3', '6'])\n",
    "    cm_sns = sns.heatmap(cm, cmap=\"Blues\", annot=True ,fmt='g')\n",
    "    plt.title('CNN Confusion Matrix')\n",
    "    plt.xlabel('Predicted Labels')\n",
    "    plt.ylabel('actual Labels')\n",
    "    plt.show()"
   ]
  },
  {
   "cell_type": "code",
   "execution_count": null,
   "metadata": {
    "canvas": {
     "comments": [],
     "componentType": "CodeCell",
     "copiedOriginId": null,
     "diskcache": false,
     "headerColor": "transparent",
     "id": "8af96acc-b7d2-43cb-978d-7d0ae716b14f",
     "isComponent": false,
     "name": "",
     "parents": []
    },
    "id": "2Ro9o7OjDovQ"
   },
   "outputs": [],
   "source": [
    "draw_cm_cnn(model_cnn)"
   ]
  },
  {
   "cell_type": "code",
   "execution_count": null,
   "metadata": {
    "canvas": {
     "comments": [],
     "componentType": "CodeCell",
     "copiedOriginId": null,
     "diskcache": false,
     "headerColor": "transparent",
     "id": "2f2d81ac-24cf-47d8-bd74-4a445906f250",
     "isComponent": false,
     "name": "",
     "parents": []
    },
    "id": "otJ5qtu5JUW2"
   },
   "outputs": [],
   "source": [
    "draw_cm_qcnn(model_qcnn)"
   ]
  }
 ],
 "metadata": {
  "accelerator": "GPU",
  "canvas": {
   "colorPalette": [
    "inherit",
    "inherit",
    "inherit",
    "inherit",
    "inherit",
    "inherit",
    "inherit",
    "inherit",
    "inherit",
    "inherit"
   ],
   "parameters": []
  },
  "colab": {
   "collapsed_sections": [
    "7qtuISP_NTmz",
    "u2lkonWDKa95",
    "pDUdGxn-ojgy",
    "2Q0O7ABi-eYs",
    "MeLsgZ7o_aiy",
    "SlJ5NVaPojhT",
    "mWZ24w1Oojhk",
    "u3ABkBznqUOD",
    "knIzawEeojho",
    "_yO5_2o4_K02",
    "SK_GrFQ3APoM",
    "YlvV35KxEZX4",
    "gHr3TxBVTFNa",
    "jbs_8cr_5alB",
    "4cexnB4cm43o",
    "8XC-X3sXW5Kk"
   ],
   "private_outputs": true,
   "provenance": []
  },
  "gpuClass": "standard",
  "kernelspec": {
   "display_name": "Python 3 (ipykernel)",
   "language": "python",
   "name": "python3"
  },
  "language_info": {
   "codemirror_mode": {
    "name": "ipython",
    "version": 3
   },
   "file_extension": ".py",
   "mimetype": "text/x-python",
   "name": "python",
   "nbconvert_exporter": "python",
   "pygments_lexer": "ipython3",
   "version": "3.7.6"
  }
 },
 "nbformat": 4,
 "nbformat_minor": 4
}
