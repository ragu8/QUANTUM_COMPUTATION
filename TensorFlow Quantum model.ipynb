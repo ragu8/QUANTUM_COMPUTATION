{
 "cells": [
  {
   "cell_type": "code",
   "execution_count": null,
   "id": "c1805c02-76da-49c0-a778-0e2981360764",
   "metadata": {
    "canvas": {
     "comments": [],
     "componentType": "CodeCell",
     "copiedOriginId": null,
     "diskcache": false,
     "headerColor": "transparent",
     "id": "61cd8dca-3211-47f0-aeb9-2c23fcdcf592",
     "isComponent": false,
     "name": "",
     "parents": []
    },
    "tags": []
   },
   "outputs": [],
   "source": [
    "import tensorflow as tf\n",
    "import tensorflow_quantum as tfq\n",
    "import cirq\n",
    "import numpy as np\n",
    "\n",
    "# Generate some sample data\n",
    "X = np.array([[1], [2], [3], [4], [5]])  # Input features\n",
    "y = np.array([2, 4, 6, 8, 10])  # Output variable\n",
    "\n",
    "# Define the quantum circuit\n",
    "def create_quantum_model():\n",
    "    qubit = cirq.GridQubit(0, 0)\n",
    "    circuit = cirq.Circuit()\n",
    "    circuit.append(cirq.X(qubit) ** X)\n",
    "    return circuit\n",
    "\n",
    "# Convert the quantum circuit to a TensorFlow Quantum model\n",
    "quantum_model = tfq.layers.PQC(create_quantum_model(), cirq.Z(qubit))\n",
    "\n",
    "# Create the TensorFlow Quantum model\n",
    "model = tf.keras.Sequential([\n",
    "    tf.keras.layers.Dense(1, activation='linear'),\n",
    "    quantum_model\n",
    "])\n",
    "\n",
    "# Compile and train the model\n",
    "model.compile(optimizer='adam', loss='mean_squared_error')\n",
    "model.fit(X, y, epochs=100)\n",
    "\n",
    "# Predict the output for a new input\n",
    "new_data = np.array([[6], [7]])  # New input data\n",
    "predictions = model.predict(new_data)\n",
    "\n",
    "# Print the predicted values\n",
    "print(predictions)\n"
   ]
  }
 ],
 "metadata": {
  "canvas": {
   "colorPalette": [
    "inherit",
    "inherit",
    "inherit",
    "inherit",
    "inherit",
    "inherit",
    "inherit",
    "inherit",
    "inherit",
    "inherit"
   ],
   "parameters": [],
   "version": "1.0"
  },
  "kernelspec": {
   "display_name": "Python 3 (ipykernel)",
   "language": "python",
   "name": "python3"
  },
  "language_info": {
   "codemirror_mode": {
    "name": "ipython",
    "version": 3
   },
   "file_extension": ".py",
   "mimetype": "text/x-python",
   "name": "python",
   "nbconvert_exporter": "python",
   "pygments_lexer": "ipython3",
   "version": "3.9.16"
  }
 },
 "nbformat": 4,
 "nbformat_minor": 5
}
